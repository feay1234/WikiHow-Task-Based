{
 "cells": [
  {
   "cell_type": "code",
   "execution_count": 2,
   "metadata": {},
   "outputs": [],
   "source": [
    "import os\n",
    "ids = [int(i.split(\"_\")[0]) for i in os.listdir(\"data/tmp/\")]"
   ]
  },
  {
   "cell_type": "code",
   "execution_count": 13,
   "metadata": {},
   "outputs": [],
   "source": [
    "q1, q2 = [], []\n",
    "for i in os.listdir(\"data/tmp/\"):\n",
    "    f = open(\"%s%s\" % (\"data/tmp/\", i), \"r\")\n",
    "    q = f.readline().strip().split(\"\\t\")\n",
    "    for i in range(len(q)-1):\n",
    "        q1.append(q[i])\n",
    "        q2.append(q[i+1])\n",
    "#     with open('data/tmp/all.csv', 'a+') as the_file:\n",
    "#         the_file.write(f.read())\n",
    "#     break"
   ]
  },
  {
   "cell_type": "code",
   "execution_count": null,
   "metadata": {},
   "outputs": [],
   "source": []
  }
 ],
 "metadata": {
  "kernelspec": {
   "display_name": "Python 3",
   "language": "python",
   "name": "python3"
  },
  "language_info": {
   "codemirror_mode": {
    "name": "ipython",
    "version": 3
   },
   "file_extension": ".py",
   "mimetype": "text/x-python",
   "name": "python",
   "nbconvert_exporter": "python",
   "pygments_lexer": "ipython3",
   "version": "3.7.3"
  }
 },
 "nbformat": 4,
 "nbformat_minor": 2
}
