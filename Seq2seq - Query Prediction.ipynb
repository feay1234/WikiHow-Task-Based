{
 "cells": [
  {
   "cell_type": "code",
   "execution_count": 1,
   "metadata": {},
   "outputs": [],
   "source": [
    "import pandas as pd\n",
    "import numpy as np\n",
    "import os"
   ]
  },
  {
   "cell_type": "code",
   "execution_count": 55,
   "metadata": {},
   "outputs": [],
   "source": [
    "q1, q2 = [], []\n",
    "for i in os.listdir(\"data/tmp/\"):\n",
    "    f = open(\"%s%s\" % (\"data/tmp/\", i), \"r\")\n",
    "    q = f.readline().strip().split(\"\\t\")\n",
    "    for i in range(len(q)-1):\n",
    "#         q1.append(q[i])\n",
    "#         q2.append(q[i+1])\n",
    "        with open('data/all.csv', 'a+') as the_file:\n",
    "            the_file.write(\"%s\\t%s\\n\" % (q[i], q[i+1]))\n"
   ]
  },
  {
   "cell_type": "code",
   "execution_count": 20,
   "metadata": {},
   "outputs": [],
   "source": [
    "cat = \"arts_and_entertainment\"\n",
    "folder = \"csv/%s/\" % (cat)\n",
    "\n",
    "doc = []\n",
    "for file in os.listdir(folder):\n",
    "    if os.stat(folder + file).st_size > 0:\n",
    "        if \".csv\" in file:\n",
    "            doc.append(folder+file)"
   ]
  },
  {
   "cell_type": "code",
   "execution_count": 34,
   "metadata": {},
   "outputs": [],
   "source": [
    "df = pd.read_csv(doc[0], sep=\";\", names=[\"query\", \"subquery\"], header=0)"
   ]
  },
  {
   "cell_type": "code",
   "execution_count": 37,
   "metadata": {},
   "outputs": [],
   "source": [
    "queries = df['query'].unique().tolist() + df[\"subquery\"].unique().tolist()"
   ]
  },
  {
   "cell_type": "code",
   "execution_count": 39,
   "metadata": {},
   "outputs": [
    {
     "data": {
      "text/plain": [
       "15"
      ]
     },
     "execution_count": 39,
     "metadata": {},
     "output_type": "execute_result"
    }
   ],
   "source": [
    "len(queries)"
   ]
  }
 ],
 "metadata": {
  "kernelspec": {
   "display_name": "Python 3",
   "language": "python",
   "name": "python3"
  },
  "language_info": {
   "codemirror_mode": {
    "name": "ipython",
    "version": 3
   },
   "file_extension": ".py",
   "mimetype": "text/x-python",
   "name": "python",
   "nbconvert_exporter": "python",
   "pygments_lexer": "ipython3",
   "version": "3.7.3"
  }
 },
 "nbformat": 4,
 "nbformat_minor": 2
}
