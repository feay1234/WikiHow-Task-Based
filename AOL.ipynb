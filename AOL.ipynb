{
 "cells": [
  {
   "cell_type": "code",
   "execution_count": 1,
   "metadata": {},
   "outputs": [],
   "source": [
    "import pandas as pd\n",
    "import numpy as np\n",
    "import re"
   ]
  },
  {
   "cell_type": "code",
   "execution_count": 2,
   "metadata": {},
   "outputs": [
    {
     "name": "stderr",
     "output_type": "stream",
     "text": [
      "/Users/jarana/anaconda3/lib/python3.7/site-packages/IPython/core/interactiveshell.py:3057: DtypeWarning: Columns (0,3) have mixed types. Specify dtype option on import or set low_memory=False.\n",
      "  interactivity=interactivity, compiler=compiler, result=result)\n"
     ]
    }
   ],
   "source": [
    "df1 = pd.read_csv(\"data/AOL-user-ct-collection/user-ct-test-collection-01.txt.gz\", error_bad_lines=False, sep=\"\\t\")\n",
    "df2 = pd.read_csv(\"data/AOL-user-ct-collection/user-ct-test-collection-02.txt.gz\", error_bad_lines=False, sep=\"\\t\")\n",
    "df3 = pd.read_csv(\"data/AOL-user-ct-collection/user-ct-test-collection-03.txt.gz\", error_bad_lines=False, sep=\"\\t\")\n",
    "df4 = pd.read_csv(\"data/AOL-user-ct-collection/user-ct-test-collection-04.txt.gz\", error_bad_lines=False, sep=\"\\t\")\n",
    "df5 = pd.read_csv(\"data/AOL-user-ct-collection/user-ct-test-collection-05.txt.gz\", error_bad_lines=False, sep=\"\\t\")\n",
    "df6 = pd.read_csv(\"data/AOL-user-ct-collection/user-ct-test-collection-06.txt.gz\", error_bad_lines=False, sep=\"\\t\")\n",
    "df7 = pd.read_csv(\"data/AOL-user-ct-collection/user-ct-test-collection-07.txt.gz\", error_bad_lines=False, sep=\"\\t\")\n",
    "df8 = pd.read_csv(\"data/AOL-user-ct-collection/user-ct-test-collection-08.txt.gz\", error_bad_lines=False, sep=\"\\t\")\n",
    "df9 = pd.read_csv(\"data/AOL-user-ct-collection/user-ct-test-collection-09.txt.gz\", error_bad_lines=False, sep=\"\\t\")\n",
    "df10 = pd.read_csv(\"data/AOL-user-ct-collection/user-ct-test-collection-10.txt.gz\", error_bad_lines=False, sep=\"\\t\")\n",
    "df = df1.append([df2,df3,df4,df5,df6,df7,df8,df9,df10], ignore_index=True)"
   ]
  },
  {
   "cell_type": "code",
   "execution_count": 3,
   "metadata": {},
   "outputs": [],
   "source": [
    "df = df.drop_duplicates(['AnonID', 'Query'], keep='first')"
   ]
  },
  {
   "cell_type": "code",
   "execution_count": 4,
   "metadata": {},
   "outputs": [],
   "source": [
    "# remove website query\n",
    "df = df[~df['Query'].str.lower().str.contains('|'.join([\"www.\", \".com\", \".uk\", \".us\", \".edu\"]), na=False)]"
   ]
  },
  {
   "cell_type": "code",
   "execution_count": 5,
   "metadata": {},
   "outputs": [],
   "source": [
    "df[\"QueryTime\"] = pd.to_datetime(df[\"QueryTime\"])"
   ]
  },
  {
   "cell_type": "code",
   "execution_count": 51,
   "metadata": {},
   "outputs": [],
   "source": [
    "df = df.dropna(subset=['Query'])"
   ]
  },
  {
   "cell_type": "code",
   "execution_count": 6,
   "metadata": {},
   "outputs": [
    {
     "data": {
      "text/plain": [
       "Index(['AnonID', 'Query', 'QueryTime', 'ItemRank', 'ClickURL'], dtype='object')"
      ]
     },
     "execution_count": 6,
     "metadata": {},
     "output_type": "execute_result"
    }
   ],
   "source": [
    "df.columns"
   ]
  },
  {
   "cell_type": "code",
   "execution_count": 52,
   "metadata": {},
   "outputs": [],
   "source": [
    "# '|'.join([\"send\", \"group\", \"email\"]\n",
    "howto = df[df['Query'].str.lower().str.contains(\"how to\", na=False)]"
   ]
  },
  {
   "cell_type": "code",
   "execution_count": 15,
   "metadata": {},
   "outputs": [],
   "source": [
    "wiki = pd.read_csv(\"data/wikihowSep.csv\", sep=\",\", error_bad_lines=False)"
   ]
  },
  {
   "cell_type": "code",
   "execution_count": 40,
   "metadata": {},
   "outputs": [],
   "source": [
    "how = set([])\n",
    "for i in wiki.title.str.lower().unique().tolist():\n",
    "    how.add(regex.sub(' ', str(i)).replace(\"how to\",\"\")[1:])"
   ]
  },
  {
   "cell_type": "code",
   "execution_count": 8,
   "metadata": {},
   "outputs": [],
   "source": [
    "from datetime import datetime  "
   ]
  },
  {
   "cell_type": "code",
   "execution_count": 9,
   "metadata": {},
   "outputs": [
    {
     "name": "stderr",
     "output_type": "stream",
     "text": [
      "/Users/jarana/anaconda3/lib/python3.7/site-packages/ipykernel_launcher.py:1: SettingWithCopyWarning: \n",
      "A value is trying to be set on a copy of a slice from a DataFrame.\n",
      "Try using .loc[row_indexer,col_indexer] = value instead\n",
      "\n",
      "See the caveats in the documentation: http://pandas.pydata.org/pandas-docs/stable/indexing.html#indexing-view-versus-copy\n",
      "  \"\"\"Entry point for launching an IPython kernel.\n"
     ]
    }
   ],
   "source": [
    "howto[\"QueryTime\"] = pd.to_datetime(howto[\"QueryTime\"])"
   ]
  },
  {
   "cell_type": "code",
   "execution_count": 56,
   "metadata": {},
   "outputs": [
    {
     "data": {
      "text/plain": [
       "56172"
      ]
     },
     "execution_count": 56,
     "metadata": {},
     "output_type": "execute_result"
    }
   ],
   "source": [
    "len(howto)"
   ]
  },
  {
   "cell_type": "code",
   "execution_count": 55,
   "metadata": {},
   "outputs": [],
   "source": [
    "import os\n",
    "ids = [int(i.split(\"_\")[0]) for i in os.listdir(\"data/tmp/\")]"
   ]
  },
  {
   "cell_type": "code",
   "execution_count": 54,
   "metadata": {},
   "outputs": [
    {
     "ename": "KeyboardInterrupt",
     "evalue": "",
     "output_type": "error",
     "traceback": [
      "\u001b[0;31m---------------------------------------------------------------------------\u001b[0m",
      "\u001b[0;31mKeyboardInterrupt\u001b[0m                         Traceback (most recent call last)",
      "\u001b[0;32m<timed exec>\u001b[0m in \u001b[0;36m<module>\u001b[0;34m\u001b[0m\n",
      "\u001b[0;32m~/anaconda3/lib/python3.7/site-packages/pandas/core/ops.py\u001b[0m in \u001b[0;36mwrapper\u001b[0;34m(self, other, axis)\u001b[0m\n\u001b[1;32m   1764\u001b[0m \u001b[0;34m\u001b[0m\u001b[0m\n\u001b[1;32m   1765\u001b[0m             \u001b[0;32mwith\u001b[0m \u001b[0mnp\u001b[0m\u001b[0;34m.\u001b[0m\u001b[0merrstate\u001b[0m\u001b[0;34m(\u001b[0m\u001b[0mall\u001b[0m\u001b[0;34m=\u001b[0m\u001b[0;34m'ignore'\u001b[0m\u001b[0;34m)\u001b[0m\u001b[0;34m:\u001b[0m\u001b[0;34m\u001b[0m\u001b[0;34m\u001b[0m\u001b[0m\n\u001b[0;32m-> 1766\u001b[0;31m                 \u001b[0mres\u001b[0m \u001b[0;34m=\u001b[0m \u001b[0mna_op\u001b[0m\u001b[0;34m(\u001b[0m\u001b[0mvalues\u001b[0m\u001b[0;34m,\u001b[0m \u001b[0mother\u001b[0m\u001b[0;34m)\u001b[0m\u001b[0;34m\u001b[0m\u001b[0;34m\u001b[0m\u001b[0m\n\u001b[0m\u001b[1;32m   1767\u001b[0m             \u001b[0;32mif\u001b[0m \u001b[0mis_scalar\u001b[0m\u001b[0;34m(\u001b[0m\u001b[0mres\u001b[0m\u001b[0;34m)\u001b[0m\u001b[0;34m:\u001b[0m\u001b[0;34m\u001b[0m\u001b[0;34m\u001b[0m\u001b[0m\n\u001b[1;32m   1768\u001b[0m                 raise TypeError('Could not compare {typ} type with Series'\n",
      "\u001b[0;32m~/anaconda3/lib/python3.7/site-packages/pandas/core/ops.py\u001b[0m in \u001b[0;36mna_op\u001b[0;34m(x, y)\u001b[0m\n\u001b[1;32m   1623\u001b[0m \u001b[0;34m\u001b[0m\u001b[0m\n\u001b[1;32m   1624\u001b[0m         \u001b[0;32mif\u001b[0m \u001b[0mis_object_dtype\u001b[0m\u001b[0;34m(\u001b[0m\u001b[0mx\u001b[0m\u001b[0;34m.\u001b[0m\u001b[0mdtype\u001b[0m\u001b[0;34m)\u001b[0m\u001b[0;34m:\u001b[0m\u001b[0;34m\u001b[0m\u001b[0;34m\u001b[0m\u001b[0m\n\u001b[0;32m-> 1625\u001b[0;31m             \u001b[0mresult\u001b[0m \u001b[0;34m=\u001b[0m \u001b[0m_comp_method_OBJECT_ARRAY\u001b[0m\u001b[0;34m(\u001b[0m\u001b[0mop\u001b[0m\u001b[0;34m,\u001b[0m \u001b[0mx\u001b[0m\u001b[0;34m,\u001b[0m \u001b[0my\u001b[0m\u001b[0;34m)\u001b[0m\u001b[0;34m\u001b[0m\u001b[0;34m\u001b[0m\u001b[0m\n\u001b[0m\u001b[1;32m   1626\u001b[0m \u001b[0;34m\u001b[0m\u001b[0m\n\u001b[1;32m   1627\u001b[0m         \u001b[0;32melif\u001b[0m \u001b[0mis_datetimelike_v_numeric\u001b[0m\u001b[0;34m(\u001b[0m\u001b[0mx\u001b[0m\u001b[0;34m,\u001b[0m \u001b[0my\u001b[0m\u001b[0;34m)\u001b[0m\u001b[0;34m:\u001b[0m\u001b[0;34m\u001b[0m\u001b[0;34m\u001b[0m\u001b[0m\n",
      "\u001b[0;32m~/anaconda3/lib/python3.7/site-packages/pandas/core/ops.py\u001b[0m in \u001b[0;36m_comp_method_OBJECT_ARRAY\u001b[0;34m(op, x, y)\u001b[0m\n\u001b[1;32m   1601\u001b[0m         \u001b[0mresult\u001b[0m \u001b[0;34m=\u001b[0m \u001b[0mlibops\u001b[0m\u001b[0;34m.\u001b[0m\u001b[0mvec_compare\u001b[0m\u001b[0;34m(\u001b[0m\u001b[0mx\u001b[0m\u001b[0;34m,\u001b[0m \u001b[0my\u001b[0m\u001b[0;34m,\u001b[0m \u001b[0mop\u001b[0m\u001b[0;34m)\u001b[0m\u001b[0;34m\u001b[0m\u001b[0;34m\u001b[0m\u001b[0m\n\u001b[1;32m   1602\u001b[0m     \u001b[0;32melse\u001b[0m\u001b[0;34m:\u001b[0m\u001b[0;34m\u001b[0m\u001b[0;34m\u001b[0m\u001b[0m\n\u001b[0;32m-> 1603\u001b[0;31m         \u001b[0mresult\u001b[0m \u001b[0;34m=\u001b[0m \u001b[0mlibops\u001b[0m\u001b[0;34m.\u001b[0m\u001b[0mscalar_compare\u001b[0m\u001b[0;34m(\u001b[0m\u001b[0mx\u001b[0m\u001b[0;34m,\u001b[0m \u001b[0my\u001b[0m\u001b[0;34m,\u001b[0m \u001b[0mop\u001b[0m\u001b[0;34m)\u001b[0m\u001b[0;34m\u001b[0m\u001b[0;34m\u001b[0m\u001b[0m\n\u001b[0m\u001b[1;32m   1604\u001b[0m     \u001b[0;32mreturn\u001b[0m \u001b[0mresult\u001b[0m\u001b[0;34m\u001b[0m\u001b[0;34m\u001b[0m\u001b[0m\n\u001b[1;32m   1605\u001b[0m \u001b[0;34m\u001b[0m\u001b[0m\n",
      "\u001b[0;31mKeyboardInterrupt\u001b[0m: "
     ]
    }
   ],
   "source": [
    "%%time\n",
    "from queue import Queue, Empty\n",
    "\n",
    "window_size = 30\n",
    "# jobs = Queue()\n",
    "jobs = []\n",
    "count = 0\n",
    "\n",
    "for index, row in howto[~howto.AnonID.isin(ids)].iterrows():\n",
    "    start_time = row['QueryTime'] - pd.Timedelta(minutes=window_size)\n",
    "    stop_time = row['QueryTime'] + pd.Timedelta(minutes=window_size)\n",
    "#     jobs.append([row['AnonID'], row['QueryTime'].strftime('%Y-%m-%d_%H:%M:%S'), start_time, stop_time])\n",
    "#     jobs.put(index)\n",
    "#     jobs.append(index)\n",
    "    tmp = df[df.AnonID == row['AnonID']]\n",
    "    ses = '\\t'.join(tmp[tmp['QueryTime'].between(start_time, stop_time)]['Query'].tolist())\n",
    "#     print(ses)\n",
    "\n",
    "    with open('data/tmp/%d_%s.csv' % (row['AnonID'], row['QueryTime'].strftime('%Y-%m-%d_%H:%M:%S')), 'w') as the_file:\n",
    "        the_file.write('%s\\n' % ses)\n",
    "#     break\n",
    "#     print(ses)\n",
    "#     with open('data/session.csv', 'a+') as the_file:\n",
    "#         the_file.write('%s\\n' % ses)\n"
   ]
  },
  {
   "cell_type": "code",
   "execution_count": 14,
   "metadata": {},
   "outputs": [],
   "source": [
    "from queue import Queue, Empty\n",
    "from concurrent.futures import ThreadPoolExecutor\n",
    "import threading\n",
    "\n",
    "from urllib.parse import urljoin, urlparse\n",
    "import sys\n",
    "import pandas as pd\n",
    "from time import sleep\n",
    "import re\n",
    "\n",
    "\n",
    "\n",
    "class MultiThread:\n",
    "\n",
    "    def __init__(self, jobs, howto, df):\n",
    "\n",
    "        self.df = df\n",
    "        self.howto = howto\n",
    "        self.pool = ThreadPoolExecutor(max_workers=1000)\n",
    "        self.finished_jobs = set([])\n",
    "#         self.to_do = Queue()\n",
    "#         for index, row in howto.iterrows():\n",
    "#             self.to_do.put(row)\n",
    "        self.lock = threading.Lock()\n",
    "        self.to_do = jobs\n",
    "\n",
    "    def write(self, job):\n",
    "# \n",
    "        jobid = job[0]\n",
    "        tid = job[1]\n",
    "        start_time = job[2]\n",
    "        end_time = job[3]\n",
    "        try:\n",
    "            tmp = self.df[self.df.AnonID == jobid]\n",
    "            ses = '\\t'.join(tmp[tmp['QueryTime'].between(start_time, end_time)]['Query'].tolist())\n",
    "            #\n",
    "            #\n",
    "            with open('data/tmp/%d_%s.csv' % (jobid, tid), 'w') as the_file:\n",
    "                the_file.write('%s\\n' % ses)\n",
    "    #         self.lock.release()\n",
    "        except Exception as e:\n",
    "            print(job)\n",
    "            print(e)\n",
    "        return\n",
    "\n",
    "    def run_scraper(self):\n",
    "        for job in self.to_do:\n",
    "            self.pool.submit(self.write, job)\n",
    "        \n",
    "# if __name__ == '__main__':\n",
    "s = MultiThread(jobs, howto, df)\n",
    "s.run_scraper()\n",
    "\n",
    "\n"
   ]
  },
  {
   "cell_type": "code",
   "execution_count": null,
   "metadata": {},
   "outputs": [],
   "source": []
  }
 ],
 "metadata": {
  "kernelspec": {
   "display_name": "Python 3",
   "language": "python",
   "name": "python3"
  },
  "language_info": {
   "codemirror_mode": {
    "name": "ipython",
    "version": 3
   },
   "file_extension": ".py",
   "mimetype": "text/x-python",
   "name": "python",
   "nbconvert_exporter": "python",
   "pygments_lexer": "ipython3",
   "version": "3.7.3"
  }
 },
 "nbformat": 4,
 "nbformat_minor": 2
}
