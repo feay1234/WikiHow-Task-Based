{
 "cells": [
  {
   "cell_type": "code",
   "execution_count": 1,
   "metadata": {},
   "outputs": [],
   "source": [
    "import pandas as pd\n",
    "import numpy as np\n",
    "import re"
   ]
  },
  {
   "cell_type": "code",
   "execution_count": 2,
   "metadata": {},
   "outputs": [
    {
     "name": "stderr",
     "output_type": "stream",
     "text": [
      "/Users/jarana/anaconda3/envs/keras/lib/python3.7/site-packages/IPython/core/interactiveshell.py:3058: DtypeWarning: Columns (0,3) have mixed types. Specify dtype option on import or set low_memory=False.\n",
      "  interactivity=interactivity, compiler=compiler, result=result)\n"
     ]
    }
   ],
   "source": [
    "df1 = pd.read_csv(\"data/AOL-user-ct-collection/user-ct-test-collection-01.txt.gz\", error_bad_lines=False, sep=\"\\t\")\n",
    "df2 = pd.read_csv(\"data/AOL-user-ct-collection/user-ct-test-collection-02.txt.gz\", error_bad_lines=False, sep=\"\\t\")\n",
    "df3 = pd.read_csv(\"data/AOL-user-ct-collection/user-ct-test-collection-03.txt.gz\", error_bad_lines=False, sep=\"\\t\")\n",
    "df4 = pd.read_csv(\"data/AOL-user-ct-collection/user-ct-test-collection-04.txt.gz\", error_bad_lines=False, sep=\"\\t\")\n",
    "df5 = pd.read_csv(\"data/AOL-user-ct-collection/user-ct-test-collection-05.txt.gz\", error_bad_lines=False, sep=\"\\t\")\n",
    "df6 = pd.read_csv(\"data/AOL-user-ct-collection/user-ct-test-collection-06.txt.gz\", error_bad_lines=False, sep=\"\\t\")\n",
    "df7 = pd.read_csv(\"data/AOL-user-ct-collection/user-ct-test-collection-07.txt.gz\", error_bad_lines=False, sep=\"\\t\")\n",
    "df8 = pd.read_csv(\"data/AOL-user-ct-collection/user-ct-test-collection-08.txt.gz\", error_bad_lines=False, sep=\"\\t\")\n",
    "df9 = pd.read_csv(\"data/AOL-user-ct-collection/user-ct-test-collection-09.txt.gz\", error_bad_lines=False, sep=\"\\t\")\n",
    "df10 = pd.read_csv(\"data/AOL-user-ct-collection/user-ct-test-collection-10.txt.gz\", error_bad_lines=False, sep=\"\\t\")\n",
    "df = df1.append([df2,df3,df4,df5,df6,df7,df8,df9,df10], ignore_index=True)"
   ]
  },
  {
   "cell_type": "code",
   "execution_count": 3,
   "metadata": {},
   "outputs": [],
   "source": [
    "df = df.drop_duplicates(['AnonID', 'Query'], keep='first')"
   ]
  },
  {
   "cell_type": "code",
   "execution_count": 4,
   "metadata": {},
   "outputs": [],
   "source": [
    "# remove website query\n",
    "df = df[~df['Query'].str.lower().str.contains('|'.join([\"www.\", \".com\", \".uk\", \".us\", \".edu\"]), na=False)]"
   ]
  },
  {
   "cell_type": "code",
   "execution_count": 5,
   "metadata": {},
   "outputs": [],
   "source": [
    "df[\"QueryTime\"] = pd.to_datetime(df[\"QueryTime\"])"
   ]
  },
  {
   "cell_type": "code",
   "execution_count": 6,
   "metadata": {},
   "outputs": [],
   "source": [
    "df = df.dropna(subset=['Query'])"
   ]
  },
  {
   "cell_type": "code",
   "execution_count": 7,
   "metadata": {},
   "outputs": [
    {
     "data": {
      "text/plain": [
       "Index(['AnonID', 'Query', 'QueryTime', 'ItemRank', 'ClickURL'], dtype='object')"
      ]
     },
     "execution_count": 7,
     "metadata": {},
     "output_type": "execute_result"
    }
   ],
   "source": [
    "df.columns"
   ]
  },
  {
   "cell_type": "code",
   "execution_count": 15,
   "metadata": {},
   "outputs": [
    {
     "data": {
      "text/html": [
       "<div>\n",
       "<style scoped>\n",
       "    .dataframe tbody tr th:only-of-type {\n",
       "        vertical-align: middle;\n",
       "    }\n",
       "\n",
       "    .dataframe tbody tr th {\n",
       "        vertical-align: top;\n",
       "    }\n",
       "\n",
       "    .dataframe thead th {\n",
       "        text-align: right;\n",
       "    }\n",
       "</style>\n",
       "<table border=\"1\" class=\"dataframe\">\n",
       "  <thead>\n",
       "    <tr style=\"text-align: right;\">\n",
       "      <th></th>\n",
       "      <th>AnonID</th>\n",
       "      <th>Query</th>\n",
       "      <th>QueryTime</th>\n",
       "      <th>ItemRank</th>\n",
       "      <th>ClickURL</th>\n",
       "    </tr>\n",
       "  </thead>\n",
       "  <tbody>\n",
       "    <tr>\n",
       "      <th>6</th>\n",
       "      <td>142</td>\n",
       "      <td>westchester.gov</td>\n",
       "      <td>2006-03-20 03:55:57</td>\n",
       "      <td>1</td>\n",
       "      <td>http://www.westchestergov.com</td>\n",
       "    </tr>\n",
       "    <tr>\n",
       "      <th>8</th>\n",
       "      <td>142</td>\n",
       "      <td>dfdf</td>\n",
       "      <td>2006-03-24 22:23:07</td>\n",
       "      <td>NaN</td>\n",
       "      <td>NaN</td>\n",
       "    </tr>\n",
       "    <tr>\n",
       "      <th>13</th>\n",
       "      <td>142</td>\n",
       "      <td>207 ad2d 530</td>\n",
       "      <td>2006-04-08 01:31:04</td>\n",
       "      <td>NaN</td>\n",
       "      <td>NaN</td>\n",
       "    </tr>\n",
       "    <tr>\n",
       "      <th>15</th>\n",
       "      <td>142</td>\n",
       "      <td>broadway.vera.org</td>\n",
       "      <td>2006-04-08 08:38:23</td>\n",
       "      <td>NaN</td>\n",
       "      <td>NaN</td>\n",
       "    </tr>\n",
       "    <tr>\n",
       "      <th>17</th>\n",
       "      <td>142</td>\n",
       "      <td>vera.org</td>\n",
       "      <td>2006-04-08 08:38:42</td>\n",
       "      <td>1</td>\n",
       "      <td>http://www.vera.org</td>\n",
       "    </tr>\n",
       "  </tbody>\n",
       "</table>\n",
       "</div>"
      ],
      "text/plain": [
       "   AnonID              Query           QueryTime ItemRank  \\\n",
       "6     142    westchester.gov 2006-03-20 03:55:57        1   \n",
       "8     142               dfdf 2006-03-24 22:23:07      NaN   \n",
       "13    142       207 ad2d 530 2006-04-08 01:31:04      NaN   \n",
       "15    142  broadway.vera.org 2006-04-08 08:38:23      NaN   \n",
       "17    142           vera.org 2006-04-08 08:38:42        1   \n",
       "\n",
       "                         ClickURL  \n",
       "6   http://www.westchestergov.com  \n",
       "8                             NaN  \n",
       "13                            NaN  \n",
       "15                            NaN  \n",
       "17            http://www.vera.org  "
      ]
     },
     "execution_count": 15,
     "metadata": {},
     "output_type": "execute_result"
    }
   ],
   "source": [
    "df.head()"
   ]
  },
  {
   "cell_type": "code",
   "execution_count": 27,
   "metadata": {},
   "outputs": [],
   "source": [
    "ehow = df[df['ClickURL'].str.lower().str.contains(\"ehow\", na=False)]"
   ]
  },
  {
   "cell_type": "code",
   "execution_count": 30,
   "metadata": {},
   "outputs": [],
   "source": [
    "ehow = ehow[~ehow['Query'].str.lower().str.contains(\"how to\", na=False)]"
   ]
  },
  {
   "cell_type": "code",
   "execution_count": 8,
   "metadata": {},
   "outputs": [],
   "source": [
    "# '|'.join([\"send\", \"group\", \"email\"]\n",
    "howto = df[df['Query'].str.lower().str.contains(\"how to\", na=False)]"
   ]
  },
  {
   "cell_type": "code",
   "execution_count": 15,
   "metadata": {},
   "outputs": [],
   "source": [
    "wiki = pd.read_csv(\"data/wikihowSep.csv\", sep=\",\", error_bad_lines=False)"
   ]
  },
  {
   "cell_type": "code",
   "execution_count": 40,
   "metadata": {},
   "outputs": [],
   "source": [
    "how = set([])\n",
    "for i in wiki.title.str.lower().unique().tolist():\n",
    "    how.add(regex.sub(' ', str(i)).replace(\"how to\",\"\")[1:])"
   ]
  },
  {
   "cell_type": "code",
   "execution_count": 8,
   "metadata": {},
   "outputs": [],
   "source": [
    "from datetime import datetime  "
   ]
  },
  {
   "cell_type": "code",
   "execution_count": 9,
   "metadata": {},
   "outputs": [
    {
     "name": "stderr",
     "output_type": "stream",
     "text": [
      "/Users/jarana/anaconda3/lib/python3.7/site-packages/ipykernel_launcher.py:1: SettingWithCopyWarning: \n",
      "A value is trying to be set on a copy of a slice from a DataFrame.\n",
      "Try using .loc[row_indexer,col_indexer] = value instead\n",
      "\n",
      "See the caveats in the documentation: http://pandas.pydata.org/pandas-docs/stable/indexing.html#indexing-view-versus-copy\n",
      "  \"\"\"Entry point for launching an IPython kernel.\n"
     ]
    }
   ],
   "source": [
    "howto[\"QueryTime\"] = pd.to_datetime(howto[\"QueryTime\"])"
   ]
  },
  {
   "cell_type": "code",
   "execution_count": 32,
   "metadata": {},
   "outputs": [],
   "source": [
    "import os\n",
    "ids = [int(i.split(\"_\")[0]) for i in os.listdir(\"data/all_ehow/\")]"
   ]
  },
  {
   "cell_type": "code",
   "execution_count": null,
   "metadata": {},
   "outputs": [],
   "source": [
    "%%time\n",
    "from queue import Queue, Empty\n",
    "\n",
    "window_size = 30\n",
    "# jobs = Queue()\n",
    "jobs = []\n",
    "count = 0\n",
    "\n",
    "for index, row in howto[~howto.AnonID.isin(ids)].iterrows():\n",
    "    start_time = row['QueryTime'] - pd.Timedelta(minutes=window_size)\n",
    "    stop_time = row['QueryTime'] + pd.Timedelta(minutes=window_size)\n",
    "#     jobs.append([row['AnonID'], row['QueryTime'].strftime('%Y-%m-%d_%H:%M:%S'), start_time, stop_time])\n",
    "#     jobs.put(index)\n",
    "#     jobs.append(index)\n",
    "    tmp = df[df.AnonID == row['AnonID']]\n",
    "    ses = '\\t'.join(tmp[tmp['QueryTime'].between(start_time, stop_time)]['Query'].tolist())\n",
    "#     print(ses)\n",
    "#     print('data/tmp/%d_%s.csv' % (row['AnonID'], row['QueryTime'].strftime('%Y-%m-%d_%H:%M:%S')))\n",
    "    with open('data/all_ehow/%d_%s.csv' % (int(row['AnonID']), row['QueryTime'].strftime('%Y-%m-%d_%H:%M:%S')), 'w') as the_file:\n",
    "        the_file.write('%s\\n' % ses)\n",
    "#     break\n",
    "#     print(ses)\n",
    "#     with open('data/session.csv', 'a+') as the_file:\n",
    "#         the_file.write('%s\\n' % ses)\n"
   ]
  }
 ],
 "metadata": {
  "kernelspec": {
   "display_name": "Python 3",
   "language": "python",
   "name": "python3"
  },
  "language_info": {
   "codemirror_mode": {
    "name": "ipython",
    "version": 3
   },
   "file_extension": ".py",
   "mimetype": "text/x-python",
   "name": "python",
   "nbconvert_exporter": "python",
   "pygments_lexer": "ipython3",
   "version": "3.7.4"
  }
 },
 "nbformat": 4,
 "nbformat_minor": 2
}
