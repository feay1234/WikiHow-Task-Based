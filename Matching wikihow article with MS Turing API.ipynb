{
 "cells": [
  {
   "cell_type": "code",
   "execution_count": 439,
   "metadata": {},
   "outputs": [],
   "source": [
    "import pandas as pd\n",
    "import re\n",
    "import pickle\n",
    "from tqdm import tqdm\n",
    "from time import sleep\n",
    "import numpy as np\n",
    "from tqdm import tqdm_notebook as tqdm"
   ]
  },
  {
   "cell_type": "code",
   "execution_count": null,
   "metadata": {},
   "outputs": [],
   "source": [
    "df = pd.read_csv(\"data/wikihowSep.csv\")\n",
    "df = df.dropna()\n",
    "tasks = df.title.unique().tolist()\n",
    "# remove number from tasks\n",
    "tasks = list(set([re.sub(r'\\W+', ' ', i[:-1].lower()) if str.isnumeric(i[-1]) else re.sub(r'\\W+', ' ', i.lower()) for i in tasks]))\n"
   ]
  },
  {
   "cell_type": "code",
   "execution_count": null,
   "metadata": {},
   "outputs": [],
   "source": [
    "import http.client, urllib.request, urllib.parse, urllib.error, base64\n",
    "import json\n",
    "\n",
    "def getVectors(queries):\n",
    "    headers = {\n",
    "        # Request headers\n",
    "        'Content-Type': 'application/json',\n",
    "        'Ocp-Apim-Subscription-Key': '924c1505854b4da4a6144a1cce92937f',\n",
    "    }\n",
    "\n",
    "    params = urllib.parse.urlencode({})\n",
    "    \n",
    "    try:\n",
    "        conn = http.client.HTTPSConnection('api.msturing.org')\n",
    "#         conn.request(\"POST\", \"/gen/encode?%s\" % params, '{\"queries\": [\"how to make gingerbread people (in grams)\", \"test AI\"]}', headers)\n",
    "        conn.request(\"POST\", \"/gen/encode?%s\" % params, str({\"queries\": queries}).replace(\"\\'\", \"\\\"\"), headers)\n",
    "        response = conn.getresponse()\n",
    "        data = response.read()\n",
    "        data = json.loads(data)\n",
    "        conn.close()\n",
    "    except Exception as e:\n",
    "        print(data)\n",
    "        print(\"[Errno {0}] {1}\".format(e.errno, e.strerror))\n",
    "    \n",
    "    return {data[i]['query']:data[i]['vector'] for i in range(len(data))}"
   ]
  },
  {
   "cell_type": "code",
   "execution_count": 234,
   "metadata": {},
   "outputs": [],
   "source": [
    "def load_dict(name):\n",
    "    with open(name, 'rb') as f:\n",
    "        return pickle.load(f)"
   ]
  },
  {
   "cell_type": "code",
   "execution_count": 255,
   "metadata": {},
   "outputs": [],
   "source": [
    "tmp1 = load_dict(\"wikihow_2_ms_encoded_vector/0-50\")\n",
    "tmp2 = load_dict(\"wikihow_2_ms_encoded_vector/8650-8700\")"
   ]
  },
  {
   "cell_type": "code",
   "execution_count": 440,
   "metadata": {},
   "outputs": [],
   "source": [
    "import glob\n",
    "files = []\n",
    "for file in glob.glob(\"wikihow_2_ms_encoded_vector/*\"):\n",
    "    files.append(file)"
   ]
  },
  {
   "cell_type": "code",
   "execution_count": 441,
   "metadata": {},
   "outputs": [],
   "source": [
    "ranges = [(i, i+50) for i in range(0, len(tasks), 50)]"
   ]
  },
  {
   "cell_type": "code",
   "execution_count": 442,
   "metadata": {},
   "outputs": [],
   "source": [
    "finish = []\n",
    "for f in files:\n",
    "    try:\n",
    "        name = f.split(\"/\")[1].split(\"-\")\n",
    "        finish.append((int(name[0]), int(name[1])))\n",
    "    except:\n",
    "        continue\n",
    "        "
   ]
  },
  {
   "cell_type": "code",
   "execution_count": 443,
   "metadata": {},
   "outputs": [],
   "source": [
    "todo = list(set.difference(set(ranges), set(finish)))"
   ]
  },
  {
   "cell_type": "code",
   "execution_count": 444,
   "metadata": {},
   "outputs": [
    {
     "data": {
      "application/vnd.jupyter.widget-view+json": {
       "model_id": "6bfce258baf84031a289c92079319006",
       "version_major": 2,
       "version_minor": 0
      },
      "text/plain": [
       "HBox(children=(IntProgress(value=0, max=922), HTML(value='')))"
      ]
     },
     "metadata": {},
     "output_type": "display_data"
    },
    {
     "name": "stdout",
     "output_type": "stream",
     "text": [
      "b'All 1 requests failed. Invoking turing.agiencoderv4_02082019:131992289164512738 on DS1PPF09FA63DA6 failed due to timeout'\n",
      "b'All 1 requests failed. Shared memory request 637084800854294908 to turing.agiencoderv4_02082019:131992289164512738 instance 3 timed out'\n",
      "b'All 1 requests failed. Invoking turing.agiencoderv4_02082019:131992289164512738 on DS1PPF09FA63DA6 failed due to timeout'\n",
      "b'All 1 requests failed. Invoking turing.agiencoderv4_02082019:131992289164512738 on DS1PPF09FA63DA6 failed due to timeout'\n",
      "b'All 1 requests failed. Invoking turing.agiencoderv4_02082019:131992289164512738 on DS2PPF062D4B1F3 failed due to timeout'\n",
      "b'All 1 requests failed. Shared memory request 637086578503563248 to turing.agiencoderv4_02082019:131992289164512738 instance 3 timed out'\n",
      "b'All 1 requests failed. Shared memory request 637086578503563256 to turing.agiencoderv4_02082019:131992289164512738 instance 3 timed out'\n",
      "b'All 1 requests failed. Invoking turing.agiencoderv4_02082019:131992289164512738 on DS1PPF09FA63DA6 failed due to timeout'\n",
      "b'All 1 requests failed. Shared memory request 637086578503563546 to turing.agiencoderv4_02082019:131992289164512738 instance 1 timed out'\n",
      "b'All 1 requests failed. Invoking turing.agiencoderv4_02082019:131992289164512738 on DS2PPF062D4B1F3 failed due to timeout'\n",
      "b'All 1 requests failed. Invoking turing.agiencoderv4_02082019:131992289164512738 on DS1PPF8BC4F6E2D failed due to timeout'\n",
      "b'All 1 requests failed. Invoking turing.agiencoderv4_02082019:131992289164512738 on DS1PPF09FA63DA6 failed due to timeout'\n",
      "b'All 1 requests failed. Invoking turing.agiencoderv4_02082019:131992289164512738 on DS1PPF09FA63DA6 failed due to timeout'\n",
      "b'All 1 requests failed. Invoking turing.agiencoderv4_02082019:131992289164512738 on DS1PPF09FA63DA6 failed due to timeout'\n",
      "b'All 1 requests failed. Invoking turing.agiencoderv4_02082019:131992289164512738 on DS1PPF8BC4F6E2D failed due to timeout'\n",
      "b'All 1 requests failed. Invoking turing.agiencoderv4_02082019:131992289164512738 on DS1PPF09FA63DA6 failed due to timeout'\n",
      "b'All 1 requests failed. Invoking turing.agiencoderv4_02082019:131992289164512738 on DS2PPF062D4B1F3 failed due to timeout'\n",
      "b'All 1 requests failed. Invoking turing.agiencoderv4_02082019:131992289164512738 on DS1PPF09FA63DA6 failed due to timeout'\n",
      "b'All 1 requests failed. Invoking turing.agiencoderv4_02082019:131992289164512738 on DS1PPF8BC4F6E2D failed due to timeout'\n",
      "b'All 1 requests failed. Invoking turing.agiencoderv4_02082019:131992289164512738 on DS2PPF062D4B1F3 failed due to timeout'\n",
      "b'All 1 requests failed. Invoking turing.agiencoderv4_02082019:131992289164512738 on DS1PPF8BC4F6E2D failed due to timeout'\n",
      "b'All 1 requests failed. Invoking turing.agiencoderv4_02082019:131992289164512738 on DS1PPF8BC4F6E2D failed due to timeout'\n",
      "b'All 1 requests failed. Invoking turing.agiencoderv4_02082019:131992289164512738 on DS2PPF062D4B1F3 failed due to timeout'\n",
      "b'All 1 requests failed. Invoking turing.agiencoderv4_02082019:131992289164512738 on DS1PPF8BC4F6E2D failed due to timeout'\n",
      "b'All 1 requests failed. Invoking turing.agiencoderv4_02082019:131992289164512738 on DS2PPF062D4B1F3 failed due to timeout'\n",
      "b'All 1 requests failed. Invoking turing.agiencoderv4_02082019:131992289164512738 on DS1PPF09FA63DA6 failed due to timeout'\n",
      "b'All 1 requests failed. Invoking turing.agiencoderv4_02082019:131992289164512738 on DS1PPF8BC4F6E2D failed due to timeout'\n",
      "b'All 1 requests failed. Invoking turing.agiencoderv4_02082019:131992289164512738 on DS1PPF8BC4F6E2D failed due to timeout'\n",
      "b'All 1 requests failed. Invoking turing.agiencoderv4_02082019:131992289164512738 on DS2PPF062D4B1F3 failed due to timeout'\n",
      "b'All 1 requests failed. Invoking turing.agiencoderv4_02082019:131992289164512738 on DS1PPF8BC4F6E2D failed due to timeout'\n",
      "b'All 1 requests failed. Invoking turing.agiencoderv4_02082019:131992289164512738 on DS2PPF062D4B1F3 failed due to timeout'\n",
      "b'All 1 requests failed. Invoking turing.agiencoderv4_02082019:131992289164512738 on DS1PPF09FA63DA6 failed due to timeout'\n",
      "b'All 1 requests failed. Invoking turing.agiencoderv4_02082019:131992289164512738 on DS1PPF09FA63DA6 failed due to timeout'\n",
      "b'All 1 requests failed. Shared memory request 637086578503564099 to turing.agiencoderv4_02082019:131992289164512738 instance 0 timed out'\n",
      "b'All 1 requests failed. Invoking turing.agiencoderv4_02082019:131992289164512738 on DS2PPF062D4B1F3 failed due to timeout'\n",
      "b'All 1 requests failed. Invoking turing.agiencoderv4_02082019:131992289164512738 on DS1PPF09FA63DA6 failed due to timeout'\n",
      "b'All 1 requests failed. Invoking turing.agiencoderv4_02082019:131992289164512738 on DS2PPF062D4B1F3 failed due to timeout'\n",
      "b'All 1 requests failed. Invoking turing.agiencoderv4_02082019:131992289164512738 on DS1PPF8BC4F6E2D failed due to timeout'\n",
      "b'All 1 requests failed. Invoking turing.agiencoderv4_02082019:131992289164512738 on DS1PPF09FA63DA6 failed due to timeout'\n",
      "b'All 1 requests failed. Invoking turing.agiencoderv4_02082019:131992289164512738 on DS2PPF062D4B1F3 failed due to timeout'\n",
      "b'All 1 requests failed. Invoking turing.agiencoderv4_02082019:131992289164512738 on DS2PPF062D4B1F3 failed due to timeout'\n",
      "b'All 1 requests failed. Invoking turing.agiencoderv4_02082019:131992289164512738 on DS2PPF062D4B1F3 failed due to timeout'\n",
      "b'All 1 requests failed. Invoking turing.agiencoderv4_02082019:131992289164512738 on DS1PPF09FA63DA6 failed due to timeout'\n",
      "b'All 1 requests failed. Invoking turing.agiencoderv4_02082019:131992289164512738 on DS1PPF09FA63DA6 failed due to timeout'\n",
      "b'All 1 requests failed. Invoking turing.agiencoderv4_02082019:131992289164512738 on DS1PPF8BC4F6E2D failed due to timeout'\n",
      "b'All 1 requests failed. Shared memory request 637085160902729781 to turing.agiencoderv4_02082019:131992289164512738 instance 3 timed out'\n",
      "b'All 1 requests failed. Invoking turing.agiencoderv4_02082019:131992289164512738 on DS2PPF062D4B1F3 failed due to timeout'\n",
      "b'All 1 requests failed. Invoking turing.agiencoderv4_02082019:131992289164512738 on DS1PPF09FA63DA6 failed due to timeout'\n",
      "b'All 1 requests failed. Shared memory request 637084800854295967 to turing.agiencoderv4_02082019:131992289164512738 instance 3 timed out'\n",
      "b'All 1 requests failed. Invoking turing.agiencoderv4_02082019:131992289164512738 on DS1PPF09FA63DA6 failed due to timeout'\n",
      "b'All 1 requests failed. Invoking turing.agiencoderv4_02082019:131992289164512738 on DS2PPF062D4B1F3 failed due to timeout'\n",
      "b'All 1 requests failed. Invoking turing.agiencoderv4_02082019:131992289164512738 on DS2PPF062D4B1F3 failed due to timeout'\n",
      "b'All 1 requests failed. Invoking turing.agiencoderv4_02082019:131992289164512738 on DS1PPF09FA63DA6 failed due to timeout'\n",
      "b'All 1 requests failed. Shared memory request 637084800854296033 to turing.agiencoderv4_02082019:131992289164512738 instance 0 timed out'\n",
      "b'All 1 requests failed. Invoking turing.agiencoderv4_02082019:131992289164512738 on DS1PPF8BC4F6E2D failed due to timeout'\n",
      "b'All 1 requests failed. Invoking turing.agiencoderv4_02082019:131992289164512738 on DS2PPF062D4B1F3 failed due to timeout'\n",
      "b'All 1 requests failed. Invoking turing.agiencoderv4_02082019:131992289164512738 on DS2PPF062D4B1F3 failed due to timeout'\n"
     ]
    },
    {
     "ename": "KeyboardInterrupt",
     "evalue": "",
     "output_type": "error",
     "traceback": [
      "\u001b[0;31m---------------------------------------------------------------------------\u001b[0m",
      "\u001b[0;31mKeyboardInterrupt\u001b[0m                         Traceback (most recent call last)",
      "\u001b[0;32m<ipython-input-444-767cfe0cc147>\u001b[0m in \u001b[0;36m<module>\u001b[0;34m\u001b[0m\n\u001b[1;32m      2\u001b[0m     \u001b[0;32mtry\u001b[0m\u001b[0;34m:\u001b[0m\u001b[0;34m\u001b[0m\u001b[0;34m\u001b[0m\u001b[0m\n\u001b[0;32m----> 3\u001b[0;31m         \u001b[0mdata\u001b[0m \u001b[0;34m=\u001b[0m \u001b[0mgetVectors\u001b[0m\u001b[0;34m(\u001b[0m\u001b[0mtasks\u001b[0m\u001b[0;34m[\u001b[0m\u001b[0mi\u001b[0m\u001b[0;34m[\u001b[0m\u001b[0;36m0\u001b[0m\u001b[0;34m]\u001b[0m\u001b[0;34m:\u001b[0m\u001b[0mi\u001b[0m\u001b[0;34m[\u001b[0m\u001b[0;36m1\u001b[0m\u001b[0;34m]\u001b[0m\u001b[0;34m]\u001b[0m\u001b[0;34m)\u001b[0m\u001b[0;34m\u001b[0m\u001b[0;34m\u001b[0m\u001b[0m\n\u001b[0m\u001b[1;32m      4\u001b[0m         \u001b[0;32mwith\u001b[0m \u001b[0mopen\u001b[0m\u001b[0;34m(\u001b[0m\u001b[0;34m\"wikihow_2_ms_encoded_vector/%s-%s\"\u001b[0m \u001b[0;34m%\u001b[0m \u001b[0;34m(\u001b[0m\u001b[0mstr\u001b[0m\u001b[0;34m(\u001b[0m\u001b[0mi\u001b[0m\u001b[0;34m[\u001b[0m\u001b[0;36m0\u001b[0m\u001b[0;34m]\u001b[0m\u001b[0;34m)\u001b[0m\u001b[0;34m,\u001b[0m \u001b[0mstr\u001b[0m\u001b[0;34m(\u001b[0m\u001b[0mi\u001b[0m\u001b[0;34m[\u001b[0m\u001b[0;36m1\u001b[0m\u001b[0;34m]\u001b[0m\u001b[0;34m)\u001b[0m\u001b[0;34m)\u001b[0m\u001b[0;34m,\u001b[0m \u001b[0;34m'wb'\u001b[0m\u001b[0;34m)\u001b[0m \u001b[0;32mas\u001b[0m \u001b[0mf\u001b[0m\u001b[0;34m:\u001b[0m\u001b[0;34m\u001b[0m\u001b[0;34m\u001b[0m\u001b[0m\n",
      "\u001b[0;32m<ipython-input-219-ea7251d3e058>\u001b[0m in \u001b[0;36mgetVectors\u001b[0;34m(queries)\u001b[0m\n\u001b[1;32m     17\u001b[0m         \u001b[0mresponse\u001b[0m \u001b[0;34m=\u001b[0m \u001b[0mconn\u001b[0m\u001b[0;34m.\u001b[0m\u001b[0mgetresponse\u001b[0m\u001b[0;34m(\u001b[0m\u001b[0;34m)\u001b[0m\u001b[0;34m\u001b[0m\u001b[0;34m\u001b[0m\u001b[0m\n\u001b[0;32m---> 18\u001b[0;31m         \u001b[0mdata\u001b[0m \u001b[0;34m=\u001b[0m \u001b[0mresponse\u001b[0m\u001b[0;34m.\u001b[0m\u001b[0mread\u001b[0m\u001b[0;34m(\u001b[0m\u001b[0;34m)\u001b[0m\u001b[0;34m\u001b[0m\u001b[0;34m\u001b[0m\u001b[0m\n\u001b[0m\u001b[1;32m     19\u001b[0m         \u001b[0mdata\u001b[0m \u001b[0;34m=\u001b[0m \u001b[0mjson\u001b[0m\u001b[0;34m.\u001b[0m\u001b[0mloads\u001b[0m\u001b[0;34m(\u001b[0m\u001b[0mdata\u001b[0m\u001b[0;34m)\u001b[0m\u001b[0;34m\u001b[0m\u001b[0;34m\u001b[0m\u001b[0m\n",
      "\u001b[0;32m~/anaconda3/lib/python3.7/http/client.py\u001b[0m in \u001b[0;36mread\u001b[0;34m(self, amt)\u001b[0m\n\u001b[1;32m    459\u001b[0m                 \u001b[0;32mtry\u001b[0m\u001b[0;34m:\u001b[0m\u001b[0;34m\u001b[0m\u001b[0;34m\u001b[0m\u001b[0m\n\u001b[0;32m--> 460\u001b[0;31m                     \u001b[0ms\u001b[0m \u001b[0;34m=\u001b[0m \u001b[0mself\u001b[0m\u001b[0;34m.\u001b[0m\u001b[0m_safe_read\u001b[0m\u001b[0;34m(\u001b[0m\u001b[0mself\u001b[0m\u001b[0;34m.\u001b[0m\u001b[0mlength\u001b[0m\u001b[0;34m)\u001b[0m\u001b[0;34m\u001b[0m\u001b[0;34m\u001b[0m\u001b[0m\n\u001b[0m\u001b[1;32m    461\u001b[0m                 \u001b[0;32mexcept\u001b[0m \u001b[0mIncompleteRead\u001b[0m\u001b[0;34m:\u001b[0m\u001b[0;34m\u001b[0m\u001b[0;34m\u001b[0m\u001b[0m\n",
      "\u001b[0;32m~/anaconda3/lib/python3.7/http/client.py\u001b[0m in \u001b[0;36m_safe_read\u001b[0;34m(self, amt)\u001b[0m\n\u001b[1;32m    609\u001b[0m         \u001b[0;32mwhile\u001b[0m \u001b[0mamt\u001b[0m \u001b[0;34m>\u001b[0m \u001b[0;36m0\u001b[0m\u001b[0;34m:\u001b[0m\u001b[0;34m\u001b[0m\u001b[0;34m\u001b[0m\u001b[0m\n\u001b[0;32m--> 610\u001b[0;31m             \u001b[0mchunk\u001b[0m \u001b[0;34m=\u001b[0m \u001b[0mself\u001b[0m\u001b[0;34m.\u001b[0m\u001b[0mfp\u001b[0m\u001b[0;34m.\u001b[0m\u001b[0mread\u001b[0m\u001b[0;34m(\u001b[0m\u001b[0mmin\u001b[0m\u001b[0;34m(\u001b[0m\u001b[0mamt\u001b[0m\u001b[0;34m,\u001b[0m \u001b[0mMAXAMOUNT\u001b[0m\u001b[0;34m)\u001b[0m\u001b[0;34m)\u001b[0m\u001b[0;34m\u001b[0m\u001b[0;34m\u001b[0m\u001b[0m\n\u001b[0m\u001b[1;32m    611\u001b[0m             \u001b[0;32mif\u001b[0m \u001b[0;32mnot\u001b[0m \u001b[0mchunk\u001b[0m\u001b[0;34m:\u001b[0m\u001b[0;34m\u001b[0m\u001b[0;34m\u001b[0m\u001b[0m\n",
      "\u001b[0;32m~/anaconda3/lib/python3.7/socket.py\u001b[0m in \u001b[0;36mreadinto\u001b[0;34m(self, b)\u001b[0m\n\u001b[1;32m    588\u001b[0m             \u001b[0;32mtry\u001b[0m\u001b[0;34m:\u001b[0m\u001b[0;34m\u001b[0m\u001b[0;34m\u001b[0m\u001b[0m\n\u001b[0;32m--> 589\u001b[0;31m                 \u001b[0;32mreturn\u001b[0m \u001b[0mself\u001b[0m\u001b[0;34m.\u001b[0m\u001b[0m_sock\u001b[0m\u001b[0;34m.\u001b[0m\u001b[0mrecv_into\u001b[0m\u001b[0;34m(\u001b[0m\u001b[0mb\u001b[0m\u001b[0;34m)\u001b[0m\u001b[0;34m\u001b[0m\u001b[0;34m\u001b[0m\u001b[0m\n\u001b[0m\u001b[1;32m    590\u001b[0m             \u001b[0;32mexcept\u001b[0m \u001b[0mtimeout\u001b[0m\u001b[0;34m:\u001b[0m\u001b[0;34m\u001b[0m\u001b[0;34m\u001b[0m\u001b[0m\n",
      "\u001b[0;32m~/anaconda3/lib/python3.7/ssl.py\u001b[0m in \u001b[0;36mrecv_into\u001b[0;34m(self, buffer, nbytes, flags)\u001b[0m\n\u001b[1;32m   1051\u001b[0m                   self.__class__)\n\u001b[0;32m-> 1052\u001b[0;31m             \u001b[0;32mreturn\u001b[0m \u001b[0mself\u001b[0m\u001b[0;34m.\u001b[0m\u001b[0mread\u001b[0m\u001b[0;34m(\u001b[0m\u001b[0mnbytes\u001b[0m\u001b[0;34m,\u001b[0m \u001b[0mbuffer\u001b[0m\u001b[0;34m)\u001b[0m\u001b[0;34m\u001b[0m\u001b[0;34m\u001b[0m\u001b[0m\n\u001b[0m\u001b[1;32m   1053\u001b[0m         \u001b[0;32melse\u001b[0m\u001b[0;34m:\u001b[0m\u001b[0;34m\u001b[0m\u001b[0;34m\u001b[0m\u001b[0m\n",
      "\u001b[0;32m~/anaconda3/lib/python3.7/ssl.py\u001b[0m in \u001b[0;36mread\u001b[0;34m(self, len, buffer)\u001b[0m\n\u001b[1;32m    910\u001b[0m             \u001b[0;32mif\u001b[0m \u001b[0mbuffer\u001b[0m \u001b[0;32mis\u001b[0m \u001b[0;32mnot\u001b[0m \u001b[0;32mNone\u001b[0m\u001b[0;34m:\u001b[0m\u001b[0;34m\u001b[0m\u001b[0;34m\u001b[0m\u001b[0m\n\u001b[0;32m--> 911\u001b[0;31m                 \u001b[0;32mreturn\u001b[0m \u001b[0mself\u001b[0m\u001b[0;34m.\u001b[0m\u001b[0m_sslobj\u001b[0m\u001b[0;34m.\u001b[0m\u001b[0mread\u001b[0m\u001b[0;34m(\u001b[0m\u001b[0mlen\u001b[0m\u001b[0;34m,\u001b[0m \u001b[0mbuffer\u001b[0m\u001b[0;34m)\u001b[0m\u001b[0;34m\u001b[0m\u001b[0;34m\u001b[0m\u001b[0m\n\u001b[0m\u001b[1;32m    912\u001b[0m             \u001b[0;32melse\u001b[0m\u001b[0;34m:\u001b[0m\u001b[0;34m\u001b[0m\u001b[0;34m\u001b[0m\u001b[0m\n",
      "\u001b[0;31mKeyboardInterrupt\u001b[0m: ",
      "\nDuring handling of the above exception, another exception occurred:\n",
      "\u001b[0;31mKeyboardInterrupt\u001b[0m                         Traceback (most recent call last)",
      "\u001b[0;32m<ipython-input-444-767cfe0cc147>\u001b[0m in \u001b[0;36m<module>\u001b[0;34m\u001b[0m\n\u001b[1;32m      5\u001b[0m             \u001b[0mpickle\u001b[0m\u001b[0;34m.\u001b[0m\u001b[0mdump\u001b[0m\u001b[0;34m(\u001b[0m\u001b[0mdata\u001b[0m\u001b[0;34m,\u001b[0m \u001b[0mf\u001b[0m\u001b[0;34m,\u001b[0m \u001b[0mpickle\u001b[0m\u001b[0;34m.\u001b[0m\u001b[0mHIGHEST_PROTOCOL\u001b[0m\u001b[0;34m)\u001b[0m\u001b[0;34m\u001b[0m\u001b[0;34m\u001b[0m\u001b[0m\n\u001b[1;32m      6\u001b[0m     \u001b[0;32mexcept\u001b[0m\u001b[0;34m:\u001b[0m\u001b[0;34m\u001b[0m\u001b[0;34m\u001b[0m\u001b[0m\n\u001b[0;32m----> 7\u001b[0;31m         \u001b[0msleep\u001b[0m\u001b[0;34m(\u001b[0m\u001b[0;36m60\u001b[0m\u001b[0;34m)\u001b[0m\u001b[0;34m\u001b[0m\u001b[0;34m\u001b[0m\u001b[0m\n\u001b[0m",
      "\u001b[0;31mKeyboardInterrupt\u001b[0m: "
     ]
    }
   ],
   "source": [
    "for i in tqdm(todo, total=len(todo)):\n",
    "    try:\n",
    "        data = getVectors(tasks[i[0]:i[1]])\n",
    "        with open(\"wikihow_2_ms_encoded_vector/%s-%s\" % (str(i[0]), str(i[1])), 'wb') as f:\n",
    "            pickle.dump(data, f, pickle.HIGHEST_PROTOCOL)\n",
    "    except:\n",
    "        sleep(60)"
   ]
  },
  {
   "cell_type": "code",
   "execution_count": null,
   "metadata": {},
   "outputs": [],
   "source": [
    "task_embs = []\n",
    "task_names = []\n",
    "for i in finish[1:]:\n",
    "    emb = load_dict(\"wikihow_2_ms_encoded_vector/%d-%d\" % (i[0], i[1]))\n",
    "    task_names.extend([j for j in emb])    \n",
    "    emb = [emb[j] for j in emb][0]\n",
    "    task_embs.append(emb)\n"
   ]
  },
  {
   "cell_type": "code",
   "execution_count": 307,
   "metadata": {},
   "outputs": [],
   "source": [
    "from sklearn.metrics.pairwise import cosine_similarity\n"
   ]
  },
  {
   "cell_type": "code",
   "execution_count": 337,
   "metadata": {},
   "outputs": [],
   "source": [
    "online_emb = load_dict(\"wikihow_2_ms_encoded_vector/%d-%d\" % (finish[0][0], finish[0][1]))\n",
    "online_emb = [online_emb[i] for i in online_emb][0]\n"
   ]
  },
  {
   "cell_type": "code",
   "execution_count": 392,
   "metadata": {},
   "outputs": [],
   "source": [
    "scores = []\n",
    "for t in task_embs:\n",
    "    scores.append(cosine_similarity([onLine_emb], [t])[0])"
   ]
  },
  {
   "cell_type": "code",
   "execution_count": 407,
   "metadata": {},
   "outputs": [],
   "source": [
    "sorted_idx = [i[0] for i in sorted(enumerate(scores), key=lambda x:x[1])]\n",
    "sorted_idx = sorted_idx[::-1]"
   ]
  },
  {
   "cell_type": "code",
   "execution_count": 417,
   "metadata": {},
   "outputs": [
    {
     "name": "stdout",
     "output_type": "stream",
     "text": [
      "how to play tennis\n",
      "how to diagnose mitral valve disease in cavalier king charles spaniels\n",
      "how to find a physician job\n",
      "how to sign up for flipnote hatena without sending in the permission form\n",
      "how to pick a top team for mario strikers charged football\n",
      "how to make a cauldron in minecraft\n",
      "how to file an flsa complaint\n",
      "how to open links in a new tab on an iphone\n",
      "how to make a maple shortbow in runescape\n",
      "how to have a 5 minute mohawk\n",
      "how to clean a driveway\n",
      "how to make a smoky cheese ball\n",
      "how to make learning fun\n",
      "how to lubricate a garage door\n",
      "how to paint with dandelions\n",
      "how to grow perennial vegetables\n",
      "how to prepare a shrub bed\n",
      "how to make laab moo\n",
      "how to make a chilli pepper garden spray\n",
      "how to resolve livestock collision disputes\n",
      "how to uninstall steam without additional programs\n",
      "how to look awesome at a school dance girls \n",
      "how to grill donuts\n",
      "how to keep a cat in diabetic remission\n",
      "how to integrate by differentiating under the integral\n",
      "how to deal with bullies at school\n",
      "how to get good at rainbow six vegas\n",
      "how to make the itil process review\n",
      "how to decorate a girl s room without spending too much\n",
      "how to defeat knucklemaster in the legend of zelda a link between worlds\n",
      "how to make a journal cover\n",
      "how to create a calendar in microsoft publisher\n",
      "how to know whether you re insensitive\n",
      "how to delete instagram photos\n",
      "how to discipline a child\n",
      "how to expand your capacity for joy\n",
      "how to choose the right sunglass lens color\n",
      "how to build wealth\n",
      "how to access data of a password protected user in windows xp in case the pc fails to boot\n",
      "how to act sober\n",
      "how to make your relationship work\n",
      "how to be good at warhammer\n",
      "how to choose a hat\n",
      "how to make a sand castle cake\n",
      "how to create an s corporation\n",
      "how to lead small groups\n",
      "how to make up for missing your prom\n",
      "how to fight common health insurance claim denials\n",
      "how to draw donald duck\n",
      "how to prepare for an impending breakup\n",
      "how to facetime on mac os x\n",
      "how to tell if your best friend loves you\n",
      "how to use caraway seeds\n",
      "how to fight trigeminal neuralgia and other facial and head pain\n",
      "how to pollinate fruit trees\n",
      "how to cool food quickly\n",
      "how to slalom ski water ski on one ski \n",
      "how to get young children to earn money\n",
      "how to get gorgeous hands\n",
      "how to write a professional email\n",
      "how to buy a nintendo ds\n",
      "how to increase the sharpness of a photograph\n",
      "how to write a professional mailing address on an envelope\n",
      "how to get more room to hold items in animal crossing\n",
      "how to convert milligrams to teaspoons\n",
      "how to detect a fake door in luigi s mansion\n",
      "how to do impressions of famous people\n",
      "how to break in a pair of sperry top siders quickly\n",
      "how to identify insect bites\n",
      "how to balance a soccer ball on your foot\n",
      "how to play your game device in class psp gba and ds \n",
      "how to diet for stroke victims\n",
      "how to learn to write with your left hand\n",
      "how to enable the hourly chime on a timex expedition w 214 wristwatch\n",
      "how to dress up a graphic tee\n",
      "how to revert to the classic taskbar on windows \n",
      "how to make white chocolate cheesecake\n",
      "how to stop falling in love\n",
      "how to make masa\n",
      "how to become a financial advisor\n",
      "how to create a new forum in vbulletin\n",
      "how to make a soda popsicle\n",
      "how to print designs on plain tshirts\n",
      "how to handle valentine s day in a new relationship\n",
      "how to use cubase\n",
      "how to chop down a tree\n",
      "how to meet guys\n",
      "how to treat anorexia nervosa in adolescents\n",
      "how to be a responsible party host\n",
      "how to add an image in your myspace caption box\n",
      "how to make a yoga bolster\n",
      "how to make an action movie chase scene\n",
      "how to find the vertex of a quadratic equation\n",
      "how to stop being friends with someone who s friends with your other friends\n",
      "how to select the most effective numbing cream for a tattoo\n",
      "how to make royal icing\n",
      "how to get better using your pistol handgun \n",
      "how to manage time effectively while unemployed\n",
      "how to make a boomerang airplane\n",
      "how to survive the end in minecraft\n"
     ]
    }
   ],
   "source": [
    "for i in sorted_idx[:100]:\n",
    "    print(task_names[i])"
   ]
  },
  {
   "cell_type": "code",
   "execution_count": 458,
   "metadata": {},
   "outputs": [],
   "source": [
    "data = getVectors([\"book flight ticket\", \"online\", \"play tennis online\"])"
   ]
  },
  {
   "cell_type": "code",
   "execution_count": 453,
   "metadata": {},
   "outputs": [
    {
     "data": {
      "text/plain": [
       "array([[0.29493439]])"
      ]
     },
     "execution_count": 453,
     "metadata": {},
     "output_type": "execute_result"
    }
   ],
   "source": [
    "cosine_similarity([data[\"play tennis\"]], [data[\"online\"]])"
   ]
  },
  {
   "cell_type": "code",
   "execution_count": 454,
   "metadata": {},
   "outputs": [
    {
     "data": {
      "text/plain": [
       "array([[0.89417903]])"
      ]
     },
     "execution_count": 454,
     "metadata": {},
     "output_type": "execute_result"
    }
   ],
   "source": [
    "cosine_similarity([data[\"play tennis online\"]], [data[\"play tennis\"]])"
   ]
  },
  {
   "cell_type": "code",
   "execution_count": 455,
   "metadata": {},
   "outputs": [
    {
     "data": {
      "text/plain": [
       "array([[0.65585031]])"
      ]
     },
     "execution_count": 455,
     "metadata": {},
     "output_type": "execute_result"
    }
   ],
   "source": [
    "cosine_similarity([data[\"play tennis online\"]], [data[\"online\"]])"
   ]
  },
  {
   "cell_type": "code",
   "execution_count": 459,
   "metadata": {},
   "outputs": [
    {
     "data": {
      "text/plain": [
       "array([[0.30638924]])"
      ]
     },
     "execution_count": 459,
     "metadata": {},
     "output_type": "execute_result"
    }
   ],
   "source": [
    "cosine_similarity([data[\"book flight ticket\"]], [data[\"online\"]])"
   ]
  },
  {
   "cell_type": "code",
   "execution_count": null,
   "metadata": {},
   "outputs": [],
   "source": []
  }
 ],
 "metadata": {
  "kernelspec": {
   "display_name": "Python 3",
   "language": "python",
   "name": "python3"
  },
  "language_info": {
   "codemirror_mode": {
    "name": "ipython",
    "version": 3
   },
   "file_extension": ".py",
   "mimetype": "text/x-python",
   "name": "python",
   "nbconvert_exporter": "python",
   "pygments_lexer": "ipython3",
   "version": "3.7.3"
  }
 },
 "nbformat": 4,
 "nbformat_minor": 2
}
