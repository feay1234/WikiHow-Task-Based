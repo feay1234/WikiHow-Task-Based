{
 "cells": [
  {
   "cell_type": "code",
   "execution_count": 2,
   "metadata": {},
   "outputs": [
    {
     "name": "stdout",
     "output_type": "stream",
     "text": [
      "+----+-----------+-------------+\n",
      "|    |   col_two | column_3    |\n",
      "|----+-----------+-------------|\n",
      "|  0 |    0.0001 | ABCD        |\n",
      "|  1 |    1e-05  | ABCD        |\n",
      "|  2 |    1e-06  | long string |\n",
      "|  3 |    1e-07  | ABCD        |\n",
      "+----+-----------+-------------+\n"
     ]
    }
   ],
   "source": [
    "from tabulate import tabulate\n",
    "import pandas as pd\n",
    "\n",
    "df = pd.DataFrame({'col_two' : [0.0001, 1e-005 , 1e-006, 1e-007],\n",
    "                   'column_3' : ['ABCD', 'ABCD', 'long string', 'ABCD']})\n",
    "print(tabulate(df, headers='keys', tablefmt='psql'))"
   ]
  },
  {
   "cell_type": "code",
   "execution_count": 3,
   "metadata": {},
   "outputs": [],
   "source": [
    "import pandas as pd\n",
    "SELECT_COLUMN = [1,2,4,6,11] # We only consider price, date of the purchase, property type, lease duration and town\n",
    "df = pd.read_csv(\"data/pp-complete.csv\", names=[\"price\", \"date\", \"ptype\", \"duration\", \"town\"], sep=\",\", usecols=SELECT_COLUMN)"
   ]
  },
  {
   "cell_type": "code",
   "execution_count": 4,
   "metadata": {},
   "outputs": [],
   "source": [
    "df['isLondon'] = [1 if i == \"LONDON\" else 0 for i in df['town']]\n",
    "df['date'] = pd.to_datetime(df['date'], format='%Y-%m-%d')"
   ]
  },
  {
   "cell_type": "code",
   "execution_count": 3,
   "metadata": {},
   "outputs": [
    {
     "data": {
      "text/plain": [
       "OneHotEncoder(categories='auto', drop=None, dtype=<class 'numpy.float64'>,\n",
       "              handle_unknown='error', sparse=True)"
      ]
     },
     "execution_count": 3,
     "metadata": {},
     "output_type": "execute_result"
    }
   ],
   "source": [
    "# Create one-hot encoder and train it on the dataset\n",
    "from sklearn.preprocessing import OneHotEncoder\n",
    "\n",
    "encoder = OneHotEncoder()\n",
    "encoder.fit(df[[\"ptype\", \"duration\"]])"
   ]
  },
  {
   "cell_type": "code",
   "execution_count": 5,
   "metadata": {},
   "outputs": [],
   "source": [
    "a = encoder.transform(df[[\"ptype\", \"duration\"]])"
   ]
  },
  {
   "cell_type": "code",
   "execution_count": 9,
   "metadata": {},
   "outputs": [],
   "source": [
    "a = a.toarray()"
   ]
  },
  {
   "cell_type": "code",
   "execution_count": 6,
   "metadata": {},
   "outputs": [],
   "source": [
    "df['year'] = df.date.dt.year"
   ]
  },
  {
   "cell_type": "code",
   "execution_count": 14,
   "metadata": {},
   "outputs": [
    {
     "data": {
      "text/plain": [
       "(25180684, 9)"
      ]
     },
     "execution_count": 14,
     "metadata": {},
     "output_type": "execute_result"
    }
   ],
   "source": [
    "import numpy as np\n",
    "np.concatenate([a, df[['year']].values], axis=1).shape"
   ]
  },
  {
   "cell_type": "code",
   "execution_count": 228,
   "metadata": {},
   "outputs": [
    {
     "data": {
      "text/plain": [
       "Text(0.5, 0, 'Log SalePrice')"
      ]
     },
     "execution_count": 228,
     "metadata": {},
     "output_type": "execute_result"
    },
    {
     "data": {
      "image/png": "[encoded data removed]",
      "text/plain": [
       "<Figure size 432x288 with 2 Axes>"
      ]
     },
     "metadata": {},
     "output_type": "display_data"
    }
   ],
   "source": [
    "plt.subplot(1, 2, 1)\n",
    "sns.distplot(df.price, kde=False, fit = norm)\n",
    "\n",
    "plt.subplot(1, 2, 2)\n",
    "sns.distplot(np.log(df.price + 1), kde=False, fit = norm)\n",
    "plt.xlabel('Log SalePrice')"
   ]
  },
  {
   "cell_type": "code",
   "execution_count": 229,
   "metadata": {},
   "outputs": [],
   "source": [
    "df.price = np.log1p(df.price)"
   ]
  },
  {
   "cell_type": "code",
   "execution_count": 231,
   "metadata": {},
   "outputs": [
    {
     "data": {
      "text/plain": [
       "count    2.518068e+07\n",
       "mean     1.180984e+01\n",
       "std      8.204587e-01\n",
       "min      6.931472e-01\n",
       "25%      1.128666e+01\n",
       "50%      1.184224e+01\n",
       "75%      1.233711e+01\n",
       "max      2.049573e+01\n",
       "Name: price, dtype: float64"
      ]
     },
     "execution_count": 231,
     "metadata": {},
     "output_type": "execute_result"
    }
   ],
   "source": [
    "df.price.describe()"
   ]
  },
  {
   "cell_type": "code",
   "execution_count": 21,
   "metadata": {},
   "outputs": [],
   "source": [
    "import os\n",
    "import warnings\n",
    "warnings.simplefilter(action = 'ignore', category=FutureWarning)\n",
    "warnings.filterwarnings('ignore')\n",
    "def ignore_warn(*args, **kwargs):\n",
    "    pass\n",
    "\n",
    "warnings.warn = ignore_warn #ignore annoying warning (from sklearn and seaborn)\n",
    "\n",
    "import numpy as np\n",
    "import pandas as pd\n",
    "pd.set_option('display.float_format', lambda x: '{:.3f}'.format(x)) #Limiting floats output to 3 decimal points\n",
    "from matplotlib import pyplot as plt\n",
    "%matplotlib inline\n",
    "import seaborn as sns\n",
    "sns.set(style=\"ticks\", color_codes=True, font_scale=1.5)\n",
    "color = sns.color_palette()\n",
    "sns.set_style('darkgrid')\n",
    "import mpl_toolkits\n",
    "from mpl_toolkits.mplot3d import Axes3D\n",
    "import pylab \n",
    "\n",
    "from scipy import stats\n",
    "from scipy.stats import skew, norm, probplot, boxcox\n",
    "from scipy.special import boxcox1p\n",
    "from patsy import dmatrices\n",
    "import statsmodels.api as sm\n",
    "from statsmodels.stats.outliers_influence import variance_inflation_factor\n",
    "from sklearn.pipeline import Pipeline, make_pipeline\n",
    "from sklearn.preprocessing import RobustScaler, PolynomialFeatures, StandardScaler, LabelEncoder\n",
    "from sklearn.feature_selection import f_regression, mutual_info_regression, SelectKBest, RFECV, SelectFromModel\n",
    "from mlxtend.feature_selection import SequentialFeatureSelector as SFS\n",
    "from mlxtend.plotting import plot_sequential_feature_selection as plot_sfs\n",
    "from sklearn.feature_extraction import FeatureHasher\n",
    "from sklearn.decomposition import PCA, KernelPCA\n",
    "from sklearn.base import BaseEstimator, TransformerMixin, RegressorMixin, clone\n",
    "from sklearn.kernel_ridge import KernelRidge\n",
    "from sklearn.linear_model import LinearRegression, OrthogonalMatchingPursuit, Lasso, LassoLarsIC, ElasticNet, ElasticNetCV\n",
    "from sklearn.linear_model import SGDRegressor, PassiveAggressiveRegressor, HuberRegressor, BayesianRidge\n",
    "from sklearn.ensemble import GradientBoostingRegressor, RandomForestRegressor, BaggingRegressor, ExtraTreesRegressor\n",
    "\n",
    "from sklearn.model_selection import GridSearchCV, cross_val_score, KFold, cross_val_predict, train_test_split\n",
    "from sklearn.metrics import mean_absolute_error, mean_squared_error, r2_score"
   ]
  },
  {
   "cell_type": "code",
   "execution_count": 254,
   "metadata": {},
   "outputs": [
    {
     "data": {
      "text/html": [
       "<div>\n",
       "<style scoped>\n",
       "    .dataframe tbody tr th:only-of-type {\n",
       "        vertical-align: middle;\n",
       "    }\n",
       "\n",
       "    .dataframe tbody tr th {\n",
       "        vertical-align: top;\n",
       "    }\n",
       "\n",
       "    .dataframe thead th {\n",
       "        text-align: right;\n",
       "    }\n",
       "</style>\n",
       "<table border=\"1\" class=\"dataframe\">\n",
       "  <thead>\n",
       "    <tr style=\"text-align: right;\">\n",
       "      <th></th>\n",
       "      <th>count</th>\n",
       "      <th>mean</th>\n",
       "      <th>std</th>\n",
       "      <th>min</th>\n",
       "      <th>25%</th>\n",
       "      <th>50%</th>\n",
       "      <th>75%</th>\n",
       "      <th>max</th>\n",
       "    </tr>\n",
       "  </thead>\n",
       "  <tbody>\n",
       "    <tr>\n",
       "      <th>price</th>\n",
       "      <td>25180684.000</td>\n",
       "      <td>11.810</td>\n",
       "      <td>0.820</td>\n",
       "      <td>0.693</td>\n",
       "      <td>11.287</td>\n",
       "      <td>11.842</td>\n",
       "      <td>12.337</td>\n",
       "      <td>20.496</td>\n",
       "    </tr>\n",
       "    <tr>\n",
       "      <th>isLondon</th>\n",
       "      <td>25180684.000</td>\n",
       "      <td>0.078</td>\n",
       "      <td>0.268</td>\n",
       "      <td>0.000</td>\n",
       "      <td>0.000</td>\n",
       "      <td>0.000</td>\n",
       "      <td>0.000</td>\n",
       "      <td>1.000</td>\n",
       "    </tr>\n",
       "    <tr>\n",
       "      <th>year</th>\n",
       "      <td>25180684.000</td>\n",
       "      <td>2006.567</td>\n",
       "      <td>7.216</td>\n",
       "      <td>1995.000</td>\n",
       "      <td>2001.000</td>\n",
       "      <td>2006.000</td>\n",
       "      <td>2013.000</td>\n",
       "      <td>2020.000</td>\n",
       "    </tr>\n",
       "  </tbody>\n",
       "</table>\n",
       "</div>"
      ],
      "text/plain": [
       "                count     mean   std      min      25%      50%      75%  \\\n",
       "price    25180684.000   11.810 0.820    0.693   11.287   11.842   12.337   \n",
       "isLondon 25180684.000    0.078 0.268    0.000    0.000    0.000    0.000   \n",
       "year     25180684.000 2006.567 7.216 1995.000 2001.000 2006.000 2013.000   \n",
       "\n",
       "              max  \n",
       "price      20.496  \n",
       "isLondon    1.000  \n",
       "year     2020.000  "
      ]
     },
     "metadata": {},
     "output_type": "display_data"
    }
   ],
   "source": [
    "display(df.describe().transpose())\n"
   ]
  },
  {
   "cell_type": "code",
   "execution_count": 255,
   "metadata": {},
   "outputs": [],
   "source": [
    "def rstr(df, pred=None): \n",
    "    obs = df.shape[0]\n",
    "    types = df.dtypes\n",
    "    counts = df.apply(lambda x: x.count())\n",
    "    uniques = df.apply(lambda x: [x.unique()])\n",
    "    nulls = df.apply(lambda x: x.isnull().sum())\n",
    "    distincts = df.apply(lambda x: x.unique().shape[0])\n",
    "    missing_ration = (df.isnull().sum()/ obs) * 100\n",
    "    skewness = df.skew()\n",
    "    kurtosis = df.kurt() \n",
    "    print('Data shape:', df.shape)\n",
    "    \n",
    "    if pred is None:\n",
    "        cols = ['types', 'counts', 'distincts', 'nulls', 'missing ration', 'uniques', 'skewness', 'kurtosis']\n",
    "        str = pd.concat([types, counts, distincts, nulls, missing_ration, uniques, skewness, kurtosis], axis = 1)\n",
    "\n",
    "    else:\n",
    "        corr = df.corr()[pred]\n",
    "        str = pd.concat([types, counts, distincts, nulls, missing_ration, uniques, skewness, kurtosis, corr], axis = 1, sort=False)\n",
    "        corr_col = 'corr '  + pred\n",
    "        cols = ['types', 'counts', 'distincts', 'nulls', 'missing_ration', 'uniques', 'skewness', 'kurtosis', corr_col ]\n",
    "    str.columns = cols\n",
    "    dtypes = str.types.value_counts()\n",
    "    print('___________________________\\nData types:\\n',str.types.value_counts())\n",
    "    print('___________________________')\n",
    "    return str"
   ]
  },
  {
   "cell_type": "code",
   "execution_count": 299,
   "metadata": {},
   "outputs": [],
   "source": [
    "df['priceLog'] = np.log1p(df['price'])"
   ]
  },
  {
   "cell_type": "code",
   "execution_count": null,
   "metadata": {},
   "outputs": [],
   "source": [
    "df."
   ]
  },
  {
   "cell_type": "code",
   "execution_count": 300,
   "metadata": {},
   "outputs": [
    {
     "name": "stdout",
     "output_type": "stream",
     "text": [
      "Data shape: (25180684, 13)\n",
      "___________________________\n",
      "Data types:\n",
      " uint8             8\n",
      "int64             3\n",
      "float64           1\n",
      "datetime64[ns]    1\n",
      "Name: types, dtype: int64\n",
      "___________________________\n"
     ]
    },
    {
     "data": {
      "text/html": [
       "<div>\n",
       "<style scoped>\n",
       "    .dataframe tbody tr th:only-of-type {\n",
       "        vertical-align: middle;\n",
       "    }\n",
       "\n",
       "    .dataframe tbody tr th {\n",
       "        vertical-align: top;\n",
       "    }\n",
       "\n",
       "    .dataframe thead th {\n",
       "        text-align: right;\n",
       "    }\n",
       "</style>\n",
       "<table border=\"1\" class=\"dataframe\">\n",
       "  <thead>\n",
       "    <tr style=\"text-align: right;\">\n",
       "      <th></th>\n",
       "      <th>types</th>\n",
       "      <th>counts</th>\n",
       "      <th>distincts</th>\n",
       "      <th>nulls</th>\n",
       "      <th>missing_ration</th>\n",
       "      <th>uniques</th>\n",
       "      <th>skewness</th>\n",
       "      <th>kurtosis</th>\n",
       "      <th>corr priceLog</th>\n",
       "    </tr>\n",
       "  </thead>\n",
       "  <tbody>\n",
       "    <tr>\n",
       "      <th>priceLog</th>\n",
       "      <td>float64</td>\n",
       "      <td>25180684</td>\n",
       "      <td>206405</td>\n",
       "      <td>0</td>\n",
       "      <td>0.000</td>\n",
       "      <td>[[10.645448706505872, 11.461642696843066, 11.2...</td>\n",
       "      <td>-0.042</td>\n",
       "      <td>1.720</td>\n",
       "      <td>1.000</td>\n",
       "    </tr>\n",
       "    <tr>\n",
       "      <th>year</th>\n",
       "      <td>int64</td>\n",
       "      <td>25180684</td>\n",
       "      <td>26</td>\n",
       "      <td>0</td>\n",
       "      <td>0.000</td>\n",
       "      <td>[[1995, 1996, 1997, 1998, 1999, 2000, 2001, 20...</td>\n",
       "      <td>0.191</td>\n",
       "      <td>-1.196</td>\n",
       "      <td>0.529</td>\n",
       "    </tr>\n",
       "    <tr>\n",
       "      <th>ptype_D</th>\n",
       "      <td>uint8</td>\n",
       "      <td>25180684</td>\n",
       "      <td>2</td>\n",
       "      <td>0</td>\n",
       "      <td>0.000</td>\n",
       "      <td>[[0, 1]]</td>\n",
       "      <td>1.282</td>\n",
       "      <td>-0.356</td>\n",
       "      <td>0.288</td>\n",
       "    </tr>\n",
       "    <tr>\n",
       "      <th>price</th>\n",
       "      <td>int64</td>\n",
       "      <td>25180684</td>\n",
       "      <td>206405</td>\n",
       "      <td>0</td>\n",
       "      <td>0.000</td>\n",
       "      <td>[[42000, 95000, 74950, 43500, 63000, 29995, 10...</td>\n",
       "      <td>261.008</td>\n",
       "      <td>134493.165</td>\n",
       "      <td>0.282</td>\n",
       "    </tr>\n",
       "    <tr>\n",
       "      <th>isLondon</th>\n",
       "      <td>int64</td>\n",
       "      <td>25180684</td>\n",
       "      <td>2</td>\n",
       "      <td>0</td>\n",
       "      <td>0.000</td>\n",
       "      <td>[[0, 1]]</td>\n",
       "      <td>3.157</td>\n",
       "      <td>7.964</td>\n",
       "      <td>0.222</td>\n",
       "    </tr>\n",
       "    <tr>\n",
       "      <th>duration_F</th>\n",
       "      <td>uint8</td>\n",
       "      <td>25180684</td>\n",
       "      <td>2</td>\n",
       "      <td>0</td>\n",
       "      <td>0.000</td>\n",
       "      <td>[[1, 0]]</td>\n",
       "      <td>-1.241</td>\n",
       "      <td>-0.460</td>\n",
       "      <td>0.068</td>\n",
       "    </tr>\n",
       "    <tr>\n",
       "      <th>ptype_O</th>\n",
       "      <td>uint8</td>\n",
       "      <td>25180684</td>\n",
       "      <td>2</td>\n",
       "      <td>0</td>\n",
       "      <td>0.000</td>\n",
       "      <td>[[0, 1]]</td>\n",
       "      <td>9.335</td>\n",
       "      <td>85.136</td>\n",
       "      <td>0.054</td>\n",
       "    </tr>\n",
       "    <tr>\n",
       "      <th>duration_U</th>\n",
       "      <td>uint8</td>\n",
       "      <td>25180684</td>\n",
       "      <td>2</td>\n",
       "      <td>0</td>\n",
       "      <td>0.000</td>\n",
       "      <td>[[0, 1]]</td>\n",
       "      <td>217.145</td>\n",
       "      <td>47149.848</td>\n",
       "      <td>-0.001</td>\n",
       "    </tr>\n",
       "    <tr>\n",
       "      <th>ptype_F</th>\n",
       "      <td>uint8</td>\n",
       "      <td>25180684</td>\n",
       "      <td>2</td>\n",
       "      <td>0</td>\n",
       "      <td>0.000</td>\n",
       "      <td>[[0, 1]]</td>\n",
       "      <td>1.659</td>\n",
       "      <td>0.751</td>\n",
       "      <td>-0.005</td>\n",
       "    </tr>\n",
       "    <tr>\n",
       "      <th>ptype_S</th>\n",
       "      <td>uint8</td>\n",
       "      <td>25180684</td>\n",
       "      <td>2</td>\n",
       "      <td>0</td>\n",
       "      <td>0.000</td>\n",
       "      <td>[[1, 0]]</td>\n",
       "      <td>1.008</td>\n",
       "      <td>-0.983</td>\n",
       "      <td>-0.058</td>\n",
       "    </tr>\n",
       "    <tr>\n",
       "      <th>duration_L</th>\n",
       "      <td>uint8</td>\n",
       "      <td>25180684</td>\n",
       "      <td>2</td>\n",
       "      <td>0</td>\n",
       "      <td>0.000</td>\n",
       "      <td>[[0, 1]]</td>\n",
       "      <td>1.241</td>\n",
       "      <td>-0.460</td>\n",
       "      <td>-0.068</td>\n",
       "    </tr>\n",
       "    <tr>\n",
       "      <th>ptype_T</th>\n",
       "      <td>uint8</td>\n",
       "      <td>25180684</td>\n",
       "      <td>2</td>\n",
       "      <td>0</td>\n",
       "      <td>0.000</td>\n",
       "      <td>[[0, 1]]</td>\n",
       "      <td>0.857</td>\n",
       "      <td>-1.265</td>\n",
       "      <td>-0.216</td>\n",
       "    </tr>\n",
       "    <tr>\n",
       "      <th>date</th>\n",
       "      <td>datetime64[ns]</td>\n",
       "      <td>25180684</td>\n",
       "      <td>9187</td>\n",
       "      <td>0</td>\n",
       "      <td>0.000</td>\n",
       "      <td>[[1995-12-21 00:00:00, 1995-03-03 00:00:00, 19...</td>\n",
       "      <td>nan</td>\n",
       "      <td>nan</td>\n",
       "      <td>nan</td>\n",
       "    </tr>\n",
       "  </tbody>\n",
       "</table>\n",
       "</div>"
      ],
      "text/plain": [
       "                     types    counts  distincts  nulls  missing_ration  \\\n",
       "priceLog           float64  25180684     206405      0           0.000   \n",
       "year                 int64  25180684         26      0           0.000   \n",
       "ptype_D              uint8  25180684          2      0           0.000   \n",
       "price                int64  25180684     206405      0           0.000   \n",
       "isLondon             int64  25180684          2      0           0.000   \n",
       "duration_F           uint8  25180684          2      0           0.000   \n",
       "ptype_O              uint8  25180684          2      0           0.000   \n",
       "duration_U           uint8  25180684          2      0           0.000   \n",
       "ptype_F              uint8  25180684          2      0           0.000   \n",
       "ptype_S              uint8  25180684          2      0           0.000   \n",
       "duration_L           uint8  25180684          2      0           0.000   \n",
       "ptype_T              uint8  25180684          2      0           0.000   \n",
       "date        datetime64[ns]  25180684       9187      0           0.000   \n",
       "\n",
       "                                                      uniques  skewness  \\\n",
       "priceLog    [[10.645448706505872, 11.461642696843066, 11.2...    -0.042   \n",
       "year        [[1995, 1996, 1997, 1998, 1999, 2000, 2001, 20...     0.191   \n",
       "ptype_D                                              [[0, 1]]     1.282   \n",
       "price       [[42000, 95000, 74950, 43500, 63000, 29995, 10...   261.008   \n",
       "isLondon                                             [[0, 1]]     3.157   \n",
       "duration_F                                           [[1, 0]]    -1.241   \n",
       "ptype_O                                              [[0, 1]]     9.335   \n",
       "duration_U                                           [[0, 1]]   217.145   \n",
       "ptype_F                                              [[0, 1]]     1.659   \n",
       "ptype_S                                              [[1, 0]]     1.008   \n",
       "duration_L                                           [[0, 1]]     1.241   \n",
       "ptype_T                                              [[0, 1]]     0.857   \n",
       "date        [[1995-12-21 00:00:00, 1995-03-03 00:00:00, 19...       nan   \n",
       "\n",
       "             kurtosis  corr priceLog  \n",
       "priceLog        1.720          1.000  \n",
       "year           -1.196          0.529  \n",
       "ptype_D        -0.356          0.288  \n",
       "price      134493.165          0.282  \n",
       "isLondon        7.964          0.222  \n",
       "duration_F     -0.460          0.068  \n",
       "ptype_O        85.136          0.054  \n",
       "duration_U  47149.848         -0.001  \n",
       "ptype_F         0.751         -0.005  \n",
       "ptype_S        -0.983         -0.058  \n",
       "duration_L     -0.460         -0.068  \n",
       "ptype_T        -1.265         -0.216  \n",
       "date              nan            nan  "
      ]
     },
     "metadata": {},
     "output_type": "display_data"
    }
   ],
   "source": [
    "details = rstr(df, 'priceLog')\n",
    "display(details.sort_values(by='corr priceLog', ascending=False))"
   ]
  },
  {
   "cell_type": "code",
   "execution_count": 357,
   "metadata": {},
   "outputs": [
    {
     "data": {
      "text/html": [
       "<div>\n",
       "<style scoped>\n",
       "    .dataframe tbody tr th:only-of-type {\n",
       "        vertical-align: middle;\n",
       "    }\n",
       "\n",
       "    .dataframe tbody tr th {\n",
       "        vertical-align: top;\n",
       "    }\n",
       "\n",
       "    .dataframe thead th {\n",
       "        text-align: right;\n",
       "    }\n",
       "</style>\n",
       "<table border=\"1\" class=\"dataframe\">\n",
       "  <thead>\n",
       "    <tr style=\"text-align: right;\">\n",
       "      <th></th>\n",
       "      <th>price</th>\n",
       "      <th>date</th>\n",
       "      <th>isLondon</th>\n",
       "      <th>ptype_D</th>\n",
       "      <th>ptype_F</th>\n",
       "      <th>ptype_O</th>\n",
       "      <th>ptype_S</th>\n",
       "      <th>ptype_T</th>\n",
       "      <th>duration_F</th>\n",
       "      <th>duration_L</th>\n",
       "      <th>duration_U</th>\n",
       "      <th>year</th>\n",
       "      <th>priceLog</th>\n",
       "    </tr>\n",
       "  </thead>\n",
       "  <tbody>\n",
       "    <tr>\n",
       "      <th>0</th>\n",
       "      <td>42000</td>\n",
       "      <td>1995-12-21</td>\n",
       "      <td>0</td>\n",
       "      <td>0</td>\n",
       "      <td>0</td>\n",
       "      <td>0</td>\n",
       "      <td>1</td>\n",
       "      <td>0</td>\n",
       "      <td>1</td>\n",
       "      <td>0</td>\n",
       "      <td>0</td>\n",
       "      <td>1995</td>\n",
       "      <td>10.645</td>\n",
       "    </tr>\n",
       "    <tr>\n",
       "      <th>1</th>\n",
       "      <td>95000</td>\n",
       "      <td>1995-03-03</td>\n",
       "      <td>0</td>\n",
       "      <td>0</td>\n",
       "      <td>0</td>\n",
       "      <td>0</td>\n",
       "      <td>1</td>\n",
       "      <td>0</td>\n",
       "      <td>1</td>\n",
       "      <td>0</td>\n",
       "      <td>0</td>\n",
       "      <td>1995</td>\n",
       "      <td>11.462</td>\n",
       "    </tr>\n",
       "    <tr>\n",
       "      <th>2</th>\n",
       "      <td>74950</td>\n",
       "      <td>1995-10-03</td>\n",
       "      <td>0</td>\n",
       "      <td>1</td>\n",
       "      <td>0</td>\n",
       "      <td>0</td>\n",
       "      <td>0</td>\n",
       "      <td>0</td>\n",
       "      <td>1</td>\n",
       "      <td>0</td>\n",
       "      <td>0</td>\n",
       "      <td>1995</td>\n",
       "      <td>11.225</td>\n",
       "    </tr>\n",
       "    <tr>\n",
       "      <th>3</th>\n",
       "      <td>43500</td>\n",
       "      <td>1995-11-14</td>\n",
       "      <td>0</td>\n",
       "      <td>0</td>\n",
       "      <td>0</td>\n",
       "      <td>0</td>\n",
       "      <td>1</td>\n",
       "      <td>0</td>\n",
       "      <td>1</td>\n",
       "      <td>0</td>\n",
       "      <td>0</td>\n",
       "      <td>1995</td>\n",
       "      <td>10.681</td>\n",
       "    </tr>\n",
       "    <tr>\n",
       "      <th>4</th>\n",
       "      <td>63000</td>\n",
       "      <td>1995-09-08</td>\n",
       "      <td>0</td>\n",
       "      <td>0</td>\n",
       "      <td>0</td>\n",
       "      <td>0</td>\n",
       "      <td>1</td>\n",
       "      <td>0</td>\n",
       "      <td>1</td>\n",
       "      <td>0</td>\n",
       "      <td>0</td>\n",
       "      <td>1995</td>\n",
       "      <td>11.051</td>\n",
       "    </tr>\n",
       "    <tr>\n",
       "      <th>...</th>\n",
       "      <td>...</td>\n",
       "      <td>...</td>\n",
       "      <td>...</td>\n",
       "      <td>...</td>\n",
       "      <td>...</td>\n",
       "      <td>...</td>\n",
       "      <td>...</td>\n",
       "      <td>...</td>\n",
       "      <td>...</td>\n",
       "      <td>...</td>\n",
       "      <td>...</td>\n",
       "      <td>...</td>\n",
       "      <td>...</td>\n",
       "    </tr>\n",
       "    <tr>\n",
       "      <th>25180679</th>\n",
       "      <td>140000</td>\n",
       "      <td>2020-01-03</td>\n",
       "      <td>0</td>\n",
       "      <td>0</td>\n",
       "      <td>0</td>\n",
       "      <td>0</td>\n",
       "      <td>1</td>\n",
       "      <td>0</td>\n",
       "      <td>1</td>\n",
       "      <td>0</td>\n",
       "      <td>0</td>\n",
       "      <td>2020</td>\n",
       "      <td>11.849</td>\n",
       "    </tr>\n",
       "    <tr>\n",
       "      <th>25180680</th>\n",
       "      <td>125000</td>\n",
       "      <td>2020-01-10</td>\n",
       "      <td>0</td>\n",
       "      <td>0</td>\n",
       "      <td>0</td>\n",
       "      <td>0</td>\n",
       "      <td>0</td>\n",
       "      <td>1</td>\n",
       "      <td>1</td>\n",
       "      <td>0</td>\n",
       "      <td>0</td>\n",
       "      <td>2020</td>\n",
       "      <td>11.736</td>\n",
       "    </tr>\n",
       "    <tr>\n",
       "      <th>25180681</th>\n",
       "      <td>175100</td>\n",
       "      <td>2020-01-24</td>\n",
       "      <td>0</td>\n",
       "      <td>0</td>\n",
       "      <td>0</td>\n",
       "      <td>0</td>\n",
       "      <td>1</td>\n",
       "      <td>0</td>\n",
       "      <td>1</td>\n",
       "      <td>0</td>\n",
       "      <td>0</td>\n",
       "      <td>2020</td>\n",
       "      <td>12.073</td>\n",
       "    </tr>\n",
       "    <tr>\n",
       "      <th>25180682</th>\n",
       "      <td>220000</td>\n",
       "      <td>2020-01-24</td>\n",
       "      <td>0</td>\n",
       "      <td>0</td>\n",
       "      <td>0</td>\n",
       "      <td>0</td>\n",
       "      <td>0</td>\n",
       "      <td>1</td>\n",
       "      <td>1</td>\n",
       "      <td>0</td>\n",
       "      <td>0</td>\n",
       "      <td>2020</td>\n",
       "      <td>12.301</td>\n",
       "    </tr>\n",
       "    <tr>\n",
       "      <th>25180683</th>\n",
       "      <td>146000</td>\n",
       "      <td>2020-01-17</td>\n",
       "      <td>0</td>\n",
       "      <td>0</td>\n",
       "      <td>0</td>\n",
       "      <td>0</td>\n",
       "      <td>1</td>\n",
       "      <td>0</td>\n",
       "      <td>1</td>\n",
       "      <td>0</td>\n",
       "      <td>0</td>\n",
       "      <td>2020</td>\n",
       "      <td>11.891</td>\n",
       "    </tr>\n",
       "  </tbody>\n",
       "</table>\n",
       "<p>25180684 rows × 13 columns</p>\n",
       "</div>"
      ],
      "text/plain": [
       "           price       date  isLondon  ptype_D  ptype_F  ptype_O  ptype_S  \\\n",
       "0          42000 1995-12-21         0        0        0        0        1   \n",
       "1          95000 1995-03-03         0        0        0        0        1   \n",
       "2          74950 1995-10-03         0        1        0        0        0   \n",
       "3          43500 1995-11-14         0        0        0        0        1   \n",
       "4          63000 1995-09-08         0        0        0        0        1   \n",
       "...          ...        ...       ...      ...      ...      ...      ...   \n",
       "25180679  140000 2020-01-03         0        0        0        0        1   \n",
       "25180680  125000 2020-01-10         0        0        0        0        0   \n",
       "25180681  175100 2020-01-24         0        0        0        0        1   \n",
       "25180682  220000 2020-01-24         0        0        0        0        0   \n",
       "25180683  146000 2020-01-17         0        0        0        0        1   \n",
       "\n",
       "          ptype_T  duration_F  duration_L  duration_U  year  priceLog  \n",
       "0               0           1           0           0  1995    10.645  \n",
       "1               0           1           0           0  1995    11.462  \n",
       "2               0           1           0           0  1995    11.225  \n",
       "3               0           1           0           0  1995    10.681  \n",
       "4               0           1           0           0  1995    11.051  \n",
       "...           ...         ...         ...         ...   ...       ...  \n",
       "25180679        0           1           0           0  2020    11.849  \n",
       "25180680        1           1           0           0  2020    11.736  \n",
       "25180681        0           1           0           0  2020    12.073  \n",
       "25180682        1           1           0           0  2020    12.301  \n",
       "25180683        0           1           0           0  2020    11.891  \n",
       "\n",
       "[25180684 rows x 13 columns]"
      ]
     },
     "execution_count": 357,
     "metadata": {},
     "output_type": "execute_result"
    }
   ],
   "source": [
    "df[['isLondon']].values"
   ]
  },
  {
   "cell_type": "code",
   "execution_count": 356,
   "metadata": {},
   "outputs": [
    {
     "data": {
      "text/plain": [
       "0           1995\n",
       "1           1995\n",
       "2           1995\n",
       "3           1995\n",
       "4           1995\n",
       "            ... \n",
       "25180679    2020\n",
       "25180680    2020\n",
       "25180681    2020\n",
       "25180682    2020\n",
       "25180683    2020\n",
       "Name: date, Length: 25180684, dtype: int64"
      ]
     },
     "execution_count": 356,
     "metadata": {},
     "output_type": "execute_result"
    }
   ],
   "source": [
    "df.date.dt.year"
   ]
  },
  {
   "cell_type": "code",
   "execution_count": 306,
   "metadata": {},
   "outputs": [
    {
     "data": {
      "text/plain": [
       "array([10.64544871, 11.4616427 , 11.22458985, ..., 14.84407978,\n",
       "       13.72702682, 12.15868749])"
      ]
     },
     "execution_count": 306,
     "metadata": {},
     "output_type": "execute_result"
    }
   ],
   "source": [
    "np.log1p(df['price']).unique()"
   ]
  },
  {
   "cell_type": "code",
   "execution_count": 307,
   "metadata": {},
   "outputs": [
    {
     "data": {
      "text/plain": [
       "array([10.64544871, 11.4616427 , 11.22458985, ..., 14.84407978,\n",
       "       13.72702682, 12.15868749])"
      ]
     },
     "execution_count": 307,
     "metadata": {},
     "output_type": "execute_result"
    }
   ],
   "source": [
    "np.log(df['price']+1).unique()"
   ]
  },
  {
   "cell_type": "code",
   "execution_count": 274,
   "metadata": {},
   "outputs": [],
   "source": [
    "# df['ptype'] = df['ptype'].astype('category')\n",
    "# df['ptype'] = df['ptype'].cat.codes\n",
    "df['duration'] = df['duration'].astype('category')\n",
    "df['duration'] = df['duration'].cat.codes"
   ]
  },
  {
   "cell_type": "code",
   "execution_count": 294,
   "metadata": {},
   "outputs": [],
   "source": [
    "for c in [\"ptype\", \"duration\"]:\n",
    "#     df[c] = df[c].astype('category')\n",
    "#     df[c] = df[c].cat.codes\n",
    "    dfDummies = pd.get_dummies(df[c], prefix = c)\n",
    "    df = pd.concat([df, dfDummies], axis=1)"
   ]
  },
  {
   "cell_type": "code",
   "execution_count": 298,
   "metadata": {},
   "outputs": [],
   "source": [
    "# del df['date']\n",
    "del df['ptype']\n",
    "del df['duration']\n",
    "del df['town']\n",
    "\n"
   ]
  },
  {
   "cell_type": "code",
   "execution_count": 297,
   "metadata": {},
   "outputs": [],
   "source": [
    "df['year'] = df.date.dt.year"
   ]
  },
  {
   "cell_type": "code",
   "execution_count": 309,
   "metadata": {},
   "outputs": [
    {
     "data": {
      "text/html": [
       "<div>\n",
       "<style scoped>\n",
       "    .dataframe tbody tr th:only-of-type {\n",
       "        vertical-align: middle;\n",
       "    }\n",
       "\n",
       "    .dataframe tbody tr th {\n",
       "        vertical-align: top;\n",
       "    }\n",
       "\n",
       "    .dataframe thead th {\n",
       "        text-align: right;\n",
       "    }\n",
       "</style>\n",
       "<table border=\"1\" class=\"dataframe\">\n",
       "  <thead>\n",
       "    <tr style=\"text-align: right;\">\n",
       "      <th></th>\n",
       "      <th>price</th>\n",
       "      <th>date</th>\n",
       "      <th>isLondon</th>\n",
       "      <th>ptype_D</th>\n",
       "      <th>ptype_F</th>\n",
       "      <th>ptype_O</th>\n",
       "      <th>ptype_S</th>\n",
       "      <th>ptype_T</th>\n",
       "      <th>duration_F</th>\n",
       "      <th>duration_L</th>\n",
       "      <th>duration_U</th>\n",
       "      <th>year</th>\n",
       "      <th>priceLog</th>\n",
       "    </tr>\n",
       "  </thead>\n",
       "  <tbody>\n",
       "    <tr>\n",
       "      <th>19025305</th>\n",
       "      <td>410000</td>\n",
       "      <td>2014-10-14</td>\n",
       "      <td>0</td>\n",
       "      <td>1</td>\n",
       "      <td>0</td>\n",
       "      <td>0</td>\n",
       "      <td>0</td>\n",
       "      <td>0</td>\n",
       "      <td>1</td>\n",
       "      <td>0</td>\n",
       "      <td>0</td>\n",
       "      <td>2014</td>\n",
       "      <td>12.924</td>\n",
       "    </tr>\n",
       "    <tr>\n",
       "      <th>19025306</th>\n",
       "      <td>250000</td>\n",
       "      <td>2014-09-17</td>\n",
       "      <td>0</td>\n",
       "      <td>0</td>\n",
       "      <td>0</td>\n",
       "      <td>0</td>\n",
       "      <td>1</td>\n",
       "      <td>0</td>\n",
       "      <td>1</td>\n",
       "      <td>0</td>\n",
       "      <td>0</td>\n",
       "      <td>2014</td>\n",
       "      <td>12.429</td>\n",
       "    </tr>\n",
       "    <tr>\n",
       "      <th>19025307</th>\n",
       "      <td>170000</td>\n",
       "      <td>2014-11-05</td>\n",
       "      <td>0</td>\n",
       "      <td>0</td>\n",
       "      <td>0</td>\n",
       "      <td>0</td>\n",
       "      <td>0</td>\n",
       "      <td>1</td>\n",
       "      <td>1</td>\n",
       "      <td>0</td>\n",
       "      <td>0</td>\n",
       "      <td>2014</td>\n",
       "      <td>12.044</td>\n",
       "    </tr>\n",
       "    <tr>\n",
       "      <th>19025308</th>\n",
       "      <td>121770</td>\n",
       "      <td>2014-03-03</td>\n",
       "      <td>0</td>\n",
       "      <td>0</td>\n",
       "      <td>1</td>\n",
       "      <td>0</td>\n",
       "      <td>0</td>\n",
       "      <td>0</td>\n",
       "      <td>0</td>\n",
       "      <td>1</td>\n",
       "      <td>0</td>\n",
       "      <td>2014</td>\n",
       "      <td>11.710</td>\n",
       "    </tr>\n",
       "    <tr>\n",
       "      <th>19025309</th>\n",
       "      <td>290000</td>\n",
       "      <td>2014-02-06</td>\n",
       "      <td>0</td>\n",
       "      <td>0</td>\n",
       "      <td>0</td>\n",
       "      <td>0</td>\n",
       "      <td>0</td>\n",
       "      <td>1</td>\n",
       "      <td>1</td>\n",
       "      <td>0</td>\n",
       "      <td>0</td>\n",
       "      <td>2014</td>\n",
       "      <td>12.578</td>\n",
       "    </tr>\n",
       "    <tr>\n",
       "      <th>...</th>\n",
       "      <td>...</td>\n",
       "      <td>...</td>\n",
       "      <td>...</td>\n",
       "      <td>...</td>\n",
       "      <td>...</td>\n",
       "      <td>...</td>\n",
       "      <td>...</td>\n",
       "      <td>...</td>\n",
       "      <td>...</td>\n",
       "      <td>...</td>\n",
       "      <td>...</td>\n",
       "      <td>...</td>\n",
       "      <td>...</td>\n",
       "    </tr>\n",
       "    <tr>\n",
       "      <th>24047767</th>\n",
       "      <td>80000</td>\n",
       "      <td>2018-01-01</td>\n",
       "      <td>0</td>\n",
       "      <td>0</td>\n",
       "      <td>1</td>\n",
       "      <td>0</td>\n",
       "      <td>0</td>\n",
       "      <td>0</td>\n",
       "      <td>0</td>\n",
       "      <td>1</td>\n",
       "      <td>0</td>\n",
       "      <td>2018</td>\n",
       "      <td>11.290</td>\n",
       "    </tr>\n",
       "    <tr>\n",
       "      <th>24122651</th>\n",
       "      <td>75000</td>\n",
       "      <td>2018-01-01</td>\n",
       "      <td>0</td>\n",
       "      <td>0</td>\n",
       "      <td>1</td>\n",
       "      <td>0</td>\n",
       "      <td>0</td>\n",
       "      <td>0</td>\n",
       "      <td>0</td>\n",
       "      <td>1</td>\n",
       "      <td>0</td>\n",
       "      <td>2018</td>\n",
       "      <td>11.225</td>\n",
       "    </tr>\n",
       "    <tr>\n",
       "      <th>24127404</th>\n",
       "      <td>75000</td>\n",
       "      <td>2018-01-01</td>\n",
       "      <td>0</td>\n",
       "      <td>0</td>\n",
       "      <td>0</td>\n",
       "      <td>0</td>\n",
       "      <td>1</td>\n",
       "      <td>0</td>\n",
       "      <td>1</td>\n",
       "      <td>0</td>\n",
       "      <td>0</td>\n",
       "      <td>2018</td>\n",
       "      <td>11.225</td>\n",
       "    </tr>\n",
       "    <tr>\n",
       "      <th>24144531</th>\n",
       "      <td>175000</td>\n",
       "      <td>2018-01-01</td>\n",
       "      <td>0</td>\n",
       "      <td>0</td>\n",
       "      <td>0</td>\n",
       "      <td>1</td>\n",
       "      <td>0</td>\n",
       "      <td>0</td>\n",
       "      <td>1</td>\n",
       "      <td>0</td>\n",
       "      <td>0</td>\n",
       "      <td>2018</td>\n",
       "      <td>12.073</td>\n",
       "    </tr>\n",
       "    <tr>\n",
       "      <th>24146084</th>\n",
       "      <td>175000</td>\n",
       "      <td>2018-01-01</td>\n",
       "      <td>0</td>\n",
       "      <td>0</td>\n",
       "      <td>0</td>\n",
       "      <td>1</td>\n",
       "      <td>0</td>\n",
       "      <td>0</td>\n",
       "      <td>1</td>\n",
       "      <td>0</td>\n",
       "      <td>0</td>\n",
       "      <td>2018</td>\n",
       "      <td>12.073</td>\n",
       "    </tr>\n",
       "  </tbody>\n",
       "</table>\n",
       "<p>4101157 rows × 13 columns</p>\n",
       "</div>"
      ],
      "text/plain": [
       "           price       date  isLondon  ptype_D  ptype_F  ptype_O  ptype_S  \\\n",
       "19025305  410000 2014-10-14         0        1        0        0        0   \n",
       "19025306  250000 2014-09-17         0        0        0        0        1   \n",
       "19025307  170000 2014-11-05         0        0        0        0        0   \n",
       "19025308  121770 2014-03-03         0        0        1        0        0   \n",
       "19025309  290000 2014-02-06         0        0        0        0        0   \n",
       "...          ...        ...       ...      ...      ...      ...      ...   \n",
       "24047767   80000 2018-01-01         0        0        1        0        0   \n",
       "24122651   75000 2018-01-01         0        0        1        0        0   \n",
       "24127404   75000 2018-01-01         0        0        0        0        1   \n",
       "24144531  175000 2018-01-01         0        0        0        1        0   \n",
       "24146084  175000 2018-01-01         0        0        0        1        0   \n",
       "\n",
       "          ptype_T  duration_F  duration_L  duration_U  year  priceLog  \n",
       "19025305        0           1           0           0  2014    12.924  \n",
       "19025306        0           1           0           0  2014    12.429  \n",
       "19025307        1           1           0           0  2014    12.044  \n",
       "19025308        0           0           1           0  2014    11.710  \n",
       "19025309        1           1           0           0  2014    12.578  \n",
       "...           ...         ...         ...         ...   ...       ...  \n",
       "24047767        0           0           1           0  2018    11.290  \n",
       "24122651        0           0           1           0  2018    11.225  \n",
       "24127404        0           1           0           0  2018    11.225  \n",
       "24144531        0           1           0           0  2018    12.073  \n",
       "24146084        0           1           0           0  2018    12.073  \n",
       "\n",
       "[4101157 rows x 13 columns]"
      ]
     },
     "execution_count": 309,
     "metadata": {},
     "output_type": "execute_result"
    }
   ],
   "source": [
    "score = rmsle_cv(lasso)"
   ]
  },
  {
   "cell_type": "code",
   "execution_count": 349,
   "metadata": {},
   "outputs": [],
   "source": [
    "lasso = make_pipeline(RobustScaler(), Lasso(alpha =0.0005, random_state=1))\n",
    "ENet = make_pipeline(RobustScaler(), ElasticNet(alpha=0.0005, l1_ratio=.9, random_state=3))\n"
   ]
  },
  {
   "cell_type": "code",
   "execution_count": 342,
   "metadata": {},
   "outputs": [],
   "source": [
    "# sdf = df[(df.date >= \"2015-1-1\") & (df.date < \"2018-1-1\")]\n",
    "sdf = df"
   ]
  },
  {
   "cell_type": "code",
   "execution_count": null,
   "metadata": {},
   "outputs": [],
   "source": []
  },
  {
   "cell_type": "code",
   "execution_count": 18,
   "metadata": {},
   "outputs": [],
   "source": [
    "df_train = df[df.date < \"2016-1-1\"]\n",
    "df_test = df[df.date >= \"2016-1-1\"]\n",
    "# y_train_log = df_train['priceLog']\n",
    "# y_train = df_train['price']\n",
    "# y_test_log = df_test['priceLog']\n",
    "# y_test = df_test['price']\n",
    "# for c in ['price', 'priceLog', 'date']:\n",
    "#     del df_train[c]\n",
    "#     del df_test[c]\n",
    "# x_train = df_train.values\n",
    "# x_test = df_test.values"
   ]
  },
  {
   "cell_type": "code",
   "execution_count": 344,
   "metadata": {},
   "outputs": [
    {
     "data": {
      "text/plain": [
       "(21019102, 4161582)"
      ]
     },
     "execution_count": 344,
     "metadata": {},
     "output_type": "execute_result"
    }
   ],
   "source": [
    "len(df_train), len(df_test)"
   ]
  },
  {
   "cell_type": "code",
   "execution_count": 345,
   "metadata": {},
   "outputs": [],
   "source": [
    "# Cross-validation with k-folds\n",
    "n_folds = 5\n",
    "\n",
    "def rmsle_cv(model):\n",
    "    kf = KFold(n_folds, shuffle=True, random_state=42).get_n_splits(x_train)\n",
    "    rmse= np.sqrt(-cross_val_score(model, x_train, y_train_log, scoring=\"neg_mean_squared_error\", cv = kf))\n",
    "    return(rmse)"
   ]
  },
  {
   "cell_type": "code",
   "execution_count": 350,
   "metadata": {},
   "outputs": [
    {
     "name": "stdout",
     "output_type": "stream",
     "text": [
      "\n",
      "Lasso score: 0.6232 (0.0842)\n",
      "\n"
     ]
    }
   ],
   "source": [
    "score = rmsle_cv(ENet)\n",
    "print(\"\\nLasso score: {:.4f} ({:.4f})\\n\".format(score.mean(), score.std()))"
   ]
  },
  {
   "cell_type": "code",
   "execution_count": 351,
   "metadata": {},
   "outputs": [],
   "source": [
    "model = ENet.fit(x_train, y_train_log)\n",
    "y_pred = np.expm1(model.predict(x_test))"
   ]
  },
  {
   "cell_type": "code",
   "execution_count": 348,
   "metadata": {},
   "outputs": [
    {
     "data": {
      "text/plain": [
       "1750677.1692387972"
      ]
     },
     "execution_count": 348,
     "metadata": {},
     "output_type": "execute_result"
    }
   ],
   "source": [
    "np.sqrt(mean_squared_error(y_test, y_pred))"
   ]
  },
  {
   "cell_type": "code",
   "execution_count": 22,
   "metadata": {},
   "outputs": [
    {
     "data": {
      "text/plain": [
       "1766722.2661044325"
      ]
     },
     "execution_count": 22,
     "metadata": {},
     "output_type": "execute_result"
    }
   ],
   "source": [
    "np.sqrt(mean_squared_error(df_test.price.values, [df_train.price.mean()] * len(df_test)))"
   ]
  },
  {
   "cell_type": "code",
   "execution_count": 26,
   "metadata": {},
   "outputs": [
    {
     "data": {
      "text/html": [
       "<div>\n",
       "<style scoped>\n",
       "    .dataframe tbody tr th:only-of-type {\n",
       "        vertical-align: middle;\n",
       "    }\n",
       "\n",
       "    .dataframe tbody tr th {\n",
       "        vertical-align: top;\n",
       "    }\n",
       "\n",
       "    .dataframe thead th {\n",
       "        text-align: right;\n",
       "    }\n",
       "</style>\n",
       "<table border=\"1\" class=\"dataframe\">\n",
       "  <thead>\n",
       "    <tr style=\"text-align: right;\">\n",
       "      <th></th>\n",
       "      <th>price</th>\n",
       "      <th>date</th>\n",
       "      <th>duration</th>\n",
       "      <th>town</th>\n",
       "      <th>isLondon</th>\n",
       "      <th>year</th>\n",
       "    </tr>\n",
       "    <tr>\n",
       "      <th>ptype</th>\n",
       "      <th></th>\n",
       "      <th></th>\n",
       "      <th></th>\n",
       "      <th></th>\n",
       "      <th></th>\n",
       "      <th></th>\n",
       "    </tr>\n",
       "  </thead>\n",
       "  <tbody>\n",
       "    <tr>\n",
       "      <th>D</th>\n",
       "      <td>5795383</td>\n",
       "      <td>5795383</td>\n",
       "      <td>5795383</td>\n",
       "      <td>5795383</td>\n",
       "      <td>5795383</td>\n",
       "      <td>5795383</td>\n",
       "    </tr>\n",
       "    <tr>\n",
       "      <th>F</th>\n",
       "      <td>4553457</td>\n",
       "      <td>4553457</td>\n",
       "      <td>4553457</td>\n",
       "      <td>4553457</td>\n",
       "      <td>4553457</td>\n",
       "      <td>4553457</td>\n",
       "    </tr>\n",
       "    <tr>\n",
       "      <th>O</th>\n",
       "      <td>279397</td>\n",
       "      <td>279397</td>\n",
       "      <td>279397</td>\n",
       "      <td>279397</td>\n",
       "      <td>279397</td>\n",
       "      <td>279397</td>\n",
       "    </tr>\n",
       "    <tr>\n",
       "      <th>S</th>\n",
       "      <td>6921919</td>\n",
       "      <td>6921919</td>\n",
       "      <td>6921919</td>\n",
       "      <td>6921919</td>\n",
       "      <td>6921919</td>\n",
       "      <td>6921919</td>\n",
       "    </tr>\n",
       "    <tr>\n",
       "      <th>T</th>\n",
       "      <td>7630528</td>\n",
       "      <td>7630528</td>\n",
       "      <td>7630528</td>\n",
       "      <td>7630528</td>\n",
       "      <td>7630528</td>\n",
       "      <td>7630528</td>\n",
       "    </tr>\n",
       "  </tbody>\n",
       "</table>\n",
       "</div>"
      ],
      "text/plain": [
       "         price     date  duration     town  isLondon     year\n",
       "ptype                                                        \n",
       "D      5795383  5795383   5795383  5795383   5795383  5795383\n",
       "F      4553457  4553457   4553457  4553457   4553457  4553457\n",
       "O       279397   279397    279397   279397    279397   279397\n",
       "S      6921919  6921919   6921919  6921919   6921919  6921919\n",
       "T      7630528  7630528   7630528  7630528   7630528  7630528"
      ]
     },
     "execution_count": 26,
     "metadata": {},
     "output_type": "execute_result"
    }
   ],
   "source": [
    "df.groupby(\"ptype\").count()"
   ]
  },
  {
   "cell_type": "code",
   "execution_count": 41,
   "metadata": {},
   "outputs": [
    {
     "data": {
      "text/plain": [
       "{'D': 267099.50848183804,\n",
       " 'F': 188544.77508012045,\n",
       " 'O': 1224752.8562511408,\n",
       " 'S': 159783.63065097987,\n",
       " 'T': 146165.64625842407}"
      ]
     },
     "execution_count": 41,
     "metadata": {},
     "output_type": "execute_result"
    }
   ],
   "source": [
    "df.groupby(\"ptype\")['price'].mean().to_dict()"
   ]
  },
  {
   "cell_type": "code",
   "execution_count": 36,
   "metadata": {},
   "outputs": [
    {
     "data": {
      "text/plain": [
       "isLondon\n",
       "0   154359.329\n",
       "1   341517.719\n",
       "Name: price, dtype: float64"
      ]
     },
     "execution_count": 36,
     "metadata": {},
     "output_type": "execute_result"
    }
   ],
   "source": [
    "df_train.groupby(\"isLondon\")['price'].mean()"
   ]
  },
  {
   "cell_type": "code",
   "execution_count": 29,
   "metadata": {},
   "outputs": [
    {
     "data": {
      "text/plain": [
       "duration\n",
       "F   201328.391\n",
       "L   184598.418\n",
       "U   163795.959\n",
       "Name: price, dtype: float64"
      ]
     },
     "execution_count": 29,
     "metadata": {},
     "output_type": "execute_result"
    }
   ],
   "source": [
    "df.groupby(\"duration\")['price'].mean()"
   ]
  },
  {
   "cell_type": "code",
   "execution_count": 30,
   "metadata": {},
   "outputs": [
    {
     "data": {
      "text/plain": [
       "197373.39763085864"
      ]
     },
     "execution_count": 30,
     "metadata": {},
     "output_type": "execute_result"
    }
   ],
   "source": [
    "df['price'].mean()"
   ]
  },
  {
   "cell_type": "code",
   "execution_count": 33,
   "metadata": {},
   "outputs": [
    {
     "data": {
      "text/html": [
       "<div>\n",
       "<style scoped>\n",
       "    .dataframe tbody tr th:only-of-type {\n",
       "        vertical-align: middle;\n",
       "    }\n",
       "\n",
       "    .dataframe tbody tr th {\n",
       "        vertical-align: top;\n",
       "    }\n",
       "\n",
       "    .dataframe thead th {\n",
       "        text-align: right;\n",
       "    }\n",
       "</style>\n",
       "<table border=\"1\" class=\"dataframe\">\n",
       "  <thead>\n",
       "    <tr style=\"text-align: right;\">\n",
       "      <th></th>\n",
       "      <th>price</th>\n",
       "      <th>date</th>\n",
       "      <th>ptype</th>\n",
       "      <th>duration</th>\n",
       "      <th>town</th>\n",
       "      <th>isLondon</th>\n",
       "      <th>year</th>\n",
       "    </tr>\n",
       "  </thead>\n",
       "  <tbody>\n",
       "    <tr>\n",
       "      <th>21019102</th>\n",
       "      <td>1860000</td>\n",
       "      <td>2016-03-21</td>\n",
       "      <td>F</td>\n",
       "      <td>L</td>\n",
       "      <td>LONDON</td>\n",
       "      <td>1</td>\n",
       "      <td>2016</td>\n",
       "    </tr>\n",
       "    <tr>\n",
       "      <th>21019103</th>\n",
       "      <td>385000</td>\n",
       "      <td>2016-04-15</td>\n",
       "      <td>F</td>\n",
       "      <td>L</td>\n",
       "      <td>LONDON</td>\n",
       "      <td>1</td>\n",
       "      <td>2016</td>\n",
       "    </tr>\n",
       "    <tr>\n",
       "      <th>21019104</th>\n",
       "      <td>540000</td>\n",
       "      <td>2016-04-21</td>\n",
       "      <td>F</td>\n",
       "      <td>L</td>\n",
       "      <td>LONDON</td>\n",
       "      <td>1</td>\n",
       "      <td>2016</td>\n",
       "    </tr>\n",
       "    <tr>\n",
       "      <th>21019105</th>\n",
       "      <td>2300000</td>\n",
       "      <td>2016-03-31</td>\n",
       "      <td>T</td>\n",
       "      <td>F</td>\n",
       "      <td>LONDON</td>\n",
       "      <td>1</td>\n",
       "      <td>2016</td>\n",
       "    </tr>\n",
       "    <tr>\n",
       "      <th>21019106</th>\n",
       "      <td>2650000</td>\n",
       "      <td>2016-03-31</td>\n",
       "      <td>F</td>\n",
       "      <td>L</td>\n",
       "      <td>LONDON</td>\n",
       "      <td>1</td>\n",
       "      <td>2016</td>\n",
       "    </tr>\n",
       "    <tr>\n",
       "      <th>...</th>\n",
       "      <td>...</td>\n",
       "      <td>...</td>\n",
       "      <td>...</td>\n",
       "      <td>...</td>\n",
       "      <td>...</td>\n",
       "      <td>...</td>\n",
       "      <td>...</td>\n",
       "    </tr>\n",
       "    <tr>\n",
       "      <th>25180553</th>\n",
       "      <td>2600000</td>\n",
       "      <td>2020-01-17</td>\n",
       "      <td>D</td>\n",
       "      <td>F</td>\n",
       "      <td>LONDON</td>\n",
       "      <td>1</td>\n",
       "      <td>2020</td>\n",
       "    </tr>\n",
       "    <tr>\n",
       "      <th>25180559</th>\n",
       "      <td>2650000</td>\n",
       "      <td>2020-01-22</td>\n",
       "      <td>D</td>\n",
       "      <td>F</td>\n",
       "      <td>LONDON</td>\n",
       "      <td>1</td>\n",
       "      <td>2020</td>\n",
       "    </tr>\n",
       "    <tr>\n",
       "      <th>25180563</th>\n",
       "      <td>370000</td>\n",
       "      <td>2020-01-07</td>\n",
       "      <td>S</td>\n",
       "      <td>F</td>\n",
       "      <td>LONDON</td>\n",
       "      <td>1</td>\n",
       "      <td>2020</td>\n",
       "    </tr>\n",
       "    <tr>\n",
       "      <th>25180569</th>\n",
       "      <td>600000</td>\n",
       "      <td>2020-01-09</td>\n",
       "      <td>T</td>\n",
       "      <td>F</td>\n",
       "      <td>LONDON</td>\n",
       "      <td>1</td>\n",
       "      <td>2020</td>\n",
       "    </tr>\n",
       "    <tr>\n",
       "      <th>25180582</th>\n",
       "      <td>665000</td>\n",
       "      <td>2020-01-06</td>\n",
       "      <td>T</td>\n",
       "      <td>F</td>\n",
       "      <td>LONDON</td>\n",
       "      <td>1</td>\n",
       "      <td>2020</td>\n",
       "    </tr>\n",
       "  </tbody>\n",
       "</table>\n",
       "<p>274659 rows × 7 columns</p>\n",
       "</div>"
      ],
      "text/plain": [
       "            price       date ptype duration    town  isLondon  year\n",
       "21019102  1860000 2016-03-21     F        L  LONDON         1  2016\n",
       "21019103   385000 2016-04-15     F        L  LONDON         1  2016\n",
       "21019104   540000 2016-04-21     F        L  LONDON         1  2016\n",
       "21019105  2300000 2016-03-31     T        F  LONDON         1  2016\n",
       "21019106  2650000 2016-03-31     F        L  LONDON         1  2016\n",
       "...           ...        ...   ...      ...     ...       ...   ...\n",
       "25180553  2600000 2020-01-17     D        F  LONDON         1  2020\n",
       "25180559  2650000 2020-01-22     D        F  LONDON         1  2020\n",
       "25180563   370000 2020-01-07     S        F  LONDON         1  2020\n",
       "25180569   600000 2020-01-09     T        F  LONDON         1  2020\n",
       "25180582   665000 2020-01-06     T        F  LONDON         1  2020\n",
       "\n",
       "[274659 rows x 7 columns]"
      ]
     },
     "execution_count": 33,
     "metadata": {},
     "output_type": "execute_result"
    }
   ],
   "source": [
    "df_test[df_test.isLondon == 1]"
   ]
  },
  {
   "cell_type": "code",
   "execution_count": 69,
   "metadata": {},
   "outputs": [],
   "source": [
    "all_results = []\n",
    "for c in [\"isLondon\", 'ptype', 'duration']:\n",
    "    londonPrice = df_train.groupby(c)['price'].mean().to_dict()\n",
    "    y_pred = [londonPrice[i] for i in df_test[c]]\n",
    "    results = evaluate(np.log1p(df_test.price.values), np.log1p(y_pred))\n",
    "    results[\"Model\"] = c\n",
    "    all_results.append(results)\n",
    "# print(np.sqrt(mean_squared_error(df_test.price.values, [df_train.price.mean()]*len(df_test))))\n"
   ]
  },
  {
   "cell_type": "code",
   "execution_count": 84,
   "metadata": {},
   "outputs": [],
   "source": [
    "df_results = pd.DataFrame(all_results)[[\"Model\", \"MAE\", \"MALE\", \"RMSE\", \"RMSLE\"]]"
   ]
  },
  {
   "cell_type": "code",
   "execution_count": 6,
   "metadata": {},
   "outputs": [],
   "source": [
    "import tensorflow as tf"
   ]
  },
  {
   "cell_type": "code",
   "execution_count": null,
   "metadata": {},
   "outputs": [],
   "source": [
    "tf.set_random_seed"
   ]
  },
  {
   "cell_type": "code",
   "execution_count": 85,
   "metadata": {},
   "outputs": [
    {
     "name": "stdout",
     "output_type": "stream",
     "text": [
      "      Model        MAE  MALE        RMSE  RMSLE\n",
      "0  isLondon 203714.516 0.615 1763205.417  0.835\n",
      "1     ptype 257839.704 0.655 1757815.618  0.994\n",
      "2  duration 207422.971 0.620 1766713.508  0.849\n"
     ]
    }
   ],
   "source": [
    "print(df_results)"
   ]
  },
  {
   "cell_type": "code",
   "execution_count": 68,
   "metadata": {},
   "outputs": [],
   "source": [
    "def evaluate(y_test, y_pred):\n",
    "    \"\"\"\n",
    "    Evaluate the model on the test set.\n",
    "    \"\"\"\n",
    "    MAE = mean_absolute_error(np.expm1(y_test), np.expm1(y_pred))\n",
    "    MALE = mean_absolute_error(y_test, y_pred)\n",
    "    RMSE = np.sqrt(mean_squared_error(np.expm1(y_test), np.expm1(y_pred)))\n",
    "    RMSLE = np.sqrt(mean_squared_error(y_test, y_pred))\n",
    "    return {\"MAE\": MAE, \"MALE\": MALE, \"RMSE\": RMSE, \"RMSLE\": RMSLE}"
   ]
  },
  {
   "cell_type": "code",
   "execution_count": 87,
   "metadata": {},
   "outputs": [
    {
     "ename": "ModuleNotFoundError",
     "evalue": "No module named 'tabulate'",
     "output_type": "error",
     "traceback": [
      "\u001b[0;31m---------------------------------------------------------------------------\u001b[0m",
      "\u001b[0;31mModuleNotFoundError\u001b[0m                       Traceback (most recent call last)",
      "\u001b[0;32m<ipython-input-87-be9ee3aadd3b>\u001b[0m in \u001b[0;36m<module>\u001b[0;34m\u001b[0m\n\u001b[0;32m----> 1\u001b[0;31m \u001b[0;32mfrom\u001b[0m \u001b[0mtabulate\u001b[0m \u001b[0;32mimport\u001b[0m \u001b[0mtabulate\u001b[0m\u001b[0;34m\u001b[0m\u001b[0;34m\u001b[0m\u001b[0m\n\u001b[0m\u001b[1;32m      2\u001b[0m \u001b[0;32mimport\u001b[0m \u001b[0mpandas\u001b[0m \u001b[0;32mas\u001b[0m \u001b[0mpd\u001b[0m\u001b[0;34m\u001b[0m\u001b[0;34m\u001b[0m\u001b[0m\n\u001b[1;32m      3\u001b[0m \u001b[0;34m\u001b[0m\u001b[0m\n\u001b[1;32m      4\u001b[0m df = pd.DataFrame({'col_two' : [0.0001, 1e-005 , 1e-006, 1e-007],\n\u001b[1;32m      5\u001b[0m                    'column_3' : ['ABCD', 'ABCD', 'long string', 'ABCD']})\n",
      "\u001b[0;31mModuleNotFoundError\u001b[0m: No module named 'tabulate'"
     ]
    }
   ],
   "source": [
    "from tabulate import tabulate\n",
    "import pandas as pd\n",
    "\n",
    "df = pd.DataFrame({'col_two' : [0.0001, 1e-005 , 1e-006, 1e-007],\n",
    "                   'column_3' : ['ABCD', 'ABCD', 'long string', 'ABCD']})\n",
    "print(tabulate(df, headers='keys', tablefmt='psql'))"
   ]
  },
  {
   "cell_type": "code",
   "execution_count": 88,
   "metadata": {},
   "outputs": [
    {
     "ename": "ModuleNotFoundError",
     "evalue": "No module named 'tabulate'",
     "output_type": "error",
     "traceback": [
      "\u001b[0;31m---------------------------------------------------------------------------\u001b[0m",
      "\u001b[0;31mModuleNotFoundError\u001b[0m                       Traceback (most recent call last)",
      "\u001b[0;32m<ipython-input-88-5df088049afd>\u001b[0m in \u001b[0;36m<module>\u001b[0;34m\u001b[0m\n\u001b[0;32m----> 1\u001b[0;31m \u001b[0;32mfrom\u001b[0m \u001b[0mtabulate\u001b[0m \u001b[0;32mimport\u001b[0m \u001b[0mtabulate\u001b[0m\u001b[0;34m\u001b[0m\u001b[0;34m\u001b[0m\u001b[0m\n\u001b[0m",
      "\u001b[0;31mModuleNotFoundError\u001b[0m: No module named 'tabulate'"
     ]
    }
   ],
   "source": [
    "from tabulate import tabulate"
   ]
  },
  {
   "cell_type": "code",
   "execution_count": null,
   "metadata": {},
   "outputs": [],
   "source": []
  }
 ],
 "metadata": {
  "kernelspec": {
   "display_name": "Python 3",
   "language": "python",
   "name": "python3"
  },
  "language_info": {
   "codemirror_mode": {
    "name": "ipython",
    "version": 3
   },
   "file_extension": ".py",
   "mimetype": "text/x-python",
   "name": "python",
   "nbconvert_exporter": "python",
   "pygments_lexer": "ipython3",
   "version": "3.6.10"
  }
 },
 "nbformat": 4,
 "nbformat_minor": 4
}
