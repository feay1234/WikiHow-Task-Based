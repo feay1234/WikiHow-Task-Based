{
 "cells": [
  {
   "cell_type": "code",
   "execution_count": 2,
   "metadata": {},
   "outputs": [],
   "source": [
    "import pandas as pd\n",
    "SELECT_COLUMN = [1,2,4,6,11] # We only consider price, date of the purchase, property type, lease duration and town\n",
    "df = pd.read_csv(\"data/pp-complete.csv\", names=[\"price\", \"date\", \"ptype\", \"duration\", \"town\"], sep=\",\", usecols=SELECT_COLUMN)"
   ]
  },
  {
   "cell_type": "code",
   "execution_count": 3,
   "metadata": {},
   "outputs": [],
   "source": [
    "# Data Preprocessing\n",
    "# for c in ['duration', 'ptype']:\n",
    "#     df[c] = df[c].astype('category')\n",
    "#     df[c] = df[c].cat.codes\n",
    "df['isLondon'] = [1 if i == \"LONDON\" else 0 for i in df['town']]\n",
    "df['date'] =  pd.to_datetime(df['date'], format='%Y-%m-%d')\n",
    "df[\"year\"] = df['date'].dt.year\n",
    "\n",
    "# remove rows with missing values\n",
    "df = df.dropna()\n",
    "# remove duplicate rows\n",
    "df = df.drop_duplicates()\n",
    "# delete unknown for duration\n"
   ]
  },
  {
   "cell_type": "code",
   "execution_count": 5,
   "metadata": {},
   "outputs": [],
   "source": [
    "from sklearn.preprocessing import OneHotEncoder\n",
    "# creating instance of one-hot-encoder\n",
    "enc = OneHotEncoder()"
   ]
  },
  {
   "cell_type": "code",
   "execution_count": null,
   "metadata": {},
   "outputs": [],
   "source": [
    "df[(df.price > 1) & (df.price <=40000)].hist(\"price\")"
   ]
  },
  {
   "cell_type": "code",
   "execution_count": 153,
   "metadata": {},
   "outputs": [],
   "source": [
    "sdf = df[(df.price > 100000) & (df.price <=500000)]"
   ]
  },
  {
   "cell_type": "code",
   "execution_count": 10,
   "metadata": {},
   "outputs": [
    {
     "data": {
      "text/plain": [
       "OneHotEncoder(categories='auto', drop=None, dtype=<class 'numpy.float64'>,\n",
       "              handle_unknown='error', sparse=True)"
      ]
     },
     "execution_count": 10,
     "metadata": {},
     "output_type": "execute_result"
    }
   ],
   "source": [
    "enc.fit(df[['ptype', 'duration', 'isLondon']])"
   ]
  },
  {
   "cell_type": "code",
   "execution_count": 154,
   "metadata": {},
   "outputs": [],
   "source": [
    "# Split the data into training/testing sets\n",
    "def split_train_test_data(df):\n",
    "    df_train = df[df.date < \"2016-1-1\"]\n",
    "    df_test = df[df.date >= \"2016-1-1\"]\n",
    "#     df_test = df_test[df.date < \"2017-1-1\"]\n",
    "    x_train = enc.transform(df_train[['ptype', 'duration', 'isLondon']]).toarray()\n",
    "    y_train = df_train['price'].values\n",
    "\n",
    "    x_test = enc.transform(df_test[['ptype', 'duration', 'isLondon']]).toarray()\n",
    "    y_test = df_test['price'].values\n",
    "    \n",
    "    return x_train, y_train, x_test, y_test\n",
    "\n",
    "x_train, y_train, x_test, y_test = split_train_test_data(sdf)"
   ]
  },
  {
   "cell_type": "code",
   "execution_count": 140,
   "metadata": {},
   "outputs": [
    {
     "data": {
      "text/plain": [
       "<matplotlib.axes._subplots.AxesSubplot at 0x1221f1320>"
      ]
     },
     "execution_count": 140,
     "metadata": {},
     "output_type": "execute_result"
    },
    {
     "data": {
      "image/png": "[encoded data removed]",
      "text/plain": [
       "<Figure size 432x288 with 1 Axes>"
      ]
     },
     "metadata": {},
     "output_type": "display_data"
    }
   ],
   "source": [
    "df.price.hist(range=(100000,1000000))"
   ]
  },
  {
   "cell_type": "code",
   "execution_count": 143,
   "metadata": {},
   "outputs": [],
   "source": [
    "sdf = df[(df.price >= 10000) & (df.price <= 1000000)]"
   ]
  },
  {
   "cell_type": "code",
   "execution_count": 144,
   "metadata": {},
   "outputs": [
    {
     "data": {
      "text/plain": [
       "1000000"
      ]
     },
     "execution_count": 144,
     "metadata": {},
     "output_type": "execute_result"
    }
   ],
   "source": []
  },
  {
   "cell_type": "code",
   "execution_count": 12,
   "metadata": {},
   "outputs": [],
   "source": [
    "from sklearn import linear_model\n",
    "from sklearn.metrics import mean_squared_error\n",
    "import numpy as np"
   ]
  },
  {
   "cell_type": "code",
   "execution_count": 13,
   "metadata": {},
   "outputs": [
    {
     "data": {
      "text/plain": [
       "((3970889, 10), (20020257, 10))"
      ]
     },
     "execution_count": 13,
     "metadata": {},
     "output_type": "execute_result"
    }
   ],
   "source": [
    "x_test.shape, x_train.shape"
   ]
  },
  {
   "cell_type": "code",
   "execution_count": 23,
   "metadata": {},
   "outputs": [
    {
     "name": "stdout",
     "output_type": "stream",
     "text": [
      "RMSLE: 12.343969\n"
     ]
    }
   ],
   "source": [
    "print('RMSLE: %f'\n",
    "      % sqrt(mean_squared_log_error(y_test, [0]*len(y_test))))"
   ]
  },
  {
   "cell_type": "code",
   "execution_count": 155,
   "metadata": {},
   "outputs": [
    {
     "name": "stdout",
     "output_type": "stream",
     "text": [
      "MAE: 79683.155463\n"
     ]
    }
   ],
   "source": [
    "from sklearn.metrics import mean_squared_log_error, mean_squared_error\n",
    "from math import sqrt\n",
    "# Create linear regression model\n",
    "model = linear_model.LinearRegression()\n",
    "# Train the model using the training set\n",
    "model.fit(x_train, y_train)\n",
    "# Make predictions using the testing set\n",
    "y_pred = model.predict(x_test)\n",
    "# The mean squared error\n",
    "print('MAE: %f'\n",
    "      % mean_absolute_error(y_test, y_pred))\n",
    "\n"
   ]
  },
  {
   "cell_type": "code",
   "execution_count": 156,
   "metadata": {},
   "outputs": [
    {
     "data": {
      "text/plain": [
       "79683.15546306327"
      ]
     },
     "execution_count": 156,
     "metadata": {},
     "output_type": "execute_result"
    }
   ],
   "source": [
    "mean_absolute_error(y_test, y_pred)"
   ]
  },
  {
   "cell_type": "code",
   "execution_count": 150,
   "metadata": {},
   "outputs": [
    {
     "data": {
      "text/plain": [
       "array([275036., 275036., 275036., ..., 117918., 140550., 117918.])"
      ]
     },
     "execution_count": 150,
     "metadata": {},
     "output_type": "execute_result"
    }
   ],
   "source": [
    "y_pred"
   ]
  },
  {
   "cell_type": "code",
   "execution_count": 79,
   "metadata": {},
   "outputs": [],
   "source": [
    "from sklearn.metrics import mean_absolute_error"
   ]
  },
  {
   "cell_type": "code",
   "execution_count": 81,
   "metadata": {},
   "outputs": [
    {
     "name": "stdout",
     "output_type": "stream",
     "text": [
      "[1, 1, 1, 1, 1, 1, 1, 1, 1, 1]\n",
      "[107384.0, 118720.0, 107384.0, 81200.0, 107384.0, 107384.0, 141480.0, 107384.0, 107384.0, 204224.0]\n",
      "(0, 100) 14 MAE: 125027.571429\n",
      "[150, 500, 300, 500, 927, 500, 500, 550, 600, 320]\n",
      "[1694296.0, 1694296.0, 1694296.0, 1656776.0, 1694296.0, 1694296.0, 1694296.0, 1694296.0, 1694296.0, 1694296.0]\n",
      "(100, 1000) 2957 MAE: 1675086.775786\n",
      "[2235, 5000, 5000, 4850, 4000, 9000, 6500, 7500, 8000, 7000]\n",
      "[1694296.0, 1656776.0, 1694296.0, 1694296.0, 1694296.0, 1656776.0, 1694296.0, 1656776.0, 1694296.0, 1656776.0]\n",
      "(1000, 10000) 11608 MAE: 1691302.772226\n",
      "[95000, 75000, 60000, 45000, 63000, 67950, 89000, 50000, 76000, 77000]\n",
      "[81200.0, 107384.0, 107384.0, 363472.0, 107384.0, 107384.0, 107384.0, 107384.0, 107384.0, 107384.0]\n",
      "(10000, 100000) 429680 MAE: 214653.740982\n",
      "[385000, 540000, 805000, 830000, 213000, 215000, 220000, 212500, 335000, 435000]\n",
      "[363472.0, 363472.0, 363472.0, 363472.0, 107384.0, 118720.0, 107384.0, 118720.0, 118720.0, 241744.0]\n",
      "(100000, 1000000) 3397636 MAE: 172386.191606\n",
      "[1860000, 2300000, 2650000, 1465000, 2500000, 3100000, 2475000, 2575000, 1850000, 4000000]\n",
      "[363472.0, 374808.0, 363472.0, 363472.0, 363472.0, 374808.0, 374808.0, 363472.0, 363472.0, 363472.0]\n",
      "(1000000, 10000000) 95556 MAE: 1380433.662878\n",
      "[10500000, 26900000, 12500000, 15000000, 10381143, 14287745, 14376140, 14666825, 12636500, 19600000]\n",
      "[363472.0, 1694296.0, 1694296.0, 1694296.0, 1694296.0, 1694296.0, 1694296.0, 1694296.0, 1950380.0, 1950380.0]\n",
      "(10000000, 100000000) 4053 MAE: 21539816.530718\n"
     ]
    }
   ],
   "source": [
    "for i in [(0, 100), (100, 1000), (1000,10000), (10000, 100000), (100000, 1000000), (1000000, 10000000), (10000000, 100000000)]:\n",
    "    y_t, y_p = [], []\n",
    "    for t, p in zip(y_test, y_pred):\n",
    "        if i[0] < t < i[1]:\n",
    "            y_t.append(t)\n",
    "            y_p.append(p)\n",
    "    print(y_t[:10])\n",
    "    print(y_p[:10])\n",
    "    print(i, len(y_t), 'MAE: %f'\n",
    "      % mean_absolute_error(y_t, y_p))\n",
    "#     break\n"
   ]
  },
  {
   "cell_type": "code",
   "execution_count": 76,
   "metadata": {},
   "outputs": [
    {
     "data": {
      "text/plain": [
       "[1, 1, 1, 1, 1, 1, 1, 1, 1, 1, 1, 1, 1, 1]"
      ]
     },
     "execution_count": 76,
     "metadata": {},
     "output_type": "execute_result"
    }
   ],
   "source": [
    "y_t"
   ]
  },
  {
   "cell_type": "code",
   "execution_count": 77,
   "metadata": {},
   "outputs": [
    {
     "data": {
      "text/plain": [
       "[107384.0,\n",
       " 118720.0,\n",
       " 107384.0,\n",
       " 81200.0,\n",
       " 107384.0,\n",
       " 107384.0,\n",
       " 141480.0,\n",
       " 107384.0,\n",
       " 107384.0,\n",
       " 204224.0,\n",
       " 204224.0,\n",
       " 107384.0,\n",
       " 103960.0,\n",
       " 144904.0]"
      ]
     },
     "execution_count": 77,
     "metadata": {},
     "output_type": "execute_result"
    }
   ],
   "source": [
    "y_p"
   ]
  },
  {
   "cell_type": "code",
   "execution_count": 74,
   "metadata": {},
   "outputs": [
    {
     "name": "stdout",
     "output_type": "stream",
     "text": [
      "(0, 100) 148\n",
      "(100, 1000) 3927\n"
     ]
    },
    {
     "ename": "KeyboardInterrupt",
     "evalue": "",
     "output_type": "error",
     "traceback": [
      "\u001b[0;31m---------------------------------------------------------------------------\u001b[0m",
      "\u001b[0;31mKeyboardInterrupt\u001b[0m                         Traceback (most recent call last)",
      "\u001b[0;32m<ipython-input-74-ae0e0d4f6c60>\u001b[0m in \u001b[0;36m<module>\u001b[0;34m\u001b[0m\n\u001b[1;32m      2\u001b[0m     \u001b[0my_t\u001b[0m\u001b[0;34m,\u001b[0m \u001b[0my_p\u001b[0m \u001b[0;34m=\u001b[0m \u001b[0;34m[\u001b[0m\u001b[0;34m]\u001b[0m\u001b[0;34m,\u001b[0m \u001b[0;34m[\u001b[0m\u001b[0;34m]\u001b[0m\u001b[0;34m\u001b[0m\u001b[0;34m\u001b[0m\u001b[0m\n\u001b[1;32m      3\u001b[0m     \u001b[0;32mfor\u001b[0m \u001b[0mt\u001b[0m \u001b[0;32min\u001b[0m \u001b[0mdf\u001b[0m\u001b[0;34m.\u001b[0m\u001b[0mprice\u001b[0m\u001b[0;34m.\u001b[0m\u001b[0mvalues\u001b[0m\u001b[0;34m:\u001b[0m\u001b[0;34m\u001b[0m\u001b[0;34m\u001b[0m\u001b[0m\n\u001b[0;32m----> 4\u001b[0;31m         \u001b[0;32mif\u001b[0m \u001b[0mi\u001b[0m\u001b[0;34m[\u001b[0m\u001b[0;36m0\u001b[0m\u001b[0;34m]\u001b[0m \u001b[0;34m<\u001b[0m \u001b[0mt\u001b[0m \u001b[0;34m<\u001b[0m \u001b[0mi\u001b[0m\u001b[0;34m[\u001b[0m\u001b[0;36m1\u001b[0m\u001b[0;34m]\u001b[0m\u001b[0;34m:\u001b[0m\u001b[0;34m\u001b[0m\u001b[0;34m\u001b[0m\u001b[0m\n\u001b[0m\u001b[1;32m      5\u001b[0m             \u001b[0my_t\u001b[0m\u001b[0;34m.\u001b[0m\u001b[0mappend\u001b[0m\u001b[0;34m(\u001b[0m\u001b[0mt\u001b[0m\u001b[0;34m)\u001b[0m\u001b[0;34m\u001b[0m\u001b[0;34m\u001b[0m\u001b[0m\n\u001b[1;32m      6\u001b[0m     \u001b[0mprint\u001b[0m\u001b[0;34m(\u001b[0m\u001b[0mi\u001b[0m\u001b[0;34m,\u001b[0m \u001b[0mlen\u001b[0m\u001b[0;34m(\u001b[0m\u001b[0my_t\u001b[0m\u001b[0;34m)\u001b[0m\u001b[0;34m)\u001b[0m\u001b[0;34m\u001b[0m\u001b[0;34m\u001b[0m\u001b[0m\n",
      "\u001b[0;31mKeyboardInterrupt\u001b[0m: "
     ]
    }
   ],
   "source": [
    "for i in [(0, 100), (100, 1000),(0,10000), (10000, 100000), (100000, 1000000), (1000000, 10000000), (10000000, 100000000)]:\n",
    "    y_t, y_p = [], []\n",
    "    for t in df.price.values:\n",
    "        if i[0] < t < i[1]:\n",
    "            y_t.append(t)\n",
    "    print(i, len(y_t))\n",
    "\n"
   ]
  },
  {
   "cell_type": "code",
   "execution_count": 47,
   "metadata": {},
   "outputs": [],
   "source": [
    "Y = 100000\n",
    "import numpy as np\n",
    "Y = np.log1p(Y)\n",
    "back = np.expm1(Y)"
   ]
  },
  {
   "cell_type": "code",
   "execution_count": null,
   "metadata": {},
   "outputs": [],
   "source": [
    "from sklearn.tree import DecisionTreeRegressor\n",
    "from sklearn import ensemble\n",
    "\n",
    "# model = DecisionTreeRegressor()\n",
    "\n",
    "# Fit regression model\n",
    "params = {'max_depth': 4, 'min_samples_split': 2,\n",
    "          'learning_rate': 0.01, 'loss': 'ls'}\n",
    "model = ensemble.GradientBoostingRegressor(**params)\n",
    "\n",
    "# Train the model using the training set\n",
    "model.fit(x_train, y_train)\n",
    "# Make predictions using the testing set\n",
    "y_pred = model.predict(x_test)\n",
    "# The mean squared error\n",
    "print('RMSLE: %f'\n",
    "      % sqrt(mean_squared_log_error(y_test, y_pred)))\n",
    "\n"
   ]
  },
  {
   "cell_type": "code",
   "execution_count": 24,
   "metadata": {},
   "outputs": [
    {
     "name": "stdout",
     "output_type": "stream",
     "text": [
      "RMSLE: 0.893618\n"
     ]
    }
   ],
   "source": [
    "print('RMSLE: %f'\n",
    "      % sqrt(mean_squared_log_error(y_test, [y_test.mean()] * len(y_test))))"
   ]
  },
  {
   "cell_type": "code",
   "execution_count": 25,
   "metadata": {},
   "outputs": [],
   "source": [
    "from sklearn.linear_model import ElasticNet, Lasso,  BayesianRidge, LassoLarsIC\n",
    "from sklearn.ensemble import RandomForestRegressor,  GradientBoostingRegressor\n",
    "from sklearn.kernel_ridge import KernelRidge\n",
    "from sklearn.pipeline import make_pipeline\n",
    "from sklearn.preprocessing import RobustScaler\n",
    "from sklearn.base import BaseEstimator, TransformerMixin, RegressorMixin, clone\n",
    "from sklearn.model_selection import KFold, cross_val_score, train_test_split\n",
    "from sklearn.metrics import mean_squared_error"
   ]
  },
  {
   "cell_type": "code",
   "execution_count": null,
   "metadata": {},
   "outputs": [],
   "source": [
    "from sklearn.metrics import mean_squared_error, r2_score\n",
    "\n",
    "lasso = make_pipeline(RobustScaler(), Lasso(alpha =0.0005, random_state=1))\n",
    "lasso.fit(x_train, y_train)\n"
   ]
  },
  {
   "cell_type": "code",
   "execution_count": 95,
   "metadata": {},
   "outputs": [
    {
     "name": "stdout",
     "output_type": "stream",
     "text": [
      "Epoch 1/1\n",
      "20020257/20020257 [==============================] - 53s 3us/step - loss: 0.2921\n",
      "RMSLE: 0.056858\n",
      "MAE: 175575.207359\n",
      "Epoch 1/1\n",
      "20020257/20020257 [==============================] - 55s 3us/step - loss: 0.2921\n",
      "RMSLE: 0.056860\n",
      "MAE: 175582.541121\n",
      "Epoch 1/1\n",
      "20020257/20020257 [==============================] - 55s 3us/step - loss: 0.2921\n",
      "RMSLE: 0.056861\n",
      "MAE: 175582.851511\n",
      "Epoch 1/1\n",
      "20020257/20020257 [==============================] - 53s 3us/step - loss: 0.2921\n",
      "RMSLE: 0.056863\n",
      "MAE: 175578.036486\n",
      "Epoch 1/1\n",
      "20020257/20020257 [==============================] - 52s 3us/step - loss: 0.2921\n",
      "RMSLE: 0.056865\n",
      "MAE: 175572.560000\n",
      "Epoch 1/1\n",
      "20020257/20020257 [==============================] - 53s 3us/step - loss: 0.2921\n",
      "RMSLE: 0.056868\n",
      "MAE: 175565.963887\n",
      "Epoch 1/1\n",
      "20020257/20020257 [==============================] - 58s 3us/step - loss: 0.2921\n",
      "RMSLE: 0.056870\n",
      "MAE: 175559.147408\n",
      "Epoch 1/1\n",
      "20020257/20020257 [==============================] - 57s 3us/step - loss: 0.2921\n",
      "RMSLE: 0.056871\n",
      "MAE: 175551.878072\n",
      "Epoch 1/1\n",
      "20020257/20020257 [==============================] - 57s 3us/step - loss: 0.2921\n",
      "RMSLE: 0.056873\n",
      "MAE: 175543.633721\n",
      "Epoch 1/1\n",
      "20020257/20020257 [==============================] - 56s 3us/step - loss: 0.2921\n",
      "RMSLE: 0.056874\n",
      "MAE: 175534.806948\n"
     ]
    }
   ],
   "source": [
    "import keras\n",
    "from pandas import read_csv\n",
    "from keras.models import Sequential\n",
    "from keras.layers import Dense\n",
    "from keras.wrappers.scikit_learn import KerasRegressor\n",
    "from sklearn.model_selection import cross_val_score\n",
    "from sklearn.model_selection import KFold\n",
    "from sklearn.preprocessing import StandardScaler\n",
    "from sklearn.pipeline import Pipeline\n",
    "from keras import backend as K\n",
    "\n",
    "\n",
    "# def rmsle_error(y_true, y_pred): \n",
    "#     return K.sqrt(K.mean(K.square(K.log(y_pred) - K.log(y_true))))\n",
    "#     return K.sqrt(mean_squared_log_error(y_true, y_pred))\n",
    "\n",
    "def rmsle_error(y_true, y_pred):\n",
    "        return K.mean(K.square(y_pred - y_true), axis=-1)\n",
    "# define the model\n",
    "def baseline():\n",
    "    # create model\n",
    "    model = Sequential()\n",
    "    model.add(Dense(20, input_dim=10, kernel_initializer='normal', activation='relu'))\n",
    "    model.add(Dense(1, kernel_initializer='normal'))\n",
    "    # Compile model\n",
    "#     model.compile(loss='mean_squared_error', optimizer='adam')\n",
    "    model.compile(loss=rmsle_error, optimizer='adam')\n",
    "    return model\n",
    "# model = baseline()\n",
    "for i in range(10):\n",
    "    model.fit(x_train, y_train, batch_size=256, shuffle=False)\n",
    "    y_pred = model.predict(x_test, batch_size=256)\n",
    "    print('RMSLE: %f'\n",
    "      % sqrt(mean_squared_log_error(y_test, y_pred)))\n",
    "    print('MAE: %f'\n",
    "      % mean_absolute_error(np.expm1(y_test), np.expm1(y_pred)))\n",
    "#     print('Mean squared error: %.2f'\n",
    "#           % mean_squared_error(y_train, y_pred))"
   ]
  },
  {
   "cell_type": "code",
   "execution_count": 157,
   "metadata": {},
   "outputs": [
    {
     "name": "stdout",
     "output_type": "stream",
     "text": [
      "Epoch 1/1\n",
      "11551361/11551361 [==============================] - 31s 3us/step - loss: 31804297335.8376\n",
      "RMSLE: 0.686232\n",
      "MAE: 117242.018413\n",
      "Epoch 1/1\n",
      "11551361/11551361 [==============================] - 32s 3us/step - loss: 6822847129.9592\n",
      "RMSLE: 0.388542\n",
      "MAE: 76978.373664\n",
      "Epoch 1/1\n",
      "11551361/11551361 [==============================] - 32s 3us/step - loss: 6655029727.5402\n",
      "RMSLE: 0.383031\n",
      "MAE: 75521.576557\n",
      "Epoch 1/1\n",
      "11551361/11551361 [==============================] - 32s 3us/step - loss: 6751157751.3659\n",
      "RMSLE: 0.381830\n",
      "MAE: 75148.608910\n",
      "Epoch 1/1\n",
      "11551361/11551361 [==============================] - 33s 3us/step - loss: 6798831021.4163\n",
      "RMSLE: 0.381335\n",
      "MAE: 75035.865465\n"
     ]
    }
   ],
   "source": [
    "model = baseline()\n",
    "for i in range(5):\n",
    "    model.fit(x_train, y_train, batch_size=256, shuffle=False)\n",
    "    y_pred = model.predict(x_test, batch_size=256)\n",
    "    print('RMSLE: %f'\n",
    "      % sqrt(mean_squared_log_error(y_test, y_pred)))\n",
    "    print('MAE: %f'\n",
    "      % mean_absolute_error(y_test, y_pred))\n",
    "#     print('Mean squared error: %.2f'\n",
    "#           % mean_squared_error(y_train, y_pred))"
   ]
  },
  {
   "cell_type": "code",
   "execution_count": null,
   "metadata": {},
   "outputs": [],
   "source": [
    "MAE: 79683.155463\n"
   ]
  },
  {
   "cell_type": "code",
   "execution_count": null,
   "metadata": {},
   "outputs": [],
   "source": [
    "Epoch 1/1\n",
    "20020257/20020257 [==============================] - 54s 3us/step - loss: 0.5681\n",
    "RMSLE: 0.057025\n",
    "MAE: 175876.799448\n",
    "Epoch 1/1\n",
    "20020257/20020257 [==============================] - 53s 3us/step - loss: 0.2922\n",
    "RMSLE: 0.056899\n",
    "MAE: 175651.418931\n",
    "Epoch 1/1\n",
    "20020257/20020257 [==============================] - 53s 3us/step - loss: 0.2922\n",
    "RMSLE: 0.056859\n",
    "MAE: 175575.178134"
   ]
  },
  {
   "cell_type": "code",
   "execution_count": 92,
   "metadata": {},
   "outputs": [
    {
     "name": "stdout",
     "output_type": "stream",
     "text": [
      "MAE: 214912.360074\n"
     ]
    }
   ],
   "source": [
    "print('MAE: %f'\n",
    "      % mean_absolute_error(np.expm1(y_test), np.expm1(y_pred)))"
   ]
  },
  {
   "cell_type": "code",
   "execution_count": 88,
   "metadata": {},
   "outputs": [
    {
     "data": {
      "text/plain": [
       "array([[12.28677 ],\n",
       "       [12.28677 ],\n",
       "       [12.28677 ],\n",
       "       ...,\n",
       "       [11.417952],\n",
       "       [11.637776],\n",
       "       [11.417952]], dtype=float32)"
      ]
     },
     "execution_count": 88,
     "metadata": {},
     "output_type": "execute_result"
    }
   ],
   "source": [
    "y_pred"
   ]
  },
  {
   "cell_type": "code",
   "execution_count": 89,
   "metadata": {},
   "outputs": [
    {
     "data": {
      "text/plain": [
       "array([14.43608758, 12.86100121, 13.19932627, ..., 11.73607702,\n",
       "       12.07311823, 12.30138737])"
      ]
     },
     "execution_count": 89,
     "metadata": {},
     "output_type": "execute_result"
    }
   ],
   "source": [
    "y_test"
   ]
  },
  {
   "cell_type": "code",
   "execution_count": 35,
   "metadata": {},
   "outputs": [
    {
     "name": "stdout",
     "output_type": "stream",
     "text": [
      "\n",
      " mu = 196818.27 and sigma = 734396.17\n",
      "\n"
     ]
    },
    {
     "data": {
      "image/png": "[encoded data removed]",
      "text/plain": [
       "<Figure size 432x288 with 1 Axes>"
      ]
     },
     "metadata": {},
     "output_type": "display_data"
    },
    {
     "data": {
      "image/png": "[encoded data removed]",
      "text/plain": [
       "<Figure size 432x288 with 1 Axes>"
      ]
     },
     "metadata": {},
     "output_type": "display_data"
    }
   ],
   "source": [
    "import seaborn as sns\n",
    "from scipy.stats import norm, skew #for some statistics\n",
    "from scipy import stats\n",
    "\n",
    "color = sns.color_palette()\n",
    "sns.set_style('darkgrid')\n",
    "\n",
    "sns.distplot(df['price'] , fit=norm);\n",
    "\n",
    "# Get the fitted parameters used by the function\n",
    "(mu, sigma) = norm.fit(df['price'])\n",
    "print( '\\n mu = {:.2f} and sigma = {:.2f}\\n'.format(mu, sigma))\n",
    "\n",
    "#Now plot the distribution\n",
    "plt.legend(['Normal dist. ($\\mu=$ {:.2f} and $\\sigma=$ {:.2f} )'.format(mu, sigma)],\n",
    "            loc='best')\n",
    "plt.ylabel('Frequency')\n",
    "plt.title('SalePrice distribution')\n",
    "\n",
    "#Get also the QQ-plot\n",
    "fig = plt.figure()\n",
    "res = stats.probplot(df['price'], plot=plt)\n",
    "plt.show()"
   ]
  },
  {
   "cell_type": "code",
   "execution_count": 36,
   "metadata": {},
   "outputs": [
    {
     "name": "stdout",
     "output_type": "stream",
     "text": [
      "\n",
      " mu = 11.81 and sigma = 0.82\n",
      "\n"
     ]
    },
    {
     "data": {
      "image/png": "[encoded data removed]",
      "text/plain": [
       "<Figure size 432x288 with 1 Axes>"
      ]
     },
     "metadata": {},
     "output_type": "display_data"
    },
    {
     "data": {
      "image/png": "[encoded data removed]",
      "text/plain": [
       "<Figure size 432x288 with 1 Axes>"
      ]
     },
     "metadata": {},
     "output_type": "display_data"
    }
   ],
   "source": [
    "\n",
    "df[\"logPrice\"] = np.log1p(df[\"price\"])\n",
    "\n",
    "#Check the new distribution \n",
    "sns.distplot(df['logPrice'] , fit=norm);\n",
    "\n",
    "# Get the fitted parameters used by the function\n",
    "(mu, sigma) = norm.fit(df['logPrice'])\n",
    "print( '\\n mu = {:.2f} and sigma = {:.2f}\\n'.format(mu, sigma))\n",
    "\n",
    "#Now plot the distribution\n",
    "plt.legend(['Normal dist. ($\\mu=$ {:.2f} and $\\sigma=$ {:.2f} )'.format(mu, sigma)],\n",
    "            loc='best')\n",
    "plt.ylabel('Frequency')\n",
    "plt.title('SalePrice distribution')\n",
    "\n",
    "#Get also the QQ-plot\n",
    "fig = plt.figure()\n",
    "res = stats.probplot(df['logPrice'], plot=plt)\n",
    "plt.show()"
   ]
  },
  {
   "cell_type": "code",
   "execution_count": 54,
   "metadata": {},
   "outputs": [
    {
     "data": {
      "image/png": "[encoded data removed]",
      "text/plain": [
       "<Figure size 432x288 with 1 Axes>"
      ]
     },
     "metadata": {},
     "output_type": "display_data"
    }
   ],
   "source": [
    "fig = plt.figure()\n",
    "res = stats.probplot(df['price'], plot=plt)\n",
    "plt.show()"
   ]
  },
  {
   "cell_type": "code",
   "execution_count": 37,
   "metadata": {},
   "outputs": [
    {
     "data": {
      "text/html": [
       "<div>\n",
       "<style scoped>\n",
       "    .dataframe tbody tr th:only-of-type {\n",
       "        vertical-align: middle;\n",
       "    }\n",
       "\n",
       "    .dataframe tbody tr th {\n",
       "        vertical-align: top;\n",
       "    }\n",
       "\n",
       "    .dataframe thead th {\n",
       "        text-align: right;\n",
       "    }\n",
       "</style>\n",
       "<table border=\"1\" class=\"dataframe\">\n",
       "  <thead>\n",
       "    <tr style=\"text-align: right;\">\n",
       "      <th></th>\n",
       "      <th>price</th>\n",
       "      <th>date</th>\n",
       "      <th>ptype</th>\n",
       "      <th>duration</th>\n",
       "      <th>town</th>\n",
       "      <th>isLondon</th>\n",
       "      <th>year</th>\n",
       "      <th>logPrice</th>\n",
       "    </tr>\n",
       "  </thead>\n",
       "  <tbody>\n",
       "    <tr>\n",
       "      <th>0</th>\n",
       "      <td>42000</td>\n",
       "      <td>1995-12-21</td>\n",
       "      <td>S</td>\n",
       "      <td>F</td>\n",
       "      <td>NEWCASTLE UPON TYNE</td>\n",
       "      <td>0</td>\n",
       "      <td>1995</td>\n",
       "      <td>10.645449</td>\n",
       "    </tr>\n",
       "    <tr>\n",
       "      <th>1</th>\n",
       "      <td>95000</td>\n",
       "      <td>1995-03-03</td>\n",
       "      <td>S</td>\n",
       "      <td>F</td>\n",
       "      <td>GRAYS</td>\n",
       "      <td>0</td>\n",
       "      <td>1995</td>\n",
       "      <td>11.461643</td>\n",
       "    </tr>\n",
       "    <tr>\n",
       "      <th>2</th>\n",
       "      <td>74950</td>\n",
       "      <td>1995-10-03</td>\n",
       "      <td>D</td>\n",
       "      <td>F</td>\n",
       "      <td>MIDDLEWICH</td>\n",
       "      <td>0</td>\n",
       "      <td>1995</td>\n",
       "      <td>11.224590</td>\n",
       "    </tr>\n",
       "    <tr>\n",
       "      <th>3</th>\n",
       "      <td>43500</td>\n",
       "      <td>1995-11-14</td>\n",
       "      <td>S</td>\n",
       "      <td>F</td>\n",
       "      <td>BILLINGHAM</td>\n",
       "      <td>0</td>\n",
       "      <td>1995</td>\n",
       "      <td>10.680539</td>\n",
       "    </tr>\n",
       "    <tr>\n",
       "      <th>4</th>\n",
       "      <td>63000</td>\n",
       "      <td>1995-09-08</td>\n",
       "      <td>S</td>\n",
       "      <td>F</td>\n",
       "      <td>CLEATOR MOOR</td>\n",
       "      <td>0</td>\n",
       "      <td>1995</td>\n",
       "      <td>11.050906</td>\n",
       "    </tr>\n",
       "    <tr>\n",
       "      <th>...</th>\n",
       "      <td>...</td>\n",
       "      <td>...</td>\n",
       "      <td>...</td>\n",
       "      <td>...</td>\n",
       "      <td>...</td>\n",
       "      <td>...</td>\n",
       "      <td>...</td>\n",
       "      <td>...</td>\n",
       "    </tr>\n",
       "    <tr>\n",
       "      <th>25180678</th>\n",
       "      <td>325000</td>\n",
       "      <td>2020-01-03</td>\n",
       "      <td>D</td>\n",
       "      <td>F</td>\n",
       "      <td>LUDLOW</td>\n",
       "      <td>0</td>\n",
       "      <td>2020</td>\n",
       "      <td>12.691584</td>\n",
       "    </tr>\n",
       "    <tr>\n",
       "      <th>25180679</th>\n",
       "      <td>140000</td>\n",
       "      <td>2020-01-03</td>\n",
       "      <td>S</td>\n",
       "      <td>F</td>\n",
       "      <td>TELFORD</td>\n",
       "      <td>0</td>\n",
       "      <td>2020</td>\n",
       "      <td>11.849405</td>\n",
       "    </tr>\n",
       "    <tr>\n",
       "      <th>25180680</th>\n",
       "      <td>125000</td>\n",
       "      <td>2020-01-10</td>\n",
       "      <td>T</td>\n",
       "      <td>F</td>\n",
       "      <td>SHREWSBURY</td>\n",
       "      <td>0</td>\n",
       "      <td>2020</td>\n",
       "      <td>11.736077</td>\n",
       "    </tr>\n",
       "    <tr>\n",
       "      <th>25180681</th>\n",
       "      <td>175100</td>\n",
       "      <td>2020-01-24</td>\n",
       "      <td>S</td>\n",
       "      <td>F</td>\n",
       "      <td>NEWPORT</td>\n",
       "      <td>0</td>\n",
       "      <td>2020</td>\n",
       "      <td>12.073118</td>\n",
       "    </tr>\n",
       "    <tr>\n",
       "      <th>25180682</th>\n",
       "      <td>220000</td>\n",
       "      <td>2020-01-24</td>\n",
       "      <td>T</td>\n",
       "      <td>F</td>\n",
       "      <td>WOLVERHAMPTON</td>\n",
       "      <td>0</td>\n",
       "      <td>2020</td>\n",
       "      <td>12.301387</td>\n",
       "    </tr>\n",
       "  </tbody>\n",
       "</table>\n",
       "<p>23991146 rows × 8 columns</p>\n",
       "</div>"
      ],
      "text/plain": [
       "           price       date ptype duration                 town  isLondon  \\\n",
       "0          42000 1995-12-21     S        F  NEWCASTLE UPON TYNE         0   \n",
       "1          95000 1995-03-03     S        F                GRAYS         0   \n",
       "2          74950 1995-10-03     D        F           MIDDLEWICH         0   \n",
       "3          43500 1995-11-14     S        F           BILLINGHAM         0   \n",
       "4          63000 1995-09-08     S        F         CLEATOR MOOR         0   \n",
       "...          ...        ...   ...      ...                  ...       ...   \n",
       "25180678  325000 2020-01-03     D        F               LUDLOW         0   \n",
       "25180679  140000 2020-01-03     S        F              TELFORD         0   \n",
       "25180680  125000 2020-01-10     T        F           SHREWSBURY         0   \n",
       "25180681  175100 2020-01-24     S        F              NEWPORT         0   \n",
       "25180682  220000 2020-01-24     T        F        WOLVERHAMPTON         0   \n",
       "\n",
       "          year   logPrice  \n",
       "0         1995  10.645449  \n",
       "1         1995  11.461643  \n",
       "2         1995  11.224590  \n",
       "3         1995  10.680539  \n",
       "4         1995  11.050906  \n",
       "...        ...        ...  \n",
       "25180678  2020  12.691584  \n",
       "25180679  2020  11.849405  \n",
       "25180680  2020  11.736077  \n",
       "25180681  2020  12.073118  \n",
       "25180682  2020  12.301387  \n",
       "\n",
       "[23991146 rows x 8 columns]"
      ]
     },
     "execution_count": 37,
     "metadata": {},
     "output_type": "execute_result"
    }
   ],
   "source": [
    "df"
   ]
  },
  {
   "cell_type": "code",
   "execution_count": null,
   "metadata": {},
   "outputs": [],
   "source": [
    "y_pred = model.predict(x_test)\n",
    "print('RMSLE: %f'\n",
    "  % sqrt(mean_squared_log_error(y_test, y_pred)))"
   ]
  },
  {
   "cell_type": "code",
   "execution_count": null,
   "metadata": {},
   "outputs": [],
   "source": []
  },
  {
   "cell_type": "code",
   "execution_count": null,
   "metadata": {},
   "outputs": [],
   "source": [
    "if __name__ == \"__main__\":\n",
    "\n",
    "    SELECT_COLUMN = [1,2,4,6,11] # We only consider price, date of the purchase, property type, lease duration and town\n",
    "    df = pd.read_csv(\"data/pp-complete.csv\", names=[\"price\", \"date\", \"ptype\", \"duration\", \"town\"], sep=\",\", usecols=SELECT_COLUMN)\n",
    "\n",
    "    for c in ['duration', 'ptype']:\n",
    "        df[c] = df[c].astype('category')\n",
    "        df[c] = df[c].cat.codes\n",
    "\n",
    "    df['isLondon'] = [1 if i == \"LONDON\" else 0 for i in df['town']]\n",
    "    df['date'] =  pd.to_datetime(df['date'], format='%Y-%m-%d')\n",
    "    df[\"year\"] = df['date'].dt.year\n",
    "\n",
    "    # Split the data into training/testing sets\n",
    "    df_train = df[df.date < \"2016-1-1\"]\n",
    "    df_test = df[df.date >= \"2016-1-1\"]\n",
    "    #df_test = df_test[df.date < \"2017-1-1\"]\n",
    "    x_train = df_train[['ptype', 'duration', 'isLondon']].values\n",
    "    y_train = df_train['price'].values\n",
    "\n",
    "    x_test = df_test[['ptype', 'duration', 'isLondon']].values\n",
    "    y_test = df_test['price'].values\n",
    "\n",
    "\n",
    "    # define the model\n",
    "    def baseline():\n",
    "        # create model\n",
    "        model = Sequential()\n",
    "        model.add(Dense(3, input_dim=3, activation='relu'))\n",
    "        model.add(Dense(1))\n",
    "        # Compile model\n",
    "        model.compile(loss='mean_squared_error', optimizer='adam')\n",
    "        return model\n",
    "    model = baseline()\n",
    "    for i in range(10):\n",
    "        model.fit(x_train, y_train, batch_size=128)\n",
    "        results = model.evaluate(x_test, y_test, batch_size=128, verbose=0)\n",
    "        print(\"mse:\", results)\n",
    "        #y_pred = model.predict(x_train)\n",
    "        #print('Mean squared error: %.2f'\n",
    "        #      % mean_squared_error(y_train, y_pred))"
   ]
  },
  {
   "cell_type": "code",
   "execution_count": null,
   "metadata": {},
   "outputs": [],
   "source": [
    "K.log1p"
   ]
  },
  {
   "cell_type": "code",
   "execution_count": null,
   "metadata": {},
   "outputs": [],
   "source": [
    "for i in range(3):\n",
    "    model.fit(x_train, y_train, batch_size=512)\n",
    "#     y_pred = model.predict(x_train)\n",
    "    results = model.evaluate(x_test, y_test, batch_size=512, verbose=0)\n",
    "    print(\"mse:\", results)\n",
    "#     print('Mean squared error: %.2f'\n",
    "#           % mean_squared_error(y_train, y_pred))"
   ]
  },
  {
   "cell_type": "code",
   "execution_count": null,
   "metadata": {},
   "outputs": [],
   "source": [
    "y_pred = model.predict(x_train)\n",
    "print('Mean squared error: %.2f'\n",
    "      % mean_squared_error(y_train, y_pred))"
   ]
  },
  {
   "cell_type": "code",
   "execution_count": null,
   "metadata": {},
   "outputs": [],
   "source": [
    "# Create linear regression model\n",
    "lr = linear_model.LinearRegression()\n",
    "# Train the model using the training set\n",
    "lr.fit(x_train, y_train)\n",
    "# Make predictions using the testing set\n",
    "y_pred = lr.predict(x_test)\n",
    "# The mean squared error\n",
    "print('Mean squared error: %.2f'\n",
    "      % mean_squared_error(y_test, y_pred))"
   ]
  },
  {
   "cell_type": "code",
   "execution_count": null,
   "metadata": {},
   "outputs": [],
   "source": [
    "3112571893367.58\n",
    "\n",
    "3072782252693.90\n",
    "112481184635.64"
   ]
  },
  {
   "cell_type": "code",
   "execution_count": null,
   "metadata": {},
   "outputs": [],
   "source": [
    "\n",
    "print('Mean squared error: %.2f'\n",
    "      % mean_squared_error(y_test, [df.price.mean()]*len(y_test)))"
   ]
  },
  {
   "cell_type": "code",
   "execution_count": null,
   "metadata": {},
   "outputs": [],
   "source": [
    "from sklearn.preprocessing import PolynomialFeatures, StandardScaler\n",
    "from sklearn.pipeline import Pipeline\n",
    "from sklearn.linear_model import LinearRegression\n",
    "\n",
    "from sklearn.model_selection import GridSearchCV\n",
    "from sklearn.metrics import mean_squared_error as mse\n",
    "pipe = Pipeline([\n",
    "('sc',StandardScaler()),\n",
    "('poly',PolynomialFeatures(include_bias=True)),\n",
    "('reg',LinearRegression())\n",
    "])\n",
    "model = GridSearchCV(pipe,param_grid={'poly__degree':[2,3]})\n",
    "model.fit(x_train, y_train)\n",
    "degree = model.best_params_\n",
    "print(degree)\n",
    "pred = np.exp(model.predict(x_test))\n",
    "Accuracy = sqrt(mse(y_test, pred))\n",
    "print('=='*20+'RMSE: '+str(Accuracy)+'=='*20)\n",
    "RMSE.append(Accuracy)"
   ]
  },
  {
   "cell_type": "code",
   "execution_count": null,
   "metadata": {},
   "outputs": [],
   "source": [
    "Accuracy = mse(y_test, model.predict(x_test))\n",
    "print('=='*20+'RMSE: '+str(Accuracy)+'=='*20)\n"
   ]
  },
  {
   "cell_type": "code",
   "execution_count": 8,
   "metadata": {},
   "outputs": [
    {
     "data": {
      "text/plain": [
       "<matplotlib.collections.PathCollection at 0x1157c5668>"
      ]
     },
     "execution_count": 8,
     "metadata": {},
     "output_type": "execute_result"
    },
    {
     "data": {
      "image/png": "[encoded data removed]",
      "text/plain": [
       "<Figure size 432x288 with 1 Axes>"
      ]
     },
     "metadata": {
      "needs_background": "light"
     },
     "output_type": "display_data"
    }
   ],
   "source": [
    "%matplotlib inline\n",
    "import matplotlib.pyplot as plt\n",
    "plt.scatter(df['year'] , df['price'])"
   ]
  },
  {
   "cell_type": "code",
   "execution_count": null,
   "metadata": {},
   "outputs": [],
   "source": [
    "plt.scatter(df['duration'] , df['price'])"
   ]
  },
  {
   "cell_type": "code",
   "execution_count": null,
   "metadata": {},
   "outputs": [],
   "source": [
    "plt.hist(df['ptype'])"
   ]
  },
  {
   "cell_type": "code",
   "execution_count": null,
   "metadata": {},
   "outputs": [],
   "source": [
    "plt.scatter(df['ptype'] , df['price'])"
   ]
  },
  {
   "cell_type": "code",
   "execution_count": null,
   "metadata": {},
   "outputs": [],
   "source": [
    "plt.scatter(df['isLondon'] , df['price'])"
   ]
  },
  {
   "cell_type": "code",
   "execution_count": null,
   "metadata": {},
   "outputs": [],
   "source": []
  }
 ],
 "metadata": {
  "kernelspec": {
   "display_name": "Python 3",
   "language": "python",
   "name": "python3"
  },
  "language_info": {
   "codemirror_mode": {
    "name": "ipython",
    "version": 3
   },
   "file_extension": ".py",
   "mimetype": "text/x-python",
   "name": "python",
   "nbconvert_exporter": "python",
   "pygments_lexer": "ipython3",
   "version": "3.6.10"
  }
 },
 "nbformat": 4,
 "nbformat_minor": 4
}
