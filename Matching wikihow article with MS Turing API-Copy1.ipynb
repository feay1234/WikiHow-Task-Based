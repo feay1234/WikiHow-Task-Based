{
 "cells": [
  {
   "cell_type": "code",
   "execution_count": 22,
   "metadata": {},
   "outputs": [],
   "source": [
    "import pandas as pd\n",
    "import re\n",
    "import pickle\n",
    "from time import sleep\n",
    "from tqdm import tqdm_notebook as tqdm\n"
   ]
  },
  {
   "cell_type": "code",
   "execution_count": 13,
   "metadata": {},
   "outputs": [],
   "source": [
    "df = pd.read_csv(\"data/wikihowSep.csv\")\n",
    "df = df.dropna()\n",
    "tasks = df.title.unique().tolist()\n",
    "# remove number from tasks\n",
    "tasks = list(set([re.sub(r'\\W+', ' ', i[:-1].lower()) if str.isnumeric(i[-1]) else re.sub(r'\\W+', ' ', i.lower()) for i in tasks]))\n"
   ]
  },
  {
   "cell_type": "code",
   "execution_count": 14,
   "metadata": {},
   "outputs": [],
   "source": [
    "import http.client, urllib.request, urllib.parse, urllib.error, base64\n",
    "import json\n",
    "\n",
    "def getVectors(queries):\n",
    "    headers = {\n",
    "        # Request headers\n",
    "        'Content-Type': 'application/json',\n",
    "        'Ocp-Apim-Subscription-Key': '3d886bf041574645a097aab80bc26f0e',\n",
    "    }\n",
    "\n",
    "    params = urllib.parse.urlencode({})\n",
    "    \n",
    "    try:\n",
    "        conn = http.client.HTTPSConnection('api.msturing.org')\n",
    "#         conn.request(\"POST\", \"/gen/encode?%s\" % params, '{\"queries\": [\"how to make gingerbread people (in grams)\", \"test AI\"]}', headers)\n",
    "        conn.request(\"POST\", \"/gen/encode?%s\" % params, str({\"queries\": queries}).replace(\"\\'\", \"\\\"\"), headers)\n",
    "        response = conn.getresponse()\n",
    "        data = response.read()\n",
    "        data = json.loads(data)\n",
    "        conn.close()\n",
    "    except Exception as e:\n",
    "        print(data)\n",
    "        print(\"[Errno {0}] {1}\".format(e.errno, e.strerror))\n",
    "    \n",
    "    return {data[i]['query']:data[i]['vector'] for i in range(len(data))}"
   ]
  },
  {
   "cell_type": "code",
   "execution_count": 23,
   "metadata": {},
   "outputs": [],
   "source": [
    "import glob\n",
    "files = []\n",
    "for file in glob.glob(\"wikihow_2_ms_encoded_vector/*\"):\n",
    "    files.append(file)\n",
    "\n",
    "ranges = [(i, i+50) for i in range(0, len(tasks), 50)]\n",
    "\n",
    "finish = []\n",
    "for f in files:\n",
    "    try:\n",
    "        name = f.split(\"/\")[1].split(\"-\")\n",
    "        finish.append((int(name[0]), int(name[1])))\n",
    "    except:\n",
    "        continue\n",
    "todo = list(set.difference(set(ranges), set(finish)))        "
   ]
  },
  {
   "cell_type": "code",
   "execution_count": 24,
   "metadata": {},
   "outputs": [
    {
     "data": {
      "text/plain": [
       "932"
      ]
     },
     "execution_count": 24,
     "metadata": {},
     "output_type": "execute_result"
    }
   ],
   "source": [
    "len(todo)"
   ]
  },
  {
   "cell_type": "code",
   "execution_count": 25,
   "metadata": {},
   "outputs": [
    {
     "data": {
      "application/vnd.jupyter.widget-view+json": {
       "model_id": "9a344e3c715e4712b243547733b46a48",
       "version_major": 2,
       "version_minor": 0
      },
      "text/plain": [
       "HBox(children=(IntProgress(value=0, max=932), HTML(value='')))"
      ]
     },
     "metadata": {},
     "output_type": "display_data"
    },
    {
     "name": "stdout",
     "output_type": "stream",
     "text": [
      "b'All 1 requests failed. Invoking turing.agiencoderv4_02082019:131992289164512738 on DS1PPF8BC4F6E2D failed due to timeout'\n",
      "b'All 1 requests failed. Shared memory request 637085160902728825 to turing.agiencoderv4_02082019:131992289164512738 instance 2 timed out'\n",
      "b'All 1 requests failed. Shared memory request 637084800854294903 to turing.agiencoderv4_02082019:131992289164512738 instance 2 timed out'\n",
      "b'All 1 requests failed. Invoking turing.agiencoderv4_02082019:131992289164512738 on DS1PPF8BC4F6E2D failed due to timeout'\n",
      "b'All 1 requests failed. Invoking turing.agiencoderv4_02082019:131992289164512738 on DS2PPF062D4B1F3 failed due to timeout'\n",
      "b'All 1 requests failed. Invoking turing.agiencoderv4_02082019:131992289164512738 on DS1PPF09FA63DA6 failed due to timeout'\n",
      "b'All 1 requests failed. Invoking turing.agiencoderv4_02082019:131992289164512738 on DS1PPF8BC4F6E2D failed due to timeout'\n",
      "b'All 1 requests failed. Invoking turing.agiencoderv4_02082019:131992289164512738 on DS1PPF09FA63DA6 failed due to timeout'\n",
      "b'All 1 requests failed. Shared memory request 637085160902728905 to turing.agiencoderv4_02082019:131992289164512738 instance 2 timed out'\n",
      "b'All 1 requests failed. Invoking turing.agiencoderv4_02082019:131992289164512738 on DS1PPF09FA63DA6 failed due to timeout'\n",
      "b'All 1 requests failed. Invoking turing.agiencoderv4_02082019:131992289164512738 on DS2PPF062D4B1F3 failed due to timeout'\n",
      "b'All 1 requests failed. Shared memory request 637085160902729215 to turing.agiencoderv4_02082019:131992289164512738 instance 3 timed out'\n",
      "b'All 1 requests failed. Invoking turing.agiencoderv4_02082019:131992289164512738 on DS2PPF062D4B1F3 failed due to timeout'\n",
      "b'All 1 requests failed. Invoking turing.agiencoderv4_02082019:131992289164512738 on DS1PPF09FA63DA6 failed due to timeout'\n",
      "b'All 1 requests failed. Invoking turing.agiencoderv4_02082019:131992289164512738 on DS1PPF09FA63DA6 failed due to timeout'\n",
      "b'All 1 requests failed. Invoking turing.agiencoderv4_02082019:131992289164512738 on DS1PPF8BC4F6E2D failed due to timeout'\n",
      "b'All 1 requests failed. Invoking turing.agiencoderv4_02082019:131992289164512738 on DS2PPF062D4B1F3 failed due to timeout'\n",
      "b'All 1 requests failed. Invoking turing.agiencoderv4_02082019:131992289164512738 on DS2PPF062D4B1F3 failed due to timeout'\n",
      "b'All 1 requests failed. Invoking turing.agiencoderv4_02082019:131992289164512738 on DS1PPF8BC4F6E2D failed due to timeout'\n",
      "b'All 1 requests failed. Invoking turing.agiencoderv4_02082019:131992289164512738 on DS2PPF062D4B1F3 failed due to timeout'\n",
      "b'All 1 requests failed. Invoking turing.agiencoderv4_02082019:131992289164512738 on DS2PPF062D4B1F3 failed due to timeout'\n",
      "b'All 1 requests failed. Invoking turing.agiencoderv4_02082019:131992289164512738 on DS2PPF062D4B1F3 failed due to timeout'\n",
      "b'All 1 requests failed. Shared memory request 637086578503563690 to turing.agiencoderv4_02082019:131992289164512738 instance 1 timed out'\n",
      "b'All 1 requests failed. Shared memory request 637084800854295241 to turing.agiencoderv4_02082019:131992289164512738 instance 1 timed out'\n",
      "b'All 1 requests failed. Invoking turing.agiencoderv4_02082019:131992289164512738 on DS2PPF062D4B1F3 failed due to timeout'\n",
      "b'All 1 requests failed. Invoking turing.agiencoderv4_02082019:131992289164512738 on DS1PPF8BC4F6E2D failed due to timeout'\n",
      "b'All 1 requests failed. Shared memory request 637086578503563795 to turing.agiencoderv4_02082019:131992289164512738 instance 3 timed out'\n",
      "b'All 1 requests failed. Invoking turing.agiencoderv4_02082019:131992289164512738 on DS1PPF8BC4F6E2D failed due to timeout'\n",
      "b'All 1 requests failed. Invoking turing.agiencoderv4_02082019:131992289164512738 on DS2PPF062D4B1F3 failed due to timeout'\n",
      "b'All 1 requests failed. Invoking turing.agiencoderv4_02082019:131992289164512738 on DS1PPF8BC4F6E2D failed due to timeout'\n",
      "b'All 1 requests failed. Invoking turing.agiencoderv4_02082019:131992289164512738 on DS1PPF8BC4F6E2D failed due to timeout'\n",
      "b'All 1 requests failed. Shared memory request 637084800854295723 to turing.agiencoderv4_02082019:131992289164512738 instance 3 timed out'\n",
      "b'All 1 requests failed. Invoking turing.agiencoderv4_02082019:131992289164512738 on DS1PPF09FA63DA6 failed due to timeout'\n",
      "b'All 1 requests failed. Invoking turing.agiencoderv4_02082019:131992289164512738 on DS2PPF062D4B1F3 failed due to timeout'\n",
      "b'All 1 requests failed. Invoking turing.agiencoderv4_02082019:131992289164512738 on DS2PPF062D4B1F3 failed due to timeout'\n",
      "b'All 1 requests failed. Shared memory request 637084800854295775 to turing.agiencoderv4_02082019:131992289164512738 instance 3 timed out'\n",
      "b'All 1 requests failed. Invoking turing.agiencoderv4_02082019:131992289164512738 on DS2PPF062D4B1F3 failed due to timeout'\n",
      "b'All 1 requests failed. Shared memory request 637085160902729659 to turing.agiencoderv4_02082019:131992289164512738 instance 2 timed out'\n",
      "b'All 1 requests failed. Invoking turing.agiencoderv4_02082019:131992289164512738 on DS1PPF8BC4F6E2D failed due to timeout'\n",
      "b'All 1 requests failed. Invoking turing.agiencoderv4_02082019:131992289164512738 on DS1PPF09FA63DA6 failed due to timeout'\n",
      "b'All 1 requests failed. Shared memory request 637084800854295840 to turing.agiencoderv4_02082019:131992289164512738 instance 1 timed out'\n",
      "b'All 1 requests failed. Invoking turing.agiencoderv4_02082019:131992289164512738 on DS1PPF09FA63DA6 failed due to timeout'\n",
      "b'All 1 requests failed. Invoking turing.agiencoderv4_02082019:131992289164512738 on DS2PPF062D4B1F3 failed due to timeout'\n",
      "b'All 1 requests failed. Invoking turing.agiencoderv4_02082019:131992289164512738 on DS1PPF09FA63DA6 failed due to timeout'\n",
      "b'All 1 requests failed. Invoking turing.agiencoderv4_02082019:131992289164512738 on DS1PPF09FA63DA6 failed due to timeout'\n",
      "b'All 1 requests failed. Invoking turing.agiencoderv4_02082019:131992289164512738 on DS2PPF062D4B1F3 failed due to timeout'\n",
      "b'All 1 requests failed. Invoking turing.agiencoderv4_02082019:131992289164512738 on DS1PPF8BC4F6E2D failed due to timeout'\n",
      "b'All 1 requests failed. Invoking turing.agiencoderv4_02082019:131992289164512738 on DS1PPF8BC4F6E2D failed due to timeout'\n",
      "b'All 1 requests failed. Invoking turing.agiencoderv4_02082019:131992289164512738 on DS1PPF09FA63DA6 failed due to timeout'\n",
      "b'All 1 requests failed. Invoking turing.agiencoderv4_02082019:131992289164512738 on DS1PPF8BC4F6E2D failed due to timeout'\n",
      "b'All 1 requests failed. Invoking turing.agiencoderv4_02082019:131992289164512738 on DS2PPF062D4B1F3 failed due to timeout'\n",
      "b'All 1 requests failed. Shared memory request 637086578503564231 to turing.agiencoderv4_02082019:131992289164512738 instance 0 timed out'\n",
      "b'All 1 requests failed. Invoking turing.agiencoderv4_02082019:131992289164512738 on DS2PPF062D4B1F3 failed due to timeout'\n",
      "b'All 1 requests failed. Invoking turing.agiencoderv4_02082019:131992289164512738 on DS2PPF062D4B1F3 failed due to timeout'\n",
      "b'All 1 requests failed. Invoking turing.agiencoderv4_02082019:131992289164512738 on DS2PPF062D4B1F3 failed due to timeout'\n",
      "b'All 1 requests failed. Invoking turing.agiencoderv4_02082019:131992289164512738 on DS1PPF8BC4F6E2D failed due to timeout'\n",
      "b'All 1 requests failed. Shared memory request 637085160902729867 to turing.agiencoderv4_02082019:131992289164512738 instance 0 timed out'\n",
      "b'All 1 requests failed. Invoking turing.agiencoderv4_02082019:131992289164512738 on DS2PPF062D4B1F3 failed due to timeout'\n",
      "b'All 1 requests failed. Invoking turing.agiencoderv4_02082019:131992289164512738 on DS2PPF062D4B1F3 failed due to timeout'\n",
      "b'All 1 requests failed. Invoking turing.agiencoderv4_02082019:131992289164512738 on DS1PPF09FA63DA6 failed due to timeout'\n",
      "b'All 1 requests failed. Invoking turing.agiencoderv4_02082019:131992289164512738 on DS2PPF062D4B1F3 failed due to timeout'\n",
      "b'All 1 requests failed. Invoking turing.agiencoderv4_02082019:131992289164512738 on DS2PPF062D4B1F3 failed due to timeout'\n",
      "b'All 1 requests failed. Invoking turing.agiencoderv4_02082019:131992289164512738 on DS1PPF09FA63DA6 failed due to timeout'\n"
     ]
    },
    {
     "ename": "KeyboardInterrupt",
     "evalue": "",
     "output_type": "error",
     "traceback": [
      "\u001b[0;31m---------------------------------------------------------------------------\u001b[0m",
      "\u001b[0;31mJSONDecodeError\u001b[0m                           Traceback (most recent call last)",
      "\u001b[0;32m<ipython-input-14-365bc065e862>\u001b[0m in \u001b[0;36mgetVectors\u001b[0;34m(queries)\u001b[0m\n\u001b[1;32m     18\u001b[0m         \u001b[0mdata\u001b[0m \u001b[0;34m=\u001b[0m \u001b[0mresponse\u001b[0m\u001b[0;34m.\u001b[0m\u001b[0mread\u001b[0m\u001b[0;34m(\u001b[0m\u001b[0;34m)\u001b[0m\u001b[0;34m\u001b[0m\u001b[0;34m\u001b[0m\u001b[0m\n\u001b[0;32m---> 19\u001b[0;31m         \u001b[0mdata\u001b[0m \u001b[0;34m=\u001b[0m \u001b[0mjson\u001b[0m\u001b[0;34m.\u001b[0m\u001b[0mloads\u001b[0m\u001b[0;34m(\u001b[0m\u001b[0mdata\u001b[0m\u001b[0;34m)\u001b[0m\u001b[0;34m\u001b[0m\u001b[0;34m\u001b[0m\u001b[0m\n\u001b[0m\u001b[1;32m     20\u001b[0m         \u001b[0mconn\u001b[0m\u001b[0;34m.\u001b[0m\u001b[0mclose\u001b[0m\u001b[0;34m(\u001b[0m\u001b[0;34m)\u001b[0m\u001b[0;34m\u001b[0m\u001b[0;34m\u001b[0m\u001b[0m\n",
      "\u001b[0;32m~/anaconda3/lib/python3.7/json/__init__.py\u001b[0m in \u001b[0;36mloads\u001b[0;34m(s, encoding, cls, object_hook, parse_float, parse_int, parse_constant, object_pairs_hook, **kw)\u001b[0m\n\u001b[1;32m    347\u001b[0m             parse_constant is None and object_pairs_hook is None and not kw):\n\u001b[0;32m--> 348\u001b[0;31m         \u001b[0;32mreturn\u001b[0m \u001b[0m_default_decoder\u001b[0m\u001b[0;34m.\u001b[0m\u001b[0mdecode\u001b[0m\u001b[0;34m(\u001b[0m\u001b[0ms\u001b[0m\u001b[0;34m)\u001b[0m\u001b[0;34m\u001b[0m\u001b[0;34m\u001b[0m\u001b[0m\n\u001b[0m\u001b[1;32m    349\u001b[0m     \u001b[0;32mif\u001b[0m \u001b[0mcls\u001b[0m \u001b[0;32mis\u001b[0m \u001b[0;32mNone\u001b[0m\u001b[0;34m:\u001b[0m\u001b[0;34m\u001b[0m\u001b[0;34m\u001b[0m\u001b[0m\n",
      "\u001b[0;32m~/anaconda3/lib/python3.7/json/decoder.py\u001b[0m in \u001b[0;36mdecode\u001b[0;34m(self, s, _w)\u001b[0m\n\u001b[1;32m    336\u001b[0m         \"\"\"\n\u001b[0;32m--> 337\u001b[0;31m         \u001b[0mobj\u001b[0m\u001b[0;34m,\u001b[0m \u001b[0mend\u001b[0m \u001b[0;34m=\u001b[0m \u001b[0mself\u001b[0m\u001b[0;34m.\u001b[0m\u001b[0mraw_decode\u001b[0m\u001b[0;34m(\u001b[0m\u001b[0ms\u001b[0m\u001b[0;34m,\u001b[0m \u001b[0midx\u001b[0m\u001b[0;34m=\u001b[0m\u001b[0m_w\u001b[0m\u001b[0;34m(\u001b[0m\u001b[0ms\u001b[0m\u001b[0;34m,\u001b[0m \u001b[0;36m0\u001b[0m\u001b[0;34m)\u001b[0m\u001b[0;34m.\u001b[0m\u001b[0mend\u001b[0m\u001b[0;34m(\u001b[0m\u001b[0;34m)\u001b[0m\u001b[0;34m)\u001b[0m\u001b[0;34m\u001b[0m\u001b[0;34m\u001b[0m\u001b[0m\n\u001b[0m\u001b[1;32m    338\u001b[0m         \u001b[0mend\u001b[0m \u001b[0;34m=\u001b[0m \u001b[0m_w\u001b[0m\u001b[0;34m(\u001b[0m\u001b[0ms\u001b[0m\u001b[0;34m,\u001b[0m \u001b[0mend\u001b[0m\u001b[0;34m)\u001b[0m\u001b[0;34m.\u001b[0m\u001b[0mend\u001b[0m\u001b[0;34m(\u001b[0m\u001b[0;34m)\u001b[0m\u001b[0;34m\u001b[0m\u001b[0;34m\u001b[0m\u001b[0m\n",
      "\u001b[0;32m~/anaconda3/lib/python3.7/json/decoder.py\u001b[0m in \u001b[0;36mraw_decode\u001b[0;34m(self, s, idx)\u001b[0m\n\u001b[1;32m    354\u001b[0m         \u001b[0;32mexcept\u001b[0m \u001b[0mStopIteration\u001b[0m \u001b[0;32mas\u001b[0m \u001b[0merr\u001b[0m\u001b[0;34m:\u001b[0m\u001b[0;34m\u001b[0m\u001b[0;34m\u001b[0m\u001b[0m\n\u001b[0;32m--> 355\u001b[0;31m             \u001b[0;32mraise\u001b[0m \u001b[0mJSONDecodeError\u001b[0m\u001b[0;34m(\u001b[0m\u001b[0;34m\"Expecting value\"\u001b[0m\u001b[0;34m,\u001b[0m \u001b[0ms\u001b[0m\u001b[0;34m,\u001b[0m \u001b[0merr\u001b[0m\u001b[0;34m.\u001b[0m\u001b[0mvalue\u001b[0m\u001b[0;34m)\u001b[0m \u001b[0;32mfrom\u001b[0m \u001b[0;32mNone\u001b[0m\u001b[0;34m\u001b[0m\u001b[0;34m\u001b[0m\u001b[0m\n\u001b[0m\u001b[1;32m    356\u001b[0m         \u001b[0;32mreturn\u001b[0m \u001b[0mobj\u001b[0m\u001b[0;34m,\u001b[0m \u001b[0mend\u001b[0m\u001b[0;34m\u001b[0m\u001b[0;34m\u001b[0m\u001b[0m\n",
      "\u001b[0;31mJSONDecodeError\u001b[0m: Expecting value: line 1 column 1 (char 0)",
      "\nDuring handling of the above exception, another exception occurred:\n",
      "\u001b[0;31mAttributeError\u001b[0m                            Traceback (most recent call last)",
      "\u001b[0;32m<ipython-input-25-b373266c1633>\u001b[0m in \u001b[0;36m<module>\u001b[0;34m\u001b[0m\n\u001b[1;32m      2\u001b[0m     \u001b[0;32mtry\u001b[0m\u001b[0;34m:\u001b[0m\u001b[0;34m\u001b[0m\u001b[0;34m\u001b[0m\u001b[0m\n\u001b[0;32m----> 3\u001b[0;31m         \u001b[0mdata\u001b[0m \u001b[0;34m=\u001b[0m \u001b[0mgetVectors\u001b[0m\u001b[0;34m(\u001b[0m\u001b[0mtasks\u001b[0m\u001b[0;34m[\u001b[0m\u001b[0mi\u001b[0m\u001b[0;34m[\u001b[0m\u001b[0;36m0\u001b[0m\u001b[0;34m]\u001b[0m\u001b[0;34m:\u001b[0m\u001b[0mi\u001b[0m\u001b[0;34m[\u001b[0m\u001b[0;36m1\u001b[0m\u001b[0;34m]\u001b[0m\u001b[0;34m]\u001b[0m\u001b[0;34m)\u001b[0m\u001b[0;34m\u001b[0m\u001b[0;34m\u001b[0m\u001b[0m\n\u001b[0m\u001b[1;32m      4\u001b[0m         \u001b[0;32mwith\u001b[0m \u001b[0mopen\u001b[0m\u001b[0;34m(\u001b[0m\u001b[0;34m\"wikihow_2_ms_encoded_vector/%s-%s\"\u001b[0m \u001b[0;34m%\u001b[0m \u001b[0;34m(\u001b[0m\u001b[0mstr\u001b[0m\u001b[0;34m(\u001b[0m\u001b[0mi\u001b[0m\u001b[0;34m[\u001b[0m\u001b[0;36m0\u001b[0m\u001b[0;34m]\u001b[0m\u001b[0;34m)\u001b[0m\u001b[0;34m,\u001b[0m \u001b[0mstr\u001b[0m\u001b[0;34m(\u001b[0m\u001b[0mi\u001b[0m\u001b[0;34m[\u001b[0m\u001b[0;36m1\u001b[0m\u001b[0;34m]\u001b[0m\u001b[0;34m)\u001b[0m\u001b[0;34m)\u001b[0m\u001b[0;34m,\u001b[0m \u001b[0;34m'wb'\u001b[0m\u001b[0;34m)\u001b[0m \u001b[0;32mas\u001b[0m \u001b[0mf\u001b[0m\u001b[0;34m:\u001b[0m\u001b[0;34m\u001b[0m\u001b[0;34m\u001b[0m\u001b[0m\n",
      "\u001b[0;32m<ipython-input-14-365bc065e862>\u001b[0m in \u001b[0;36mgetVectors\u001b[0;34m(queries)\u001b[0m\n\u001b[1;32m     22\u001b[0m         \u001b[0mprint\u001b[0m\u001b[0;34m(\u001b[0m\u001b[0mdata\u001b[0m\u001b[0;34m)\u001b[0m\u001b[0;34m\u001b[0m\u001b[0;34m\u001b[0m\u001b[0m\n\u001b[0;32m---> 23\u001b[0;31m         \u001b[0mprint\u001b[0m\u001b[0;34m(\u001b[0m\u001b[0;34m\"[Errno {0}] {1}\"\u001b[0m\u001b[0;34m.\u001b[0m\u001b[0mformat\u001b[0m\u001b[0;34m(\u001b[0m\u001b[0me\u001b[0m\u001b[0;34m.\u001b[0m\u001b[0merrno\u001b[0m\u001b[0;34m,\u001b[0m \u001b[0me\u001b[0m\u001b[0;34m.\u001b[0m\u001b[0mstrerror\u001b[0m\u001b[0;34m)\u001b[0m\u001b[0;34m)\u001b[0m\u001b[0;34m\u001b[0m\u001b[0;34m\u001b[0m\u001b[0m\n\u001b[0m\u001b[1;32m     24\u001b[0m \u001b[0;34m\u001b[0m\u001b[0m\n",
      "\u001b[0;31mAttributeError\u001b[0m: 'JSONDecodeError' object has no attribute 'errno'",
      "\nDuring handling of the above exception, another exception occurred:\n",
      "\u001b[0;31mKeyboardInterrupt\u001b[0m                         Traceback (most recent call last)",
      "\u001b[0;32m<ipython-input-25-b373266c1633>\u001b[0m in \u001b[0;36m<module>\u001b[0;34m\u001b[0m\n\u001b[1;32m      5\u001b[0m             \u001b[0mpickle\u001b[0m\u001b[0;34m.\u001b[0m\u001b[0mdump\u001b[0m\u001b[0;34m(\u001b[0m\u001b[0mdata\u001b[0m\u001b[0;34m,\u001b[0m \u001b[0mf\u001b[0m\u001b[0;34m,\u001b[0m \u001b[0mpickle\u001b[0m\u001b[0;34m.\u001b[0m\u001b[0mHIGHEST_PROTOCOL\u001b[0m\u001b[0;34m)\u001b[0m\u001b[0;34m\u001b[0m\u001b[0;34m\u001b[0m\u001b[0m\n\u001b[1;32m      6\u001b[0m     \u001b[0;32mexcept\u001b[0m\u001b[0;34m:\u001b[0m\u001b[0;34m\u001b[0m\u001b[0;34m\u001b[0m\u001b[0m\n\u001b[0;32m----> 7\u001b[0;31m         \u001b[0msleep\u001b[0m\u001b[0;34m(\u001b[0m\u001b[0;36m60\u001b[0m\u001b[0;34m)\u001b[0m\u001b[0;34m\u001b[0m\u001b[0;34m\u001b[0m\u001b[0m\n\u001b[0m",
      "\u001b[0;31mKeyboardInterrupt\u001b[0m: "
     ]
    }
   ],
   "source": [
    "for i in tqdm(todo[::-1], total=len(todo)):\n",
    "    try:\n",
    "        data = getVectors(tasks[i[0]:i[1]])\n",
    "        with open(\"wikihow_2_ms_encoded_vector/%s-%s\" % (str(i[0]), str(i[1])), 'wb') as f:\n",
    "            pickle.dump(data, f, pickle.HIGHEST_PROTOCOL)\n",
    "    except:\n",
    "        sleep(60)"
   ]
  },
  {
   "cell_type": "code",
   "execution_count": 234,
   "metadata": {},
   "outputs": [],
   "source": [
    "def load_dict(name):\n",
    "    with open(name, 'rb') as f:\n",
    "        return pickle.load(f)"
   ]
  },
  {
   "cell_type": "code",
   "execution_count": 238,
   "metadata": {},
   "outputs": [],
   "source": [
    "tmp1 = load_dict(\"wikihow_2_ms_encoded_vector/0-50\")\n",
    "tmp2 = load_dict(\"wikihow_2_ms_encoded_vector/50-100\")"
   ]
  }
 ],
 "metadata": {
  "kernelspec": {
   "display_name": "Python 3",
   "language": "python",
   "name": "python3"
  },
  "language_info": {
   "codemirror_mode": {
    "name": "ipython",
    "version": 3
   },
   "file_extension": ".py",
   "mimetype": "text/x-python",
   "name": "python",
   "nbconvert_exporter": "python",
   "pygments_lexer": "ipython3",
   "version": "3.7.3"
  }
 },
 "nbformat": 4,
 "nbformat_minor": 2
}
