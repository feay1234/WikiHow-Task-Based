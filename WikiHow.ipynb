{
 "cells": [
  {
   "cell_type": "code",
   "execution_count": 1,
   "metadata": {
    "collapsed": true
   },
   "outputs": [],
   "source": [
    "import pandas as pd\n",
    "import numpy as np"
   ]
  },
  {
   "cell_type": "code",
   "execution_count": 2,
   "metadata": {
    "collapsed": true
   },
   "outputs": [],
   "source": [
    "df = pd.read_csv(\"data/wikihowSep.csv\")\n"
   ]
  },
  {
   "cell_type": "code",
   "execution_count": 3,
   "metadata": {
    "collapsed": true
   },
   "outputs": [],
   "source": [
    "df[\"headline\"] = df[\"headline\"].str.lower().str.replace(\"\\n\", \"\")"
   ]
  },
  {
   "cell_type": "code",
   "execution_count": 4,
   "metadata": {
    "collapsed": true
   },
   "outputs": [],
   "source": [
    "df = df[df.sectionLabel != \"Steps\"]"
   ]
  },
  {
   "cell_type": "code",
   "execution_count": 5,
   "metadata": {
    "collapsed": true
   },
   "outputs": [],
   "source": [
    "wikiCat = pd.read_csv(\"data/cate.csv\", sep=\",\", error_bad_lines=False, names=[\"title\", \"category\"])\n",
    "wikiCat['title'] = wikiCat['title'].str.replace(\"https://www.wikihow.com/\", \"\").str.replace(\"%22\",\"\").str.replace(\"-\", \" \").str.lower()\n",
    "wikiCat['title'] = [\"how to \" + i for i in wikiCat['title'].tolist()]\n",
    "wikiCat['category'] = wikiCat['category'].str.lower()"
   ]
  },
  {
   "cell_type": "code",
   "execution_count": 6,
   "metadata": {
    "collapsed": false
   },
   "outputs": [],
   "source": [
    "df[\"headline\"] = df[\"headline\"].str.lower().str.replace(\"\\n\", \"\").str.replace(\".\",\"\")\n",
    "df[\"title\"] = df[\"title\"].str.lower()"
   ]
  },
  {
   "cell_type": "code",
   "execution_count": 7,
   "metadata": {
    "collapsed": false
   },
   "outputs": [],
   "source": [
    "cat = \"finance and business\"\n",
    "topics = wikiCat[wikiCat.category.str.contains(cat)].title\n",
    "tasks = df[df.title.isin(topics)].title.unique()"
   ]
  },
  {
   "cell_type": "code",
   "execution_count": 100,
   "metadata": {
    "collapsed": false
   },
   "outputs": [],
   "source": [
    "import os\n",
    "finish = []\n",
    "lines = 0\n",
    "cat = cat.replace(\" \", \"_\")\n",
    "# Read data and generate train and test dataset\n",
    "x1, x2, y = [], [], []\n",
    "for file in os.listdir(\"csv/%s/\" % cat):\n",
    "    task = file.split(\".csv\")[0].replace(\"_\", \" \")\n",
    "    if task not in tasks:\n",
    "        continue\n",
    "\n",
    "    try:\n",
    "        d = pd.read_csv(\"csv/%s/%s\" % (cat, file), sep=\";\", header=0, names=[\"q\", \"qq\"])\n",
    "        d['q'] = d['q'].str.lower().str.replace(\"?\", \"\")\n",
    "        d['qq'] = d['qq'].str.lower().str.replace(\"?\", \"\")\n",
    "        queries = d.q.unique().tolist() + d.qq.unique().tolist()\n",
    "        \n",
    "        for q in queries:\n",
    "            neg_task = np.random.choice(tasks)\n",
    "            while neg_task == task:\n",
    "                neg_task = np.random.choice(tasks)\n",
    "\n",
    "            x1.extend([q, q])\n",
    "            x2.extend([task, neg_task])\n",
    "            y.extend([1,0])\n",
    "        \n",
    "    except:\n",
    "        print(file)\n",
    "\n",
    "# generate train & test dataset     \n"
   ]
  }
 ],
 "metadata": {
  "anaconda-cloud": {},
  "kernelspec": {
   "display_name": "Python [default]",
   "language": "python",
   "name": "python3"
  },
  "language_info": {
   "codemirror_mode": {
    "name": "ipython",
    "version": 3
   },
   "file_extension": ".py",
   "mimetype": "text/x-python",
   "name": "python",
   "nbconvert_exporter": "python",
   "pygments_lexer": "ipython3",
   "version": "3.5.6"
  }
 },
 "nbformat": 4,
 "nbformat_minor": 2
}
