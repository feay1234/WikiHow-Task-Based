{
 "cells": [
  {
   "cell_type": "code",
   "execution_count": 66,
   "metadata": {},
   "outputs": [],
   "source": [
    "import pandas as pd\n",
    "import collections\n",
    "import requests\n"
   ]
  },
  {
   "cell_type": "code",
   "execution_count": 5,
   "metadata": {},
   "outputs": [],
   "source": [
    "df = pd.read_json(url, orient='columns')\n"
   ]
  },
  {
   "cell_type": "code",
   "execution_count": 87,
   "metadata": {},
   "outputs": [],
   "source": [
    "memo = collections.defaultdict(set)\n",
    "for i in range(1, 44):\n",
    "    ids = f\"{i:03}\"\n",
    "    url = \"https://raw.githubusercontent.com/google-research-datasets/dstc8-schema-guided-dialogue/master/train/dialogues_%s.json\" % (str(ids))\n",
    "    resp = requests.get(url)\n",
    "    \n",
    "    for i in range(len(resp.json())):\n",
    "        j = resp.json()[i]\n",
    "        dialogue_id = j['dialogue_id']\n",
    "        services = [i for i in j['services']]\n",
    "        for t in j['turns']:\n",
    "            if t[\"speaker\"] == \"SYSTEM\":\n",
    "    #             print(t[\"utterance\"])\n",
    "                for f in t['frames']:\n",
    "                    for a in f['actions']:\n",
    "    #                     print(a[\"act\"], a['slot'])\n",
    "                        memo[services[0]].add(a['slot'])\n",
    "#             print()\n",
    "    "
   ]
  },
  {
   "cell_type": "code",
   "execution_count": 74,
   "metadata": {},
   "outputs": [],
   "source": [
    "import pickle"
   ]
  },
  {
   "cell_type": "code",
   "execution_count": 90,
   "metadata": {},
   "outputs": [],
   "source": [
    "with open('attributes.pickle', 'wb') as fp:\n",
    "    pickle.dump(memo, fp, protocol=pickle.HIGHEST_PROTOCOL)"
   ]
  },
  {
   "cell_type": "code",
   "execution_count": 91,
   "metadata": {},
   "outputs": [],
   "source": [
    "with open('attributes.pickle', 'rb') as fp:\n",
    "    tmp = pickle.load(fp)"
   ]
  },
  {
   "cell_type": "code",
   "execution_count": 93,
   "metadata": {},
   "outputs": [
    {
     "data": {
      "text/plain": [
       "dict_keys(['Restaurants_1', 'Media_1', 'Events_2', 'Music_2', 'Music_1', 'Events_1', 'Movies_1', 'Flights_1', 'Flights_2', 'RideSharing_2', 'RideSharing_1', 'RentalCars_1', 'RentalCars_2', 'Buses_2', 'Buses_1', 'Hotels_2', 'Services_2', 'Services_1', 'Services_3', 'Homes_1', 'Banks_1', 'Calendar_1', 'Hotels_3', 'Hotels_1'])"
      ]
     },
     "execution_count": 93,
     "metadata": {},
     "output_type": "execute_result"
    }
   ],
   "source": [
    "tmp.keys()"
   ]
  },
  {
   "cell_type": "code",
   "execution_count": 102,
   "metadata": {},
   "outputs": [
    {
     "data": {
      "text/plain": [
       "{'',\n",
       " 'airlines',\n",
       " 'count',\n",
       " 'departure_date',\n",
       " 'destination_airport',\n",
       " 'destination_city',\n",
       " 'inbound_arrival_time',\n",
       " 'inbound_departure_time',\n",
       " 'intent',\n",
       " 'number_stops',\n",
       " 'origin_airport',\n",
       " 'origin_city',\n",
       " 'outbound_arrival_time',\n",
       " 'outbound_departure_time',\n",
       " 'passengers',\n",
       " 'price',\n",
       " 'refundable',\n",
       " 'return_date',\n",
       " 'seating_class'}"
      ]
     },
     "execution_count": 102,
     "metadata": {},
     "output_type": "execute_result"
    }
   ],
   "source": [
    "tmp['Flights_1']"
   ]
  },
  {
   "cell_type": "code",
   "execution_count": 104,
   "metadata": {},
   "outputs": [
    {
     "ename": "NameError",
     "evalue": "name 'travel' is not defined",
     "output_type": "error",
     "traceback": [
      "\u001b[0;31m---------------------------------------------------------------------------\u001b[0m",
      "\u001b[0;31mNameError\u001b[0m                                 Traceback (most recent call last)",
      "\u001b[0;32m<ipython-input-104-4b3c653547e6>\u001b[0m in \u001b[0;36m<module>\u001b[0;34m\u001b[0m\n\u001b[0;32m----> 1\u001b[0;31m \u001b[0mlen\u001b[0m\u001b[0;34m(\u001b[0m\u001b[0mtravel\u001b[0m\u001b[0;34m)\u001b[0m\u001b[0;34m\u001b[0m\u001b[0;34m\u001b[0m\u001b[0m\n\u001b[0m",
      "\u001b[0;31mNameError\u001b[0m: name 'travel' is not defined"
     ]
    }
   ],
   "source": [
    "len(travel)"
   ]
  },
  {
   "cell_type": "code",
   "execution_count": 100,
   "metadata": {},
   "outputs": [
    {
     "data": {
      "text/plain": [
       "{'',\n",
       " 'album',\n",
       " 'artist',\n",
       " 'count',\n",
       " 'genre',\n",
       " 'intent',\n",
       " 'playback_device',\n",
       " 'song_name',\n",
       " 'year'}"
      ]
     },
     "execution_count": 100,
     "metadata": {},
     "output_type": "execute_result"
    }
   ],
   "source": [
    "tmp['Music_1']"
   ]
  },
  {
   "cell_type": "code",
   "execution_count": null,
   "metadata": {},
   "outputs": [],
   "source": []
  }
 ],
 "metadata": {
  "kernelspec": {
   "display_name": "Python 3",
   "language": "python",
   "name": "python3"
  },
  "language_info": {
   "codemirror_mode": {
    "name": "ipython",
    "version": 3
   },
   "file_extension": ".py",
   "mimetype": "text/x-python",
   "name": "python",
   "nbconvert_exporter": "python",
   "pygments_lexer": "ipython3",
   "version": "3.7.4"
  }
 },
 "nbformat": 4,
 "nbformat_minor": 2
}
