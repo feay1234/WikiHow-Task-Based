{
 "cells": [
  {
   "cell_type": "code",
   "execution_count": 1,
   "metadata": {},
   "outputs": [],
   "source": [
    "import pandas as pd"
   ]
  },
  {
   "cell_type": "code",
   "execution_count": 2,
   "metadata": {},
   "outputs": [
    {
     "name": "stdout",
     "output_type": "stream",
     "text": [
      "{\"task_id\": \"4a06139e\", \"domain\": \"UPDATE_CALENDAR\", \"bot_prompt\": \"Schedule the user's meeting request\", \"bot_role\": \"You are a bot designed to help schedule meetings on a calendar. \", \"user_prompt\": \" You have a meeting saved for March 24th. Ask the chatbot to delete the meeting\", \"user_role\": \"You are interacting with a meeting scheduling bot\"}\n",
      "\n"
     ]
    }
   ],
   "source": [
    "with open(\"/Users/jarana/workspace/google-research/schema_guided_dst/data/metalwoz-v1/tasks.txt\") as f:\n",
    "    for line in f:\n",
    "        print(line)\n",
    "        break"
   ]
  },
  {
   "cell_type": "code",
   "execution_count": 3,
   "metadata": {},
   "outputs": [],
   "source": [
    "tasks = pd.read_json(\"/Users/jarana/workspace/google-research/schema_guided_dst/data/metalwoz-v1/tasks.txt\", lines=True)"
   ]
  },
  {
   "cell_type": "code",
   "execution_count": 4,
   "metadata": {},
   "outputs": [],
   "source": [
    "dialog = pd.read_json(\"/Users/jarana/workspace/google-research/schema_guided_dst/data/metalwoz-v1/dialogues/ORDER_PIZZA.txt\", lines=True)"
   ]
  },
  {
   "cell_type": "code",
   "execution_count": 23,
   "metadata": {},
   "outputs": [],
   "source": [
    "import glob\n",
    "\n",
    "txtfiles = []\n",
    "for file in glob.glob(\"/Users/jarana/workspace/google-research/schema_guided_dst/data/metalwoz-v1/dialogues/*.txt\"):\n",
    "    txtfiles.append(file)"
   ]
  },
  {
   "cell_type": "code",
   "execution_count": 24,
   "metadata": {},
   "outputs": [],
   "source": [
    "metalwoz = pd.read_json(txtfiles[0], lines=True)\n",
    "for txt in txtfiles[1:]:\n",
    "    tmp = pd.read_json(txt, lines=True)\n",
    "    metalwoz = pd.concat([metalwoz,tmp])\n"
   ]
  },
  {
   "cell_type": "code",
   "execution_count": 46,
   "metadata": {},
   "outputs": [],
   "source": [
    "import glob\n",
    "\n",
    "txtfiles = []\n",
    "for file in glob.glob(\"/Users/jarana/workspace/google-research/schema_guided_dst/data/dstc8-schema-guided-dialogue/train/*.json\"):\n",
    "    df = pd.read_json(file)\n",
    "    break"
   ]
  },
  {
   "cell_type": "code",
   "execution_count": 58,
   "metadata": {},
   "outputs": [],
   "source": [
    "a = \"This is the first context\""
   ]
  },
  {
   "cell_type": "code",
   "execution_count": 154,
   "metadata": {},
   "outputs": [],
   "source": [
    "schema = pd.read_json(\"/Users/jarana/workspace/google-research/schema_guided_dst/data/dstc8-schema-guided-dialogue/train/schema.json\")\n",
    "schema = pd.concat([schema, pd.read_json(\"/Users/jarana/workspace/google-research/schema_guided_dst/data/dstc8-schema-guided-dialogue/dev/schema.json\")])\n",
    "schema = pd.concat([schema, pd.read_json(\"/Users/jarana/workspace/google-research/schema_guided_dst/data/dstc8-schema-guided-dialogue/test/schema.json\")])"
   ]
  },
  {
   "cell_type": "code",
   "execution_count": 126,
   "metadata": {},
   "outputs": [],
   "source": [
    "slots = []\n",
    "for idx, row in df.iterrows():\n",
    "#     print(row)\n",
    "    service = row['service_name']\n",
    "    for i in row.slots:\n",
    "        slots.append(service+\"_\"+i['name'])\n",
    "#     for i in row.intents:\n",
    "#         slots.extend([service+\"_\"+j for j in i['required_slots']])\n",
    "#         slots.extend([service+\"_\"+j for j in list(i['optional_slots'].keys())])\n",
    "    "
   ]
  },
  {
   "cell_type": "code",
   "execution_count": 167,
   "metadata": {},
   "outputs": [
    {
     "data": {
      "text/plain": [
       "[[{'name': 'ReserveRestaurant',\n",
       "   'description': 'Reserve a table at a restaurant',\n",
       "   'is_transactional': True,\n",
       "   'required_slots': ['restaurant_name', 'city', 'time'],\n",
       "   'optional_slots': {'date': '2019-03-01', 'party_size': '2'}},\n",
       "  {'name': 'FindRestaurants',\n",
       "   'description': 'Find a restaurant of a particular cuisine in a city',\n",
       "   'is_transactional': False,\n",
       "   'required_slots': ['cuisine', 'city'],\n",
       "   'optional_slots': {'has_live_music': 'dontcare',\n",
       "    'serves_alcohol': 'dontcare',\n",
       "    'price_range': 'dontcare'}}]]"
      ]
     },
     "execution_count": 167,
     "metadata": {},
     "output_type": "execute_result"
    }
   ],
   "source": [
    "schema[schema.service_name == \"Restaurants_1\"].intents.tolist()"
   ]
  },
  {
   "cell_type": "code",
   "execution_count": 191,
   "metadata": {},
   "outputs": [],
   "source": [
    "import glob\n",
    "\n",
    "txtfiles = []\n",
    "dialog = None\n",
    "for i in ['train', 'dev', 'test']:\n",
    "    for file in glob.glob(\"/Users/jarana/workspace/google-research/schema_guided_dst/data/dstc8-schema-guided-dialogue/%s/*.json\" % i):\n",
    "        txtfiles.append(file)\n",
    "        dialog = pd.concat([dialog, pd.read_json(file)])"
   ]
  },
  {
   "cell_type": "code",
   "execution_count": 172,
   "metadata": {},
   "outputs": [],
   "source": [
    "frames = dialog.iloc[0]"
   ]
  },
  {
   "cell_type": "code",
   "execution_count": 173,
   "metadata": {},
   "outputs": [
    {
     "data": {
      "text/plain": [
       "dialogue_id                                               100000\n",
       "services                                         [Restaurants_1]\n",
       "turns          [{'frames': [{'service': 'Restaurants_1', 'slo...\n",
       "Name: 0, dtype: object"
      ]
     },
     "execution_count": 173,
     "metadata": {},
     "output_type": "execute_result"
    }
   ],
   "source": [
    "dialog.iloc[0]"
   ]
  },
  {
   "cell_type": "code",
   "execution_count": 156,
   "metadata": {},
   "outputs": [
    {
     "data": {
      "text/plain": [
       "dialogue_id                                               100000\n",
       "services                                         [Restaurants_1]\n",
       "turns          [{'frames': [{'service': 'Restaurants_1', 'slo...\n",
       "Name: 0, dtype: object"
      ]
     },
     "execution_count": 156,
     "metadata": {},
     "output_type": "execute_result"
    }
   ],
   "source": [
    "dialog.iloc[0]"
   ]
  },
  {
   "cell_type": "code",
   "execution_count": 254,
   "metadata": {},
   "outputs": [],
   "source": [
    "prop2desc = {}\n",
    "for idx, s in schema.iterrows():\n",
    "    service = s.service_name\n",
    "    for i in s.slots:\n",
    "        prop2desc[service+\"_\"+i['name']] = i['description']\n"
   ]
  },
  {
   "cell_type": "code",
   "execution_count": 255,
   "metadata": {},
   "outputs": [
    {
     "data": {
      "text/plain": [
       "365"
      ]
     },
     "execution_count": 255,
     "metadata": {},
     "output_type": "execute_result"
    }
   ],
   "source": [
    "len(prop2desc), schema.service_name.nunique()"
   ]
  },
  {
   "cell_type": "code",
   "execution_count": null,
   "metadata": {},
   "outputs": [],
   "source": [
    "train_data = []\n",
    "qid = 1\n",
    "for idx, row in dialog.iterrows():\n",
    "    frames = row['turns']\n",
    "    context = []\n",
    "    \n",
    "    if str(frames)=='nan':\n",
    "        continue\n",
    "        \n",
    "    for f in frames:\n",
    "        service = f['frames'][0]['service']\n",
    "        if len(f['frames']) == 1:\n",
    "            utterance = f['utterance']\n",
    "            if len(f['frames'][0]['slots']) != 0:\n",
    "                terms = []\n",
    "                for s in f['frames'][0]['slots']:\n",
    "                    _context = \" \".join(context)\n",
    "                    answer_start = len(_context) + s[\"start\"] + 1\n",
    "                    _context += \" \" +utterance.replace(utterance[s[\"start\"]:s[\"exclusive_end\"]], s['slot'].replace(\"_\", \" \"))\n",
    "                    _json = {'context': _context, 'qas':[{'id': str(qid), 'is_impossible': False, \n",
    "                                                          'question': prop2desc[service+\"_\"+s['slot']], 'answers':[{'text':s['slot'].replace(\"_\",\" \"), \n",
    "                                                           'answer_start': answer_start}]}]}\n",
    "                    train_data.append(_json)\n",
    "                    qid += 1\n",
    "            context.append(utterance)"
   ]
  },
  {
   "cell_type": "code",
   "execution_count": null,
   "metadata": {},
   "outputs": [],
   "source": [
    "# Save as a JSON file\n",
    "import json\n",
    "with open('data/dialog/train.json', 'w') as f:\n",
    "    json.dump(train_data, f)"
   ]
  },
  {
   "cell_type": "code",
   "execution_count": 414,
   "metadata": {},
   "outputs": [
    {
     "name": "stderr",
     "output_type": "stream",
     "text": [
      "INFO:simpletransformers.question_answering.question_answering_model: Converting to features started.\n",
      "  0%|          | 0/17 [00:00<?, ?it/s]INFO:simpletransformers.question_answering.question_answering_utils:*** Example ***\n",
      "INFO:simpletransformers.question_answering.question_answering_utils:unique_id: 1000000000\n",
      "INFO:simpletransformers.question_answering.question_answering_utils:example_index: 0\n",
      "INFO:simpletransformers.question_answering.question_answering_utils:doc_span_index: 0\n",
      "INFO:simpletransformers.question_answering.question_answering_utils:tokens: [CLS] [UNK] or town where the attraction is located [SEP] [UNK] ' m looking for some free attractions to check out . [UNK] in particular ? [UNK] of a place of interest in location . [SEP]\n",
      "INFO:simpletransformers.question_answering.question_answering_utils:token_to_orig_map: 10:0 11:0 12:0 13:1 14:2 15:3 16:4 17:5 18:6 19:7 20:8 21:8 22:9 23:10 24:11 25:11 26:12 27:13 28:14 29:15 30:16 31:17 32:18 33:19 34:19\n",
      "INFO:simpletransformers.question_answering.question_answering_utils:token_is_max_context: 10:True 11:True 12:True 13:True 14:True 15:True 16:True 17:True 18:True 19:True 20:True 21:True 22:True 23:True 24:True 25:True 26:True 27:True 28:True 29:True 30:True 31:True 32:True 33:True 34:True\n",
      "INFO:simpletransformers.question_answering.question_answering_utils:input_ids: 101 100 2030 2237 2073 1996 8432 2003 2284 102 100 1005 1049 2559 2005 2070 2489 13051 2000 4638 2041 1012 100 1999 3327 1029 100 1997 1037 2173 1997 3037 1999 3295 1012 102 0 0 0 0 0 0 0 0 0 0 0 0 0 0 0 0 0 0 0 0 0 0 0 0 0 0 0 0 0 0 0 0 0 0 0 0 0 0 0 0 0 0 0 0 0 0 0 0 0 0 0 0 0 0 0 0 0 0 0 0 0 0 0 0 0 0 0 0 0 0 0 0 0 0 0 0 0 0 0 0 0 0 0 0 0 0 0 0 0 0 0 0\n",
      "INFO:simpletransformers.question_answering.question_answering_utils:input_mask: 1 1 1 1 1 1 1 1 1 1 1 1 1 1 1 1 1 1 1 1 1 1 1 1 1 1 1 1 1 1 1 1 1 1 1 1 0 0 0 0 0 0 0 0 0 0 0 0 0 0 0 0 0 0 0 0 0 0 0 0 0 0 0 0 0 0 0 0 0 0 0 0 0 0 0 0 0 0 0 0 0 0 0 0 0 0 0 0 0 0 0 0 0 0 0 0 0 0 0 0 0 0 0 0 0 0 0 0 0 0 0 0 0 0 0 0 0 0 0 0 0 0 0 0 0 0 0 0\n",
      "INFO:simpletransformers.question_answering.question_answering_utils:segment_ids: 0 0 0 0 0 0 0 0 0 0 1 1 1 1 1 1 1 1 1 1 1 1 1 1 1 1 1 1 1 1 1 1 1 1 1 1 0 0 0 0 0 0 0 0 0 0 0 0 0 0 0 0 0 0 0 0 0 0 0 0 0 0 0 0 0 0 0 0 0 0 0 0 0 0 0 0 0 0 0 0 0 0 0 0 0 0 0 0 0 0 0 0 0 0 0 0 0 0 0 0 0 0 0 0 0 0 0 0 0 0 0 0 0 0 0 0 0 0 0 0 0 0 0 0 0 0 0 0\n",
      "INFO:simpletransformers.question_answering.question_answering_utils:start_position: 33\n",
      "INFO:simpletransformers.question_answering.question_answering_utils:end_position: 33\n",
      "INFO:simpletransformers.question_answering.question_answering_utils:answer: location\n",
      "INFO:simpletransformers.question_answering.question_answering_utils:*** Example ***\n",
      "INFO:simpletransformers.question_answering.question_answering_utils:unique_id: 1000000001\n",
      "INFO:simpletransformers.question_answering.question_answering_utils:example_index: 1\n",
      "INFO:simpletransformers.question_answering.question_answering_utils:doc_span_index: 0\n",
      "INFO:simpletransformers.question_answering.question_answering_utils:tokens: [CLS] [UNK] name of the attraction [SEP] [UNK] ' m looking for some free attractions to check out . [UNK] in particular ? [UNK] of a place of interest in [UNK] . [UNK] ' s a cool [UNK] [UNK] called attraction name . [SEP]\n",
      "INFO:simpletransformers.question_answering.question_answering_utils:token_to_orig_map: 7:0 8:0 9:0 10:1 11:2 12:3 13:4 14:5 15:6 16:7 17:8 18:8 19:9 20:10 21:11 22:11 23:12 24:13 25:14 26:15 27:16 28:17 29:18 30:19 31:19 32:20 33:20 34:20 35:21 36:22 37:23 38:24 39:25 40:26 41:27 42:27\n",
      "INFO:simpletransformers.question_answering.question_answering_utils:token_is_max_context: 7:True 8:True 9:True 10:True 11:True 12:True 13:True 14:True 15:True 16:True 17:True 18:True 19:True 20:True 21:True 22:True 23:True 24:True 25:True 26:True 27:True 28:True 29:True 30:True 31:True 32:True 33:True 34:True 35:True 36:True 37:True 38:True 39:True 40:True 41:True 42:True\n",
      "INFO:simpletransformers.question_answering.question_answering_utils:input_ids: 101 100 2171 1997 1996 8432 102 100 1005 1049 2559 2005 2070 2489 13051 2000 4638 2041 1012 100 1999 3327 1029 100 1997 1037 2173 1997 3037 1999 100 1012 100 1005 1055 1037 4658 100 100 2170 8432 2171 1012 102 0 0 0 0 0 0 0 0 0 0 0 0 0 0 0 0 0 0 0 0 0 0 0 0 0 0 0 0 0 0 0 0 0 0 0 0 0 0 0 0 0 0 0 0 0 0 0 0 0 0 0 0 0 0 0 0 0 0 0 0 0 0 0 0 0 0 0 0 0 0 0 0 0 0 0 0 0 0 0 0 0 0 0 0\n",
      "INFO:simpletransformers.question_answering.question_answering_utils:input_mask: 1 1 1 1 1 1 1 1 1 1 1 1 1 1 1 1 1 1 1 1 1 1 1 1 1 1 1 1 1 1 1 1 1 1 1 1 1 1 1 1 1 1 1 1 0 0 0 0 0 0 0 0 0 0 0 0 0 0 0 0 0 0 0 0 0 0 0 0 0 0 0 0 0 0 0 0 0 0 0 0 0 0 0 0 0 0 0 0 0 0 0 0 0 0 0 0 0 0 0 0 0 0 0 0 0 0 0 0 0 0 0 0 0 0 0 0 0 0 0 0 0 0 0 0 0 0 0 0\n",
      "INFO:simpletransformers.question_answering.question_answering_utils:segment_ids: 0 0 0 0 0 0 0 1 1 1 1 1 1 1 1 1 1 1 1 1 1 1 1 1 1 1 1 1 1 1 1 1 1 1 1 1 1 1 1 1 1 1 1 1 0 0 0 0 0 0 0 0 0 0 0 0 0 0 0 0 0 0 0 0 0 0 0 0 0 0 0 0 0 0 0 0 0 0 0 0 0 0 0 0 0 0 0 0 0 0 0 0 0 0 0 0 0 0 0 0 0 0 0 0 0 0 0 0 0 0 0 0 0 0 0 0 0 0 0 0 0 0 0 0 0 0 0 0\n",
      "INFO:simpletransformers.question_answering.question_answering_utils:start_position: 40\n",
      "INFO:simpletransformers.question_answering.question_answering_utils:end_position: 41\n",
      "INFO:simpletransformers.question_answering.question_answering_utils:answer: attraction name\n",
      "INFO:simpletransformers.question_answering.question_answering_utils:*** Example ***\n",
      "INFO:simpletransformers.question_answering.question_answering_utils:unique_id: 1000000002\n",
      "INFO:simpletransformers.question_answering.question_answering_utils:example_index: 2\n",
      "INFO:simpletransformers.question_answering.question_answering_utils:doc_span_index: 0\n",
      "INFO:simpletransformers.question_answering.question_answering_utils:tokens: [CLS] [UNK] of the hotel [SEP] [UNK] ' m looking for some free attractions to check out . [UNK] in particular ? [UNK] of a place of interest in [UNK] . [UNK] ' s a cool [UNK] [UNK] called [UNK] [UNK] . [UNK] it kid - friendly ? [UNK] ' s not the best place for kids . [UNK] right , thanks . [UNK] else [UNK] can help with ? [UNK] ' ll be a 2 room hotel there . [UNK] about hotel name with its 4 . 5 rating ? [SEP]\n",
      "INFO:simpletransformers.question_answering.question_answering_utils:token_to_orig_map: 6:0 7:0 8:0 9:1 10:2 11:3 12:4 13:5 14:6 15:7 16:8 17:8 18:9 19:10 20:11 21:11 22:12 23:13 24:14 25:15 26:16 27:17 28:18 29:19 30:19 31:20 32:20 33:20 34:21 35:22 36:23 37:24 38:25 39:26 40:27 41:27 42:28 43:29 44:30 45:30 46:30 47:30 48:31 49:31 50:31 51:32 52:33 53:34 54:35 55:36 56:37 57:37 58:38 59:39 60:39 61:40 62:40 63:41 64:42 65:43 66:44 67:45 68:46 69:46 70:47 71:47 72:47 73:48 74:49 75:50 76:51 77:52 78:53 79:53 80:54 81:55 82:56 83:57 84:58 85:59 86:60 87:60 88:60 89:61 90:61\n",
      "INFO:simpletransformers.question_answering.question_answering_utils:token_is_max_context: 6:True 7:True 8:True 9:True 10:True 11:True 12:True 13:True 14:True 15:True 16:True 17:True 18:True 19:True 20:True 21:True 22:True 23:True 24:True 25:True 26:True 27:True 28:True 29:True 30:True 31:True 32:True 33:True 34:True 35:True 36:True 37:True 38:True 39:True 40:True 41:True 42:True 43:True 44:True 45:True 46:True 47:True 48:True 49:True 50:True 51:True 52:True 53:True 54:True 55:True 56:True 57:True 58:True 59:True 60:True 61:True 62:True 63:True 64:True 65:True 66:True 67:True 68:True 69:True 70:True 71:True 72:True 73:True 74:True 75:True 76:True 77:True 78:True 79:True 80:True 81:True 82:True 83:True 84:True 85:True 86:True 87:True 88:True 89:True 90:True\n",
      "INFO:simpletransformers.question_answering.question_answering_utils:input_ids: 101 100 1997 1996 3309 102 100 1005 1049 2559 2005 2070 2489 13051 2000 4638 2041 1012 100 1999 3327 1029 100 1997 1037 2173 1997 3037 1999 100 1012 100 1005 1055 1037 4658 100 100 2170 100 100 1012 100 2009 4845 1011 5379 1029 100 1005 1055 2025 1996 2190 2173 2005 4268 1012 100 2157 1010 4283 1012 100 2842 100 2064 2393 2007 1029 100 1005 2222 2022 1037 1016 2282 3309 2045 1012 100 2055 3309 2171 2007 2049 1018 1012 1019 5790 1029 102 0 0 0 0 0 0 0 0 0 0 0 0 0 0 0 0 0 0 0 0 0 0 0 0 0 0 0 0 0 0 0 0 0 0 0 0\n",
      "INFO:simpletransformers.question_answering.question_answering_utils:input_mask: 1 1 1 1 1 1 1 1 1 1 1 1 1 1 1 1 1 1 1 1 1 1 1 1 1 1 1 1 1 1 1 1 1 1 1 1 1 1 1 1 1 1 1 1 1 1 1 1 1 1 1 1 1 1 1 1 1 1 1 1 1 1 1 1 1 1 1 1 1 1 1 1 1 1 1 1 1 1 1 1 1 1 1 1 1 1 1 1 1 1 1 1 0 0 0 0 0 0 0 0 0 0 0 0 0 0 0 0 0 0 0 0 0 0 0 0 0 0 0 0 0 0 0 0 0 0 0 0\n"
     ]
    },
    {
     "name": "stderr",
     "output_type": "stream",
     "text": [
      "INFO:simpletransformers.question_answering.question_answering_utils:segment_ids: 0 0 0 0 0 0 1 1 1 1 1 1 1 1 1 1 1 1 1 1 1 1 1 1 1 1 1 1 1 1 1 1 1 1 1 1 1 1 1 1 1 1 1 1 1 1 1 1 1 1 1 1 1 1 1 1 1 1 1 1 1 1 1 1 1 1 1 1 1 1 1 1 1 1 1 1 1 1 1 1 1 1 1 1 1 1 1 1 1 1 1 1 0 0 0 0 0 0 0 0 0 0 0 0 0 0 0 0 0 0 0 0 0 0 0 0 0 0 0 0 0 0 0 0 0 0 0 0\n",
      "INFO:simpletransformers.question_answering.question_answering_utils:start_position: 82\n",
      "INFO:simpletransformers.question_answering.question_answering_utils:end_position: 83\n",
      "INFO:simpletransformers.question_answering.question_answering_utils:answer: hotel name\n",
      "INFO:simpletransformers.question_answering.question_answering_utils:*** Example ***\n",
      "INFO:simpletransformers.question_answering.question_answering_utils:unique_id: 1000000003\n",
      "INFO:simpletransformers.question_answering.question_answering_utils:example_index: 3\n",
      "INFO:simpletransformers.question_answering.question_answering_utils:doc_span_index: 0\n",
      "INFO:simpletransformers.question_answering.question_answering_utils:tokens: [CLS] [UNK] review rating for the hotel [SEP] [UNK] ' m looking for some free attractions to check out . [UNK] in particular ? [UNK] of a place of interest in [UNK] . [UNK] ' s a cool [UNK] [UNK] called [UNK] [UNK] . [UNK] it kid - friendly ? [UNK] ' s not the best place for kids . [UNK] right , thanks . [UNK] else [UNK] can help with ? [UNK] ' ll be a 2 room hotel there . [UNK] about 1 [UNK] [UNK] [UNK] with its average rating rating ? [SEP]\n",
      "INFO:simpletransformers.question_answering.question_answering_utils:token_to_orig_map: 8:0 9:0 10:0 11:1 12:2 13:3 14:4 15:5 16:6 17:7 18:8 19:8 20:9 21:10 22:11 23:11 24:12 25:13 26:14 27:15 28:16 29:17 30:18 31:19 32:19 33:20 34:20 35:20 36:21 37:22 38:23 39:24 40:25 41:26 42:27 43:27 44:28 45:29 46:30 47:30 48:30 49:30 50:31 51:31 52:31 53:32 54:33 55:34 56:35 57:36 58:37 59:37 60:38 61:39 62:39 63:40 64:40 65:41 66:42 67:43 68:44 69:45 70:46 71:46 72:47 73:47 74:47 75:48 76:49 77:50 78:51 79:52 80:53 81:53 82:54 83:55 84:56 85:57 86:58 87:59 88:60 89:61 90:62 91:63 92:64 93:64\n",
      "INFO:simpletransformers.question_answering.question_answering_utils:token_is_max_context: 8:True 9:True 10:True 11:True 12:True 13:True 14:True 15:True 16:True 17:True 18:True 19:True 20:True 21:True 22:True 23:True 24:True 25:True 26:True 27:True 28:True 29:True 30:True 31:True 32:True 33:True 34:True 35:True 36:True 37:True 38:True 39:True 40:True 41:True 42:True 43:True 44:True 45:True 46:True 47:True 48:True 49:True 50:True 51:True 52:True 53:True 54:True 55:True 56:True 57:True 58:True 59:True 60:True 61:True 62:True 63:True 64:True 65:True 66:True 67:True 68:True 69:True 70:True 71:True 72:True 73:True 74:True 75:True 76:True 77:True 78:True 79:True 80:True 81:True 82:True 83:True 84:True 85:True 86:True 87:True 88:True 89:True 90:True 91:True 92:True 93:True\n",
      "INFO:simpletransformers.question_answering.question_answering_utils:input_ids: 101 100 3319 5790 2005 1996 3309 102 100 1005 1049 2559 2005 2070 2489 13051 2000 4638 2041 1012 100 1999 3327 1029 100 1997 1037 2173 1997 3037 1999 100 1012 100 1005 1055 1037 4658 100 100 2170 100 100 1012 100 2009 4845 1011 5379 1029 100 1005 1055 2025 1996 2190 2173 2005 4268 1012 100 2157 1010 4283 1012 100 2842 100 2064 2393 2007 1029 100 1005 2222 2022 1037 1016 2282 3309 2045 1012 100 2055 1015 100 100 100 2007 2049 2779 5790 5790 1029 102 0 0 0 0 0 0 0 0 0 0 0 0 0 0 0 0 0 0 0 0 0 0 0 0 0 0 0 0 0 0 0 0 0\n",
      "INFO:simpletransformers.question_answering.question_answering_utils:input_mask: 1 1 1 1 1 1 1 1 1 1 1 1 1 1 1 1 1 1 1 1 1 1 1 1 1 1 1 1 1 1 1 1 1 1 1 1 1 1 1 1 1 1 1 1 1 1 1 1 1 1 1 1 1 1 1 1 1 1 1 1 1 1 1 1 1 1 1 1 1 1 1 1 1 1 1 1 1 1 1 1 1 1 1 1 1 1 1 1 1 1 1 1 1 1 1 0 0 0 0 0 0 0 0 0 0 0 0 0 0 0 0 0 0 0 0 0 0 0 0 0 0 0 0 0 0 0 0 0\n",
      "INFO:simpletransformers.question_answering.question_answering_utils:segment_ids: 0 0 0 0 0 0 0 0 1 1 1 1 1 1 1 1 1 1 1 1 1 1 1 1 1 1 1 1 1 1 1 1 1 1 1 1 1 1 1 1 1 1 1 1 1 1 1 1 1 1 1 1 1 1 1 1 1 1 1 1 1 1 1 1 1 1 1 1 1 1 1 1 1 1 1 1 1 1 1 1 1 1 1 1 1 1 1 1 1 1 1 1 1 1 1 0 0 0 0 0 0 0 0 0 0 0 0 0 0 0 0 0 0 0 0 0 0 0 0 0 0 0 0 0 0 0 0 0\n",
      "INFO:simpletransformers.question_answering.question_answering_utils:start_position: 90\n",
      "INFO:simpletransformers.question_answering.question_answering_utils:end_position: 91\n",
      "INFO:simpletransformers.question_answering.question_answering_utils:answer: average rating\n",
      "INFO:simpletransformers.question_answering.question_answering_utils:*** Example ***\n",
      "INFO:simpletransformers.question_answering.question_answering_utils:unique_id: 1000000004\n",
      "INFO:simpletransformers.question_answering.question_answering_utils:example_index: 4\n",
      "INFO:simpletransformers.question_answering.question_answering_utils:doc_span_index: 0\n",
      "INFO:simpletransformers.question_answering.question_answering_utils:tokens: [CLS] [UNK] of the hotel [SEP] [UNK] ' m looking for some free attractions to check out . [UNK] in particular ? [UNK] of a place of interest in [UNK] . [UNK] ' s a cool [UNK] [UNK] called [UNK] [UNK] . [UNK] it kid - friendly ? [UNK] ' s not the best place for kids . [UNK] right , thanks . [UNK] else [UNK] can help with ? [UNK] ' ll be a 2 room hotel there . [UNK] about 1 [UNK] [UNK] [UNK] with its 4 . 5 rating ? [UNK] anything else ? [UNK] ' s hotel name with a 4 . 5 rating . [SEP]\n",
      "INFO:simpletransformers.question_answering.question_answering_utils:token_to_orig_map: 6:0 7:0 8:0 9:1 10:2 11:3 12:4 13:5 14:6 15:7 16:8 17:8 18:9 19:10 20:11 21:11 22:12 23:13 24:14 25:15 26:16 27:17 28:18 29:19 30:19 31:20 32:20 33:20 34:21 35:22 36:23 37:24 38:25 39:26 40:27 41:27 42:28 43:29 44:30 45:30 46:30 47:30 48:31 49:31 50:31 51:32 52:33 53:34 54:35 55:36 56:37 57:37 58:38 59:39 60:39 61:40 62:40 63:41 64:42 65:43 66:44 67:45 68:46 69:46 70:47 71:47 72:47 73:48 74:49 75:50 76:51 77:52 78:53 79:53 80:54 81:55 82:56 83:57 84:58 85:59 86:60 87:61 88:62 89:62 90:62 91:63 92:63 93:64 94:65 95:66 96:66 97:67 98:67 99:67 100:68 101:69 102:70 103:71 104:72 105:72 106:72 107:73 108:73\n",
      "INFO:simpletransformers.question_answering.question_answering_utils:token_is_max_context: 6:True 7:True 8:True 9:True 10:True 11:True 12:True 13:True 14:True 15:True 16:True 17:True 18:True 19:True 20:True 21:True 22:True 23:True 24:True 25:True 26:True 27:True 28:True 29:True 30:True 31:True 32:True 33:True 34:True 35:True 36:True 37:True 38:True 39:True 40:True 41:True 42:True 43:True 44:True 45:True 46:True 47:True 48:True 49:True 50:True 51:True 52:True 53:True 54:True 55:True 56:True 57:True 58:True 59:True 60:True 61:True 62:True 63:True 64:True 65:True 66:True 67:True 68:True 69:True 70:True 71:True 72:True 73:True 74:True 75:True 76:True 77:True 78:True 79:True 80:True 81:True 82:True 83:True 84:True 85:True 86:True 87:True 88:True 89:True 90:True 91:True 92:True 93:True 94:True 95:True 96:True 97:True 98:True 99:True 100:True 101:True 102:True 103:True 104:True 105:True 106:True 107:True 108:True\n",
      "INFO:simpletransformers.question_answering.question_answering_utils:input_ids: 101 100 1997 1996 3309 102 100 1005 1049 2559 2005 2070 2489 13051 2000 4638 2041 1012 100 1999 3327 1029 100 1997 1037 2173 1997 3037 1999 100 1012 100 1005 1055 1037 4658 100 100 2170 100 100 1012 100 2009 4845 1011 5379 1029 100 1005 1055 2025 1996 2190 2173 2005 4268 1012 100 2157 1010 4283 1012 100 2842 100 2064 2393 2007 1029 100 1005 2222 2022 1037 1016 2282 3309 2045 1012 100 2055 1015 100 100 100 2007 2049 1018 1012 1019 5790 1029 100 2505 2842 1029 100 1005 1055 3309 2171 2007 1037 1018 1012 1019 5790 1012 102 0 0 0 0 0 0 0 0 0 0 0 0 0 0 0 0 0 0\n",
      "INFO:simpletransformers.question_answering.question_answering_utils:input_mask: 1 1 1 1 1 1 1 1 1 1 1 1 1 1 1 1 1 1 1 1 1 1 1 1 1 1 1 1 1 1 1 1 1 1 1 1 1 1 1 1 1 1 1 1 1 1 1 1 1 1 1 1 1 1 1 1 1 1 1 1 1 1 1 1 1 1 1 1 1 1 1 1 1 1 1 1 1 1 1 1 1 1 1 1 1 1 1 1 1 1 1 1 1 1 1 1 1 1 1 1 1 1 1 1 1 1 1 1 1 1 0 0 0 0 0 0 0 0 0 0 0 0 0 0 0 0 0 0\n",
      "INFO:simpletransformers.question_answering.question_answering_utils:segment_ids: 0 0 0 0 0 0 1 1 1 1 1 1 1 1 1 1 1 1 1 1 1 1 1 1 1 1 1 1 1 1 1 1 1 1 1 1 1 1 1 1 1 1 1 1 1 1 1 1 1 1 1 1 1 1 1 1 1 1 1 1 1 1 1 1 1 1 1 1 1 1 1 1 1 1 1 1 1 1 1 1 1 1 1 1 1 1 1 1 1 1 1 1 1 1 1 1 1 1 1 1 1 1 1 1 1 1 1 1 1 1 0 0 0 0 0 0 0 0 0 0 0 0 0 0 0 0 0 0\n"
     ]
    },
    {
     "name": "stderr",
     "output_type": "stream",
     "text": [
      "INFO:simpletransformers.question_answering.question_answering_utils:start_position: 100\n",
      "INFO:simpletransformers.question_answering.question_answering_utils:end_position: 101\n",
      "INFO:simpletransformers.question_answering.question_answering_utils:answer: hotel name\n",
      "INFO:simpletransformers.question_answering.question_answering_utils:*** Example ***\n",
      "INFO:simpletransformers.question_answering.question_answering_utils:unique_id: 1000000005\n",
      "INFO:simpletransformers.question_answering.question_answering_utils:example_index: 5\n",
      "INFO:simpletransformers.question_answering.question_answering_utils:doc_span_index: 0\n",
      "INFO:simpletransformers.question_answering.question_answering_utils:tokens: [CLS] [UNK] review rating for the hotel [SEP] [UNK] ' m looking for some free attractions to check out . [UNK] in particular ? [UNK] of a place of interest in [UNK] . [UNK] ' s a cool [UNK] [UNK] called [UNK] [UNK] . [UNK] it kid - friendly ? [UNK] ' s not the best place for kids . [UNK] right , thanks . [UNK] else [UNK] can help with ? [UNK] ' ll be a 2 room hotel there . [UNK] about 1 [UNK] [UNK] [UNK] with its 4 . 5 rating ? [UNK] anything else ? [UNK] ' s 1 [UNK] [UNK] [UNK] with a average rating rating . [SEP]\n",
      "INFO:simpletransformers.question_answering.question_answering_utils:token_to_orig_map: 8:0 9:0 10:0 11:1 12:2 13:3 14:4 15:5 16:6 17:7 18:8 19:8 20:9 21:10 22:11 23:11 24:12 25:13 26:14 27:15 28:16 29:17 30:18 31:19 32:19 33:20 34:20 35:20 36:21 37:22 38:23 39:24 40:25 41:26 42:27 43:27 44:28 45:29 46:30 47:30 48:30 49:30 50:31 51:31 52:31 53:32 54:33 55:34 56:35 57:36 58:37 59:37 60:38 61:39 62:39 63:40 64:40 65:41 66:42 67:43 68:44 69:45 70:46 71:46 72:47 73:47 74:47 75:48 76:49 77:50 78:51 79:52 80:53 81:53 82:54 83:55 84:56 85:57 86:58 87:59 88:60 89:61 90:62 91:62 92:62 93:63 94:63 95:64 96:65 97:66 98:66 99:67 100:67 101:67 102:68 103:69 104:70 105:71 106:72 107:73 108:74 109:75 110:76 111:76\n",
      "INFO:simpletransformers.question_answering.question_answering_utils:token_is_max_context: 8:True 9:True 10:True 11:True 12:True 13:True 14:True 15:True 16:True 17:True 18:True 19:True 20:True 21:True 22:True 23:True 24:True 25:True 26:True 27:True 28:True 29:True 30:True 31:True 32:True 33:True 34:True 35:True 36:True 37:True 38:True 39:True 40:True 41:True 42:True 43:True 44:True 45:True 46:True 47:True 48:True 49:True 50:True 51:True 52:True 53:True 54:True 55:True 56:True 57:True 58:True 59:True 60:True 61:True 62:True 63:True 64:True 65:True 66:True 67:True 68:True 69:True 70:True 71:True 72:True 73:True 74:True 75:True 76:True 77:True 78:True 79:True 80:True 81:True 82:True 83:True 84:True 85:True 86:True 87:True 88:True 89:True 90:True 91:True 92:True 93:True 94:True 95:True 96:True 97:True 98:True 99:True 100:True 101:True 102:True 103:True 104:True 105:True 106:True 107:True 108:True 109:True 110:True 111:True\n",
      "INFO:simpletransformers.question_answering.question_answering_utils:input_ids: 101 100 3319 5790 2005 1996 3309 102 100 1005 1049 2559 2005 2070 2489 13051 2000 4638 2041 1012 100 1999 3327 1029 100 1997 1037 2173 1997 3037 1999 100 1012 100 1005 1055 1037 4658 100 100 2170 100 100 1012 100 2009 4845 1011 5379 1029 100 1005 1055 2025 1996 2190 2173 2005 4268 1012 100 2157 1010 4283 1012 100 2842 100 2064 2393 2007 1029 100 1005 2222 2022 1037 1016 2282 3309 2045 1012 100 2055 1015 100 100 100 2007 2049 1018 1012 1019 5790 1029 100 2505 2842 1029 100 1005 1055 1015 100 100 100 2007 1037 2779 5790 5790 1012 102 0 0 0 0 0 0 0 0 0 0 0 0 0 0 0\n",
      "INFO:simpletransformers.question_answering.question_answering_utils:input_mask: 1 1 1 1 1 1 1 1 1 1 1 1 1 1 1 1 1 1 1 1 1 1 1 1 1 1 1 1 1 1 1 1 1 1 1 1 1 1 1 1 1 1 1 1 1 1 1 1 1 1 1 1 1 1 1 1 1 1 1 1 1 1 1 1 1 1 1 1 1 1 1 1 1 1 1 1 1 1 1 1 1 1 1 1 1 1 1 1 1 1 1 1 1 1 1 1 1 1 1 1 1 1 1 1 1 1 1 1 1 1 1 1 1 0 0 0 0 0 0 0 0 0 0 0 0 0 0 0\n",
      "INFO:simpletransformers.question_answering.question_answering_utils:segment_ids: 0 0 0 0 0 0 0 0 1 1 1 1 1 1 1 1 1 1 1 1 1 1 1 1 1 1 1 1 1 1 1 1 1 1 1 1 1 1 1 1 1 1 1 1 1 1 1 1 1 1 1 1 1 1 1 1 1 1 1 1 1 1 1 1 1 1 1 1 1 1 1 1 1 1 1 1 1 1 1 1 1 1 1 1 1 1 1 1 1 1 1 1 1 1 1 1 1 1 1 1 1 1 1 1 1 1 1 1 1 1 1 1 1 0 0 0 0 0 0 0 0 0 0 0 0 0 0 0\n",
      "INFO:simpletransformers.question_answering.question_answering_utils:start_position: 108\n",
      "INFO:simpletransformers.question_answering.question_answering_utils:end_position: 109\n",
      "INFO:simpletransformers.question_answering.question_answering_utils:answer: average rating\n",
      "INFO:simpletransformers.question_answering.question_answering_utils:*** Example ***\n",
      "INFO:simpletransformers.question_answering.question_answering_utils:unique_id: 1000000006\n",
      "INFO:simpletransformers.question_answering.question_answering_utils:example_index: 6\n",
      "INFO:simpletransformers.question_answering.question_answering_utils:doc_span_index: 0\n",
      "INFO:simpletransformers.question_answering.question_answering_utils:tokens: [CLS] [UNK] of the hotel [SEP] [UNK] ' m looking for some free attractions to check out . [UNK] in particular ? [UNK] of a place of interest in [UNK] . [UNK] ' s a cool [UNK] [UNK] called [UNK] [UNK] . [UNK] it kid - friendly ? [UNK] ' s not the best place for kids . [UNK] right , thanks . [UNK] else [UNK] can help with ? [UNK] ' ll be a 2 room hotel there . [UNK] about 1 [UNK] [UNK] [UNK] with its 4 . 5 rating ? [UNK] anything else ? [UNK] ' s 1 [UNK] [UNK] [UNK] with a 4 . 5 rating . [UNK] anything else ? [UNK] ' s hotel name with a 4 . 3 rating . [SEP]\n",
      "INFO:simpletransformers.question_answering.question_answering_utils:token_to_orig_map: 6:0 7:0 8:0 9:1 10:2 11:3 12:4 13:5 14:6 15:7 16:8 17:8 18:9 19:10 20:11 21:11 22:12 23:13 24:14 25:15 26:16 27:17 28:18 29:19 30:19 31:20 32:20 33:20 34:21 35:22 36:23 37:24 38:25 39:26 40:27 41:27 42:28 43:29 44:30 45:30 46:30 47:30 48:31 49:31 50:31 51:32 52:33 53:34 54:35 55:36 56:37 57:37 58:38 59:39 60:39 61:40 62:40 63:41 64:42 65:43 66:44 67:45 68:46 69:46 70:47 71:47 72:47 73:48 74:49 75:50 76:51 77:52 78:53 79:53 80:54 81:55 82:56 83:57 84:58 85:59 86:60 87:61 88:62 89:62 90:62 91:63 92:63 93:64 94:65 95:66 96:66 97:67 98:67 99:67 100:68 101:69 102:70 103:71 104:72 105:73 106:74 107:74 108:74 109:75 110:75 111:76 112:77 113:78 114:78 115:79 116:79 117:79 118:80 119:81 120:82 121:83 122:84 123:84 124:84 125:85 126:85\n",
      "INFO:simpletransformers.question_answering.question_answering_utils:token_is_max_context: 6:True 7:True 8:True 9:True 10:True 11:True 12:True 13:True 14:True 15:True 16:True 17:True 18:True 19:True 20:True 21:True 22:True 23:True 24:True 25:True 26:True 27:True 28:True 29:True 30:True 31:True 32:True 33:True 34:True 35:True 36:True 37:True 38:True 39:True 40:True 41:True 42:True 43:True 44:True 45:True 46:True 47:True 48:True 49:True 50:True 51:True 52:True 53:True 54:True 55:True 56:True 57:True 58:True 59:True 60:True 61:True 62:True 63:True 64:True 65:True 66:True 67:True 68:True 69:True 70:True 71:True 72:True 73:True 74:True 75:True 76:True 77:True 78:True 79:True 80:True 81:True 82:True 83:True 84:True 85:True 86:True 87:True 88:True 89:True 90:True 91:True 92:True 93:True 94:True 95:True 96:True 97:True 98:True 99:True 100:True 101:True 102:True 103:True 104:True 105:True 106:True 107:True 108:True 109:True 110:True 111:True 112:True 113:True 114:True 115:True 116:True 117:True 118:True 119:True 120:True 121:True 122:True 123:True 124:True 125:True 126:True\n",
      "INFO:simpletransformers.question_answering.question_answering_utils:input_ids: 101 100 1997 1996 3309 102 100 1005 1049 2559 2005 2070 2489 13051 2000 4638 2041 1012 100 1999 3327 1029 100 1997 1037 2173 1997 3037 1999 100 1012 100 1005 1055 1037 4658 100 100 2170 100 100 1012 100 2009 4845 1011 5379 1029 100 1005 1055 2025 1996 2190 2173 2005 4268 1012 100 2157 1010 4283 1012 100 2842 100 2064 2393 2007 1029 100 1005 2222 2022 1037 1016 2282 3309 2045 1012 100 2055 1015 100 100 100 2007 2049 1018 1012 1019 5790 1029 100 2505 2842 1029 100 1005 1055 1015 100 100 100 2007 1037 1018 1012 1019 5790 1012 100 2505 2842 1029 100 1005 1055 3309 2171 2007 1037 1018 1012 1017 5790 1012 102\n",
      "INFO:simpletransformers.question_answering.question_answering_utils:input_mask: 1 1 1 1 1 1 1 1 1 1 1 1 1 1 1 1 1 1 1 1 1 1 1 1 1 1 1 1 1 1 1 1 1 1 1 1 1 1 1 1 1 1 1 1 1 1 1 1 1 1 1 1 1 1 1 1 1 1 1 1 1 1 1 1 1 1 1 1 1 1 1 1 1 1 1 1 1 1 1 1 1 1 1 1 1 1 1 1 1 1 1 1 1 1 1 1 1 1 1 1 1 1 1 1 1 1 1 1 1 1 1 1 1 1 1 1 1 1 1 1 1 1 1 1 1 1 1 1\n"
     ]
    },
    {
     "name": "stderr",
     "output_type": "stream",
     "text": [
      "INFO:simpletransformers.question_answering.question_answering_utils:segment_ids: 0 0 0 0 0 0 1 1 1 1 1 1 1 1 1 1 1 1 1 1 1 1 1 1 1 1 1 1 1 1 1 1 1 1 1 1 1 1 1 1 1 1 1 1 1 1 1 1 1 1 1 1 1 1 1 1 1 1 1 1 1 1 1 1 1 1 1 1 1 1 1 1 1 1 1 1 1 1 1 1 1 1 1 1 1 1 1 1 1 1 1 1 1 1 1 1 1 1 1 1 1 1 1 1 1 1 1 1 1 1 1 1 1 1 1 1 1 1 1 1 1 1 1 1 1 1 1 1\n",
      "INFO:simpletransformers.question_answering.question_answering_utils:start_position: 118\n",
      "INFO:simpletransformers.question_answering.question_answering_utils:end_position: 119\n",
      "INFO:simpletransformers.question_answering.question_answering_utils:answer: hotel name\n",
      "INFO:simpletransformers.question_answering.question_answering_utils:*** Example ***\n",
      "INFO:simpletransformers.question_answering.question_answering_utils:unique_id: 1000000007\n",
      "INFO:simpletransformers.question_answering.question_answering_utils:example_index: 7\n",
      "INFO:simpletransformers.question_answering.question_answering_utils:doc_span_index: 0\n",
      "INFO:simpletransformers.question_answering.question_answering_utils:tokens: [CLS] [UNK] review rating for the hotel [SEP] [UNK] ' m looking for some free attractions to check out . [UNK] in particular ? [UNK] of a place of interest in [UNK] . [UNK] ' s a cool [UNK] [UNK] called [UNK] [UNK] . [UNK] it kid - friendly ? [UNK] ' s not the best place for kids . [UNK] right , thanks . [UNK] else [UNK] can help with ? [UNK] ' ll be a 2 room hotel there . [UNK] about 1 [UNK] [UNK] [UNK] with its 4 . 5 rating ? [UNK] anything else ? [UNK] ' s 1 [UNK] [UNK] [UNK] with a 4 . 5 rating . [UNK] anything else ? [UNK] ' s 11 [UNK] with a average rating rating [SEP]\n",
      "INFO:simpletransformers.question_answering.question_answering_utils:token_to_orig_map: 8:0 9:0 10:0 11:1 12:2 13:3 14:4 15:5 16:6 17:7 18:8 19:8 20:9 21:10 22:11 23:11 24:12 25:13 26:14 27:15 28:16 29:17 30:18 31:19 32:19 33:20 34:20 35:20 36:21 37:22 38:23 39:24 40:25 41:26 42:27 43:27 44:28 45:29 46:30 47:30 48:30 49:30 50:31 51:31 52:31 53:32 54:33 55:34 56:35 57:36 58:37 59:37 60:38 61:39 62:39 63:40 64:40 65:41 66:42 67:43 68:44 69:45 70:46 71:46 72:47 73:47 74:47 75:48 76:49 77:50 78:51 79:52 80:53 81:53 82:54 83:55 84:56 85:57 86:58 87:59 88:60 89:61 90:62 91:62 92:62 93:63 94:63 95:64 96:65 97:66 98:66 99:67 100:67 101:67 102:68 103:69 104:70 105:71 106:72 107:73 108:74 109:74 110:74 111:75 112:75 113:76 114:77 115:78 116:78 117:79 118:79 119:79 120:80 121:81 122:82 123:83 124:84 125:85 126:86\n",
      "INFO:simpletransformers.question_answering.question_answering_utils:token_is_max_context: 8:True 9:True 10:True 11:True 12:True 13:True 14:True 15:True 16:True 17:True 18:True 19:True 20:True 21:True 22:True 23:True 24:True 25:True 26:True 27:True 28:True 29:True 30:True 31:True 32:True 33:True 34:True 35:True 36:True 37:True 38:True 39:True 40:True 41:True 42:True 43:True 44:True 45:True 46:True 47:True 48:True 49:True 50:True 51:True 52:True 53:True 54:True 55:True 56:True 57:True 58:True 59:True 60:True 61:True 62:True 63:True 64:True 65:True 66:True 67:True 68:True 69:True 70:True 71:True 72:True 73:True 74:True 75:True 76:True 77:True 78:True 79:True 80:True 81:True 82:True 83:True 84:True 85:True 86:True 87:True 88:True 89:True 90:True 91:True 92:True 93:True 94:True 95:True 96:True 97:True 98:True 99:True 100:True 101:True 102:True 103:True 104:True 105:True 106:True 107:True 108:True 109:True 110:True 111:True 112:True 113:True 114:True 115:True 116:True 117:True 118:True 119:True 120:True 121:True 122:True 123:True 124:True 125:True 126:True\n",
      "INFO:simpletransformers.question_answering.question_answering_utils:input_ids: 101 100 3319 5790 2005 1996 3309 102 100 1005 1049 2559 2005 2070 2489 13051 2000 4638 2041 1012 100 1999 3327 1029 100 1997 1037 2173 1997 3037 1999 100 1012 100 1005 1055 1037 4658 100 100 2170 100 100 1012 100 2009 4845 1011 5379 1029 100 1005 1055 2025 1996 2190 2173 2005 4268 1012 100 2157 1010 4283 1012 100 2842 100 2064 2393 2007 1029 100 1005 2222 2022 1037 1016 2282 3309 2045 1012 100 2055 1015 100 100 100 2007 2049 1018 1012 1019 5790 1029 100 2505 2842 1029 100 1005 1055 1015 100 100 100 2007 1037 1018 1012 1019 5790 1012 100 2505 2842 1029 100 1005 1055 2340 100 2007 1037 2779 5790 5790 102\n",
      "INFO:simpletransformers.question_answering.question_answering_utils:input_mask: 1 1 1 1 1 1 1 1 1 1 1 1 1 1 1 1 1 1 1 1 1 1 1 1 1 1 1 1 1 1 1 1 1 1 1 1 1 1 1 1 1 1 1 1 1 1 1 1 1 1 1 1 1 1 1 1 1 1 1 1 1 1 1 1 1 1 1 1 1 1 1 1 1 1 1 1 1 1 1 1 1 1 1 1 1 1 1 1 1 1 1 1 1 1 1 1 1 1 1 1 1 1 1 1 1 1 1 1 1 1 1 1 1 1 1 1 1 1 1 1 1 1 1 1 1 1 1 1\n",
      "INFO:simpletransformers.question_answering.question_answering_utils:segment_ids: 0 0 0 0 0 0 0 0 1 1 1 1 1 1 1 1 1 1 1 1 1 1 1 1 1 1 1 1 1 1 1 1 1 1 1 1 1 1 1 1 1 1 1 1 1 1 1 1 1 1 1 1 1 1 1 1 1 1 1 1 1 1 1 1 1 1 1 1 1 1 1 1 1 1 1 1 1 1 1 1 1 1 1 1 1 1 1 1 1 1 1 1 1 1 1 1 1 1 1 1 1 1 1 1 1 1 1 1 1 1 1 1 1 1 1 1 1 1 1 1 1 1 1 1 1 1 1 1\n",
      "INFO:simpletransformers.question_answering.question_answering_utils:start_position: 124\n",
      "INFO:simpletransformers.question_answering.question_answering_utils:end_position: 125\n",
      "INFO:simpletransformers.question_answering.question_answering_utils:answer: average rating\n",
      "INFO:simpletransformers.question_answering.question_answering_utils:*** Example ***\n",
      "INFO:simpletransformers.question_answering.question_answering_utils:unique_id: 1000000008\n",
      "INFO:simpletransformers.question_answering.question_answering_utils:example_index: 7\n",
      "INFO:simpletransformers.question_answering.question_answering_utils:doc_span_index: 1\n",
      "INFO:simpletransformers.question_answering.question_answering_utils:tokens: [CLS] [UNK] review rating for the hotel [SEP] . [SEP]\n",
      "INFO:simpletransformers.question_answering.question_answering_utils:token_to_orig_map: 8:86\n",
      "INFO:simpletransformers.question_answering.question_answering_utils:token_is_max_context: 8:True\n",
      "INFO:simpletransformers.question_answering.question_answering_utils:input_ids: 101 100 3319 5790 2005 1996 3309 102 1012 102 0 0 0 0 0 0 0 0 0 0 0 0 0 0 0 0 0 0 0 0 0 0 0 0 0 0 0 0 0 0 0 0 0 0 0 0 0 0 0 0 0 0 0 0 0 0 0 0 0 0 0 0 0 0 0 0 0 0 0 0 0 0 0 0 0 0 0 0 0 0 0 0 0 0 0 0 0 0 0 0 0 0 0 0 0 0 0 0 0 0 0 0 0 0 0 0 0 0 0 0 0 0 0 0 0 0 0 0 0 0 0 0 0 0 0 0 0 0\n",
      "INFO:simpletransformers.question_answering.question_answering_utils:input_mask: 1 1 1 1 1 1 1 1 1 1 0 0 0 0 0 0 0 0 0 0 0 0 0 0 0 0 0 0 0 0 0 0 0 0 0 0 0 0 0 0 0 0 0 0 0 0 0 0 0 0 0 0 0 0 0 0 0 0 0 0 0 0 0 0 0 0 0 0 0 0 0 0 0 0 0 0 0 0 0 0 0 0 0 0 0 0 0 0 0 0 0 0 0 0 0 0 0 0 0 0 0 0 0 0 0 0 0 0 0 0 0 0 0 0 0 0 0 0 0 0 0 0 0 0 0 0 0 0\n",
      "INFO:simpletransformers.question_answering.question_answering_utils:segment_ids: 0 0 0 0 0 0 0 0 1 1 0 0 0 0 0 0 0 0 0 0 0 0 0 0 0 0 0 0 0 0 0 0 0 0 0 0 0 0 0 0 0 0 0 0 0 0 0 0 0 0 0 0 0 0 0 0 0 0 0 0 0 0 0 0 0 0 0 0 0 0 0 0 0 0 0 0 0 0 0 0 0 0 0 0 0 0 0 0 0 0 0 0 0 0 0 0 0 0 0 0 0 0 0 0 0 0 0 0 0 0 0 0 0 0 0 0 0 0 0 0 0 0 0 0 0 0 0 0\n",
      "INFO:simpletransformers.question_answering.question_answering_utils:impossible example\n",
      " 47%|████▋     | 8/17 [00:00<00:00, 70.50it/s]INFO:simpletransformers.question_answering.question_answering_utils:*** Example ***\n",
      "INFO:simpletransformers.question_answering.question_answering_utils:unique_id: 1000000009\n",
      "INFO:simpletransformers.question_answering.question_answering_utils:example_index: 8\n",
      "INFO:simpletransformers.question_answering.question_answering_utils:doc_span_index: 0\n",
      "INFO:simpletransformers.question_answering.question_answering_utils:tokens: [CLS] [UNK] date for the hotel reservation [SEP] [UNK] ' m looking for some free attractions to check out . [UNK] in particular ? [UNK] of a place of interest in [UNK] . [UNK] ' s a cool [UNK] [UNK] called [UNK] [UNK] . [UNK] it kid - friendly ? [UNK] ' s not the best place for kids . [UNK] right , thanks . [UNK] else [UNK] can help with ? [UNK] ' ll be a 2 room hotel there . [UNK] about 1 [UNK] [UNK] [UNK] with its 4 . 5 rating ? [UNK] anything else ? [UNK] ' s 1 [UNK] [UNK] [UNK] with a 4 . 5 rating . [UNK] anything else ? [UNK] ' s 11 [UNK] with a 4 . 3 [SEP]\n",
      "INFO:simpletransformers.question_answering.question_answering_utils:token_to_orig_map: 8:0 9:0 10:0 11:1 12:2 13:3 14:4 15:5 16:6 17:7 18:8 19:8 20:9 21:10 22:11 23:11 24:12 25:13 26:14 27:15 28:16 29:17 30:18 31:19 32:19 33:20 34:20 35:20 36:21 37:22 38:23 39:24 40:25 41:26 42:27 43:27 44:28 45:29 46:30 47:30 48:30 49:30 50:31 51:31 52:31 53:32 54:33 55:34 56:35 57:36 58:37 59:37 60:38 61:39 62:39 63:40 64:40 65:41 66:42 67:43 68:44 69:45 70:46 71:46 72:47 73:47 74:47 75:48 76:49 77:50 78:51 79:52 80:53 81:53 82:54 83:55 84:56 85:57 86:58 87:59 88:60 89:61 90:62 91:62 92:62 93:63 94:63 95:64 96:65 97:66 98:66 99:67 100:67 101:67 102:68 103:69 104:70 105:71 106:72 107:73 108:74 109:74 110:74 111:75 112:75 113:76 114:77 115:78 116:78 117:79 118:79 119:79 120:80 121:81 122:82 123:83 124:84 125:84 126:84\n"
     ]
    },
    {
     "name": "stderr",
     "output_type": "stream",
     "text": [
      "INFO:simpletransformers.question_answering.question_answering_utils:token_is_max_context: 8:True 9:True 10:True 11:True 12:True 13:True 14:True 15:True 16:True 17:True 18:True 19:True 20:True 21:True 22:True 23:True 24:True 25:True 26:True 27:True 28:True 29:True 30:True 31:True 32:True 33:True 34:True 35:True 36:True 37:True 38:True 39:True 40:True 41:True 42:True 43:True 44:True 45:True 46:True 47:True 48:True 49:True 50:True 51:True 52:True 53:True 54:True 55:True 56:True 57:True 58:True 59:True 60:True 61:True 62:True 63:True 64:True 65:True 66:True 67:True 68:True 69:True 70:True 71:True 72:True 73:True 74:True 75:True 76:True 77:True 78:True 79:True 80:True 81:True 82:True 83:True 84:True 85:True 86:True 87:True 88:True 89:True 90:True 91:True 92:True 93:True 94:True 95:True 96:True 97:True 98:True 99:True 100:True 101:True 102:True 103:True 104:True 105:True 106:True 107:True 108:True 109:True 110:True 111:True 112:True 113:True 114:True 115:True 116:True 117:True 118:True 119:True 120:True 121:True 122:True 123:True 124:True 125:True 126:True\n",
      "INFO:simpletransformers.question_answering.question_answering_utils:input_ids: 101 100 3058 2005 1996 3309 11079 102 100 1005 1049 2559 2005 2070 2489 13051 2000 4638 2041 1012 100 1999 3327 1029 100 1997 1037 2173 1997 3037 1999 100 1012 100 1005 1055 1037 4658 100 100 2170 100 100 1012 100 2009 4845 1011 5379 1029 100 1005 1055 2025 1996 2190 2173 2005 4268 1012 100 2157 1010 4283 1012 100 2842 100 2064 2393 2007 1029 100 1005 2222 2022 1037 1016 2282 3309 2045 1012 100 2055 1015 100 100 100 2007 2049 1018 1012 1019 5790 1029 100 2505 2842 1029 100 1005 1055 1015 100 100 100 2007 1037 1018 1012 1019 5790 1012 100 2505 2842 1029 100 1005 1055 2340 100 2007 1037 1018 1012 1017 102\n",
      "INFO:simpletransformers.question_answering.question_answering_utils:input_mask: 1 1 1 1 1 1 1 1 1 1 1 1 1 1 1 1 1 1 1 1 1 1 1 1 1 1 1 1 1 1 1 1 1 1 1 1 1 1 1 1 1 1 1 1 1 1 1 1 1 1 1 1 1 1 1 1 1 1 1 1 1 1 1 1 1 1 1 1 1 1 1 1 1 1 1 1 1 1 1 1 1 1 1 1 1 1 1 1 1 1 1 1 1 1 1 1 1 1 1 1 1 1 1 1 1 1 1 1 1 1 1 1 1 1 1 1 1 1 1 1 1 1 1 1 1 1 1 1\n",
      "INFO:simpletransformers.question_answering.question_answering_utils:segment_ids: 0 0 0 0 0 0 0 0 1 1 1 1 1 1 1 1 1 1 1 1 1 1 1 1 1 1 1 1 1 1 1 1 1 1 1 1 1 1 1 1 1 1 1 1 1 1 1 1 1 1 1 1 1 1 1 1 1 1 1 1 1 1 1 1 1 1 1 1 1 1 1 1 1 1 1 1 1 1 1 1 1 1 1 1 1 1 1 1 1 1 1 1 1 1 1 1 1 1 1 1 1 1 1 1 1 1 1 1 1 1 1 1 1 1 1 1 1 1 1 1 1 1 1 1 1 1 1 1\n",
      "INFO:simpletransformers.question_answering.question_answering_utils:impossible example\n",
      "INFO:simpletransformers.question_answering.question_answering_utils:*** Example ***\n",
      "INFO:simpletransformers.question_answering.question_answering_utils:unique_id: 1000000010\n",
      "INFO:simpletransformers.question_answering.question_answering_utils:example_index: 8\n",
      "INFO:simpletransformers.question_answering.question_answering_utils:doc_span_index: 1\n",
      "INFO:simpletransformers.question_answering.question_answering_utils:tokens: [CLS] [UNK] date for the hotel reservation [SEP] rating . [UNK] sounds all right . [UNK] to make a reservation there ? [UNK] , book it for a check in on check in date and check out on the 8th . [SEP]\n",
      "INFO:simpletransformers.question_answering.question_answering_utils:token_to_orig_map: 8:85 9:85 10:86 11:87 12:88 13:89 14:89 15:90 16:91 17:92 18:93 19:94 20:95 21:95 22:96 23:96 24:97 25:98 26:99 27:100 28:101 29:102 30:103 31:104 32:105 33:106 34:107 35:108 36:109 37:110 38:111 39:112 40:112\n",
      "INFO:simpletransformers.question_answering.question_answering_utils:token_is_max_context: 8:True 9:True 10:True 11:True 12:True 13:True 14:True 15:True 16:True 17:True 18:True 19:True 20:True 21:True 22:True 23:True 24:True 25:True 26:True 27:True 28:True 29:True 30:True 31:True 32:True 33:True 34:True 35:True 36:True 37:True 38:True 39:True 40:True\n",
      "INFO:simpletransformers.question_answering.question_answering_utils:input_ids: 101 100 3058 2005 1996 3309 11079 102 5790 1012 100 4165 2035 2157 1012 100 2000 2191 1037 11079 2045 1029 100 1010 2338 2009 2005 1037 4638 1999 2006 4638 1999 3058 1998 4638 2041 2006 1996 5893 1012 102 0 0 0 0 0 0 0 0 0 0 0 0 0 0 0 0 0 0 0 0 0 0 0 0 0 0 0 0 0 0 0 0 0 0 0 0 0 0 0 0 0 0 0 0 0 0 0 0 0 0 0 0 0 0 0 0 0 0 0 0 0 0 0 0 0 0 0 0 0 0 0 0 0 0 0 0 0 0 0 0 0 0 0 0 0 0\n",
      "INFO:simpletransformers.question_answering.question_answering_utils:input_mask: 1 1 1 1 1 1 1 1 1 1 1 1 1 1 1 1 1 1 1 1 1 1 1 1 1 1 1 1 1 1 1 1 1 1 1 1 1 1 1 1 1 1 0 0 0 0 0 0 0 0 0 0 0 0 0 0 0 0 0 0 0 0 0 0 0 0 0 0 0 0 0 0 0 0 0 0 0 0 0 0 0 0 0 0 0 0 0 0 0 0 0 0 0 0 0 0 0 0 0 0 0 0 0 0 0 0 0 0 0 0 0 0 0 0 0 0 0 0 0 0 0 0 0 0 0 0 0 0\n",
      "INFO:simpletransformers.question_answering.question_answering_utils:segment_ids: 0 0 0 0 0 0 0 0 1 1 1 1 1 1 1 1 1 1 1 1 1 1 1 1 1 1 1 1 1 1 1 1 1 1 1 1 1 1 1 1 1 1 0 0 0 0 0 0 0 0 0 0 0 0 0 0 0 0 0 0 0 0 0 0 0 0 0 0 0 0 0 0 0 0 0 0 0 0 0 0 0 0 0 0 0 0 0 0 0 0 0 0 0 0 0 0 0 0 0 0 0 0 0 0 0 0 0 0 0 0 0 0 0 0 0 0 0 0 0 0 0 0 0 0 0 0 0 0\n",
      "INFO:simpletransformers.question_answering.question_answering_utils:start_position: 31\n",
      "INFO:simpletransformers.question_answering.question_answering_utils:end_position: 33\n",
      "INFO:simpletransformers.question_answering.question_answering_utils:answer: check in date\n",
      "INFO:simpletransformers.question_answering.question_answering_utils:*** Example ***\n",
      "INFO:simpletransformers.question_answering.question_answering_utils:unique_id: 1000000011\n",
      "INFO:simpletransformers.question_answering.question_answering_utils:example_index: 9\n",
      "INFO:simpletransformers.question_answering.question_answering_utils:doc_span_index: 0\n",
      "INFO:simpletransformers.question_answering.question_answering_utils:tokens: [CLS] [UNK] date for the hotel reservation [SEP] [UNK] ' m looking for some free attractions to check out . [UNK] in particular ? [UNK] of a place of interest in [UNK] . [UNK] ' s a cool [UNK] [UNK] called [UNK] [UNK] . [UNK] it kid - friendly ? [UNK] ' s not the best place for kids . [UNK] right , thanks . [UNK] else [UNK] can help with ? [UNK] ' ll be a 2 room hotel there . [UNK] about 1 [UNK] [UNK] [UNK] with its 4 . 5 rating ? [UNK] anything else ? [UNK] ' s 1 [UNK] [UNK] [UNK] with a 4 . 5 rating . [UNK] anything else ? [UNK] ' s 11 [UNK] with a 4 . 3 [SEP]\n",
      "INFO:simpletransformers.question_answering.question_answering_utils:token_to_orig_map: 8:0 9:0 10:0 11:1 12:2 13:3 14:4 15:5 16:6 17:7 18:8 19:8 20:9 21:10 22:11 23:11 24:12 25:13 26:14 27:15 28:16 29:17 30:18 31:19 32:19 33:20 34:20 35:20 36:21 37:22 38:23 39:24 40:25 41:26 42:27 43:27 44:28 45:29 46:30 47:30 48:30 49:30 50:31 51:31 52:31 53:32 54:33 55:34 56:35 57:36 58:37 59:37 60:38 61:39 62:39 63:40 64:40 65:41 66:42 67:43 68:44 69:45 70:46 71:46 72:47 73:47 74:47 75:48 76:49 77:50 78:51 79:52 80:53 81:53 82:54 83:55 84:56 85:57 86:58 87:59 88:60 89:61 90:62 91:62 92:62 93:63 94:63 95:64 96:65 97:66 98:66 99:67 100:67 101:67 102:68 103:69 104:70 105:71 106:72 107:73 108:74 109:74 110:74 111:75 112:75 113:76 114:77 115:78 116:78 117:79 118:79 119:79 120:80 121:81 122:82 123:83 124:84 125:84 126:84\n",
      "INFO:simpletransformers.question_answering.question_answering_utils:token_is_max_context: 8:True 9:True 10:True 11:True 12:True 13:True 14:True 15:True 16:True 17:True 18:True 19:True 20:True 21:True 22:True 23:True 24:True 25:True 26:True 27:True 28:True 29:True 30:True 31:True 32:True 33:True 34:True 35:True 36:True 37:True 38:True 39:True 40:True 41:True 42:True 43:True 44:True 45:True 46:True 47:True 48:True 49:True 50:True 51:True 52:True 53:True 54:True 55:True 56:True 57:True 58:True 59:True 60:True 61:True 62:True 63:True 64:True 65:True 66:True 67:True 68:True 69:True 70:True 71:True 72:True 73:True 74:True 75:True 76:True 77:True 78:True 79:True 80:True 81:True 82:True 83:True 84:True 85:True 86:True 87:True 88:True 89:True 90:True 91:True 92:True 93:True 94:True 95:True 96:True 97:True 98:True 99:True 100:True 101:True 102:True 103:True 104:True 105:True 106:True 107:True 108:True 109:True 110:True 111:True 112:True 113:True 114:True 115:True 116:True 117:True 118:True 119:True 120:True 121:True 122:True 123:True 124:True 125:True 126:True\n",
      "INFO:simpletransformers.question_answering.question_answering_utils:input_ids: 101 100 3058 2005 1996 3309 11079 102 100 1005 1049 2559 2005 2070 2489 13051 2000 4638 2041 1012 100 1999 3327 1029 100 1997 1037 2173 1997 3037 1999 100 1012 100 1005 1055 1037 4658 100 100 2170 100 100 1012 100 2009 4845 1011 5379 1029 100 1005 1055 2025 1996 2190 2173 2005 4268 1012 100 2157 1010 4283 1012 100 2842 100 2064 2393 2007 1029 100 1005 2222 2022 1037 1016 2282 3309 2045 1012 100 2055 1015 100 100 100 2007 2049 1018 1012 1019 5790 1029 100 2505 2842 1029 100 1005 1055 1015 100 100 100 2007 1037 1018 1012 1019 5790 1012 100 2505 2842 1029 100 1005 1055 2340 100 2007 1037 1018 1012 1017 102\n"
     ]
    },
    {
     "name": "stderr",
     "output_type": "stream",
     "text": [
      "INFO:simpletransformers.question_answering.question_answering_utils:input_mask: 1 1 1 1 1 1 1 1 1 1 1 1 1 1 1 1 1 1 1 1 1 1 1 1 1 1 1 1 1 1 1 1 1 1 1 1 1 1 1 1 1 1 1 1 1 1 1 1 1 1 1 1 1 1 1 1 1 1 1 1 1 1 1 1 1 1 1 1 1 1 1 1 1 1 1 1 1 1 1 1 1 1 1 1 1 1 1 1 1 1 1 1 1 1 1 1 1 1 1 1 1 1 1 1 1 1 1 1 1 1 1 1 1 1 1 1 1 1 1 1 1 1 1 1 1 1 1 1\n",
      "INFO:simpletransformers.question_answering.question_answering_utils:segment_ids: 0 0 0 0 0 0 0 0 1 1 1 1 1 1 1 1 1 1 1 1 1 1 1 1 1 1 1 1 1 1 1 1 1 1 1 1 1 1 1 1 1 1 1 1 1 1 1 1 1 1 1 1 1 1 1 1 1 1 1 1 1 1 1 1 1 1 1 1 1 1 1 1 1 1 1 1 1 1 1 1 1 1 1 1 1 1 1 1 1 1 1 1 1 1 1 1 1 1 1 1 1 1 1 1 1 1 1 1 1 1 1 1 1 1 1 1 1 1 1 1 1 1 1 1 1 1 1 1\n",
      "INFO:simpletransformers.question_answering.question_answering_utils:impossible example\n",
      "INFO:simpletransformers.question_answering.question_answering_utils:*** Example ***\n",
      "INFO:simpletransformers.question_answering.question_answering_utils:unique_id: 1000000012\n",
      "INFO:simpletransformers.question_answering.question_answering_utils:example_index: 9\n",
      "INFO:simpletransformers.question_answering.question_answering_utils:doc_span_index: 1\n",
      "INFO:simpletransformers.question_answering.question_answering_utils:tokens: [CLS] [UNK] date for the hotel reservation [SEP] rating . [UNK] sounds all right . [UNK] to make a reservation there ? [UNK] , book it for a check in on [UNK] 5th and check out on check out date . [SEP]\n",
      "INFO:simpletransformers.question_answering.question_answering_utils:token_to_orig_map: 8:85 9:85 10:86 11:87 12:88 13:89 14:89 15:90 16:91 17:92 18:93 19:94 20:95 21:95 22:96 23:96 24:97 25:98 26:99 27:100 28:101 29:102 30:103 31:104 32:105 33:106 34:107 35:108 36:109 37:110 38:111 39:112 40:112\n",
      "INFO:simpletransformers.question_answering.question_answering_utils:token_is_max_context: 8:True 9:True 10:True 11:True 12:True 13:True 14:True 15:True 16:True 17:True 18:True 19:True 20:True 21:True 22:True 23:True 24:True 25:True 26:True 27:True 28:True 29:True 30:True 31:True 32:True 33:True 34:True 35:True 36:True 37:True 38:True 39:True 40:True\n",
      "INFO:simpletransformers.question_answering.question_answering_utils:input_ids: 101 100 3058 2005 1996 3309 11079 102 5790 1012 100 4165 2035 2157 1012 100 2000 2191 1037 11079 2045 1029 100 1010 2338 2009 2005 1037 4638 1999 2006 100 4833 1998 4638 2041 2006 4638 2041 3058 1012 102 0 0 0 0 0 0 0 0 0 0 0 0 0 0 0 0 0 0 0 0 0 0 0 0 0 0 0 0 0 0 0 0 0 0 0 0 0 0 0 0 0 0 0 0 0 0 0 0 0 0 0 0 0 0 0 0 0 0 0 0 0 0 0 0 0 0 0 0 0 0 0 0 0 0 0 0 0 0 0 0 0 0 0 0 0 0\n",
      "INFO:simpletransformers.question_answering.question_answering_utils:input_mask: 1 1 1 1 1 1 1 1 1 1 1 1 1 1 1 1 1 1 1 1 1 1 1 1 1 1 1 1 1 1 1 1 1 1 1 1 1 1 1 1 1 1 0 0 0 0 0 0 0 0 0 0 0 0 0 0 0 0 0 0 0 0 0 0 0 0 0 0 0 0 0 0 0 0 0 0 0 0 0 0 0 0 0 0 0 0 0 0 0 0 0 0 0 0 0 0 0 0 0 0 0 0 0 0 0 0 0 0 0 0 0 0 0 0 0 0 0 0 0 0 0 0 0 0 0 0 0 0\n",
      "INFO:simpletransformers.question_answering.question_answering_utils:segment_ids: 0 0 0 0 0 0 0 0 1 1 1 1 1 1 1 1 1 1 1 1 1 1 1 1 1 1 1 1 1 1 1 1 1 1 1 1 1 1 1 1 1 1 0 0 0 0 0 0 0 0 0 0 0 0 0 0 0 0 0 0 0 0 0 0 0 0 0 0 0 0 0 0 0 0 0 0 0 0 0 0 0 0 0 0 0 0 0 0 0 0 0 0 0 0 0 0 0 0 0 0 0 0 0 0 0 0 0 0 0 0 0 0 0 0 0 0 0 0 0 0 0 0 0 0 0 0 0 0\n",
      "INFO:simpletransformers.question_answering.question_answering_utils:start_position: 37\n",
      "INFO:simpletransformers.question_answering.question_answering_utils:end_position: 39\n",
      "INFO:simpletransformers.question_answering.question_answering_utils:answer: check out date\n",
      "INFO:simpletransformers.question_answering.question_answering_utils:*** Example ***\n",
      "INFO:simpletransformers.question_answering.question_answering_utils:unique_id: 1000000013\n",
      "INFO:simpletransformers.question_answering.question_answering_utils:example_index: 10\n",
      "INFO:simpletransformers.question_answering.question_answering_utils:doc_span_index: 0\n",
      "INFO:simpletransformers.question_answering.question_answering_utils:tokens: [CLS] [UNK] of the hotel [SEP] [UNK] ' m looking for some free attractions to check out . [UNK] in particular ? [UNK] of a place of interest in [UNK] . [UNK] ' s a cool [UNK] [UNK] called [UNK] [UNK] . [UNK] it kid - friendly ? [UNK] ' s not the best place for kids . [UNK] right , thanks . [UNK] else [UNK] can help with ? [UNK] ' ll be a 2 room hotel there . [UNK] about 1 [UNK] [UNK] [UNK] with its 4 . 5 rating ? [UNK] anything else ? [UNK] ' s 1 [UNK] [UNK] [UNK] with a 4 . 5 rating . [UNK] anything else ? [UNK] ' s 11 [UNK] with a 4 . 3 rating . [SEP]\n",
      "INFO:simpletransformers.question_answering.question_answering_utils:token_to_orig_map: 6:0 7:0 8:0 9:1 10:2 11:3 12:4 13:5 14:6 15:7 16:8 17:8 18:9 19:10 20:11 21:11 22:12 23:13 24:14 25:15 26:16 27:17 28:18 29:19 30:19 31:20 32:20 33:20 34:21 35:22 36:23 37:24 38:25 39:26 40:27 41:27 42:28 43:29 44:30 45:30 46:30 47:30 48:31 49:31 50:31 51:32 52:33 53:34 54:35 55:36 56:37 57:37 58:38 59:39 60:39 61:40 62:40 63:41 64:42 65:43 66:44 67:45 68:46 69:46 70:47 71:47 72:47 73:48 74:49 75:50 76:51 77:52 78:53 79:53 80:54 81:55 82:56 83:57 84:58 85:59 86:60 87:61 88:62 89:62 90:62 91:63 92:63 93:64 94:65 95:66 96:66 97:67 98:67 99:67 100:68 101:69 102:70 103:71 104:72 105:73 106:74 107:74 108:74 109:75 110:75 111:76 112:77 113:78 114:78 115:79 116:79 117:79 118:80 119:81 120:82 121:83 122:84 123:84 124:84 125:85 126:85\n",
      "INFO:simpletransformers.question_answering.question_answering_utils:token_is_max_context: 6:True 7:True 8:True 9:True 10:True 11:True 12:True 13:True 14:True 15:True 16:True 17:True 18:True 19:True 20:True 21:True 22:True 23:True 24:True 25:True 26:True 27:True 28:True 29:True 30:True 31:True 32:True 33:True 34:True 35:True 36:True 37:True 38:True 39:True 40:True 41:True 42:True 43:True 44:True 45:True 46:True 47:True 48:True 49:True 50:True 51:True 52:True 53:True 54:True 55:True 56:True 57:True 58:True 59:True 60:True 61:True 62:True 63:True 64:True 65:True 66:True 67:True 68:True 69:True 70:True 71:True 72:True 73:True 74:True 75:True 76:True 77:True 78:True 79:True 80:True 81:True 82:True 83:True 84:True 85:True 86:True 87:True 88:True 89:True 90:True 91:True 92:True 93:True 94:True 95:True 96:True 97:True 98:True 99:True 100:True 101:True 102:True 103:True 104:True 105:True 106:True 107:True 108:True 109:True 110:True 111:True 112:True 113:True 114:True 115:True 116:True 117:True 118:True 119:True 120:True 121:True 122:True 123:True 124:True 125:True 126:True\n",
      "INFO:simpletransformers.question_answering.question_answering_utils:input_ids: 101 100 1997 1996 3309 102 100 1005 1049 2559 2005 2070 2489 13051 2000 4638 2041 1012 100 1999 3327 1029 100 1997 1037 2173 1997 3037 1999 100 1012 100 1005 1055 1037 4658 100 100 2170 100 100 1012 100 2009 4845 1011 5379 1029 100 1005 1055 2025 1996 2190 2173 2005 4268 1012 100 2157 1010 4283 1012 100 2842 100 2064 2393 2007 1029 100 1005 2222 2022 1037 1016 2282 3309 2045 1012 100 2055 1015 100 100 100 2007 2049 1018 1012 1019 5790 1029 100 2505 2842 1029 100 1005 1055 1015 100 100 100 2007 1037 1018 1012 1019 5790 1012 100 2505 2842 1029 100 1005 1055 2340 100 2007 1037 1018 1012 1017 5790 1012 102\n",
      "INFO:simpletransformers.question_answering.question_answering_utils:input_mask: 1 1 1 1 1 1 1 1 1 1 1 1 1 1 1 1 1 1 1 1 1 1 1 1 1 1 1 1 1 1 1 1 1 1 1 1 1 1 1 1 1 1 1 1 1 1 1 1 1 1 1 1 1 1 1 1 1 1 1 1 1 1 1 1 1 1 1 1 1 1 1 1 1 1 1 1 1 1 1 1 1 1 1 1 1 1 1 1 1 1 1 1 1 1 1 1 1 1 1 1 1 1 1 1 1 1 1 1 1 1 1 1 1 1 1 1 1 1 1 1 1 1 1 1 1 1 1 1\n",
      "INFO:simpletransformers.question_answering.question_answering_utils:segment_ids: 0 0 0 0 0 0 1 1 1 1 1 1 1 1 1 1 1 1 1 1 1 1 1 1 1 1 1 1 1 1 1 1 1 1 1 1 1 1 1 1 1 1 1 1 1 1 1 1 1 1 1 1 1 1 1 1 1 1 1 1 1 1 1 1 1 1 1 1 1 1 1 1 1 1 1 1 1 1 1 1 1 1 1 1 1 1 1 1 1 1 1 1 1 1 1 1 1 1 1 1 1 1 1 1 1 1 1 1 1 1 1 1 1 1 1 1 1 1 1 1 1 1 1 1 1 1 1 1\n",
      "INFO:simpletransformers.question_answering.question_answering_utils:impossible example\n",
      "INFO:simpletransformers.question_answering.question_answering_utils:*** Example ***\n",
      "INFO:simpletransformers.question_answering.question_answering_utils:unique_id: 1000000014\n",
      "INFO:simpletransformers.question_answering.question_answering_utils:example_index: 10\n",
      "INFO:simpletransformers.question_answering.question_answering_utils:doc_span_index: 1\n",
      "INFO:simpletransformers.question_answering.question_answering_utils:tokens: [CLS] [UNK] of the hotel [SEP] [UNK] sounds all right . [UNK] to make a reservation there ? [UNK] , book it for a check in on [UNK] 5th and check out on the 8th . [UNK] to make sure , you want a 2 room reservation at hotel name in [UNK] [UNK] with a check in for [UNK] 5th and check ##out on [UNK] 8th . [SEP]\n"
     ]
    },
    {
     "name": "stderr",
     "output_type": "stream",
     "text": [
      "INFO:simpletransformers.question_answering.question_answering_utils:token_to_orig_map: 6:86 7:87 8:88 9:89 10:89 11:90 12:91 13:92 14:93 15:94 16:95 17:95 18:96 19:96 20:97 21:98 22:99 23:100 24:101 25:102 26:103 27:104 28:105 29:106 30:107 31:108 32:109 33:110 34:111 35:111 36:112 37:113 38:114 39:115 40:115 41:116 42:117 43:118 44:119 45:120 46:121 47:122 48:123 49:124 50:125 51:126 52:127 53:128 54:129 55:130 56:131 57:132 58:133 59:134 60:135 61:136 62:136 63:137 64:138 65:139 66:139\n",
      "INFO:simpletransformers.question_answering.question_answering_utils:token_is_max_context: 6:True 7:True 8:True 9:True 10:True 11:True 12:True 13:True 14:True 15:True 16:True 17:True 18:True 19:True 20:True 21:True 22:True 23:True 24:True 25:True 26:True 27:True 28:True 29:True 30:True 31:True 32:True 33:True 34:True 35:True 36:True 37:True 38:True 39:True 40:True 41:True 42:True 43:True 44:True 45:True 46:True 47:True 48:True 49:True 50:True 51:True 52:True 53:True 54:True 55:True 56:True 57:True 58:True 59:True 60:True 61:True 62:True 63:True 64:True 65:True 66:True\n",
      "INFO:simpletransformers.question_answering.question_answering_utils:input_ids: 101 100 1997 1996 3309 102 100 4165 2035 2157 1012 100 2000 2191 1037 11079 2045 1029 100 1010 2338 2009 2005 1037 4638 1999 2006 100 4833 1998 4638 2041 2006 1996 5893 1012 100 2000 2191 2469 1010 2017 2215 1037 1016 2282 11079 2012 3309 2171 1999 100 100 2007 1037 4638 1999 2005 100 4833 1998 4638 5833 2006 100 5893 1012 102 0 0 0 0 0 0 0 0 0 0 0 0 0 0 0 0 0 0 0 0 0 0 0 0 0 0 0 0 0 0 0 0 0 0 0 0 0 0 0 0 0 0 0 0 0 0 0 0 0 0 0 0 0 0 0 0 0 0 0 0\n",
      "INFO:simpletransformers.question_answering.question_answering_utils:input_mask: 1 1 1 1 1 1 1 1 1 1 1 1 1 1 1 1 1 1 1 1 1 1 1 1 1 1 1 1 1 1 1 1 1 1 1 1 1 1 1 1 1 1 1 1 1 1 1 1 1 1 1 1 1 1 1 1 1 1 1 1 1 1 1 1 1 1 1 1 0 0 0 0 0 0 0 0 0 0 0 0 0 0 0 0 0 0 0 0 0 0 0 0 0 0 0 0 0 0 0 0 0 0 0 0 0 0 0 0 0 0 0 0 0 0 0 0 0 0 0 0 0 0 0 0 0 0 0 0\n",
      "INFO:simpletransformers.question_answering.question_answering_utils:segment_ids: 0 0 0 0 0 0 1 1 1 1 1 1 1 1 1 1 1 1 1 1 1 1 1 1 1 1 1 1 1 1 1 1 1 1 1 1 1 1 1 1 1 1 1 1 1 1 1 1 1 1 1 1 1 1 1 1 1 1 1 1 1 1 1 1 1 1 1 1 0 0 0 0 0 0 0 0 0 0 0 0 0 0 0 0 0 0 0 0 0 0 0 0 0 0 0 0 0 0 0 0 0 0 0 0 0 0 0 0 0 0 0 0 0 0 0 0 0 0 0 0 0 0 0 0 0 0 0 0\n",
      "INFO:simpletransformers.question_answering.question_answering_utils:start_position: 48\n",
      "INFO:simpletransformers.question_answering.question_answering_utils:end_position: 49\n",
      "INFO:simpletransformers.question_answering.question_answering_utils:answer: hotel name\n",
      "INFO:simpletransformers.question_answering.question_answering_utils:*** Example ***\n",
      "INFO:simpletransformers.question_answering.question_answering_utils:unique_id: 1000000015\n",
      "INFO:simpletransformers.question_answering.question_answering_utils:example_index: 11\n",
      "INFO:simpletransformers.question_answering.question_answering_utils:doc_span_index: 0\n",
      "INFO:simpletransformers.question_answering.question_answering_utils:tokens: [CLS] [UNK] of the hotel [SEP] [UNK] ' m looking for some free attractions to check out . [UNK] in particular ? [UNK] of a place of interest in [UNK] . [UNK] ' s a cool [UNK] [UNK] called [UNK] [UNK] . [UNK] it kid - friendly ? [UNK] ' s not the best place for kids . [UNK] right , thanks . [UNK] else [UNK] can help with ? [UNK] ' ll be a 2 room hotel there . [UNK] about 1 [UNK] [UNK] [UNK] with its 4 . 5 rating ? [UNK] anything else ? [UNK] ' s 1 [UNK] [UNK] [UNK] with a 4 . 5 rating . [UNK] anything else ? [UNK] ' s 11 [UNK] with a 4 . 3 rating . [SEP]\n",
      "INFO:simpletransformers.question_answering.question_answering_utils:token_to_orig_map: 6:0 7:0 8:0 9:1 10:2 11:3 12:4 13:5 14:6 15:7 16:8 17:8 18:9 19:10 20:11 21:11 22:12 23:13 24:14 25:15 26:16 27:17 28:18 29:19 30:19 31:20 32:20 33:20 34:21 35:22 36:23 37:24 38:25 39:26 40:27 41:27 42:28 43:29 44:30 45:30 46:30 47:30 48:31 49:31 50:31 51:32 52:33 53:34 54:35 55:36 56:37 57:37 58:38 59:39 60:39 61:40 62:40 63:41 64:42 65:43 66:44 67:45 68:46 69:46 70:47 71:47 72:47 73:48 74:49 75:50 76:51 77:52 78:53 79:53 80:54 81:55 82:56 83:57 84:58 85:59 86:60 87:61 88:62 89:62 90:62 91:63 92:63 93:64 94:65 95:66 96:66 97:67 98:67 99:67 100:68 101:69 102:70 103:71 104:72 105:73 106:74 107:74 108:74 109:75 110:75 111:76 112:77 113:78 114:78 115:79 116:79 117:79 118:80 119:81 120:82 121:83 122:84 123:84 124:84 125:85 126:85\n",
      "INFO:simpletransformers.question_answering.question_answering_utils:token_is_max_context: 6:True 7:True 8:True 9:True 10:True 11:True 12:True 13:True 14:True 15:True 16:True 17:True 18:True 19:True 20:True 21:True 22:True 23:True 24:True 25:True 26:True 27:True 28:True 29:True 30:True 31:True 32:True 33:True 34:True 35:True 36:True 37:True 38:True 39:True 40:True 41:True 42:True 43:True 44:True 45:True 46:True 47:True 48:True 49:True 50:True 51:True 52:True 53:True 54:True 55:True 56:True 57:True 58:True 59:True 60:True 61:True 62:True 63:True 64:True 65:True 66:True 67:True 68:True 69:True 70:True 71:True 72:True 73:True 74:True 75:True 76:True 77:True 78:True 79:True 80:True 81:True 82:True 83:True 84:True 85:True 86:True 87:True 88:True 89:True 90:True 91:True 92:True 93:True 94:True 95:True 96:True 97:True 98:True 99:True 100:True 101:True 102:True 103:True 104:True 105:True 106:True 107:True 108:True 109:True 110:True 111:True 112:True 113:True 114:True 115:True 116:True 117:True 118:True 119:True 120:True 121:True 122:True 123:True 124:True 125:True 126:True\n",
      "INFO:simpletransformers.question_answering.question_answering_utils:input_ids: 101 100 1997 1996 3309 102 100 1005 1049 2559 2005 2070 2489 13051 2000 4638 2041 1012 100 1999 3327 1029 100 1997 1037 2173 1997 3037 1999 100 1012 100 1005 1055 1037 4658 100 100 2170 100 100 1012 100 2009 4845 1011 5379 1029 100 1005 1055 2025 1996 2190 2173 2005 4268 1012 100 2157 1010 4283 1012 100 2842 100 2064 2393 2007 1029 100 1005 2222 2022 1037 1016 2282 3309 2045 1012 100 2055 1015 100 100 100 2007 2049 1018 1012 1019 5790 1029 100 2505 2842 1029 100 1005 1055 1015 100 100 100 2007 1037 1018 1012 1019 5790 1012 100 2505 2842 1029 100 1005 1055 2340 100 2007 1037 1018 1012 1017 5790 1012 102\n",
      "INFO:simpletransformers.question_answering.question_answering_utils:input_mask: 1 1 1 1 1 1 1 1 1 1 1 1 1 1 1 1 1 1 1 1 1 1 1 1 1 1 1 1 1 1 1 1 1 1 1 1 1 1 1 1 1 1 1 1 1 1 1 1 1 1 1 1 1 1 1 1 1 1 1 1 1 1 1 1 1 1 1 1 1 1 1 1 1 1 1 1 1 1 1 1 1 1 1 1 1 1 1 1 1 1 1 1 1 1 1 1 1 1 1 1 1 1 1 1 1 1 1 1 1 1 1 1 1 1 1 1 1 1 1 1 1 1 1 1 1 1 1 1\n",
      "INFO:simpletransformers.question_answering.question_answering_utils:segment_ids: 0 0 0 0 0 0 1 1 1 1 1 1 1 1 1 1 1 1 1 1 1 1 1 1 1 1 1 1 1 1 1 1 1 1 1 1 1 1 1 1 1 1 1 1 1 1 1 1 1 1 1 1 1 1 1 1 1 1 1 1 1 1 1 1 1 1 1 1 1 1 1 1 1 1 1 1 1 1 1 1 1 1 1 1 1 1 1 1 1 1 1 1 1 1 1 1 1 1 1 1 1 1 1 1 1 1 1 1 1 1 1 1 1 1 1 1 1 1 1 1 1 1 1 1 1 1 1 1\n",
      "INFO:simpletransformers.question_answering.question_answering_utils:impossible example\n",
      "INFO:simpletransformers.question_answering.question_answering_utils:*** Example ***\n",
      "INFO:simpletransformers.question_answering.question_answering_utils:unique_id: 1000000016\n",
      "INFO:simpletransformers.question_answering.question_answering_utils:example_index: 11\n",
      "INFO:simpletransformers.question_answering.question_answering_utils:doc_span_index: 1\n",
      "INFO:simpletransformers.question_answering.question_answering_utils:tokens: [CLS] [UNK] of the hotel [SEP] [UNK] sounds all right . [UNK] to make a reservation there ? [UNK] , book it for a check in on [UNK] 5th and check out on the 8th . [UNK] to make sure , you want a 2 room reservation at 11 [UNK] in location with a check in for [UNK] 5th and check ##out on [UNK] 8th . [SEP]\n",
      "INFO:simpletransformers.question_answering.question_answering_utils:token_to_orig_map: 6:86 7:87 8:88 9:89 10:89 11:90 12:91 13:92 14:93 15:94 16:95 17:95 18:96 19:96 20:97 21:98 22:99 23:100 24:101 25:102 26:103 27:104 28:105 29:106 30:107 31:108 32:109 33:110 34:111 35:111 36:112 37:113 38:114 39:115 40:115 41:116 42:117 43:118 44:119 45:120 46:121 47:122 48:123 49:124 50:125 51:126 52:127 53:128 54:129 55:130 56:131 57:132 58:133 59:134 60:135 61:135 62:136 63:137 64:138 65:138\n",
      "INFO:simpletransformers.question_answering.question_answering_utils:token_is_max_context: 6:True 7:True 8:True 9:True 10:True 11:True 12:True 13:True 14:True 15:True 16:True 17:True 18:True 19:True 20:True 21:True 22:True 23:True 24:True 25:True 26:True 27:True 28:True 29:True 30:True 31:True 32:True 33:True 34:True 35:True 36:True 37:True 38:True 39:True 40:True 41:True 42:True 43:True 44:True 45:True 46:True 47:True 48:True 49:True 50:True 51:True 52:True 53:True 54:True 55:True 56:True 57:True 58:True 59:True 60:True 61:True 62:True 63:True 64:True 65:True\n"
     ]
    },
    {
     "name": "stderr",
     "output_type": "stream",
     "text": [
      "INFO:simpletransformers.question_answering.question_answering_utils:input_ids: 101 100 1997 1996 3309 102 100 4165 2035 2157 1012 100 2000 2191 1037 11079 2045 1029 100 1010 2338 2009 2005 1037 4638 1999 2006 100 4833 1998 4638 2041 2006 1996 5893 1012 100 2000 2191 2469 1010 2017 2215 1037 1016 2282 11079 2012 2340 100 1999 3295 2007 1037 4638 1999 2005 100 4833 1998 4638 5833 2006 100 5893 1012 102 0 0 0 0 0 0 0 0 0 0 0 0 0 0 0 0 0 0 0 0 0 0 0 0 0 0 0 0 0 0 0 0 0 0 0 0 0 0 0 0 0 0 0 0 0 0 0 0 0 0 0 0 0 0 0 0 0 0 0 0 0\n",
      "INFO:simpletransformers.question_answering.question_answering_utils:input_mask: 1 1 1 1 1 1 1 1 1 1 1 1 1 1 1 1 1 1 1 1 1 1 1 1 1 1 1 1 1 1 1 1 1 1 1 1 1 1 1 1 1 1 1 1 1 1 1 1 1 1 1 1 1 1 1 1 1 1 1 1 1 1 1 1 1 1 1 0 0 0 0 0 0 0 0 0 0 0 0 0 0 0 0 0 0 0 0 0 0 0 0 0 0 0 0 0 0 0 0 0 0 0 0 0 0 0 0 0 0 0 0 0 0 0 0 0 0 0 0 0 0 0 0 0 0 0 0 0\n",
      "INFO:simpletransformers.question_answering.question_answering_utils:segment_ids: 0 0 0 0 0 0 1 1 1 1 1 1 1 1 1 1 1 1 1 1 1 1 1 1 1 1 1 1 1 1 1 1 1 1 1 1 1 1 1 1 1 1 1 1 1 1 1 1 1 1 1 1 1 1 1 1 1 1 1 1 1 1 1 1 1 1 1 0 0 0 0 0 0 0 0 0 0 0 0 0 0 0 0 0 0 0 0 0 0 0 0 0 0 0 0 0 0 0 0 0 0 0 0 0 0 0 0 0 0 0 0 0 0 0 0 0 0 0 0 0 0 0 0 0 0 0 0 0\n",
      "INFO:simpletransformers.question_answering.question_answering_utils:start_position: 51\n",
      "INFO:simpletransformers.question_answering.question_answering_utils:end_position: 51\n",
      "INFO:simpletransformers.question_answering.question_answering_utils:answer: location\n",
      "INFO:simpletransformers.question_answering.question_answering_utils:*** Example ***\n",
      "INFO:simpletransformers.question_answering.question_answering_utils:unique_id: 1000000017\n",
      "INFO:simpletransformers.question_answering.question_answering_utils:example_index: 12\n",
      "INFO:simpletransformers.question_answering.question_answering_utils:doc_span_index: 0\n",
      "INFO:simpletransformers.question_answering.question_answering_utils:tokens: [CLS] [UNK] date for the hotel reservation [SEP] [UNK] ' m looking for some free attractions to check out . [UNK] in particular ? [UNK] of a place of interest in [UNK] . [UNK] ' s a cool [UNK] [UNK] called [UNK] [UNK] . [UNK] it kid - friendly ? [UNK] ' s not the best place for kids . [UNK] right , thanks . [UNK] else [UNK] can help with ? [UNK] ' ll be a 2 room hotel there . [UNK] about 1 [UNK] [UNK] [UNK] with its 4 . 5 rating ? [UNK] anything else ? [UNK] ' s 1 [UNK] [UNK] [UNK] with a 4 . 5 rating . [UNK] anything else ? [UNK] ' s 11 [UNK] with a 4 . 3 [SEP]\n",
      "INFO:simpletransformers.question_answering.question_answering_utils:token_to_orig_map: 8:0 9:0 10:0 11:1 12:2 13:3 14:4 15:5 16:6 17:7 18:8 19:8 20:9 21:10 22:11 23:11 24:12 25:13 26:14 27:15 28:16 29:17 30:18 31:19 32:19 33:20 34:20 35:20 36:21 37:22 38:23 39:24 40:25 41:26 42:27 43:27 44:28 45:29 46:30 47:30 48:30 49:30 50:31 51:31 52:31 53:32 54:33 55:34 56:35 57:36 58:37 59:37 60:38 61:39 62:39 63:40 64:40 65:41 66:42 67:43 68:44 69:45 70:46 71:46 72:47 73:47 74:47 75:48 76:49 77:50 78:51 79:52 80:53 81:53 82:54 83:55 84:56 85:57 86:58 87:59 88:60 89:61 90:62 91:62 92:62 93:63 94:63 95:64 96:65 97:66 98:66 99:67 100:67 101:67 102:68 103:69 104:70 105:71 106:72 107:73 108:74 109:74 110:74 111:75 112:75 113:76 114:77 115:78 116:78 117:79 118:79 119:79 120:80 121:81 122:82 123:83 124:84 125:84 126:84\n",
      "INFO:simpletransformers.question_answering.question_answering_utils:token_is_max_context: 8:True 9:True 10:True 11:True 12:True 13:True 14:True 15:True 16:True 17:True 18:True 19:True 20:True 21:True 22:True 23:True 24:True 25:True 26:True 27:True 28:True 29:True 30:True 31:True 32:True 33:True 34:True 35:True 36:True 37:True 38:True 39:True 40:True 41:True 42:True 43:True 44:True 45:True 46:True 47:True 48:True 49:True 50:True 51:True 52:True 53:True 54:True 55:True 56:True 57:True 58:True 59:True 60:True 61:True 62:True 63:True 64:True 65:True 66:True 67:True 68:True 69:True 70:True 71:True 72:True 73:True 74:True 75:True 76:True 77:True 78:True 79:True 80:True 81:True 82:True 83:True 84:True 85:True 86:True 87:True 88:True 89:True 90:True 91:True 92:True 93:True 94:True 95:True 96:True 97:True 98:True 99:True 100:True 101:True 102:True 103:True 104:True 105:True 106:True 107:True 108:True 109:True 110:True 111:True 112:True 113:True 114:True 115:True 116:True 117:True 118:True 119:True 120:True 121:True 122:True 123:True 124:True 125:True 126:True\n",
      "INFO:simpletransformers.question_answering.question_answering_utils:input_ids: 101 100 3058 2005 1996 3309 11079 102 100 1005 1049 2559 2005 2070 2489 13051 2000 4638 2041 1012 100 1999 3327 1029 100 1997 1037 2173 1997 3037 1999 100 1012 100 1005 1055 1037 4658 100 100 2170 100 100 1012 100 2009 4845 1011 5379 1029 100 1005 1055 2025 1996 2190 2173 2005 4268 1012 100 2157 1010 4283 1012 100 2842 100 2064 2393 2007 1029 100 1005 2222 2022 1037 1016 2282 3309 2045 1012 100 2055 1015 100 100 100 2007 2049 1018 1012 1019 5790 1029 100 2505 2842 1029 100 1005 1055 1015 100 100 100 2007 1037 1018 1012 1019 5790 1012 100 2505 2842 1029 100 1005 1055 2340 100 2007 1037 1018 1012 1017 102\n",
      "INFO:simpletransformers.question_answering.question_answering_utils:input_mask: 1 1 1 1 1 1 1 1 1 1 1 1 1 1 1 1 1 1 1 1 1 1 1 1 1 1 1 1 1 1 1 1 1 1 1 1 1 1 1 1 1 1 1 1 1 1 1 1 1 1 1 1 1 1 1 1 1 1 1 1 1 1 1 1 1 1 1 1 1 1 1 1 1 1 1 1 1 1 1 1 1 1 1 1 1 1 1 1 1 1 1 1 1 1 1 1 1 1 1 1 1 1 1 1 1 1 1 1 1 1 1 1 1 1 1 1 1 1 1 1 1 1 1 1 1 1 1 1\n",
      "INFO:simpletransformers.question_answering.question_answering_utils:segment_ids: 0 0 0 0 0 0 0 0 1 1 1 1 1 1 1 1 1 1 1 1 1 1 1 1 1 1 1 1 1 1 1 1 1 1 1 1 1 1 1 1 1 1 1 1 1 1 1 1 1 1 1 1 1 1 1 1 1 1 1 1 1 1 1 1 1 1 1 1 1 1 1 1 1 1 1 1 1 1 1 1 1 1 1 1 1 1 1 1 1 1 1 1 1 1 1 1 1 1 1 1 1 1 1 1 1 1 1 1 1 1 1 1 1 1 1 1 1 1 1 1 1 1 1 1 1 1 1 1\n",
      "INFO:simpletransformers.question_answering.question_answering_utils:impossible example\n",
      "INFO:simpletransformers.question_answering.question_answering_utils:*** Example ***\n",
      "INFO:simpletransformers.question_answering.question_answering_utils:unique_id: 1000000018\n",
      "INFO:simpletransformers.question_answering.question_answering_utils:example_index: 12\n",
      "INFO:simpletransformers.question_answering.question_answering_utils:doc_span_index: 1\n",
      "INFO:simpletransformers.question_answering.question_answering_utils:tokens: [CLS] [UNK] date for the hotel reservation [SEP] rating . [UNK] sounds all right . [UNK] to make a reservation there ? [UNK] , book it for a check in on [UNK] 5th and check out on the 8th . [UNK] to make sure , you want a 2 room reservation at 11 [UNK] in [UNK] [UNK] with a check in for check in date and check ##out on [UNK] 8th . [SEP]\n",
      "INFO:simpletransformers.question_answering.question_answering_utils:token_to_orig_map: 8:85 9:85 10:86 11:87 12:88 13:89 14:89 15:90 16:91 17:92 18:93 19:94 20:95 21:95 22:96 23:96 24:97 25:98 26:99 27:100 28:101 29:102 30:103 31:104 32:105 33:106 34:107 35:108 36:109 37:110 38:111 39:111 40:112 41:113 42:114 43:115 44:115 45:116 46:117 47:118 48:119 49:120 50:121 51:122 52:123 53:124 54:125 55:126 56:127 57:128 58:129 59:130 60:131 61:132 62:133 63:134 64:135 65:136 66:137 67:137 68:138 69:139 70:140 71:140\n",
      "INFO:simpletransformers.question_answering.question_answering_utils:token_is_max_context: 8:True 9:True 10:True 11:True 12:True 13:True 14:True 15:True 16:True 17:True 18:True 19:True 20:True 21:True 22:True 23:True 24:True 25:True 26:True 27:True 28:True 29:True 30:True 31:True 32:True 33:True 34:True 35:True 36:True 37:True 38:True 39:True 40:True 41:True 42:True 43:True 44:True 45:True 46:True 47:True 48:True 49:True 50:True 51:True 52:True 53:True 54:True 55:True 56:True 57:True 58:True 59:True 60:True 61:True 62:True 63:True 64:True 65:True 66:True 67:True 68:True 69:True 70:True 71:True\n",
      "INFO:simpletransformers.question_answering.question_answering_utils:input_ids: 101 100 3058 2005 1996 3309 11079 102 5790 1012 100 4165 2035 2157 1012 100 2000 2191 1037 11079 2045 1029 100 1010 2338 2009 2005 1037 4638 1999 2006 100 4833 1998 4638 2041 2006 1996 5893 1012 100 2000 2191 2469 1010 2017 2215 1037 1016 2282 11079 2012 2340 100 1999 100 100 2007 1037 4638 1999 2005 4638 1999 3058 1998 4638 5833 2006 100 5893 1012 102 0 0 0 0 0 0 0 0 0 0 0 0 0 0 0 0 0 0 0 0 0 0 0 0 0 0 0 0 0 0 0 0 0 0 0 0 0 0 0 0 0 0 0 0 0 0 0 0 0 0 0 0 0 0 0\n"
     ]
    },
    {
     "name": "stderr",
     "output_type": "stream",
     "text": [
      "INFO:simpletransformers.question_answering.question_answering_utils:input_mask: 1 1 1 1 1 1 1 1 1 1 1 1 1 1 1 1 1 1 1 1 1 1 1 1 1 1 1 1 1 1 1 1 1 1 1 1 1 1 1 1 1 1 1 1 1 1 1 1 1 1 1 1 1 1 1 1 1 1 1 1 1 1 1 1 1 1 1 1 1 1 1 1 1 0 0 0 0 0 0 0 0 0 0 0 0 0 0 0 0 0 0 0 0 0 0 0 0 0 0 0 0 0 0 0 0 0 0 0 0 0 0 0 0 0 0 0 0 0 0 0 0 0 0 0 0 0 0 0\n",
      "INFO:simpletransformers.question_answering.question_answering_utils:segment_ids: 0 0 0 0 0 0 0 0 1 1 1 1 1 1 1 1 1 1 1 1 1 1 1 1 1 1 1 1 1 1 1 1 1 1 1 1 1 1 1 1 1 1 1 1 1 1 1 1 1 1 1 1 1 1 1 1 1 1 1 1 1 1 1 1 1 1 1 1 1 1 1 1 1 0 0 0 0 0 0 0 0 0 0 0 0 0 0 0 0 0 0 0 0 0 0 0 0 0 0 0 0 0 0 0 0 0 0 0 0 0 0 0 0 0 0 0 0 0 0 0 0 0 0 0 0 0 0 0\n",
      "INFO:simpletransformers.question_answering.question_answering_utils:start_position: 62\n",
      "INFO:simpletransformers.question_answering.question_answering_utils:end_position: 64\n",
      "INFO:simpletransformers.question_answering.question_answering_utils:answer: check in date\n",
      "INFO:simpletransformers.question_answering.question_answering_utils:*** Example ***\n",
      "INFO:simpletransformers.question_answering.question_answering_utils:unique_id: 1000000019\n",
      "INFO:simpletransformers.question_answering.question_answering_utils:example_index: 13\n",
      "INFO:simpletransformers.question_answering.question_answering_utils:doc_span_index: 0\n",
      "INFO:simpletransformers.question_answering.question_answering_utils:tokens: [CLS] [UNK] date for the hotel reservation [SEP] [UNK] ' m looking for some free attractions to check out . [UNK] in particular ? [UNK] of a place of interest in [UNK] . [UNK] ' s a cool [UNK] [UNK] called [UNK] [UNK] . [UNK] it kid - friendly ? [UNK] ' s not the best place for kids . [UNK] right , thanks . [UNK] else [UNK] can help with ? [UNK] ' ll be a 2 room hotel there . [UNK] about 1 [UNK] [UNK] [UNK] with its 4 . 5 rating ? [UNK] anything else ? [UNK] ' s 1 [UNK] [UNK] [UNK] with a 4 . 5 rating . [UNK] anything else ? [UNK] ' s 11 [UNK] with a 4 . 3 [SEP]\n",
      "INFO:simpletransformers.question_answering.question_answering_utils:token_to_orig_map: 8:0 9:0 10:0 11:1 12:2 13:3 14:4 15:5 16:6 17:7 18:8 19:8 20:9 21:10 22:11 23:11 24:12 25:13 26:14 27:15 28:16 29:17 30:18 31:19 32:19 33:20 34:20 35:20 36:21 37:22 38:23 39:24 40:25 41:26 42:27 43:27 44:28 45:29 46:30 47:30 48:30 49:30 50:31 51:31 52:31 53:32 54:33 55:34 56:35 57:36 58:37 59:37 60:38 61:39 62:39 63:40 64:40 65:41 66:42 67:43 68:44 69:45 70:46 71:46 72:47 73:47 74:47 75:48 76:49 77:50 78:51 79:52 80:53 81:53 82:54 83:55 84:56 85:57 86:58 87:59 88:60 89:61 90:62 91:62 92:62 93:63 94:63 95:64 96:65 97:66 98:66 99:67 100:67 101:67 102:68 103:69 104:70 105:71 106:72 107:73 108:74 109:74 110:74 111:75 112:75 113:76 114:77 115:78 116:78 117:79 118:79 119:79 120:80 121:81 122:82 123:83 124:84 125:84 126:84\n",
      "INFO:simpletransformers.question_answering.question_answering_utils:token_is_max_context: 8:True 9:True 10:True 11:True 12:True 13:True 14:True 15:True 16:True 17:True 18:True 19:True 20:True 21:True 22:True 23:True 24:True 25:True 26:True 27:True 28:True 29:True 30:True 31:True 32:True 33:True 34:True 35:True 36:True 37:True 38:True 39:True 40:True 41:True 42:True 43:True 44:True 45:True 46:True 47:True 48:True 49:True 50:True 51:True 52:True 53:True 54:True 55:True 56:True 57:True 58:True 59:True 60:True 61:True 62:True 63:True 64:True 65:True 66:True 67:True 68:True 69:True 70:True 71:True 72:True 73:True 74:True 75:True 76:True 77:True 78:True 79:True 80:True 81:True 82:True 83:True 84:True 85:True 86:True 87:True 88:True 89:True 90:True 91:True 92:True 93:True 94:True 95:True 96:True 97:True 98:True 99:True 100:True 101:True 102:True 103:True 104:True 105:True 106:True 107:True 108:True 109:True 110:True 111:True 112:True 113:True 114:True 115:True 116:True 117:True 118:True 119:True 120:True 121:True 122:True 123:True 124:True 125:True 126:True\n",
      "INFO:simpletransformers.question_answering.question_answering_utils:input_ids: 101 100 3058 2005 1996 3309 11079 102 100 1005 1049 2559 2005 2070 2489 13051 2000 4638 2041 1012 100 1999 3327 1029 100 1997 1037 2173 1997 3037 1999 100 1012 100 1005 1055 1037 4658 100 100 2170 100 100 1012 100 2009 4845 1011 5379 1029 100 1005 1055 2025 1996 2190 2173 2005 4268 1012 100 2157 1010 4283 1012 100 2842 100 2064 2393 2007 1029 100 1005 2222 2022 1037 1016 2282 3309 2045 1012 100 2055 1015 100 100 100 2007 2049 1018 1012 1019 5790 1029 100 2505 2842 1029 100 1005 1055 1015 100 100 100 2007 1037 1018 1012 1019 5790 1012 100 2505 2842 1029 100 1005 1055 2340 100 2007 1037 1018 1012 1017 102\n",
      "INFO:simpletransformers.question_answering.question_answering_utils:input_mask: 1 1 1 1 1 1 1 1 1 1 1 1 1 1 1 1 1 1 1 1 1 1 1 1 1 1 1 1 1 1 1 1 1 1 1 1 1 1 1 1 1 1 1 1 1 1 1 1 1 1 1 1 1 1 1 1 1 1 1 1 1 1 1 1 1 1 1 1 1 1 1 1 1 1 1 1 1 1 1 1 1 1 1 1 1 1 1 1 1 1 1 1 1 1 1 1 1 1 1 1 1 1 1 1 1 1 1 1 1 1 1 1 1 1 1 1 1 1 1 1 1 1 1 1 1 1 1 1\n",
      "INFO:simpletransformers.question_answering.question_answering_utils:segment_ids: 0 0 0 0 0 0 0 0 1 1 1 1 1 1 1 1 1 1 1 1 1 1 1 1 1 1 1 1 1 1 1 1 1 1 1 1 1 1 1 1 1 1 1 1 1 1 1 1 1 1 1 1 1 1 1 1 1 1 1 1 1 1 1 1 1 1 1 1 1 1 1 1 1 1 1 1 1 1 1 1 1 1 1 1 1 1 1 1 1 1 1 1 1 1 1 1 1 1 1 1 1 1 1 1 1 1 1 1 1 1 1 1 1 1 1 1 1 1 1 1 1 1 1 1 1 1 1 1\n",
      "INFO:simpletransformers.question_answering.question_answering_utils:impossible example\n",
      "INFO:simpletransformers.question_answering.question_answering_utils:*** Example ***\n",
      "INFO:simpletransformers.question_answering.question_answering_utils:unique_id: 1000000020\n",
      "INFO:simpletransformers.question_answering.question_answering_utils:example_index: 13\n",
      "INFO:simpletransformers.question_answering.question_answering_utils:doc_span_index: 1\n",
      "INFO:simpletransformers.question_answering.question_answering_utils:tokens: [CLS] [UNK] date for the hotel reservation [SEP] rating . [UNK] sounds all right . [UNK] to make a reservation there ? [UNK] , book it for a check in on [UNK] 5th and check out on the 8th . [UNK] to make sure , you want a 2 room reservation at 11 [UNK] in [UNK] [UNK] with a check in for [UNK] 5th and check ##out on check out date . [SEP]\n",
      "INFO:simpletransformers.question_answering.question_answering_utils:token_to_orig_map: 8:85 9:85 10:86 11:87 12:88 13:89 14:89 15:90 16:91 17:92 18:93 19:94 20:95 21:95 22:96 23:96 24:97 25:98 26:99 27:100 28:101 29:102 30:103 31:104 32:105 33:106 34:107 35:108 36:109 37:110 38:111 39:111 40:112 41:113 42:114 43:115 44:115 45:116 46:117 47:118 48:119 49:120 50:121 51:122 52:123 53:124 54:125 55:126 56:127 57:128 58:129 59:130 60:131 61:132 62:133 63:134 64:135 65:136 66:136 67:137 68:138 69:139 70:140 71:140\n",
      "INFO:simpletransformers.question_answering.question_answering_utils:token_is_max_context: 8:True 9:True 10:True 11:True 12:True 13:True 14:True 15:True 16:True 17:True 18:True 19:True 20:True 21:True 22:True 23:True 24:True 25:True 26:True 27:True 28:True 29:True 30:True 31:True 32:True 33:True 34:True 35:True 36:True 37:True 38:True 39:True 40:True 41:True 42:True 43:True 44:True 45:True 46:True 47:True 48:True 49:True 50:True 51:True 52:True 53:True 54:True 55:True 56:True 57:True 58:True 59:True 60:True 61:True 62:True 63:True 64:True 65:True 66:True 67:True 68:True 69:True 70:True 71:True\n",
      "INFO:simpletransformers.question_answering.question_answering_utils:input_ids: 101 100 3058 2005 1996 3309 11079 102 5790 1012 100 4165 2035 2157 1012 100 2000 2191 1037 11079 2045 1029 100 1010 2338 2009 2005 1037 4638 1999 2006 100 4833 1998 4638 2041 2006 1996 5893 1012 100 2000 2191 2469 1010 2017 2215 1037 1016 2282 11079 2012 2340 100 1999 100 100 2007 1037 4638 1999 2005 100 4833 1998 4638 5833 2006 4638 2041 3058 1012 102 0 0 0 0 0 0 0 0 0 0 0 0 0 0 0 0 0 0 0 0 0 0 0 0 0 0 0 0 0 0 0 0 0 0 0 0 0 0 0 0 0 0 0 0 0 0 0 0 0 0 0 0 0 0 0\n",
      "INFO:simpletransformers.question_answering.question_answering_utils:input_mask: 1 1 1 1 1 1 1 1 1 1 1 1 1 1 1 1 1 1 1 1 1 1 1 1 1 1 1 1 1 1 1 1 1 1 1 1 1 1 1 1 1 1 1 1 1 1 1 1 1 1 1 1 1 1 1 1 1 1 1 1 1 1 1 1 1 1 1 1 1 1 1 1 1 0 0 0 0 0 0 0 0 0 0 0 0 0 0 0 0 0 0 0 0 0 0 0 0 0 0 0 0 0 0 0 0 0 0 0 0 0 0 0 0 0 0 0 0 0 0 0 0 0 0 0 0 0 0 0\n",
      "INFO:simpletransformers.question_answering.question_answering_utils:segment_ids: 0 0 0 0 0 0 0 0 1 1 1 1 1 1 1 1 1 1 1 1 1 1 1 1 1 1 1 1 1 1 1 1 1 1 1 1 1 1 1 1 1 1 1 1 1 1 1 1 1 1 1 1 1 1 1 1 1 1 1 1 1 1 1 1 1 1 1 1 1 1 1 1 1 0 0 0 0 0 0 0 0 0 0 0 0 0 0 0 0 0 0 0 0 0 0 0 0 0 0 0 0 0 0 0 0 0 0 0 0 0 0 0 0 0 0 0 0 0 0 0 0 0 0 0 0 0 0 0\n"
     ]
    },
    {
     "name": "stderr",
     "output_type": "stream",
     "text": [
      "INFO:simpletransformers.question_answering.question_answering_utils:start_position: 68\n",
      "INFO:simpletransformers.question_answering.question_answering_utils:end_position: 70\n",
      "INFO:simpletransformers.question_answering.question_answering_utils:answer: check out date\n",
      " 82%|████████▏ | 14/17 [00:00<00:00, 63.94it/s]INFO:simpletransformers.question_answering.question_answering_utils:*** Example ***\n",
      "INFO:simpletransformers.question_answering.question_answering_utils:unique_id: 1000000021\n",
      "INFO:simpletransformers.question_answering.question_answering_utils:example_index: 14\n",
      "INFO:simpletransformers.question_answering.question_answering_utils:doc_span_index: 0\n",
      "INFO:simpletransformers.question_answering.question_answering_utils:tokens: [CLS] [UNK] date for the hotel reservation [SEP] [UNK] ' m looking for some free attractions to check out . [UNK] in particular ? [UNK] of a place of interest in [UNK] . [UNK] ' s a cool [UNK] [UNK] called [UNK] [UNK] . [UNK] it kid - friendly ? [UNK] ' s not the best place for kids . [UNK] right , thanks . [UNK] else [UNK] can help with ? [UNK] ' ll be a 2 room hotel there . [UNK] about 1 [UNK] [UNK] [UNK] with its 4 . 5 rating ? [UNK] anything else ? [UNK] ' s 1 [UNK] [UNK] [UNK] with a 4 . 5 rating . [UNK] anything else ? [UNK] ' s 11 [UNK] with a 4 . 3 [SEP]\n",
      "INFO:simpletransformers.question_answering.question_answering_utils:token_to_orig_map: 8:0 9:0 10:0 11:1 12:2 13:3 14:4 15:5 16:6 17:7 18:8 19:8 20:9 21:10 22:11 23:11 24:12 25:13 26:14 27:15 28:16 29:17 30:18 31:19 32:19 33:20 34:20 35:20 36:21 37:22 38:23 39:24 40:25 41:26 42:27 43:27 44:28 45:29 46:30 47:30 48:30 49:30 50:31 51:31 52:31 53:32 54:33 55:34 56:35 57:36 58:37 59:37 60:38 61:39 62:39 63:40 64:40 65:41 66:42 67:43 68:44 69:45 70:46 71:46 72:47 73:47 74:47 75:48 76:49 77:50 78:51 79:52 80:53 81:53 82:54 83:55 84:56 85:57 86:58 87:59 88:60 89:61 90:62 91:62 92:62 93:63 94:63 95:64 96:65 97:66 98:66 99:67 100:67 101:67 102:68 103:69 104:70 105:71 106:72 107:73 108:74 109:74 110:74 111:75 112:75 113:76 114:77 115:78 116:78 117:79 118:79 119:79 120:80 121:81 122:82 123:83 124:84 125:84 126:84\n",
      "INFO:simpletransformers.question_answering.question_answering_utils:token_is_max_context: 8:True 9:True 10:True 11:True 12:True 13:True 14:True 15:True 16:True 17:True 18:True 19:True 20:True 21:True 22:True 23:True 24:True 25:True 26:True 27:True 28:True 29:True 30:True 31:True 32:True 33:True 34:True 35:True 36:True 37:True 38:True 39:True 40:True 41:True 42:True 43:True 44:True 45:True 46:True 47:True 48:True 49:True 50:True 51:True 52:True 53:True 54:True 55:True 56:True 57:True 58:True 59:True 60:True 61:True 62:True 63:True 64:True 65:True 66:True 67:True 68:True 69:True 70:True 71:True 72:True 73:True 74:True 75:True 76:True 77:True 78:True 79:True 80:True 81:True 82:True 83:True 84:True 85:True 86:True 87:True 88:True 89:True 90:True 91:True 92:True 93:True 94:True 95:True 96:True 97:True 98:True 99:True 100:True 101:True 102:True 103:True 104:True 105:True 106:True 107:True 108:True 109:True 110:True 111:True 112:True 113:True 114:True 115:True 116:True 117:True 118:True 119:True 120:True 121:True 122:True 123:True 124:True 125:True 126:True\n",
      "INFO:simpletransformers.question_answering.question_answering_utils:input_ids: 101 100 3058 2005 1996 3309 11079 102 100 1005 1049 2559 2005 2070 2489 13051 2000 4638 2041 1012 100 1999 3327 1029 100 1997 1037 2173 1997 3037 1999 100 1012 100 1005 1055 1037 4658 100 100 2170 100 100 1012 100 2009 4845 1011 5379 1029 100 1005 1055 2025 1996 2190 2173 2005 4268 1012 100 2157 1010 4283 1012 100 2842 100 2064 2393 2007 1029 100 1005 2222 2022 1037 1016 2282 3309 2045 1012 100 2055 1015 100 100 100 2007 2049 1018 1012 1019 5790 1029 100 2505 2842 1029 100 1005 1055 1015 100 100 100 2007 1037 1018 1012 1019 5790 1012 100 2505 2842 1029 100 1005 1055 2340 100 2007 1037 1018 1012 1017 102\n",
      "INFO:simpletransformers.question_answering.question_answering_utils:input_mask: 1 1 1 1 1 1 1 1 1 1 1 1 1 1 1 1 1 1 1 1 1 1 1 1 1 1 1 1 1 1 1 1 1 1 1 1 1 1 1 1 1 1 1 1 1 1 1 1 1 1 1 1 1 1 1 1 1 1 1 1 1 1 1 1 1 1 1 1 1 1 1 1 1 1 1 1 1 1 1 1 1 1 1 1 1 1 1 1 1 1 1 1 1 1 1 1 1 1 1 1 1 1 1 1 1 1 1 1 1 1 1 1 1 1 1 1 1 1 1 1 1 1 1 1 1 1 1 1\n",
      "INFO:simpletransformers.question_answering.question_answering_utils:segment_ids: 0 0 0 0 0 0 0 0 1 1 1 1 1 1 1 1 1 1 1 1 1 1 1 1 1 1 1 1 1 1 1 1 1 1 1 1 1 1 1 1 1 1 1 1 1 1 1 1 1 1 1 1 1 1 1 1 1 1 1 1 1 1 1 1 1 1 1 1 1 1 1 1 1 1 1 1 1 1 1 1 1 1 1 1 1 1 1 1 1 1 1 1 1 1 1 1 1 1 1 1 1 1 1 1 1 1 1 1 1 1 1 1 1 1 1 1 1 1 1 1 1 1 1 1 1 1 1 1\n",
      "INFO:simpletransformers.question_answering.question_answering_utils:impossible example\n",
      "INFO:simpletransformers.question_answering.question_answering_utils:*** Example ***\n",
      "INFO:simpletransformers.question_answering.question_answering_utils:unique_id: 1000000022\n",
      "INFO:simpletransformers.question_answering.question_answering_utils:example_index: 14\n",
      "INFO:simpletransformers.question_answering.question_answering_utils:doc_span_index: 1\n",
      "INFO:simpletransformers.question_answering.question_answering_utils:tokens: [CLS] [UNK] date for the hotel reservation [SEP] rating . [UNK] sounds all right . [UNK] to make a reservation there ? [UNK] , book it for a check in on [UNK] 5th and check out on the 8th . [UNK] to make sure , you want a 2 room reservation at 11 [UNK] in [UNK] [UNK] with a check in for [UNK] 5th and check ##out on [UNK] 8th . [UNK] , make the check out for the check out date . [SEP]\n",
      "INFO:simpletransformers.question_answering.question_answering_utils:token_to_orig_map: 8:85 9:85 10:86 11:87 12:88 13:89 14:89 15:90 16:91 17:92 18:93 19:94 20:95 21:95 22:96 23:96 24:97 25:98 26:99 27:100 28:101 29:102 30:103 31:104 32:105 33:106 34:107 35:108 36:109 37:110 38:111 39:111 40:112 41:113 42:114 43:115 44:115 45:116 46:117 47:118 48:119 49:120 50:121 51:122 52:123 53:124 54:125 55:126 56:127 57:128 58:129 59:130 60:131 61:132 62:133 63:134 64:135 65:136 66:136 67:137 68:138 69:139 70:139 71:140 72:140 73:141 74:142 75:143 76:144 77:145 78:146 79:147 80:148 81:149 82:149\n",
      "INFO:simpletransformers.question_answering.question_answering_utils:token_is_max_context: 8:True 9:True 10:True 11:True 12:True 13:True 14:True 15:True 16:True 17:True 18:True 19:True 20:True 21:True 22:True 23:True 24:True 25:True 26:True 27:True 28:True 29:True 30:True 31:True 32:True 33:True 34:True 35:True 36:True 37:True 38:True 39:True 40:True 41:True 42:True 43:True 44:True 45:True 46:True 47:True 48:True 49:True 50:True 51:True 52:True 53:True 54:True 55:True 56:True 57:True 58:True 59:True 60:True 61:True 62:True 63:True 64:True 65:True 66:True 67:True 68:True 69:True 70:True 71:True 72:True 73:True 74:True 75:True 76:True 77:True 78:True 79:True 80:True 81:True 82:True\n",
      "INFO:simpletransformers.question_answering.question_answering_utils:input_ids: 101 100 3058 2005 1996 3309 11079 102 5790 1012 100 4165 2035 2157 1012 100 2000 2191 1037 11079 2045 1029 100 1010 2338 2009 2005 1037 4638 1999 2006 100 4833 1998 4638 2041 2006 1996 5893 1012 100 2000 2191 2469 1010 2017 2215 1037 1016 2282 11079 2012 2340 100 1999 100 100 2007 1037 4638 1999 2005 100 4833 1998 4638 5833 2006 100 5893 1012 100 1010 2191 1996 4638 2041 2005 1996 4638 2041 3058 1012 102 0 0 0 0 0 0 0 0 0 0 0 0 0 0 0 0 0 0 0 0 0 0 0 0 0 0 0 0 0 0 0 0 0 0 0 0 0 0 0 0 0 0 0 0\n",
      "INFO:simpletransformers.question_answering.question_answering_utils:input_mask: 1 1 1 1 1 1 1 1 1 1 1 1 1 1 1 1 1 1 1 1 1 1 1 1 1 1 1 1 1 1 1 1 1 1 1 1 1 1 1 1 1 1 1 1 1 1 1 1 1 1 1 1 1 1 1 1 1 1 1 1 1 1 1 1 1 1 1 1 1 1 1 1 1 1 1 1 1 1 1 1 1 1 1 1 0 0 0 0 0 0 0 0 0 0 0 0 0 0 0 0 0 0 0 0 0 0 0 0 0 0 0 0 0 0 0 0 0 0 0 0 0 0 0 0 0 0 0 0\n",
      "INFO:simpletransformers.question_answering.question_answering_utils:segment_ids: 0 0 0 0 0 0 0 0 1 1 1 1 1 1 1 1 1 1 1 1 1 1 1 1 1 1 1 1 1 1 1 1 1 1 1 1 1 1 1 1 1 1 1 1 1 1 1 1 1 1 1 1 1 1 1 1 1 1 1 1 1 1 1 1 1 1 1 1 1 1 1 1 1 1 1 1 1 1 1 1 1 1 1 1 0 0 0 0 0 0 0 0 0 0 0 0 0 0 0 0 0 0 0 0 0 0 0 0 0 0 0 0 0 0 0 0 0 0 0 0 0 0 0 0 0 0 0 0\n",
      "INFO:simpletransformers.question_answering.question_answering_utils:start_position: 79\n",
      "INFO:simpletransformers.question_answering.question_answering_utils:end_position: 81\n",
      "INFO:simpletransformers.question_answering.question_answering_utils:answer: check out date\n"
     ]
    },
    {
     "name": "stderr",
     "output_type": "stream",
     "text": [
      "INFO:simpletransformers.question_answering.question_answering_utils:*** Example ***\n",
      "INFO:simpletransformers.question_answering.question_answering_utils:unique_id: 1000000023\n",
      "INFO:simpletransformers.question_answering.question_answering_utils:example_index: 15\n",
      "INFO:simpletransformers.question_answering.question_answering_utils:doc_span_index: 0\n",
      "INFO:simpletransformers.question_answering.question_answering_utils:tokens: [CLS] [UNK] date for the hotel reservation [SEP] [UNK] ' m looking for some free attractions to check out . [UNK] in particular ? [UNK] of a place of interest in [UNK] . [UNK] ' s a cool [UNK] [UNK] called [UNK] [UNK] . [UNK] it kid - friendly ? [UNK] ' s not the best place for kids . [UNK] right , thanks . [UNK] else [UNK] can help with ? [UNK] ' ll be a 2 room hotel there . [UNK] about 1 [UNK] [UNK] [UNK] with its 4 . 5 rating ? [UNK] anything else ? [UNK] ' s 1 [UNK] [UNK] [UNK] with a 4 . 5 rating . [UNK] anything else ? [UNK] ' s 11 [UNK] with a 4 . 3 [SEP]\n",
      "INFO:simpletransformers.question_answering.question_answering_utils:token_to_orig_map: 8:0 9:0 10:0 11:1 12:2 13:3 14:4 15:5 16:6 17:7 18:8 19:8 20:9 21:10 22:11 23:11 24:12 25:13 26:14 27:15 28:16 29:17 30:18 31:19 32:19 33:20 34:20 35:20 36:21 37:22 38:23 39:24 40:25 41:26 42:27 43:27 44:28 45:29 46:30 47:30 48:30 49:30 50:31 51:31 52:31 53:32 54:33 55:34 56:35 57:36 58:37 59:37 60:38 61:39 62:39 63:40 64:40 65:41 66:42 67:43 68:44 69:45 70:46 71:46 72:47 73:47 74:47 75:48 76:49 77:50 78:51 79:52 80:53 81:53 82:54 83:55 84:56 85:57 86:58 87:59 88:60 89:61 90:62 91:62 92:62 93:63 94:63 95:64 96:65 97:66 98:66 99:67 100:67 101:67 102:68 103:69 104:70 105:71 106:72 107:73 108:74 109:74 110:74 111:75 112:75 113:76 114:77 115:78 116:78 117:79 118:79 119:79 120:80 121:81 122:82 123:83 124:84 125:84 126:84\n",
      "INFO:simpletransformers.question_answering.question_answering_utils:token_is_max_context: 8:True 9:True 10:True 11:True 12:True 13:True 14:True 15:True 16:True 17:True 18:True 19:True 20:True 21:True 22:True 23:True 24:True 25:True 26:True 27:True 28:True 29:True 30:True 31:True 32:True 33:True 34:True 35:True 36:True 37:True 38:True 39:True 40:True 41:True 42:True 43:True 44:True 45:True 46:True 47:True 48:True 49:True 50:True 51:True 52:True 53:True 54:True 55:True 56:True 57:True 58:True 59:True 60:True 61:True 62:True 63:True 64:True 65:True 66:True 67:True 68:True 69:True 70:True 71:True 72:True 73:True 74:True 75:True 76:True 77:True 78:True 79:True 80:True 81:True 82:True 83:True 84:True 85:True 86:True 87:True 88:True 89:True 90:True 91:True 92:True 93:True 94:True 95:True 96:True 97:True 98:True 99:True 100:True 101:True 102:True 103:True 104:True 105:True 106:True 107:True 108:True 109:True 110:True 111:True 112:True 113:True 114:True 115:True 116:True 117:True 118:True 119:True 120:True 121:True 122:True 123:True 124:True 125:True 126:True\n",
      "INFO:simpletransformers.question_answering.question_answering_utils:input_ids: 101 100 3058 2005 1996 3309 11079 102 100 1005 1049 2559 2005 2070 2489 13051 2000 4638 2041 1012 100 1999 3327 1029 100 1997 1037 2173 1997 3037 1999 100 1012 100 1005 1055 1037 4658 100 100 2170 100 100 1012 100 2009 4845 1011 5379 1029 100 1005 1055 2025 1996 2190 2173 2005 4268 1012 100 2157 1010 4283 1012 100 2842 100 2064 2393 2007 1029 100 1005 2222 2022 1037 1016 2282 3309 2045 1012 100 2055 1015 100 100 100 2007 2049 1018 1012 1019 5790 1029 100 2505 2842 1029 100 1005 1055 1015 100 100 100 2007 1037 1018 1012 1019 5790 1012 100 2505 2842 1029 100 1005 1055 2340 100 2007 1037 1018 1012 1017 102\n",
      "INFO:simpletransformers.question_answering.question_answering_utils:input_mask: 1 1 1 1 1 1 1 1 1 1 1 1 1 1 1 1 1 1 1 1 1 1 1 1 1 1 1 1 1 1 1 1 1 1 1 1 1 1 1 1 1 1 1 1 1 1 1 1 1 1 1 1 1 1 1 1 1 1 1 1 1 1 1 1 1 1 1 1 1 1 1 1 1 1 1 1 1 1 1 1 1 1 1 1 1 1 1 1 1 1 1 1 1 1 1 1 1 1 1 1 1 1 1 1 1 1 1 1 1 1 1 1 1 1 1 1 1 1 1 1 1 1 1 1 1 1 1 1\n",
      "INFO:simpletransformers.question_answering.question_answering_utils:segment_ids: 0 0 0 0 0 0 0 0 1 1 1 1 1 1 1 1 1 1 1 1 1 1 1 1 1 1 1 1 1 1 1 1 1 1 1 1 1 1 1 1 1 1 1 1 1 1 1 1 1 1 1 1 1 1 1 1 1 1 1 1 1 1 1 1 1 1 1 1 1 1 1 1 1 1 1 1 1 1 1 1 1 1 1 1 1 1 1 1 1 1 1 1 1 1 1 1 1 1 1 1 1 1 1 1 1 1 1 1 1 1 1 1 1 1 1 1 1 1 1 1 1 1 1 1 1 1 1 1\n",
      "INFO:simpletransformers.question_answering.question_answering_utils:impossible example\n",
      "INFO:simpletransformers.question_answering.question_answering_utils:*** Example ***\n",
      "INFO:simpletransformers.question_answering.question_answering_utils:unique_id: 1000000024\n",
      "INFO:simpletransformers.question_answering.question_answering_utils:example_index: 15\n",
      "INFO:simpletransformers.question_answering.question_answering_utils:doc_span_index: 1\n",
      "INFO:simpletransformers.question_answering.question_answering_utils:tokens: [CLS] [UNK] date for the hotel reservation [SEP] rating . [UNK] sounds all right . [UNK] to make a reservation there ? [UNK] , book it for a check in on [UNK] 5th and check out on the 8th . [UNK] to make sure , you want a 2 room reservation at 11 [UNK] in [UNK] [UNK] with a check in for [UNK] 5th and check ##out on [UNK] 8th . [UNK] , make the check out for the 12th of [UNK] . [UNK] to make sure , you want a 2 room reservation with a check out on check out date . [SEP]\n",
      "INFO:simpletransformers.question_answering.question_answering_utils:token_to_orig_map: 8:85 9:85 10:86 11:87 12:88 13:89 14:89 15:90 16:91 17:92 18:93 19:94 20:95 21:95 22:96 23:96 24:97 25:98 26:99 27:100 28:101 29:102 30:103 31:104 32:105 33:106 34:107 35:108 36:109 37:110 38:111 39:111 40:112 41:113 42:114 43:115 44:115 45:116 46:117 47:118 48:119 49:120 50:121 51:122 52:123 53:124 54:125 55:126 56:127 57:128 58:129 59:130 60:131 61:132 62:133 63:134 64:135 65:136 66:136 67:137 68:138 69:139 70:139 71:140 72:140 73:141 74:142 75:143 76:144 77:145 78:146 79:147 80:148 81:149 82:149 83:150 84:151 85:152 86:153 87:153 88:154 89:155 90:156 91:157 92:158 93:159 94:160 95:161 96:162 97:163 98:164 99:165 100:166 101:167 102:167\n",
      "INFO:simpletransformers.question_answering.question_answering_utils:token_is_max_context: 8:True 9:True 10:True 11:True 12:True 13:True 14:True 15:True 16:True 17:True 18:True 19:True 20:True 21:True 22:True 23:True 24:True 25:True 26:True 27:True 28:True 29:True 30:True 31:True 32:True 33:True 34:True 35:True 36:True 37:True 38:True 39:True 40:True 41:True 42:True 43:True 44:True 45:True 46:True 47:True 48:True 49:True 50:True 51:True 52:True 53:True 54:True 55:True 56:True 57:True 58:True 59:True 60:True 61:True 62:True 63:True 64:True 65:True 66:True 67:True 68:True 69:True 70:True 71:True 72:True 73:True 74:True 75:True 76:True 77:True 78:True 79:True 80:True 81:True 82:True 83:True 84:True 85:True 86:True 87:True 88:True 89:True 90:True 91:True 92:True 93:True 94:True 95:True 96:True 97:True 98:True 99:True 100:True 101:True 102:True\n",
      "INFO:simpletransformers.question_answering.question_answering_utils:input_ids: 101 100 3058 2005 1996 3309 11079 102 5790 1012 100 4165 2035 2157 1012 100 2000 2191 1037 11079 2045 1029 100 1010 2338 2009 2005 1037 4638 1999 2006 100 4833 1998 4638 2041 2006 1996 5893 1012 100 2000 2191 2469 1010 2017 2215 1037 1016 2282 11079 2012 2340 100 1999 100 100 2007 1037 4638 1999 2005 100 4833 1998 4638 5833 2006 100 5893 1012 100 1010 2191 1996 4638 2041 2005 1996 5940 1997 100 1012 100 2000 2191 2469 1010 2017 2215 1037 1016 2282 11079 2007 1037 4638 2041 2006 4638 2041 3058 1012 102 0 0 0 0 0 0 0 0 0 0 0 0 0 0 0 0 0 0 0 0 0 0 0 0\n",
      "INFO:simpletransformers.question_answering.question_answering_utils:input_mask: 1 1 1 1 1 1 1 1 1 1 1 1 1 1 1 1 1 1 1 1 1 1 1 1 1 1 1 1 1 1 1 1 1 1 1 1 1 1 1 1 1 1 1 1 1 1 1 1 1 1 1 1 1 1 1 1 1 1 1 1 1 1 1 1 1 1 1 1 1 1 1 1 1 1 1 1 1 1 1 1 1 1 1 1 1 1 1 1 1 1 1 1 1 1 1 1 1 1 1 1 1 1 1 1 0 0 0 0 0 0 0 0 0 0 0 0 0 0 0 0 0 0 0 0 0 0 0 0\n",
      "INFO:simpletransformers.question_answering.question_answering_utils:segment_ids: 0 0 0 0 0 0 0 0 1 1 1 1 1 1 1 1 1 1 1 1 1 1 1 1 1 1 1 1 1 1 1 1 1 1 1 1 1 1 1 1 1 1 1 1 1 1 1 1 1 1 1 1 1 1 1 1 1 1 1 1 1 1 1 1 1 1 1 1 1 1 1 1 1 1 1 1 1 1 1 1 1 1 1 1 1 1 1 1 1 1 1 1 1 1 1 1 1 1 1 1 1 1 1 1 0 0 0 0 0 0 0 0 0 0 0 0 0 0 0 0 0 0 0 0 0 0 0 0\n",
      "INFO:simpletransformers.question_answering.question_answering_utils:start_position: 99\n"
     ]
    },
    {
     "name": "stderr",
     "output_type": "stream",
     "text": [
      "INFO:simpletransformers.question_answering.question_answering_utils:end_position: 101\n",
      "INFO:simpletransformers.question_answering.question_answering_utils:answer: check out date\n",
      "INFO:simpletransformers.question_answering.question_answering_utils:*** Example ***\n",
      "INFO:simpletransformers.question_answering.question_answering_utils:unique_id: 1000000025\n",
      "INFO:simpletransformers.question_answering.question_answering_utils:example_index: 16\n",
      "INFO:simpletransformers.question_answering.question_answering_utils:doc_span_index: 0\n",
      "INFO:simpletransformers.question_answering.question_answering_utils:tokens: [CLS] [UNK] of the hotel [SEP] [UNK] ' m looking for some free attractions to check out . [UNK] in particular ? [UNK] of a place of interest in [UNK] . [UNK] ' s a cool [UNK] [UNK] called [UNK] [UNK] . [UNK] it kid - friendly ? [UNK] ' s not the best place for kids . [UNK] right , thanks . [UNK] else [UNK] can help with ? [UNK] ' ll be a 2 room hotel there . [UNK] about 1 [UNK] [UNK] [UNK] with its 4 . 5 rating ? [UNK] anything else ? [UNK] ' s 1 [UNK] [UNK] [UNK] with a 4 . 5 rating . [UNK] anything else ? [UNK] ' s 11 [UNK] with a 4 . 3 rating . [SEP]\n",
      "INFO:simpletransformers.question_answering.question_answering_utils:token_to_orig_map: 6:0 7:0 8:0 9:1 10:2 11:3 12:4 13:5 14:6 15:7 16:8 17:8 18:9 19:10 20:11 21:11 22:12 23:13 24:14 25:15 26:16 27:17 28:18 29:19 30:19 31:20 32:20 33:20 34:21 35:22 36:23 37:24 38:25 39:26 40:27 41:27 42:28 43:29 44:30 45:30 46:30 47:30 48:31 49:31 50:31 51:32 52:33 53:34 54:35 55:36 56:37 57:37 58:38 59:39 60:39 61:40 62:40 63:41 64:42 65:43 66:44 67:45 68:46 69:46 70:47 71:47 72:47 73:48 74:49 75:50 76:51 77:52 78:53 79:53 80:54 81:55 82:56 83:57 84:58 85:59 86:60 87:61 88:62 89:62 90:62 91:63 92:63 93:64 94:65 95:66 96:66 97:67 98:67 99:67 100:68 101:69 102:70 103:71 104:72 105:73 106:74 107:74 108:74 109:75 110:75 111:76 112:77 113:78 114:78 115:79 116:79 117:79 118:80 119:81 120:82 121:83 122:84 123:84 124:84 125:85 126:85\n",
      "INFO:simpletransformers.question_answering.question_answering_utils:token_is_max_context: 6:True 7:True 8:True 9:True 10:True 11:True 12:True 13:True 14:True 15:True 16:True 17:True 18:True 19:True 20:True 21:True 22:True 23:True 24:True 25:True 26:True 27:True 28:True 29:True 30:True 31:True 32:True 33:True 34:True 35:True 36:True 37:True 38:True 39:True 40:True 41:True 42:True 43:True 44:True 45:True 46:True 47:True 48:True 49:True 50:True 51:True 52:True 53:True 54:True 55:True 56:True 57:True 58:True 59:True 60:True 61:True 62:True 63:True 64:True 65:True 66:True 67:True 68:True 69:True 70:True 71:True 72:True 73:True 74:True 75:True 76:True 77:True 78:True 79:True 80:True 81:True 82:True 83:True 84:True 85:True 86:True 87:True 88:True 89:True 90:True 91:True 92:True 93:True 94:True 95:True 96:True 97:True 98:True 99:True 100:True 101:True 102:True 103:True 104:True 105:True 106:True 107:True 108:True 109:True 110:True 111:True 112:True 113:True 114:True 115:True 116:True 117:True 118:True 119:True 120:True 121:True 122:True 123:True 124:True 125:True 126:True\n",
      "INFO:simpletransformers.question_answering.question_answering_utils:input_ids: 101 100 1997 1996 3309 102 100 1005 1049 2559 2005 2070 2489 13051 2000 4638 2041 1012 100 1999 3327 1029 100 1997 1037 2173 1997 3037 1999 100 1012 100 1005 1055 1037 4658 100 100 2170 100 100 1012 100 2009 4845 1011 5379 1029 100 1005 1055 2025 1996 2190 2173 2005 4268 1012 100 2157 1010 4283 1012 100 2842 100 2064 2393 2007 1029 100 1005 2222 2022 1037 1016 2282 3309 2045 1012 100 2055 1015 100 100 100 2007 2049 1018 1012 1019 5790 1029 100 2505 2842 1029 100 1005 1055 1015 100 100 100 2007 1037 1018 1012 1019 5790 1012 100 2505 2842 1029 100 1005 1055 2340 100 2007 1037 1018 1012 1017 5790 1012 102\n",
      "INFO:simpletransformers.question_answering.question_answering_utils:input_mask: 1 1 1 1 1 1 1 1 1 1 1 1 1 1 1 1 1 1 1 1 1 1 1 1 1 1 1 1 1 1 1 1 1 1 1 1 1 1 1 1 1 1 1 1 1 1 1 1 1 1 1 1 1 1 1 1 1 1 1 1 1 1 1 1 1 1 1 1 1 1 1 1 1 1 1 1 1 1 1 1 1 1 1 1 1 1 1 1 1 1 1 1 1 1 1 1 1 1 1 1 1 1 1 1 1 1 1 1 1 1 1 1 1 1 1 1 1 1 1 1 1 1 1 1 1 1 1 1\n",
      "INFO:simpletransformers.question_answering.question_answering_utils:segment_ids: 0 0 0 0 0 0 1 1 1 1 1 1 1 1 1 1 1 1 1 1 1 1 1 1 1 1 1 1 1 1 1 1 1 1 1 1 1 1 1 1 1 1 1 1 1 1 1 1 1 1 1 1 1 1 1 1 1 1 1 1 1 1 1 1 1 1 1 1 1 1 1 1 1 1 1 1 1 1 1 1 1 1 1 1 1 1 1 1 1 1 1 1 1 1 1 1 1 1 1 1 1 1 1 1 1 1 1 1 1 1 1 1 1 1 1 1 1 1 1 1 1 1 1 1 1 1 1 1\n",
      "INFO:simpletransformers.question_answering.question_answering_utils:impossible example\n",
      "INFO:simpletransformers.question_answering.question_answering_utils:*** Example ***\n",
      "INFO:simpletransformers.question_answering.question_answering_utils:unique_id: 1000000026\n",
      "INFO:simpletransformers.question_answering.question_answering_utils:example_index: 16\n",
      "INFO:simpletransformers.question_answering.question_answering_utils:doc_span_index: 1\n",
      "INFO:simpletransformers.question_answering.question_answering_utils:tokens: [CLS] [UNK] of the hotel [SEP] [UNK] sounds all right . [UNK] to make a reservation there ? [UNK] , book it for a check in on [UNK] 5th and check out on the 8th . [UNK] to make sure , you want a 2 room reservation at 11 [UNK] in [UNK] [UNK] with a check in for [UNK] 5th and check ##out on [UNK] 8th . [UNK] , make the check out for the 12th of [UNK] . [UNK] to make sure , you want a 2 room reservation with a check out on [UNK] 12th . [UNK] . [UNK] ' re they at ? [UNK] reservation at street address is all set . [SEP]\n",
      "INFO:simpletransformers.question_answering.question_answering_utils:token_to_orig_map: 6:86 7:87 8:88 9:89 10:89 11:90 12:91 13:92 14:93 15:94 16:95 17:95 18:96 19:96 20:97 21:98 22:99 23:100 24:101 25:102 26:103 27:104 28:105 29:106 30:107 31:108 32:109 33:110 34:111 35:111 36:112 37:113 38:114 39:115 40:115 41:116 42:117 43:118 44:119 45:120 46:121 47:122 48:123 49:124 50:125 51:126 52:127 53:128 54:129 55:130 56:131 57:132 58:133 59:134 60:135 61:136 62:136 63:137 64:138 65:139 66:139 67:140 68:140 69:141 70:142 71:143 72:144 73:145 74:146 75:147 76:148 77:149 78:149 79:150 80:151 81:152 82:153 83:153 84:154 85:155 86:156 87:157 88:158 89:159 90:160 91:161 92:162 93:163 94:164 95:165 96:166 97:166 98:167 99:167 100:168 101:168 102:168 103:169 104:170 105:170 106:171 107:172 108:173 109:174 110:175 111:176 112:177 113:178 114:178\n",
      "INFO:simpletransformers.question_answering.question_answering_utils:token_is_max_context: 6:True 7:True 8:True 9:True 10:True 11:True 12:True 13:True 14:True 15:True 16:True 17:True 18:True 19:True 20:True 21:True 22:True 23:True 24:True 25:True 26:True 27:True 28:True 29:True 30:True 31:True 32:True 33:True 34:True 35:True 36:True 37:True 38:True 39:True 40:True 41:True 42:True 43:True 44:True 45:True 46:True 47:True 48:True 49:True 50:True 51:True 52:True 53:True 54:True 55:True 56:True 57:True 58:True 59:True 60:True 61:True 62:True 63:True 64:True 65:True 66:True 67:True 68:True 69:True 70:True 71:True 72:True 73:True 74:True 75:True 76:True 77:True 78:True 79:True 80:True 81:True 82:True 83:True 84:True 85:True 86:True 87:True 88:True 89:True 90:True 91:True 92:True 93:True 94:True 95:True 96:True 97:True 98:True 99:True 100:True 101:True 102:True 103:True 104:True 105:True 106:True 107:True 108:True 109:True 110:True 111:True 112:True 113:True 114:True\n",
      "INFO:simpletransformers.question_answering.question_answering_utils:input_ids: 101 100 1997 1996 3309 102 100 4165 2035 2157 1012 100 2000 2191 1037 11079 2045 1029 100 1010 2338 2009 2005 1037 4638 1999 2006 100 4833 1998 4638 2041 2006 1996 5893 1012 100 2000 2191 2469 1010 2017 2215 1037 1016 2282 11079 2012 2340 100 1999 100 100 2007 1037 4638 1999 2005 100 4833 1998 4638 5833 2006 100 5893 1012 100 1010 2191 1996 4638 2041 2005 1996 5940 1997 100 1012 100 2000 2191 2469 1010 2017 2215 1037 1016 2282 11079 2007 1037 4638 2041 2006 100 5940 1012 100 1012 100 1005 2128 2027 2012 1029 100 11079 2012 2395 4769 2003 2035 2275 1012 102 0 0 0 0 0 0 0 0 0 0 0 0\n",
      "INFO:simpletransformers.question_answering.question_answering_utils:input_mask: 1 1 1 1 1 1 1 1 1 1 1 1 1 1 1 1 1 1 1 1 1 1 1 1 1 1 1 1 1 1 1 1 1 1 1 1 1 1 1 1 1 1 1 1 1 1 1 1 1 1 1 1 1 1 1 1 1 1 1 1 1 1 1 1 1 1 1 1 1 1 1 1 1 1 1 1 1 1 1 1 1 1 1 1 1 1 1 1 1 1 1 1 1 1 1 1 1 1 1 1 1 1 1 1 1 1 1 1 1 1 1 1 1 1 1 1 0 0 0 0 0 0 0 0 0 0 0 0\n"
     ]
    },
    {
     "name": "stderr",
     "output_type": "stream",
     "text": [
      "INFO:simpletransformers.question_answering.question_answering_utils:segment_ids: 0 0 0 0 0 0 1 1 1 1 1 1 1 1 1 1 1 1 1 1 1 1 1 1 1 1 1 1 1 1 1 1 1 1 1 1 1 1 1 1 1 1 1 1 1 1 1 1 1 1 1 1 1 1 1 1 1 1 1 1 1 1 1 1 1 1 1 1 1 1 1 1 1 1 1 1 1 1 1 1 1 1 1 1 1 1 1 1 1 1 1 1 1 1 1 1 1 1 1 1 1 1 1 1 1 1 1 1 1 1 1 1 1 1 1 1 0 0 0 0 0 0 0 0 0 0 0 0\n",
      "INFO:simpletransformers.question_answering.question_answering_utils:start_position: 109\n",
      "INFO:simpletransformers.question_answering.question_answering_utils:end_position: 110\n",
      "INFO:simpletransformers.question_answering.question_answering_utils:answer: street address\n",
      "100%|██████████| 17/17 [00:00<00:00, 60.47it/s]\n"
     ]
    },
    {
     "data": {
      "application/vnd.jupyter.widget-view+json": {
       "model_id": "bec7a06b50ea4cd48544ae9810f8e752",
       "version_major": 2,
       "version_minor": 0
      },
      "text/plain": [
       "HBox(children=(FloatProgress(value=0.0, description='Epoch', max=1.0, style=ProgressStyle(description_width='i…"
      ]
     },
     "metadata": {},
     "output_type": "display_data"
    },
    {
     "data": {
      "application/vnd.jupyter.widget-view+json": {
       "model_id": "ce68c46ce75844808692596f5d71dae3",
       "version_major": 2,
       "version_minor": 0
      },
      "text/plain": [
       "HBox(children=(FloatProgress(value=0.0, description='Current iteration', max=4.0, style=ProgressStyle(descript…"
      ]
     },
     "metadata": {},
     "output_type": "display_data"
    },
    {
     "name": "stdout",
     "output_type": "stream",
     "text": [
      "Running loss: 2.688654\n",
      "\n"
     ]
    },
    {
     "ename": "KeyboardInterrupt",
     "evalue": "",
     "output_type": "error",
     "traceback": [
      "\u001b[0;31m---------------------------------------------------------------------------\u001b[0m",
      "\u001b[0;31mKeyboardInterrupt\u001b[0m                         Traceback (most recent call last)",
      "\u001b[0;32m<ipython-input-414-5829bcf31ccf>\u001b[0m in \u001b[0;36m<module>\u001b[0;34m\u001b[0m\n\u001b[1;32m     14\u001b[0m \u001b[0;34m\u001b[0m\u001b[0m\n\u001b[1;32m     15\u001b[0m \u001b[0;31m# Train the model with JSON file\u001b[0m\u001b[0;34m\u001b[0m\u001b[0;34m\u001b[0m\u001b[0;34m\u001b[0m\u001b[0m\n\u001b[0;32m---> 16\u001b[0;31m \u001b[0mmodel\u001b[0m\u001b[0;34m.\u001b[0m\u001b[0mtrain_model\u001b[0m\u001b[0;34m(\u001b[0m\u001b[0;34m'data/dialog/train.json'\u001b[0m\u001b[0;34m)\u001b[0m\u001b[0;34m\u001b[0m\u001b[0;34m\u001b[0m\u001b[0m\n\u001b[0m\u001b[1;32m     17\u001b[0m \u001b[0;34m\u001b[0m\u001b[0m\n\u001b[1;32m     18\u001b[0m \u001b[0;31m# The list can also be used directly\u001b[0m\u001b[0;34m\u001b[0m\u001b[0;34m\u001b[0m\u001b[0;34m\u001b[0m\u001b[0m\n",
      "\u001b[0;32m~/anaconda3/envs/torch1/lib/python3.6/site-packages/simpletransformers/question_answering/question_answering_model.py\u001b[0m in \u001b[0;36mtrain_model\u001b[0;34m(self, train_data, output_dir, show_running_loss, args, eval_data, verbose)\u001b[0m\n\u001b[1;32m    272\u001b[0m \u001b[0;34m\u001b[0m\u001b[0m\n\u001b[1;32m    273\u001b[0m         global_step, tr_loss = self.train(\n\u001b[0;32m--> 274\u001b[0;31m             \u001b[0mtrain_dataset\u001b[0m\u001b[0;34m,\u001b[0m \u001b[0moutput_dir\u001b[0m\u001b[0;34m,\u001b[0m \u001b[0mshow_running_loss\u001b[0m\u001b[0;34m=\u001b[0m\u001b[0mshow_running_loss\u001b[0m\u001b[0;34m,\u001b[0m \u001b[0meval_data\u001b[0m\u001b[0;34m=\u001b[0m\u001b[0meval_data\u001b[0m\u001b[0;34m,\u001b[0m\u001b[0;34m\u001b[0m\u001b[0;34m\u001b[0m\u001b[0m\n\u001b[0m\u001b[1;32m    275\u001b[0m         )\n\u001b[1;32m    276\u001b[0m \u001b[0;34m\u001b[0m\u001b[0m\n",
      "\u001b[0;32m~/anaconda3/envs/torch1/lib/python3.6/site-packages/simpletransformers/question_answering/question_answering_model.py\u001b[0m in \u001b[0;36mtrain\u001b[0;34m(self, train_dataset, output_dir, show_running_loss, eval_data, verbose)\u001b[0m\n\u001b[1;32m    416\u001b[0m                         \u001b[0mtorch\u001b[0m\u001b[0;34m.\u001b[0m\u001b[0mnn\u001b[0m\u001b[0;34m.\u001b[0m\u001b[0mutils\u001b[0m\u001b[0;34m.\u001b[0m\u001b[0mclip_grad_norm_\u001b[0m\u001b[0;34m(\u001b[0m\u001b[0mmodel\u001b[0m\u001b[0;34m.\u001b[0m\u001b[0mparameters\u001b[0m\u001b[0;34m(\u001b[0m\u001b[0;34m)\u001b[0m\u001b[0;34m,\u001b[0m \u001b[0margs\u001b[0m\u001b[0;34m[\u001b[0m\u001b[0;34m\"max_grad_norm\"\u001b[0m\u001b[0;34m]\u001b[0m\u001b[0;34m)\u001b[0m\u001b[0;34m\u001b[0m\u001b[0;34m\u001b[0m\u001b[0m\n\u001b[1;32m    417\u001b[0m \u001b[0;34m\u001b[0m\u001b[0m\n\u001b[0;32m--> 418\u001b[0;31m                     \u001b[0moptimizer\u001b[0m\u001b[0;34m.\u001b[0m\u001b[0mstep\u001b[0m\u001b[0;34m(\u001b[0m\u001b[0;34m)\u001b[0m\u001b[0;34m\u001b[0m\u001b[0;34m\u001b[0m\u001b[0m\n\u001b[0m\u001b[1;32m    419\u001b[0m                     \u001b[0mscheduler\u001b[0m\u001b[0;34m.\u001b[0m\u001b[0mstep\u001b[0m\u001b[0;34m(\u001b[0m\u001b[0;34m)\u001b[0m  \u001b[0;31m# Update learning rate schedule\u001b[0m\u001b[0;34m\u001b[0m\u001b[0;34m\u001b[0m\u001b[0m\n\u001b[1;32m    420\u001b[0m                     \u001b[0mmodel\u001b[0m\u001b[0;34m.\u001b[0m\u001b[0mzero_grad\u001b[0m\u001b[0;34m(\u001b[0m\u001b[0;34m)\u001b[0m\u001b[0;34m\u001b[0m\u001b[0;34m\u001b[0m\u001b[0m\n",
      "\u001b[0;32m~/anaconda3/envs/torch1/lib/python3.6/site-packages/torch/optim/lr_scheduler.py\u001b[0m in \u001b[0;36mwrapper\u001b[0;34m(*args, **kwargs)\u001b[0m\n\u001b[1;32m     64\u001b[0m                 \u001b[0minstance\u001b[0m\u001b[0;34m.\u001b[0m\u001b[0m_step_count\u001b[0m \u001b[0;34m+=\u001b[0m \u001b[0;36m1\u001b[0m\u001b[0;34m\u001b[0m\u001b[0;34m\u001b[0m\u001b[0m\n\u001b[1;32m     65\u001b[0m                 \u001b[0mwrapped\u001b[0m \u001b[0;34m=\u001b[0m \u001b[0mfunc\u001b[0m\u001b[0;34m.\u001b[0m\u001b[0m__get__\u001b[0m\u001b[0;34m(\u001b[0m\u001b[0minstance\u001b[0m\u001b[0;34m,\u001b[0m \u001b[0mcls\u001b[0m\u001b[0;34m)\u001b[0m\u001b[0;34m\u001b[0m\u001b[0;34m\u001b[0m\u001b[0m\n\u001b[0;32m---> 66\u001b[0;31m                 \u001b[0;32mreturn\u001b[0m \u001b[0mwrapped\u001b[0m\u001b[0;34m(\u001b[0m\u001b[0;34m*\u001b[0m\u001b[0margs\u001b[0m\u001b[0;34m,\u001b[0m \u001b[0;34m**\u001b[0m\u001b[0mkwargs\u001b[0m\u001b[0;34m)\u001b[0m\u001b[0;34m\u001b[0m\u001b[0;34m\u001b[0m\u001b[0m\n\u001b[0m\u001b[1;32m     67\u001b[0m \u001b[0;34m\u001b[0m\u001b[0m\n\u001b[1;32m     68\u001b[0m             \u001b[0;31m# Note that the returned function here is no longer a bound method,\u001b[0m\u001b[0;34m\u001b[0m\u001b[0;34m\u001b[0m\u001b[0;34m\u001b[0m\u001b[0m\n",
      "\u001b[0;32m~/anaconda3/envs/torch1/lib/python3.6/site-packages/transformers/optimization.py\u001b[0m in \u001b[0;36mstep\u001b[0;34m(self, closure)\u001b[0m\n\u001b[1;32m    163\u001b[0m                     \u001b[0mstep_size\u001b[0m \u001b[0;34m=\u001b[0m \u001b[0mstep_size\u001b[0m \u001b[0;34m*\u001b[0m \u001b[0mmath\u001b[0m\u001b[0;34m.\u001b[0m\u001b[0msqrt\u001b[0m\u001b[0;34m(\u001b[0m\u001b[0mbias_correction2\u001b[0m\u001b[0;34m)\u001b[0m \u001b[0;34m/\u001b[0m \u001b[0mbias_correction1\u001b[0m\u001b[0;34m\u001b[0m\u001b[0;34m\u001b[0m\u001b[0m\n\u001b[1;32m    164\u001b[0m \u001b[0;34m\u001b[0m\u001b[0m\n\u001b[0;32m--> 165\u001b[0;31m                 \u001b[0mp\u001b[0m\u001b[0;34m.\u001b[0m\u001b[0mdata\u001b[0m\u001b[0;34m.\u001b[0m\u001b[0maddcdiv_\u001b[0m\u001b[0;34m(\u001b[0m\u001b[0;34m-\u001b[0m\u001b[0mstep_size\u001b[0m\u001b[0;34m,\u001b[0m \u001b[0mexp_avg\u001b[0m\u001b[0;34m,\u001b[0m \u001b[0mdenom\u001b[0m\u001b[0;34m)\u001b[0m\u001b[0;34m\u001b[0m\u001b[0;34m\u001b[0m\u001b[0m\n\u001b[0m\u001b[1;32m    166\u001b[0m \u001b[0;34m\u001b[0m\u001b[0m\n\u001b[1;32m    167\u001b[0m                 \u001b[0;31m# Just adding the square of the weights to the loss function is *not*\u001b[0m\u001b[0;34m\u001b[0m\u001b[0;34m\u001b[0m\u001b[0;34m\u001b[0m\u001b[0m\n",
      "\u001b[0;31mKeyboardInterrupt\u001b[0m: "
     ]
    }
   ],
   "source": [
    "from simpletransformers.question_answering import QuestionAnsweringModel\n",
    "import json\n",
    "import os\n",
    "import logging\n",
    "import torch\n",
    "\n",
    "logging.basicConfig(level=logging.INFO)\n",
    "transformers_logger = logging.getLogger(\"transformers\")\n",
    "transformers_logger.setLevel(logging.WARNING)\n",
    "\n",
    "# Create the QuestionAnsweringModel\n",
    "model = QuestionAnsweringModel('bert', 'bert-large-uncased-whole-word-masking-finetuned-squad', use_cuda=torch.cuda.is_available()\n",
    ", args={'reprocess_input_data': True, 'overwrite_output_dir': True})\n",
    "\n",
    "# Train the model with JSON file\n",
    "model.train_model('data/dialog/train.json')\n",
    "\n",
    "# The list can also be used directly\n",
    "# model.train_model(train_data)\n",
    "\n",
    "# Evaluate the model. (Being lazy and evaluating on the train data itself)\n",
    "result, text = model.eval_model('data/dialog/train.json')\n",
    "\n",
    "print(result)\n",
    "print(text)\n",
    "\n",
    "print('-------------------')\n",
    "\n",
    "# Making predictions using the model.\n",
    "to_predict = [{'context': 'This is the context used for demonstrating predictions.', 'qas': [{'question': 'What is this context?', 'id': '0'}]}]\n",
    "\n",
    "print(model.predict(to_predict))"
   ]
  }
 ],
 "metadata": {
  "kernelspec": {
   "display_name": "Python 3",
   "language": "python",
   "name": "python3"
  },
  "language_info": {
   "codemirror_mode": {
    "name": "ipython",
    "version": 3
   },
   "file_extension": ".py",
   "mimetype": "text/x-python",
   "name": "python",
   "nbconvert_exporter": "python",
   "pygments_lexer": "ipython3",
   "version": "3.6.10"
  }
 },
 "nbformat": 4,
 "nbformat_minor": 2
}
