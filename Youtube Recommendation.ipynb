{
 "cells": [
  {
   "cell_type": "code",
   "execution_count": 35,
   "metadata": {
    "collapsed": true
   },
   "outputs": [],
   "source": [
    "import pandas as pd\n",
    "import json\n",
    "import numpy as np"
   ]
  },
  {
   "cell_type": "code",
   "execution_count": 3,
   "metadata": {
    "collapsed": false
   },
   "outputs": [],
   "source": [
    "df = pd.read_csv(\"data/www2017/wikihowURLID-wikihowURL-youtubeURL\", sep=\"\\t\", names=[\"fid\", \"wikihow\", \"youtube\"])\n",
    "df['query'] = [i.split(\"/\")[-1].replace(\"-\",\" \") for i in df.wikihow.tolist()]\n",
    "df['label'] = [i.split(\"/\")[-1] for i in df.youtube.tolist()]"
   ]
  },
  {
   "cell_type": "code",
   "execution_count": 4,
   "metadata": {
    "collapsed": true
   },
   "outputs": [],
   "source": [
    "\n",
    "def read_youtube_video_json():\n",
    "    vids, titles, descs, tags, comments = [], [], [], [], []\n",
    "    with open(\"data/www2017/uniq-youtube-video.json\", encoding=\"utf-8\") as file:\n",
    "        for l in file:\n",
    "            y = json.loads(l)\n",
    "            vids.append(y['id'])\n",
    "            titles.append(y['title'])\n",
    "            descs.append(y['description'])\n",
    "            tags.append(' '.join(y['tags']))\n",
    "            comments.append(' '.join([i['comment'] for i in y['comment']]))\n",
    "    \n",
    "    return pd.DataFrame({'vid':vids, 'title':titles, 'desc':descs, 'comment':comments, 'tag':tags})\n",
    "\n",
    "df_video = read_youtube_video_json()"
   ]
  },
  {
   "cell_type": "code",
   "execution_count": 5,
   "metadata": {
    "collapsed": true
   },
   "outputs": [],
   "source": [
    "\n",
    "def get_wikihow_with_video():\n",
    "    linkids = []\n",
    "    with open(\"data/www2017/task-frame-have-video.json\", encoding=\"utf-8\") as file:\n",
    "        for l in file:\n",
    "            y = json.loads(l)\n",
    "            linkids.append(int(y['activity']['linkid']))\n",
    "    return linkids\n",
    "wikihow_with_video = get_wikihow_with_video()"
   ]
  },
  {
   "cell_type": "code",
   "execution_count": 22,
   "metadata": {
    "collapsed": false
   },
   "outputs": [],
   "source": [
    "from sklearn.feature_extraction.text import TfidfVectorizer\n",
    "corpus = df_video.title.tolist()\n",
    "vectorizer = TfidfVectorizer()\n",
    "X = vectorizer.fit_transform(corpus)"
   ]
  },
  {
   "cell_type": "code",
   "execution_count": 24,
   "metadata": {
    "collapsed": false
   },
   "outputs": [],
   "source": [
    "query_vec = vectorizer.transform(df['query'])"
   ]
  },
  {
   "cell_type": "code",
   "execution_count": 47,
   "metadata": {
    "collapsed": false
   },
   "outputs": [
    {
     "data": {
      "text/plain": [
       "(18054, 15223)"
      ]
     },
     "execution_count": 47,
     "metadata": {},
     "output_type": "execute_result"
    }
   ],
   "source": [
    "query_vec.shape"
   ]
  },
  {
   "cell_type": "code",
   "execution_count": 26,
   "metadata": {
    "collapsed": true
   },
   "outputs": [],
   "source": [
    "from sklearn.metrics.pairwise import cosine_similarity\n",
    "\n",
    "def evaluate():\n",
    "    scores = cosine_similarity(query_vec, X)\n",
    "    idx = "
   ]
  },
  {
   "cell_type": "code",
   "execution_count": 32,
   "metadata": {
    "collapsed": false
   },
   "outputs": [],
   "source": [
    "sorted(x, key=x.get, reverse=True)"
   ]
  },
  {
   "cell_type": "code",
   "execution_count": 46,
   "metadata": {
    "collapsed": false
   },
   "outputs": [
    {
     "data": {
      "text/plain": [
       "(18054, 17608)"
      ]
     },
     "execution_count": 46,
     "metadata": {},
     "output_type": "execute_result"
    }
   ],
   "source": [
    "scores.shape"
   ]
  },
  {
   "cell_type": "code",
   "execution_count": 49,
   "metadata": {
    "collapsed": true
   },
   "outputs": [],
   "source": [
    "x = {'a':10.1, 'b':2, 'c':5}"
   ]
  },
  {
   "cell_type": "code",
   "execution_count": 52,
   "metadata": {
    "collapsed": false
   },
   "outputs": [
    {
     "data": {
      "text/plain": [
       "10.1"
      ]
     },
     "execution_count": 52,
     "metadata": {},
     "output_type": "execute_result"
    }
   ],
   "source": [
    "x.get('a')"
   ]
  },
  {
   "cell_type": "code",
   "execution_count": null,
   "metadata": {
    "collapsed": false
   },
   "outputs": [],
   "source": [
    "\n",
    "def getHitRatio(ranklist, gtDoc, K):\n",
    "    for i in range(K):\n",
    "        item = ranklist[i]\n",
    "        if item == gtDoc:\n",
    "            return 1\n",
    "    return 0\n",
    "\n",
    "def getMRR(ranklist, gtDoc):\n",
    "    for i in range(len(ranklist)):\n",
    "        item = ranklist[i]\n",
    "        if item == gtDoc:\n",
    "            return 1.0 / (i+1)\n",
    "    return 0\n",
    "\n",
    "hr1s, hr3s, hr5s, hr10s, mrrs = [], [], [], [], []\n",
    "for score, gtDoc in zip(scores, df.label):\n",
    "    ranklist = {i:j for i,j in zip(df_video.vid, score)}\n",
    "    ranklist = sorted(ranklist, key=ranklist.get, reverse=True)\n",
    "    hr1 = getHitRatio(ranklist, gtDoc, 1)\n",
    "    hr3 = getHitRatio(ranklist, gtDoc, 3)\n",
    "    hr5 = getHitRatio(ranklist, gtDoc, 5)\n",
    "    hr10 = getHitRatio(ranklist, gtDoc, 10)\n",
    "    mrr = getMRR(ranklist, gtDoc)\n",
    "    mrrs.append(mrr)\n",
    "print(np.mean(mrrs))\n"
   ]
  }
 ],
 "metadata": {
  "anaconda-cloud": {},
  "kernelspec": {
   "display_name": "Python [default]",
   "language": "python",
   "name": "python3"
  },
  "language_info": {
   "codemirror_mode": {
    "name": "ipython",
    "version": 3
   },
   "file_extension": ".py",
   "mimetype": "text/x-python",
   "name": "python",
   "nbconvert_exporter": "python",
   "pygments_lexer": "ipython3",
   "version": "3.5.6"
  }
 },
 "nbformat": 4,
 "nbformat_minor": 2
}
