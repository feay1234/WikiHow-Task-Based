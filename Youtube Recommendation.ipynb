{
 "cells": [
  {
   "cell_type": "code",
   "execution_count": 2,
   "metadata": {},
   "outputs": [],
   "source": [
    "import pandas as pd\n",
    "import json\n",
    "import numpy as np"
   ]
  },
  {
   "cell_type": "code",
   "execution_count": 3,
   "metadata": {},
   "outputs": [],
   "source": [
    "df = pd.read_csv(\"data/www2017/wikihowURLID-wikihowURL-youtubeURL\", sep=\"\\t\", names=[\"fid\", \"wikihow\", \"youtube\"])\n",
    "df['query'] = [i.split(\"/\")[-1].replace(\"-\",\" \") for i in df.wikihow.tolist()]\n",
    "df['query'] = df['query'].str.lower()\n",
    "df['label'] = [i.split(\"/\")[-1] for i in df.youtube.tolist()]\n"
   ]
  },
  {
   "cell_type": "code",
   "execution_count": 4,
   "metadata": {},
   "outputs": [],
   "source": [
    "\n",
    "def read_youtube_video_json():\n",
    "    vids, titles, descs, tags, comments = [], [], [], [], []\n",
    "    with open(\"data/www2017/uniq-youtube-video.json\", encoding=\"utf-8\") as file:\n",
    "        for l in file:\n",
    "            y = json.loads(l)\n",
    "            vids.append(y['id'])\n",
    "            titles.append(y['title'])\n",
    "            descs.append(y['description'])\n",
    "            tags.append(' '.join(y['tags']))\n",
    "            comments.append(' '.join([i['comment'] for i in y['comment']]))\n",
    "    \n",
    "    return pd.DataFrame({'vid':vids, 'title':titles, 'desc':descs, 'comment':comments, 'tag':tags})\n",
    "\n",
    "df_video = read_youtube_video_json()"
   ]
  },
  {
   "cell_type": "code",
   "execution_count": 5,
   "metadata": {},
   "outputs": [],
   "source": [
    "\n",
    "def get_wikihow_with_video():\n",
    "    linkids = []\n",
    "    with open(\"data/www2017/task-frame-have-video.json\", encoding=\"utf-8\") as file:\n",
    "        for l in file:\n",
    "            y = json.loads(l)\n",
    "            linkids.append(int(y['activity']['linkid']))\n",
    "    return linkids\n",
    "wikihow_with_video = get_wikihow_with_video()"
   ]
  },
  {
   "cell_type": "code",
   "execution_count": 6,
   "metadata": {},
   "outputs": [],
   "source": [
    "from sklearn.feature_extraction.text import TfidfVectorizer\n",
    "corpus = [i+\" \"+j+\" \"+k+\" \"+l for i, j, k, l in df_video[['title', 'desc', 'tag', 'comment']].values]\n",
    "corpus = corpus + df['query'].tolist()\n",
    "vectorizer = TfidfVectorizer(use_idf=False)\n",
    "doc_vec = vectorizer.fit_transform(corpus)"
   ]
  },
  {
   "cell_type": "code",
   "execution_count": 7,
   "metadata": {},
   "outputs": [],
   "source": [
    "query_vec = vectorizer.transform(df['query'])"
   ]
  },
  {
   "cell_type": "code",
   "execution_count": 8,
   "metadata": {},
   "outputs": [],
   "source": [
    "from sklearn.metrics.pairwise import cosine_similarity\n",
    "scores = cosine_similarity(query_vec, doc_vec)"
   ]
  },
  {
   "cell_type": "code",
   "execution_count": 17,
   "metadata": {},
   "outputs": [
    {
     "name": "stdout",
     "output_type": "stream",
     "text": [
      "0.3480687384119908\n",
      "CPU times: user 3min 26s, sys: 563 ms, total: 3min 27s\n",
      "Wall time: 3min 27s\n"
     ]
    }
   ],
   "source": [
    "%%time\n",
    "\n",
    "def getHitRatio(ranklist, gtDoc, K):\n",
    "    for i in range(K):\n",
    "        item = ranklist[i]\n",
    "        if item == gtDoc:\n",
    "            return 1\n",
    "    return 0\n",
    "\n",
    "def getMRR(ranklist, gtDoc):\n",
    "    for i in range(len(ranklist)):\n",
    "        item = ranklist[i]\n",
    "        if item == gtDoc:\n",
    "            return 1.0 / (i+1)\n",
    "    return 0\n",
    "\n",
    "def evaluate(scores):\n",
    "    hr1s, hr3s, hr5s, hr10s, mrrs = [], [], [], [], []\n",
    "    for score, gtDoc in zip(scores, df.label):\n",
    "        ranklist = {i:j for i,j in zip(df_video.vid, score)}\n",
    "        ranklist = sorted(ranklist, key=ranklist.get, reverse=True)\n",
    "        hr1 = getHitRatio(ranklist, gtDoc, 1)\n",
    "        hr3 = getHitRatio(ranklist, gtDoc, 3)\n",
    "        hr5 = getHitRatio(ranklist, gtDoc, 5)\n",
    "        hr10 = getHitRatio(ranklist, gtDoc, 10)\n",
    "        mrr = getMRR(ranklist, gtDoc)\n",
    "        hr1s.append(hr1)\n",
    "        hr3s.append(hr3)\n",
    "        hr5s.append(hr5)\n",
    "        hr10s.append(hr10)\n",
    "        mrrs.append(mrr)\n",
    "    print(np.mean(mrrs))\n",
    "evaluate(scores)"
   ]
  },
  {
   "cell_type": "code",
   "execution_count": 9,
   "metadata": {},
   "outputs": [
    {
     "name": "stderr",
     "output_type": "stream",
     "text": [
      "/Users/jarana/anaconda3/envs/recsys2019/lib/python3.6/site-packages/requests/__init__.py:91: RequestsDependencyWarning: urllib3 (1.25.3) or chardet (3.0.4) doesn't match a supported version!\n",
      "  RequestsDependencyWarning)\n"
     ]
    }
   ],
   "source": [
    "from gensim.models import KeyedVectors"
   ]
  },
  {
   "cell_type": "code",
   "execution_count": 10,
   "metadata": {},
   "outputs": [],
   "source": [
    "wv_from_text = KeyedVectors.load_word2vec_format('data/GoogleNews-vectors-negative300.bin', binary=True)"
   ]
  },
  {
   "cell_type": "code",
   "execution_count": 21,
   "metadata": {},
   "outputs": [
    {
     "name": "stdout",
     "output_type": "stream",
     "text": [
      "patrol recent changes on wikihow\n"
     ]
    }
   ],
   "source": [
    "# def w2v_expansion():\n",
    "res = []\n",
    "for q in df['query']:\n",
    "    print(q)\n",
    "    expand = []\n",
    "    for term in q.split():\n",
    "        try:\n",
    "            sim_terms = wv_from_text.most_similar(positive=[term], topn=2)\n",
    "        except:\n",
    "            continue\n",
    "        expand.extend([i[0] for i in sim_terms])\n",
    "    expand_query = ' '.join(expand)\n",
    "    res.append(q+\" \"+expand_query)\n",
    "    break\n",
    "#     return res\n",
    "# df['w2v_query'] = w2v_expansion()"
   ]
  },
  {
   "cell_type": "code",
   "execution_count": 11,
   "metadata": {},
   "outputs": [],
   "source": [
    "terms = []\n",
    "for q in df['query']:\n",
    "    terms.extend(q.split(\" \"))"
   ]
  },
  {
   "cell_type": "code",
   "execution_count": 16,
   "metadata": {},
   "outputs": [],
   "source": [
    "terms = list(set(terms))"
   ]
  },
  {
   "cell_type": "code",
   "execution_count": 13,
   "metadata": {},
   "outputs": [
    {
     "name": "stderr",
     "output_type": "stream",
     "text": [
      "/Users/jarana/anaconda3/envs/recsys2019/lib/python3.6/site-packages/tqdm/autonotebook/__init__.py:14: TqdmExperimentalWarning: Using `tqdm.autonotebook.tqdm` in notebook mode. Use `tqdm.tqdm` instead to force console mode (e.g. in jupyter console)\n",
      "  \" (e.g. in jupyter console)\", TqdmExperimentalWarning)\n"
     ]
    }
   ],
   "source": [
    "from tqdm.autonotebook import tqdm"
   ]
  },
  {
   "cell_type": "code",
   "execution_count": null,
   "metadata": {},
   "outputs": [
    {
     "data": {
      "application/vnd.jupyter.widget-view+json": {
       "model_id": "01f800f87fc44b248629f96808e79475",
       "version_major": 2,
       "version_minor": 0
      },
      "text/plain": [
       "HBox(children=(IntProgress(value=0, max=11525), HTML(value='')))"
      ]
     },
     "metadata": {},
     "output_type": "display_data"
    }
   ],
   "source": [
    "import collections\n",
    "term2simterm = collections.defaultdict(str)\n",
    "for term in tqdm(terms, total=len(terms)):\n",
    "    try:\n",
    "        sim_terms = wv_from_text.most_similar(positive=[term], topn=2)\n",
    "        term2simterm[term] = \" \".join([i[0] for i in sim_terms])\n",
    "    except:\n",
    "        continue"
   ]
  },
  {
   "cell_type": "code",
   "execution_count": 29,
   "metadata": {},
   "outputs": [
    {
     "data": {
      "text/plain": [
       "'fruity tangy'"
      ]
     },
     "execution_count": 29,
     "metadata": {},
     "output_type": "execute_result"
    }
   ],
   "source": [
    "term2simterm['tart']"
   ]
  },
  {
   "cell_type": "code",
   "execution_count": null,
   "metadata": {},
   "outputs": [],
   "source": []
  }
 ],
 "metadata": {
  "anaconda-cloud": {},
  "kernelspec": {
   "display_name": "Python 3",
   "language": "python",
   "name": "python3"
  },
  "language_info": {
   "codemirror_mode": {
    "name": "ipython",
    "version": 3
   },
   "file_extension": ".py",
   "mimetype": "text/x-python",
   "name": "python",
   "nbconvert_exporter": "python",
   "pygments_lexer": "ipython3",
   "version": "3.6.8"
  }
 },
 "nbformat": 4,
 "nbformat_minor": 2
}
