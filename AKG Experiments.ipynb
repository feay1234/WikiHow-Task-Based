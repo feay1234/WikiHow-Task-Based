{
 "cells": [
  {
   "cell_type": "code",
   "execution_count": 1,
   "metadata": {},
   "outputs": [
    {
     "name": "stderr",
     "output_type": "stream",
     "text": [
      "/Users/jarana/anaconda3/envs/torch1/lib/python3.6/site-packages/ipykernel_launcher.py:3: TqdmExperimentalWarning: Using `tqdm.autonotebook.tqdm` in notebook mode. Use `tqdm.tqdm` instead to force console mode (e.g. in jupyter console)\n",
      "  This is separate from the ipykernel package so we can avoid doing imports until\n"
     ]
    }
   ],
   "source": [
    "import pandas as pd\n",
    "import json\n",
    "from tqdm.autonotebook import tqdm"
   ]
  },
  {
   "cell_type": "code",
   "execution_count": 1217,
   "metadata": {},
   "outputs": [],
   "source": [
    "df = pd.read_csv(\"data/AKG/Test Collection/AKGG/akg_standard_akgg_property_rele.csv\")"
   ]
  },
  {
   "cell_type": "code",
   "execution_count": 1847,
   "metadata": {},
   "outputs": [],
   "source": [
    "df_action = pd.read_csv(\"data/AKG/Test Collection/AM/akg_standard_am_verb_object_rele.csv\")"
   ]
  },
  {
   "cell_type": "code",
   "execution_count": 35,
   "metadata": {},
   "outputs": [],
   "source": [
    "import json\n",
    "\n",
    "with open(\"data/AKG/Formal Run Topics/AKGG_Formal_Run_Topic.json\") as json_file:\n",
    "    data = json.load(json_file)\n",
    "    qid, query, entity, entityType, action = [], [], [], [], []\n",
    "    for p in data['queries']:\n",
    "        qid.append(p['queryId'])\n",
    "        query.append(p['query'])   \n",
    "        entity.append(p['entity'])\n",
    "        entityType.append(' '.join(p['entityTypes']))    \n",
    "        action.append(p['action'])\n",
    "topic = pd.DataFrame({\"query_id\": qid, \"query\": query, \"entity\": entity, \"entityType\": entityType, \"action\":action})"
   ]
  },
  {
   "cell_type": "code",
   "execution_count": 1876,
   "metadata": {},
   "outputs": [],
   "source": [
    "import json\n",
    "\n",
    "with open(\"data/AKG/Formal Run Topics/AM_Formal_Run_Topic.json\") as json_file:\n",
    "    data = json.load(json_file)\n",
    "    qid, entityurl, entity, entityType = [], [], [], []\n",
    "    for p in data['queries'][0]:\n",
    "        qid.append(p['queryId'])\n",
    "        entity.append(p['entity'])\n",
    "        entityType.append(' '.join(p['entityTypes']))    \n",
    "        entityurl.append(p['entityurl'])\n",
    "am_topic = pd.DataFrame({\"query_id\": qid, \"url\": entityurl, \"entity\": entity, \"entityType\": entityType})"
   ]
  },
  {
   "cell_type": "code",
   "execution_count": 156,
   "metadata": {},
   "outputs": [],
   "source": [
    "class AutoVivification(dict):\n",
    "    \"\"\"Implementation of perl's autovivification feature.\"\"\"\n",
    "    def __getitem__(self, item):\n",
    "        try:\n",
    "            return dict.__getitem__(self, item)\n",
    "        except KeyError:\n",
    "            value = self[item] = type(self)()\n",
    "            return value\n",
    "with open(\"data/AKG/Participants Runs/AKGG/akgg-formalrun-cuis.json\") as json_file:\n",
    "    data = json.load(json_file)\n",
    "    run = AutoVivification()\n",
    "    for p in data['runs']:\n",
    "        for res in p['results']:\n",
    "            for prop in res['properties']:\n",
    "                run[p['runid']][str(res['queryid'])][str(prop['property'])] = prop['rank']\n",
    "\n",
    "qids = []\n",
    "props = []\n",
    "for qid in run['1']:\n",
    "    tmp = list(run['1'][str(qid)].keys())\n",
    "    qids.extend([int(qid)] * len(tmp))\n",
    "    props.extend(tmp)\n",
    "df_run = pd.DataFrame({\"query_id\": qids, \"property\": props})\n"
   ]
  },
  {
   "cell_type": "code",
   "execution_count": 2395,
   "metadata": {},
   "outputs": [],
   "source": [
    "df_run = df_run.merge(topic, how=\"left\", on=\"query_id\")"
   ]
  },
  {
   "cell_type": "code",
   "execution_count": 1223,
   "metadata": {},
   "outputs": [],
   "source": [
    "df = df.merge(topic, how=\"inner\", on=\"query_id\")\n",
    "df['query'] = df['query'].str.lower()\n",
    "df['action'] = df['action'].str.lower()\n",
    "df['entityType'] = df['entityType'].str.lower()\n",
    "df['entity'] = df['entity'].str.lower()\n",
    "\n",
    "df['action'] = [preprocessingText(i) for i in df['action']]"
   ]
  },
  {
   "cell_type": "code",
   "execution_count": 367,
   "metadata": {},
   "outputs": [],
   "source": [
    "import collections\n",
    "qrel = collections.defaultdict(dict)\n",
    "for qid, prop, label in df[['query_id', 'property', 'rele_label']].values:\n",
    "    qrel[str(qid)][str(prop)] = int(label)\n",
    "    "
   ]
  },
  {
   "cell_type": "code",
   "execution_count": 368,
   "metadata": {},
   "outputs": [],
   "source": [
    "selected_qids = df[df['query'].isin(list(entity2wiki.keys()))].query_id.unique()"
   ]
  },
  {
   "cell_type": "code",
   "execution_count": 1843,
   "metadata": {},
   "outputs": [
    {
     "name": "stdout",
     "output_type": "stream",
     "text": [
      "0.5196837307322266\n"
     ]
    }
   ],
   "source": [
    "from pyNTCIREVAL import Labeler\n",
    "from pyNTCIREVAL.metrics import MSnDCG, nERR, nDCG\n",
    "\n",
    "res = []\n",
    "for i in qrel:\n",
    "    \n",
    "    if int(i) not in selected_qids:\n",
    "        continue\n",
    "    # dict of { document ID: relevance level }\n",
    "    qrels = qrel[str(i)] \n",
    "    grades = [1,2,3,4] # a grade for relevance levels 1 and 2 (Note that level 0 is excluded)\n",
    "#     grades = list(set(qrels.values())) + [0]\n",
    "    ranked_list = list(run['1'][str(i)].keys()) # a list of document IDs\n",
    "#     ranked_list = naive[str(i)] # a list of document IDs\n",
    "#     ranked_list =  {**naive[str(i)],  **run['1'][str(i)]}\n",
    "#     for k in ranked_list:\n",
    "#         ranked_list[k] *= -1\n",
    "\n",
    "    # labeling: [doc_id] -> [(doc_id, rel_level)]\n",
    "    labeler = Labeler(qrels)\n",
    "    labeled_ranked_list = labeler.label(ranked_list)\n",
    "\n",
    "    # compute the number of documents for each relevance level\n",
    "    rel_level_num = 5\n",
    "    xrelnum = labeler.compute_per_level_doc_num(rel_level_num)\n",
    "\n",
    "    # Let's compute nDCG@5\n",
    "    metric = MSnDCG(xrelnum, grades, cutoff=10)\n",
    "    result = metric.compute(labeled_ranked_list)\n",
    "    res.append(result)\n",
    "\n",
    "print(np.mean(res))"
   ]
  },
  {
   "cell_type": "code",
   "execution_count": 1838,
   "metadata": {},
   "outputs": [],
   "source": [
    "a = sorted(qrels.items(), key=lambda x: x[1], reverse=True)"
   ]
  },
  {
   "cell_type": "code",
   "execution_count": 26,
   "metadata": {},
   "outputs": [],
   "source": [
    "df_wiki = pd.read_csv(\"data/wikihowSep.csv\")\n",
    "df_wiki['headline'] = df_wiki['headline'].str.replace(\"\\n\", \"\")\n",
    "df_wiki['title'] = df_wiki['title'].str.replace(\"How to\", \"\")"
   ]
  },
  {
   "cell_type": "code",
   "execution_count": 56,
   "metadata": {},
   "outputs": [
    {
     "data": {
      "text/plain": [
       "[' make homeade pizza treats for your hamster',\n",
       " ' make homeade pizza treats for your hamster',\n",
       " ' plan a spring break staycation1',\n",
       " ' eat healthy at an airport',\n",
       " ' enjoy your last night on a carnival cruise',\n",
       " ' be more spontaneous',\n",
       " ' make a solar oven out of cola aluminum cans',\n",
       " ' make a pizza box solar oven',\n",
       " ' make a pizza box solar oven',\n",
       " ' ask a girl to prom4',\n",
       " ' ski',\n",
       " \" deliver a domino's pizza\",\n",
       " ' say things in italian',\n",
       " ' communicate with a non native english speaker',\n",
       " ' teach food fractions for first grade math1',\n",
       " ' teach food fractions for first grade math1',\n",
       " ' teach food fractions for first grade math2',\n",
       " ' teach food fractions for first grade math2',\n",
       " ' teach food fractions for first grade math2',\n",
       " ' figure cost per square inch of pizza1',\n",
       " ' figure cost per square inch of pizza1',\n",
       " ' figure cost per square inch of pizza1',\n",
       " ' figure cost per square inch of pizza2',\n",
       " ' figure cost per square inch of pizza2',\n",
       " ' figure cost per square inch of pizza2',\n",
       " ' figure cost per square inch of pizza2',\n",
       " ' figure cost per square inch of pizza2',\n",
       " ' make the sims 3 hunger games4',\n",
       " ' get the hidden traits in the sims 3',\n",
       " ' have a killer party on the sims',\n",
       " ' make a pizza restaurant in animal jam',\n",
       " ' make a pizza restaurant in animal jam',\n",
       " ' make a pizza restaurant in animal jam',\n",
       " ' make a pizza restaurant in animal jam',\n",
       " ' make a pizza restaurant in animal jam',\n",
       " ' make a pizza restaurant in animal jam',\n",
       " ' make a pizza restaurant in animal jam',\n",
       " ' make a pizza restaurant in animal jam',\n",
       " ' make a pizza restaurant in animal jam',\n",
       " ' make a pizza restaurant in animal jam',\n",
       " ' make a pizza restaurant in animal jam',\n",
       " ' make vegetable pizza in harvest moon: animal parade',\n",
       " ' make seafood pizza in harvest moon: animal parade',\n",
       " ' make pizza in harvest moon: animal parade',\n",
       " ' associate fishing and cooking in runescape',\n",
       " ' make a pizza in runescape',\n",
       " ' make a pizza in runescape',\n",
       " ' make a pizza in runescape',\n",
       " ' make a pizza in runescape',\n",
       " ' make a pizza in runescape',\n",
       " ' make a pizza in runescape',\n",
       " ' make a pizza in runescape',\n",
       " ' play \"work at a pizza place\" in roblox3',\n",
       " ' play \"work at a pizza place\" in roblox3',\n",
       " ' play \"work at a pizza place\" in roblox3',\n",
       " ' play \"work at a pizza place\" in roblox4',\n",
       " ' play \"work at a pizza place\" in roblox4',\n",
       " ' play \"work at a pizza place\" in roblox5',\n",
       " ' make fried callistorm on webkinz',\n",
       " ' make fried callistorm on webkinz',\n",
       " ' get through the lab in stick rpg 21',\n",
       " ' get through the lab in stick rpg 22',\n",
       " ' become a quick millionaire in millionaire city',\n",
       " ' complete mission three in club penguin: elite penguin force',\n",
       " ' take care of your skin after using a tanning bed2',\n",
       " ' get around rome on the cheap',\n",
       " ' avoid carrying too much makeup',\n",
       " ' have fun by yourself (for girls)',\n",
       " ' dress up your basics2',\n",
       " ' annoy your neighbor',\n",
       " ' make sleepover snacks1',\n",
       " ' organize a preschool sleepover',\n",
       " ' stay up all night with a friend',\n",
       " \" host an 11 year old's birthday sleepover\",\n",
       " ' host a teenage sleepover',\n",
       " ' host a great sleepover for an 11 year‐old',\n",
       " ' host a girls only sleepover (teens)',\n",
       " ' have fun at a slumber party',\n",
       " ' ask an equestrian to a dance4',\n",
       " ' have a jellybean themed sleepover',\n",
       " ' have fun with your teenage friends (girls)1',\n",
       " ' ask a guy to prom',\n",
       " ' ask someone to prom6',\n",
       " ' choose summer activities',\n",
       " ' make healthy choices in the school cafeteria',\n",
       " ' entertain kids with games when babysitting',\n",
       " ' babysit older kids',\n",
       " ' babysit children 3 to 6 years old',\n",
       " ' improve your health with cauliflower2',\n",
       " ' use nutritional yeast2',\n",
       " ' eat less salt3',\n",
       " ' eat more beets2',\n",
       " ' enjoy low carb meals1',\n",
       " ' cut down on carbohydrates (teens)',\n",
       " ' cut bread from your diet2',\n",
       " ' eat healthily at an italian restaurant',\n",
       " ' eat healthily at an italian restaurant',\n",
       " ' choose healthy frozen foods3',\n",
       " ' order a pizza over the phone1',\n",
       " ' order a pizza over the phone1',\n",
       " ' order a pizza over the phone2',\n",
       " ' do the 40 hour famine5',\n",
       " ' find restaurants with siri',\n",
       " ' have fun on an ipod touch1',\n",
       " ' make whole wheat pasta',\n",
       " ' make pierogi casserole3',\n",
       " ' make homemade alfredo sauce',\n",
       " ' make spaghetti pizza',\n",
       " ' make spaghetti pizza',\n",
       " ' make spaghetti pizza',\n",
       " ' make a ramen pizza',\n",
       " ' make a ramen pizza',\n",
       " ' make a ramen pizza',\n",
       " ' make a macaroni and cheese pizza',\n",
       " ' make a macaroni and cheese pizza',\n",
       " ' make stuffed lasagna rolls',\n",
       " ' use savory jams2',\n",
       " ' make garlic cream sauce3',\n",
       " ' make barbecue sauce5',\n",
       " ' make a wedding shower towel cake',\n",
       " ' make egg noodles1',\n",
       " ' cook with greek yogurt2',\n",
       " ' use leftover hard boiled eggs3',\n",
       " ' use goat cheese1',\n",
       " ' prevent mozzarella from getting watery2',\n",
       " ' make goat cheese',\n",
       " \" prepare a complete day's worth of vegetarian meals1\",\n",
       " ' make a white pizza',\n",
       " ' make a white pizza',\n",
       " ' make a white pizza',\n",
       " ' make a white pizza',\n",
       " ' make a white pizza',\n",
       " ' make a heart shaped pizza',\n",
       " ' make a heart shaped pizza',\n",
       " ' make pizza1',\n",
       " ' make pizza1',\n",
       " ' make chicken pizza1',\n",
       " ' make pizza2',\n",
       " ' make pizza2',\n",
       " ' make pizza3',\n",
       " ' make pizza3',\n",
       " ' make pizza3',\n",
       " ' make pizza3',\n",
       " ' make chicken pizza1',\n",
       " ' make chicken pizza2',\n",
       " ' make chicken pizza2',\n",
       " ' make chicken pizza2',\n",
       " ' make chicken pizza3',\n",
       " ' make chicken pizza3',\n",
       " ' make homemade pizza hut pan pizza',\n",
       " ' make homemade pizza hut pan pizza',\n",
       " ' make homemade pizza hut pan pizza',\n",
       " ' make homemade pizza hut pan pizza',\n",
       " ' make pi day pizza',\n",
       " ' make chicago style pizza',\n",
       " ' make chicago style pizza',\n",
       " ' make pi day pizza',\n",
       " ' make pizza from scratch',\n",
       " ' make pizza from scratch',\n",
       " ' make stuffed french bread pizza',\n",
       " ' revitalize day old pizza in a microwave1',\n",
       " ' revitalize day old pizza in a microwave1',\n",
       " ' revitalize day old pizza in a microwave2',\n",
       " ' revitalize day old pizza in a microwave2',\n",
       " ' revitalize day old pizza in a microwave3',\n",
       " ' order pizza1',\n",
       " ' spread pizza dough',\n",
       " ' revitalize day old pizza in a microwave3',\n",
       " ' revitalize day old pizza in a microwave3',\n",
       " ' order pizza1',\n",
       " ' order pizza2',\n",
       " ' spread pizza dough',\n",
       " ' make rustic pesto pizza',\n",
       " ' make rustic pesto pizza',\n",
       " ' order pizza3',\n",
       " ' make tortilla pizzas',\n",
       " ' make tortilla pizzas',\n",
       " ' make tortilla pizzas',\n",
       " ' make thin crust pizza',\n",
       " ' make thin crust pizza',\n",
       " ' make stuffed‐crust pizza',\n",
       " ' make stuffed‐crust pizza',\n",
       " ' make stuffed‐crust pizza',\n",
       " ' make pizza without an oven at home',\n",
       " ' make taco pizza',\n",
       " ' make zucchini pizza bites1',\n",
       " ' make zucchini pizza bites2',\n",
       " ' make pizza without an oven at home',\n",
       " ' make pizza without an oven at home',\n",
       " ' make pizza without an oven at home',\n",
       " ' make pulled pork pizza',\n",
       " ' make pulled pork pizza',\n",
       " ' make pizza with the lot',\n",
       " ' make pizza with the lot',\n",
       " ' make pizza with the lot',\n",
       " ' make slow cooker pizza1',\n",
       " ' make slow cooker pizza2',\n",
       " ' make slow cooker pizza2',\n",
       " ' make slow cooker pizza2',\n",
       " ' make pizza without a dough crust',\n",
       " ' make pizza without a dough crust',\n",
       " ' make pizza without a dough crust',\n",
       " ' make slow cooker pizza3',\n",
       " ' make quinoa pizza crust1',\n",
       " ' make pizza waffles',\n",
       " ' make pizza waffles',\n",
       " ' make pizza waffles',\n",
       " ' make pizza waffles',\n",
       " ' make pizza waffles',\n",
       " ' make quinoa pizza crust2',\n",
       " ' make pizza using hot dog buns',\n",
       " ' make pizza using hot dog buns',\n",
       " ' make pizza using hot dog buns',\n",
       " ' make pizza sauce2',\n",
       " ' make pizza pops',\n",
       " ' make pizza pops',\n",
       " ' make pizza pops',\n",
       " ' make pizza pops',\n",
       " ' make pizza dough without yeast',\n",
       " ' make pizza dough without yeast',\n",
       " ' make pizza quesadillas2',\n",
       " ' make pizza quesadillas3',\n",
       " ' make pizza dippers',\n",
       " ' make pizza dippers',\n",
       " ' make pizza dippers',\n",
       " ' make pizza dippers',\n",
       " ' make pizza bianca',\n",
       " ' make pizza bianca',\n",
       " ' make pizza bianca',\n",
       " ' make pizza bianca',\n",
       " ' make pizza bagels',\n",
       " ' make pizza bagels',\n",
       " ' make pizza cups2',\n",
       " ' make pizza bites1',\n",
       " ' make pizza bites2',\n",
       " ' make pepperoni pizza',\n",
       " ' make pepperoni pizza',\n",
       " ' make pepperoni pizza',\n",
       " ' make pepperoni and italian sausage pizza',\n",
       " ' make pepperoni and italian sausage pizza',\n",
       " ' make pepperoni pizza puffs',\n",
       " ' make new york style pizza',\n",
       " ' make new york style pizza',\n",
       " ' make mexican pizza',\n",
       " ' make mexican pizza',\n",
       " ' make mexican pizza',\n",
       " ' make mexican pizza',\n",
       " ' make mashed potato pizza',\n",
       " ' make mashed potato pizza',\n",
       " ' make mashed potato pizza',\n",
       " ' make mashed potato pizza',\n",
       " ' make mashed potato pizza',\n",
       " ' make mashed potato pizza',\n",
       " ' make mashed potato pizza',\n",
       " \" make kid's mini pizzas\",\n",
       " \" make kid's mini pizzas\",\n",
       " ' make ham yam pizza',\n",
       " ' make ham yam pizza',\n",
       " ' make ham yam pizza',\n",
       " ' make ham yam pizza',\n",
       " ' make ham yam pizza',\n",
       " ' make fruit pizza',\n",
       " ' make low carb pizza1',\n",
       " ' make low carb pizza1',\n",
       " ' make ghost shaped pizzas',\n",
       " ' make ghost shaped pizzas',\n",
       " ' make ghost shaped pizzas',\n",
       " ' make ghost shaped pizzas',\n",
       " ' make ghost shaped pizzas',\n",
       " ' make french bread pizza',\n",
       " ' make fruit pizza',\n",
       " ' make fruit pizza',\n",
       " ' make half whole wheat calzones',\n",
       " ' make four seasons pizza',\n",
       " ' make easy pizza1',\n",
       " ' make chicken spicy garlic pizza',\n",
       " ' make easy pizza1',\n",
       " ' make easy pizza2',\n",
       " ' make easy pizza2',\n",
       " ' make chicken spicy garlic pizza',\n",
       " ' make chicken spicy garlic pizza',\n",
       " \" make folder's arm pizza\",\n",
       " ' make easy pizza2',\n",
       " ' make easy pizza3',\n",
       " ' make easy pizza3',\n",
       " ' make easy pizza3',\n",
       " ' make easy pizza3',\n",
       " ' make easy pizza3',\n",
       " \" make folder's arm pizza\",\n",
       " \" make folder's arm pizza\",\n",
       " \" make folder's arm pizza\",\n",
       " \" make folder's arm pizza\",\n",
       " \" make folder's arm pizza\",\n",
       " ' make easy wholemeal pizza',\n",
       " ' make easy wholemeal pizza',\n",
       " ' make cheese pizza3',\n",
       " ' make brick oven pizza',\n",
       " ' make brick oven pizza',\n",
       " ' make brick oven pizza',\n",
       " ' make deep crust pizza',\n",
       " ' make deep crust pizza',\n",
       " ' make deep crust pizza',\n",
       " ' make deep crust pizza',\n",
       " ' make a taco bell mexican pizza',\n",
       " ' make easy wholemeal pizza',\n",
       " ' make brick oven pizza',\n",
       " ' make baked pizza subs',\n",
       " ' make baked pizza subs',\n",
       " ' make baked pizza subs',\n",
       " ' make a toast pizza',\n",
       " ' make anchovy pizza',\n",
       " ' make anchovy pizza',\n",
       " \" make a s'more pizza\",\n",
       " \" make a s'more pizza\",\n",
       " \" make a s'more pizza\",\n",
       " ' make a salmon pizza',\n",
       " ' make a snowman pizza1',\n",
       " ' make a snowman pizza1',\n",
       " ' make a snowman pizza2',\n",
       " ' make a quick microwaved pita bread \"pizza\"',\n",
       " ' make a quick microwaved pita bread \"pizza\"',\n",
       " ' make a shrimp and pineapple pizza',\n",
       " ' make a shrimp and pineapple pizza',\n",
       " ' make a shrimp and pineapple pizza',\n",
       " ' make a rocky road brownie pizza',\n",
       " ' make a rocky road brownie pizza',\n",
       " ' make a rocky road brownie pizza',\n",
       " ' make a rocky road brownie pizza',\n",
       " ' make a rocky road brownie pizza',\n",
       " ' make a rocky road brownie pizza',\n",
       " ' make a rocky road brownie pizza',\n",
       " ' make a rocky road brownie pizza',\n",
       " ' make a quick pizza',\n",
       " ' make a quick pizza',\n",
       " ' make a pizza sub',\n",
       " ' make a pizza monster',\n",
       " ' make a popcorn shrimp pizza1',\n",
       " ' make a popcorn shrimp pizza1',\n",
       " ' make a popcorn shrimp pizza1',\n",
       " ' make a pizza monster',\n",
       " ' make a pizza monster',\n",
       " ' make a pizza monster',\n",
       " ' make a pizza monster',\n",
       " ' make a pizza monster',\n",
       " ' make a pizza monster',\n",
       " ' make a pizza more cheesy',\n",
       " ' make a popcorn shrimp pizza2',\n",
       " ' make a popcorn shrimp pizza2',\n",
       " ' make a popcorn shrimp pizza2',\n",
       " ' make a pizza more cheesy',\n",
       " ' make a pizza more cheesy',\n",
       " ' make a pizza more cheesy',\n",
       " ' make a pizza more cheesy',\n",
       " ' make a pizza more cheesy',\n",
       " ' make a pizza more cheesy',\n",
       " ' make a pizza more cheesy',\n",
       " ' make a pizza more cheesy',\n",
       " ' make a popcorn shrimp pizza3',\n",
       " ' make a popcorn shrimp pizza3',\n",
       " ' make a popcorn shrimp pizza3',\n",
       " ' make a popcorn shrimp pizza3',\n",
       " ' make a pizza more cheesy',\n",
       " ' make a meatza1',\n",
       " ' make a meatza1',\n",
       " ' make a meatza2',\n",
       " ' make a meatza2',\n",
       " ' make a hawaiian pizza',\n",
       " ' make a hawaiian pizza',\n",
       " ' make a hawaiian pizza',\n",
       " ' make a hawaiian pizza',\n",
       " ' make a hawaiian pizza',\n",
       " ' make a hawaiian pizza',\n",
       " ' make a hawaiian pizza',\n",
       " ' make a hawaiian pizza',\n",
       " ' make a pizza in a jar1',\n",
       " ' make a meatball and spinach pizza',\n",
       " ' make a meatball and spinach pizza',\n",
       " ' make a meatball and spinach pizza',\n",
       " ' make a meatball and spinach pizza',\n",
       " ' make a meatza2',\n",
       " ' make a meatza2',\n",
       " ' make a mini pizza out of a sandwich roll',\n",
       " ' make a mini pizza out of a sandwich roll',\n",
       " ' make a mini pizza out of a sandwich roll',\n",
       " ' make a crispy half whole wheat pizza',\n",
       " ' make a chicken and pepperoni pizza',\n",
       " ' make a chicken and pepperoni pizza',\n",
       " ' make a chicken and pepperoni pizza',\n",
       " ' make a chicken and pepperoni pizza',\n",
       " ' make a chicken and pepperoni pizza',\n",
       " ' make a healthy pizza5',\n",
       " ' make a healthy pizza5',\n",
       " ' make a gluten free pizza and mix',\n",
       " ' make a crispy half whole wheat pizza',\n",
       " ' make a crispy half whole wheat pizza',\n",
       " ' make a crispy half whole wheat pizza',\n",
       " ' make a fresh fruit dessert pizza',\n",
       " ' make a coconut pizza',\n",
       " ' make a gluten free pizza and mix',\n",
       " ' make a gluten free pizza and mix',\n",
       " ' make a gluten free pizza and mix',\n",
       " ' make a basic pizza using bread',\n",
       " ' make a cookie pizza1',\n",
       " ' make a cookie pizza2',\n",
       " ' make a fruits de mer pizza2',\n",
       " ' make a fruits de mer pizza3',\n",
       " ' fold a slice of pizza1',\n",
       " ' eat pizza for breakfast',\n",
       " ' make a cookie pizza2',\n",
       " ' make a fruits de mer pizza3',\n",
       " ' make a fruits de mer pizza3',\n",
       " ' fold a slice of pizza1',\n",
       " ' fold a slice of pizza2',\n",
       " ' fold a slice of pizza2',\n",
       " ' eat pizza for breakfast',\n",
       " ' eat pizza for breakfast',\n",
       " ' eat pizza for breakfast',\n",
       " ' eat pizza for breakfast',\n",
       " ' eat pizza for breakfast',\n",
       " ' eat pizza for breakfast',\n",
       " ' cook pizza on a pizza stone',\n",
       " ' cook pizza on a pizza stone',\n",
       " ' cook pizza on a pizza stone',\n",
       " ' grill a pizza',\n",
       " ' grill a pizza',\n",
       " ' grill a pizza',\n",
       " ' cook a perfect frozen pizza',\n",
       " ' grill a pizza',\n",
       " ' grill a pizza',\n",
       " ' create deep dish pizza in a muffin tin1',\n",
       " ' cook a perfect frozen pizza',\n",
       " ' cook a perfect frozen pizza',\n",
       " ' cook a perfect frozen pizza',\n",
       " ' create deep dish pizza in a muffin tin2',\n",
       " ' cook a quick spam pizza',\n",
       " ' cook pizza in a gas oven',\n",
       " ' cook pizza in a gas oven',\n",
       " ' cook pizza in a gas oven',\n",
       " ' cook pizza in a gas oven',\n",
       " ' cook pizza in a gas oven',\n",
       " ' cook pizza in a gas oven',\n",
       " ' choose which commercial catering pizza oven to buy',\n",
       " ' choose which commercial catering pizza oven to buy',\n",
       " \" bake a totino's party pizza\",\n",
       " \" bake a totino's party pizza\",\n",
       " \" bake a totino's party pizza\",\n",
       " \" bake a totino's party pizza\",\n",
       " \" bake a totino's party pizza\",\n",
       " ' store and reheat pizza1',\n",
       " ' store and reheat pizza1',\n",
       " ' store and reheat pizza2',\n",
       " ' store and reheat pizza2',\n",
       " ' store and reheat pizza3',\n",
       " ' store and reheat pizza3',\n",
       " ' store and reheat pizza4',\n",
       " ' store and reheat pizza4',\n",
       " ' store and reheat pizza5',\n",
       " ' toss pizza dough',\n",
       " ' appreciate pizza left overs',\n",
       " ' appreciate pizza left overs',\n",
       " ' appreciate pizza left overs',\n",
       " ' appreciate pizza left overs',\n",
       " ' make pesto pizza',\n",
       " ' make pesto pizza',\n",
       " ' make pesto pizza',\n",
       " ' make pesto pizza',\n",
       " ' bake a pizza cake',\n",
       " ' bake a pizza cake',\n",
       " ' clean a pizza stone1',\n",
       " ' clean a pizza stone1',\n",
       " ' clean a pizza stone1',\n",
       " ' clean a pizza stone1',\n",
       " ' clean a pizza stone3',\n",
       " ' clean a pizza stone3',\n",
       " ' play pizza roulette',\n",
       " ' play pizza roulette',\n",
       " ' play pizza roulette',\n",
       " ' play pizza roulette',\n",
       " ' play pizza roulette',\n",
       " ' make a healthy new york style pizza',\n",
       " ' cook pizza on a barbecue',\n",
       " ' cook pizza on a barbecue',\n",
       " ' cook pizza on a barbecue',\n",
       " ' make a vegan pizza2',\n",
       " ' make a vegan pizza3',\n",
       " ' choose vegan foods on a budget',\n",
       " ' make pizza lunchables',\n",
       " ' make pizza lunchables',\n",
       " ' make pizza lunchables',\n",
       " ' make pizza lunchables',\n",
       " ' make a hamburger',\n",
       " ' create a healthy fast food menu for home',\n",
       " ' make vegetable pizza1',\n",
       " ' make vegetable pizza1',\n",
       " ' make vegetable pizza2',\n",
       " ' make vegetable pizza2',\n",
       " ' prepare tofu',\n",
       " ' make pumpkin pie cookies1',\n",
       " ' make cinnamon roll sticks3',\n",
       " ' make guava pastries',\n",
       " ' make cherry turnovers',\n",
       " ' make gluten free graham crackers',\n",
       " ' make baked crescent churros',\n",
       " ' make a rice paratha from leftover rice',\n",
       " ' make a walnut chocolate bread cake',\n",
       " ' make brownie pizza1',\n",
       " ' make brownie pizza2',\n",
       " ' make brownie pizza2',\n",
       " ' make brownie pizza2',\n",
       " ' make brownie pizza2',\n",
       " ' make brownie pizza3',\n",
       " ' make brownie pizza3',\n",
       " ' make a giant cookie1',\n",
       " ' make a giant cookie1',\n",
       " ' substitute vegetables for grains',\n",
       " ' use salsa beyond dip',\n",
       " ' make mochi pizza',\n",
       " ' make mochi pizza',\n",
       " ' make mochi pizza',\n",
       " ' make a \"taco town\" taco',\n",
       " ' make grilled chili cheese quesadillas',\n",
       " ' make pizza burritos1',\n",
       " ' make pizza burritos2',\n",
       " ' make pizza burritos2',\n",
       " ' make pizza burritos2',\n",
       " ' make garlic cheese focaccia',\n",
       " ' make garlic cheese focaccia',\n",
       " ' make snacks from breads',\n",
       " ' make pepperoni cheese bread',\n",
       " ' make crescent rolls',\n",
       " ' make a rustic bread',\n",
       " ' make focaccia',\n",
       " ' make focaccia',\n",
       " ' make garlic and herb foccacia bread',\n",
       " ' make garlic and herb foccacia bread',\n",
       " ' make hardtack1',\n",
       " ' make candied pizza',\n",
       " ' make candied pizza',\n",
       " ' make candied pizza',\n",
       " ' make georgian acharuli xachapuri',\n",
       " ' make avocado pizza',\n",
       " ' make avocado pizza',\n",
       " ' make avocado pizza',\n",
       " ' make avocado pizza',\n",
       " ' make avocado pizza',\n",
       " ' remove gluten from your diet',\n",
       " ' remove gluten from your diet',\n",
       " ' cook with cassava flour2',\n",
       " ' make dough without yeast1',\n",
       " ' play simple learning activities with your child at home4',\n",
       " ' play simple learning activities with your child at home4',\n",
       " ' make ghosts in the graveyard1',\n",
       " ' roast pumpkin seeds',\n",
       " ' spend a night alone in your house',\n",
       " ' improve your diet (teens)',\n",
       " ' earn money while studying1',\n",
       " ' deliver a pizza1',\n",
       " ' have a study party',\n",
       " ' make different smilies',\n",
       " ' edit photos using google drive',\n",
       " ' use leftover potatoes',\n",
       " ' sneak vegetables into meals2',\n",
       " ' make vegetables taste better',\n",
       " ' use leftover meatloaf',\n",
       " ' use salami',\n",
       " ' upgrade a can of crescent dough1',\n",
       " ' upgrade a can of crescent dough2',\n",
       " ' serve apples at dinner3',\n",
       " ' prepare watercress',\n",
       " ' serve smoked salmon4',\n",
       " ' make mints1',\n",
       " ' eat more spinach2',\n",
       " ' make strawberry pizza',\n",
       " ' make strawberry pizza',\n",
       " ' make strawberry pizza',\n",
       " ' lattice a pie',\n",
       " ' bake a vegetable tart',\n",
       " ' make a dessert taco1',\n",
       " ' make a dessert taco1',\n",
       " ' make pooch pizza for a dog',\n",
       " ' make pooch pizza for a dog',\n",
       " ' host a hawaiian party',\n",
       " ' make sure your party guests have a good time',\n",
       " ' have a rock star party themed birthday party1',\n",
       " ' buy food for a party2',\n",
       " ' plan a party (for kids)',\n",
       " ' host a 10th birthday party',\n",
       " ' have a spa party for girls',\n",
       " ' give money as a gift',\n",
       " ' plan a first birthday party for your child',\n",
       " ' make a ghost5',\n",
       " ' survive your freshman year at penn state',\n",
       " ' avoid the freshman 152',\n",
       " ' have a positive study abroad experience in italy',\n",
       " ' use life hacks2',\n",
       " ' use life hacks9',\n",
       " ' use oregano in cooking',\n",
       " ' reheat frozen or chilled food1',\n",
       " ' prepare shaved asparagus',\n",
       " ' use oregano oil1',\n",
       " ' cook bean sprouts',\n",
       " ' use leftover dough or batter4',\n",
       " ' use leftover dough or batter4',\n",
       " ' use leftover dough or batter5',\n",
       " ' make your own convenience foods',\n",
       " ' eat moringa leaves3',\n",
       " ' choose wine2',\n",
       " ' choose a holiday gift for your employees',\n",
       " ' make mini breakfast pizzas',\n",
       " ' use a pizza stone',\n",
       " ' use a pizza stone',\n",
       " ' use a pizza stone',\n",
       " ' use a pizza stone',\n",
       " ' use a pizza stone',\n",
       " ' use a pizza stone',\n",
       " ' use a pizza stone',\n",
       " ' use a pizza stone',\n",
       " ' use a pizza stone',\n",
       " ' use a pizza stone',\n",
       " ' make a breakfast pizza with a crust1',\n",
       " ' make a breakfast pizza with a crust2',\n",
       " ' find a substitute for a wire cooling rack (baking)',\n",
       " ' build a parabolic powerful solar stove for cooking',\n",
       " ' cook with your kids',\n",
       " ' get kids to eat healthy3',\n",
       " \" make valentine's day treats for your kids2\",\n",
       " ' make a prank call4',\n",
       " ' use rosemary in cooking4',\n",
       " ' eat a waffle',\n",
       " ' enjoy vegemite2',\n",
       " ' find substitutes for your favorite fatty foods',\n",
       " ' eat a cookie',\n",
       " ' start a pizza business',\n",
       " \" open a domino's pizza franchise in the u.s.1\",\n",
       " \" open a domino's pizza franchise in the u.s.1\",\n",
       " \" open a domino's pizza franchise in the u.s.2\",\n",
       " \" open a domino's pizza franchise in the u.s.2\",\n",
       " \" open a domino's pizza franchise in the u.s.3\",\n",
       " \" open a domino's pizza franchise in the u.s.3\",\n",
       " ' build a video store business',\n",
       " ' throw a frisbee forehand',\n",
       " ' dispose of a pizza box',\n",
       " ' dispose of a pizza box',\n",
       " ' replace the screen on a screen door3',\n",
       " ' replace the screen on a screen door3',\n",
       " ' make a brick oven',\n",
       " ' draw a whale2',\n",
       " ' draw a celtic knot on squared paper',\n",
       " ' draw a celtic knot on squared paper',\n",
       " ' draw a celtic knot on squared paper',\n",
       " ' draw a celtic knot on squared paper',\n",
       " ' grow a pizza garden3',\n",
       " ' paint stripes on a wall2',\n",
       " ' make a bathroom look vintage4',\n",
       " ' make star wars snowflakes',\n",
       " ' make your own perforated pages2',\n",
       " ' make your own perforated pages3',\n",
       " ' create a craft kit as a gift3',\n",
       " ' find bloody gir']"
      ]
     },
     "execution_count": 56,
     "metadata": {},
     "output_type": "execute_result"
    }
   ],
   "source": [
    "df_wiki[df_wiki.headline.str.contains(\"pizza\")].title.tolist()"
   ]
  },
  {
   "cell_type": "code",
   "execution_count": 59,
   "metadata": {},
   "outputs": [],
   "source": [
    "context = \" \".join(df_wiki[df_wiki.title == ' order a pizza over the phone1'].text.tolist())"
   ]
  },
  {
   "cell_type": "code",
   "execution_count": 61,
   "metadata": {},
   "outputs": [],
   "source": [
    "context = context.replace(\"\\n\",\"\")"
   ]
  },
  {
   "cell_type": "code",
   "execution_count": 62,
   "metadata": {},
   "outputs": [
    {
     "data": {
      "text/plain": [
       "' make sure you order from a pizza restaurant that accepts orders over the phone for delivery or pickup/takeout. check the website for the pizza place, or call their phone number to briefly ask if they do deliveries or will let you order something in advance and pick it up when it’s ready.if you want the pizza delivered, check to make sure that you live within an area that the pizza place will deliver to. if you’re outside the city limits of where the restaurant is, for instance, that may be beyond their maximum mileage for deliveries.make sure you also have a type of payment that the pizza restaurant accepts. for instance, you will likely want to have cash for a delivery and not plan to use a check in stores that don’t accept them. have several types of payments ready just in case.;  choose whether you’d like to have your pizza delivered straight to your door, or simply go pick it up from the store location. deliveries are great for convenience, while carry-outs are good when you’re on your way somewhere.note that the potential downside to delivery is that there may be an extra delivery fee added to the cost of your food, and unexpected delays can occur with your driver.the potential downsides to a pickup/carry-out order are that you have to get to the location to pick up the pizza yourself, which may take longer. this may be a particular challenge if you don’t own a car, can’t get a ride, or can’t use public transportation.  consult an online or paper menu for the pizza place you wish to order from to make your selections. or choose an item that is common or that you’ve ordered before, like a plain cheese pizza.consider pizza size, type of crust, toppings, and any other options available. you may need to ask how large a size of pizza is to determine what you’ll need, but otherwise the choices are entirely up to you.look for menus online from most chain pizzerias. take note if they have certain items that are only available in-store and not for delivery or takeout.  don’t forget about drinks, appetizers, desserts, or any other dishes that you may want along with your pizza. consult the menu to find out your options.also consider the specifications you may need to make when you order on the phone. decide on a small, medium, or large beverage, for example, or the kind of dressing you want on a salad if given the option.take a look at the menu, website, or any promotional material you may have received or heard about that provides a special offer or discount on ordering other items with your pizza, or even additional pizzas. you might want to add to your order to take advantage of a deal.  make placing the order easier for yourself and the person taking the order by knowing exactly what you want, which can be difficult with a large group of people or large order. write it all down on a piece of paper you can look at while you’re on the phone.make sure everyone in a group comes to a firm agreement on the order before you place the call, and they understand they can’t make changes or additions once you’re on the phone. you can even go into another room to find some peace and quiet for the call if you need to.don’t hesitate to write down any order, even if it’s a small one, as it can help you to remember and speak more clearly when on the phone.'"
      ]
     },
     "execution_count": 62,
     "metadata": {},
     "output_type": "execute_result"
    }
   ],
   "source": [
    "context"
   ]
  },
  {
   "cell_type": "code",
   "execution_count": 51,
   "metadata": {},
   "outputs": [],
   "source": [
    "df_wiki['overview'] = df_wiki['overview'].astype(str)\n",
    "df_wiki['headline'] = df_wiki['headline'].astype(str)\n",
    "df_wiki['text'] = df_wiki['text'].astype(str)\n",
    "df_wiki['sectionLabel'] = df_wiki['sectionLabel'].astype(str)\n",
    "df_wiki['title'] = df_wiki['title'].astype(str)"
   ]
  },
  {
   "cell_type": "code",
   "execution_count": 52,
   "metadata": {},
   "outputs": [],
   "source": [
    "df_wiki['overview'] = df_wiki['overview'].str.lower()\n",
    "df_wiki['title'] = df_wiki['title'].str.lower()\n",
    "df_wiki['text'] = df_wiki['text'].str.lower()\n",
    "df_wiki['headline'] = df_wiki['headline'].str.lower()\n",
    "df_wiki['sectionLabel'] = df_wiki['sectionLabel'].str.lower()"
   ]
  },
  {
   "cell_type": "code",
   "execution_count": 2065,
   "metadata": {},
   "outputs": [],
   "source": [
    "import re\n",
    "\n",
    "regex = re.compile('[^a-zA-Z0-9]')\n",
    "#First parameter is the replacement, second parameter is your input string\n",
    "def preprocessingText(doc):\n",
    "    doc = regex.sub(' ', doc)\n",
    "    doc = \" \".join([w for w in doc.split() if not w in stop_words])\n",
    "    return doc"
   ]
  },
  {
   "cell_type": "code",
   "execution_count": 1680,
   "metadata": {},
   "outputs": [],
   "source": [
    "df_wiki['overview'] = [preprocessingText(i) for i in df_wiki['overview']]\n",
    "df_wiki['headline'] = [preprocessingText(i) for i in df_wiki['headline']]\n",
    "df_wiki['text'] = [preprocessingText(i) for i in df_wiki['text']]\n",
    "df_wiki['sectionLabel'] = [preprocessingText(i) for i in df_wiki['sectionLabel']]\n",
    "df_wiki['title'] = [preprocessingText(i) for i in df_wiki['title']]"
   ]
  },
  {
   "cell_type": "code",
   "execution_count": 340,
   "metadata": {},
   "outputs": [
    {
     "data": {
      "application/vnd.jupyter.widget-view+json": {
       "model_id": "e8b24ce7e8b94de9b0446150ab36799a",
       "version_major": 2,
       "version_minor": 0
      },
      "text/plain": [
       "HBox(children=(IntProgress(value=0, max=229), HTML(value='')))"
      ]
     },
     "metadata": {},
     "output_type": "display_data"
    },
    {
     "name": "stdout",
     "output_type": "stream",
     "text": [
      "\n",
      "CPU times: user 2min 11s, sys: 668 ms, total: 2min 12s\n",
      "Wall time: 2min 12s\n"
     ]
    }
   ],
   "source": [
    "%%time\n",
    "queries = [q.lower() for q in df['query'].unique()]\n",
    "query2wiki = collections.defaultdict(object)\n",
    "for entity in tqdm(queries, total=len(queries)):\n",
    "    df_ = df_wiki[df_wiki.title.str.contains(entity, na=False)]\n",
    "    if len(df_) > 0:\n",
    "        query2wiki[entity] = df_"
   ]
  },
  {
   "cell_type": "code",
   "execution_count": 682,
   "metadata": {},
   "outputs": [],
   "source": [
    "query2id = dict(zip(df['query'], df['query_id']))\n",
    "query2entity = dict(zip(df['query'], df['entity']))\n",
    "query2action = dict(zip(df['query'], df['action']))"
   ]
  },
  {
   "cell_type": "code",
   "execution_count": 456,
   "metadata": {},
   "outputs": [
    {
     "name": "stderr",
     "output_type": "stream",
     "text": [
      "Using TensorFlow backend.\n",
      "/Users/jarana/anaconda3/envs/keras/lib/python3.7/site-packages/tensorflow/python/framework/dtypes.py:516: FutureWarning: Passing (type, 1) or '1type' as a synonym of type is deprecated; in a future version of numpy, it will be understood as (type, (1,)) / '(1,)type'.\n",
      "  _np_qint8 = np.dtype([(\"qint8\", np.int8, 1)])\n",
      "/Users/jarana/anaconda3/envs/keras/lib/python3.7/site-packages/tensorflow/python/framework/dtypes.py:517: FutureWarning: Passing (type, 1) or '1type' as a synonym of type is deprecated; in a future version of numpy, it will be understood as (type, (1,)) / '(1,)type'.\n",
      "  _np_quint8 = np.dtype([(\"quint8\", np.uint8, 1)])\n",
      "/Users/jarana/anaconda3/envs/keras/lib/python3.7/site-packages/tensorflow/python/framework/dtypes.py:518: FutureWarning: Passing (type, 1) or '1type' as a synonym of type is deprecated; in a future version of numpy, it will be understood as (type, (1,)) / '(1,)type'.\n",
      "  _np_qint16 = np.dtype([(\"qint16\", np.int16, 1)])\n",
      "/Users/jarana/anaconda3/envs/keras/lib/python3.7/site-packages/tensorflow/python/framework/dtypes.py:519: FutureWarning: Passing (type, 1) or '1type' as a synonym of type is deprecated; in a future version of numpy, it will be understood as (type, (1,)) / '(1,)type'.\n",
      "  _np_quint16 = np.dtype([(\"quint16\", np.uint16, 1)])\n",
      "/Users/jarana/anaconda3/envs/keras/lib/python3.7/site-packages/tensorflow/python/framework/dtypes.py:520: FutureWarning: Passing (type, 1) or '1type' as a synonym of type is deprecated; in a future version of numpy, it will be understood as (type, (1,)) / '(1,)type'.\n",
      "  _np_qint32 = np.dtype([(\"qint32\", np.int32, 1)])\n",
      "/Users/jarana/anaconda3/envs/keras/lib/python3.7/site-packages/tensorflow/python/framework/dtypes.py:525: FutureWarning: Passing (type, 1) or '1type' as a synonym of type is deprecated; in a future version of numpy, it will be understood as (type, (1,)) / '(1,)type'.\n",
      "  np_resource = np.dtype([(\"resource\", np.ubyte, 1)])\n",
      "/Users/jarana/anaconda3/envs/keras/lib/python3.7/site-packages/tensorboard/compat/tensorflow_stub/dtypes.py:541: FutureWarning: Passing (type, 1) or '1type' as a synonym of type is deprecated; in a future version of numpy, it will be understood as (type, (1,)) / '(1,)type'.\n",
      "  _np_qint8 = np.dtype([(\"qint8\", np.int8, 1)])\n",
      "/Users/jarana/anaconda3/envs/keras/lib/python3.7/site-packages/tensorboard/compat/tensorflow_stub/dtypes.py:542: FutureWarning: Passing (type, 1) or '1type' as a synonym of type is deprecated; in a future version of numpy, it will be understood as (type, (1,)) / '(1,)type'.\n",
      "  _np_quint8 = np.dtype([(\"quint8\", np.uint8, 1)])\n",
      "/Users/jarana/anaconda3/envs/keras/lib/python3.7/site-packages/tensorboard/compat/tensorflow_stub/dtypes.py:543: FutureWarning: Passing (type, 1) or '1type' as a synonym of type is deprecated; in a future version of numpy, it will be understood as (type, (1,)) / '(1,)type'.\n",
      "  _np_qint16 = np.dtype([(\"qint16\", np.int16, 1)])\n",
      "/Users/jarana/anaconda3/envs/keras/lib/python3.7/site-packages/tensorboard/compat/tensorflow_stub/dtypes.py:544: FutureWarning: Passing (type, 1) or '1type' as a synonym of type is deprecated; in a future version of numpy, it will be understood as (type, (1,)) / '(1,)type'.\n",
      "  _np_quint16 = np.dtype([(\"quint16\", np.uint16, 1)])\n",
      "/Users/jarana/anaconda3/envs/keras/lib/python3.7/site-packages/tensorboard/compat/tensorflow_stub/dtypes.py:545: FutureWarning: Passing (type, 1) or '1type' as a synonym of type is deprecated; in a future version of numpy, it will be understood as (type, (1,)) / '(1,)type'.\n",
      "  _np_qint32 = np.dtype([(\"qint32\", np.int32, 1)])\n",
      "/Users/jarana/anaconda3/envs/keras/lib/python3.7/site-packages/tensorboard/compat/tensorflow_stub/dtypes.py:550: FutureWarning: Passing (type, 1) or '1type' as a synonym of type is deprecated; in a future version of numpy, it will be understood as (type, (1,)) / '(1,)type'.\n",
      "  np_resource = np.dtype([(\"resource\", np.ubyte, 1)])\n"
     ]
    }
   ],
   "source": [
    "from keras.preprocessing.text import Tokenizer\n",
    "from keras.preprocessing.sequence import pad_sequences"
   ]
  },
  {
   "cell_type": "code",
   "execution_count": 470,
   "metadata": {},
   "outputs": [],
   "source": [
    "all_properties = []\n",
    "for i in run[\"1\"]:\n",
    "    all_properties.extend(list(run[\"1\"][i].keys()))"
   ]
  },
  {
   "cell_type": "code",
   "execution_count": 1231,
   "metadata": {},
   "outputs": [],
   "source": [
    "matched_wiki = df_wiki[df_wiki.text.str.contains('|'.join(queries), na=False)]\n",
    "wiki_all_text = []\n",
    "for col in df_wiki.columns:\n",
    "    wiki_all_text.extend(matched_wiki[col].unique())"
   ]
  },
  {
   "cell_type": "code",
   "execution_count": 1704,
   "metadata": {},
   "outputs": [],
   "source": [
    "corpus = []\n",
    "for name, group in groups:\n",
    "    title = name\n",
    "    overview = group['overview'].unique().tolist()\n",
    "    text = group['text'].unique().tolist()\n",
    "    headline = group['headline'].unique().tolist()\n",
    "    sectionLabel = group['sectionLabel'].unique().tolist()\n",
    "#     print(overview, text, headline, sectionLabel, title)\n",
    "    doc = \" \".join([title] + overview + sectionLabel + headline + text)\n",
    "    corpus.append(doc)"
   ]
  },
  {
   "cell_type": "code",
   "execution_count": 2111,
   "metadata": {},
   "outputs": [],
   "source": [
    "groups = df_wiki.groupby(\"title\")"
   ]
  },
  {
   "cell_type": "code",
   "execution_count": 2115,
   "metadata": {},
   "outputs": [],
   "source": [
    "corpus = []\n",
    "for name, group in groups:\n",
    "    print(gro)\n",
    "#     corpus.append(preprocessingText(\" \".join([name] + group.text.tolist())))"
   ]
  },
  {
   "cell_type": "code",
   "execution_count": 1486,
   "metadata": {},
   "outputs": [],
   "source": [
    "def camel_case_split(identifier):\n",
    "    matches = re.finditer('.+?(?:(?<=[a-z])(?=[A-Z])|(?<=[A-Z])(?=[A-Z][a-z])|$)', identifier)\n",
    "    return [m.group(0) for m in matches]"
   ]
  },
  {
   "cell_type": "code",
   "execution_count": 2116,
   "metadata": {},
   "outputs": [],
   "source": [
    "from rank_bm25 import BM25Okapi\n",
    "\n",
    "tokenized_corpus = [doc.split(\" \") for doc in corpus]\n",
    "bm25 = BM25Okapi(tokenized_corpus)"
   ]
  },
  {
   "cell_type": "code",
   "execution_count": 2131,
   "metadata": {},
   "outputs": [],
   "source": [
    "qidMS = []\n",
    "docMS = []\n",
    "for idx, row in df[['query_id', 'entity', 'action', 'entityType']].drop_duplicates().iterrows():\n",
    "    query = row['action'] + \" \" + row['entity'] + \" \" + row['entityType']\n",
    "    query = query.replace(\"thing\", \"\")\n",
    "    tokenized_query = query.split(\" \")\n",
    "    docs = bm25.get_top_n(tokenized_query, corpus, n=5)\n",
    "    qidMS.append(row['query_id'])\n",
    "    docMS.append([preprocessingText(doc) for doc in docs])\n"
   ]
  },
  {
   "cell_type": "code",
   "execution_count": 2137,
   "metadata": {},
   "outputs": [],
   "source": [
    "docMS2vec = {}\n",
    "for d, i in zip(docMS, qidMS):\n",
    "    data = getVectors(d)\n",
    "    docMS2vec[i] = [data[k] for k in data]\n"
   ]
  },
  {
   "cell_type": "code",
   "execution_count": 2180,
   "metadata": {},
   "outputs": [],
   "source": [
    "entity2vec = {}\n",
    "for i, j, k, l in df[[\"query_id\", \"entity\", \"action\", \"entityType\"]].drop_duplicates().values:\n",
    "    q = k +\" \" +j + \" \" + l\n",
    "    q = q.replace(\"thing\", \"\")\n",
    "    data = getVectors([q])\n",
    "    entity2vec[i] = data[q]"
   ]
  },
  {
   "cell_type": "code",
   "execution_count": 1780,
   "metadata": {},
   "outputs": [],
   "source": [
    "cand_props = []\n",
    "for i in df['query_id'].unique():\n",
    "    cand_props.extend(run['1'][str(i)].keys())\n",
    "cand_props = list(set(cand_props))\n"
   ]
  },
  {
   "cell_type": "code",
   "execution_count": 2384,
   "metadata": {},
   "outputs": [],
   "source": []
  },
  {
   "cell_type": "code",
   "execution_count": null,
   "metadata": {},
   "outputs": [],
   "source": []
  },
  {
   "cell_type": "code",
   "execution_count": 1781,
   "metadata": {},
   "outputs": [],
   "source": [
    "propMS2vec = {}\n",
    "for i in range(0, len(cand_props), 20):\n",
    "    data = getVectors(cand_props[i:i+20])\n",
    "    for i in data:\n",
    "        propMS2vec[i] = data[i]"
   ]
  },
  {
   "cell_type": "code",
   "execution_count": 2015,
   "metadata": {},
   "outputs": [],
   "source": [
    "run_props = []\n",
    "for i in run['1']:\n",
    "    run_props.extend(list(run['1'][i].keys()))\n",
    "    "
   ]
  },
  {
   "cell_type": "code",
   "execution_count": 2016,
   "metadata": {},
   "outputs": [],
   "source": [
    "run_props = set(run_props)"
   ]
  },
  {
   "cell_type": "code",
   "execution_count": 2472,
   "metadata": {},
   "outputs": [],
   "source": [
    "unseen_prop = list(set.difference(a, run_props))"
   ]
  },
  {
   "cell_type": "code",
   "execution_count": 2476,
   "metadata": {},
   "outputs": [
    {
     "data": {
      "text/html": [
       "<div>\n",
       "<style scoped>\n",
       "    .dataframe tbody tr th:only-of-type {\n",
       "        vertical-align: middle;\n",
       "    }\n",
       "\n",
       "    .dataframe tbody tr th {\n",
       "        vertical-align: top;\n",
       "    }\n",
       "\n",
       "    .dataframe thead th {\n",
       "        text-align: right;\n",
       "    }\n",
       "</style>\n",
       "<table border=\"1\" class=\"dataframe\">\n",
       "  <thead>\n",
       "    <tr style=\"text-align: right;\">\n",
       "      <th></th>\n",
       "      <th>query_id</th>\n",
       "      <th>property</th>\n",
       "      <th>rele_label</th>\n",
       "      <th>query</th>\n",
       "      <th>entity</th>\n",
       "      <th>entityType</th>\n",
       "      <th>action</th>\n",
       "    </tr>\n",
       "  </thead>\n",
       "  <tbody>\n",
       "  </tbody>\n",
       "</table>\n",
       "</div>"
      ],
      "text/plain": [
       "Empty DataFrame\n",
       "Columns: [query_id, property, rele_label, query, entity, entityType, action]\n",
       "Index: []"
      ]
     },
     "execution_count": 2476,
     "metadata": {},
     "output_type": "execute_result"
    }
   ],
   "source": [
    "df[df.property == \"offer\"]"
   ]
  },
  {
   "cell_type": "markdown",
   "metadata": {},
   "source": [
    "# MS Turing"
   ]
  },
  {
   "cell_type": "code",
   "execution_count": 2421,
   "metadata": {},
   "outputs": [],
   "source": [
    "df_run['entityType'] = df_run['entityType'].str.lower()\n",
    "type2prop = df_run.groupby(\"entityType\")['property'].unique().to_dict()"
   ]
  },
  {
   "cell_type": "code",
   "execution_count": 2449,
   "metadata": {},
   "outputs": [],
   "source": [
    "df_train = df_run[[\"query_id\", \"property\"]].merge(df[df.query_id.isin(trainIds)], how=\"right\", on=[\"query_id\", \"property\"])"
   ]
  },
  {
   "cell_type": "code",
   "execution_count": 2470,
   "metadata": {},
   "outputs": [
    {
     "name": "stdout",
     "output_type": "stream",
     "text": [
      "0.5238514072501347\n",
      "0.5347861565889339\n"
     ]
    }
   ],
   "source": [
    "res = []\n",
    "res2 = []\n",
    "# goodType = set([])\n",
    "for idx, row in df[['query_id', 'entity', 'action', 'entityType']].drop_duplicates().iterrows():\n",
    "    if row['query_id'] not in testIds:\n",
    "        continue\n",
    "    qrels = qrel[str(row['query_id'])]\n",
    "    cand_properties = type2prop[row['entityType']]\n",
    "    \n",
    "    rank = {}\n",
    "    for p in cand_properties:\n",
    "\n",
    "#         score = cosine_similarity([entity2vec[row['query_id']]], [propMS2vec[p]])[0][0]\n",
    "#         score = [cosine_similarity([i], [propMS2vec[p]])[0][0] for i in docMS2vec[row['query_id']]]\n",
    "#         rank[p] = score\n",
    "        if p not in row['entityType']:\n",
    "            rank[p] = 0\n",
    "        else:\n",
    "            rank[p] = popProp[row['entityType']][p]\n",
    "\n",
    "    rank = [i[0] for i in sorted(rank.items(), key=lambda x: x[1], reverse=True)][:20]\n",
    "    our = evaluate(qrels, rank)\n",
    "#     our = evaluate(qrels, cand_properties)\n",
    "    base = evaluate(qrels, list(run[\"1\"][str(row[\"query_id\"])].keys()))\n",
    "\n",
    "    res.append(our)\n",
    "    res2.append(base)\n",
    "print(np.mean(res))\n",
    "print(np.mean(res2))"
   ]
  },
  {
   "cell_type": "code",
   "execution_count": 2362,
   "metadata": {},
   "outputs": [],
   "source": [
    "from keras.models import Sequential\n",
    "from keras import Input, Model\n",
    "from keras.layers import GlobalMaxPooling1D, Dot, LSTM, Dense, Concatenate, Multiply\n",
    "\n",
    "class PairwiseModel():\n",
    "    def __init__(self):\n",
    "        q_inp = Input(shape=(100,))\n",
    "        t_inp = Input(shape=(100,))\n",
    "# #         embedding_layer = Dense(100, activation=\"linear\")\n",
    "#         q_emb = embedding_layer(q_inp)\n",
    "#         t_emb = embedding_layer(t_inp)\n",
    "    #     q_emb = lstm(embedding_layer(q_inp))\n",
    "    #     t_emb = lstm(embedding_layer(t_inp))\n",
    "        pred = Multiply()([q_inp, t_inp])\n",
    "#         pred = Multiply()([q_emb, t_emb])\n",
    "        dense = Dense(1, activation=\"sigmoid\")\n",
    "        pred = dense(pred)\n",
    "        self.model = Model([q_inp, t_inp], pred)\n",
    "\n",
    "        self.model.compile(loss='binary_crossentropy',\n",
    "                      optimizer='adam',\n",
    "                      metrics=['accuracy'])\n",
    "\n",
    "m = PairwiseModel()"
   ]
  },
  {
   "cell_type": "code",
   "execution_count": 2373,
   "metadata": {},
   "outputs": [],
   "source": [
    "from keras.layers import Input, Embedding, Dot, Subtract, Activation, SimpleRNN, Flatten, Lambda\n",
    "from keras.models import Model\n",
    "from keras import backend as K\n",
    "import numpy as np\n",
    "\n",
    "def bpr_triplet_loss(X):\n",
    "    positive_item_latent, negative_item_latent = X\n",
    "\n",
    "    loss = 1 - K.log(K.sigmoid(positive_item_latent - negative_item_latent))\n",
    "\n",
    "    return loss\n",
    "\n",
    "\n",
    "def identity_loss(y_true, y_pred):\n",
    "    return K.mean(y_pred - 0 * y_true)\n",
    "\n",
    "\n",
    "class BPR():\n",
    "    def __init__(self):\n",
    "\n",
    "        self.queryInput = Input(shape=(100,))\n",
    "        self.propPosInput = Input(shape=(100,))\n",
    "        self.propNegInput = Input(shape=(100,))\n",
    "\n",
    "        queryEmbeddingLayer = Dense(100, name=\"uEmb\")\n",
    "        propEmbeddingLayer = Dense(100, name=\"iEmb\")\n",
    "\n",
    "        self.qEmb = queryEmbeddingLayer(self.queryInput)\n",
    "        self.pEmb = propEmbeddingLayer(self.propPosInput)\n",
    "        self.nEmb = propEmbeddingLayer(self.propNegInput)\n",
    "\n",
    "        pDot = Dot(axes=-1)([self.qEmb, self.pEmb])\n",
    "        nDot = Dot(axes=-1)([self.qEmb, self.nEmb])\n",
    "        #\n",
    "        # diff = Subtract()([pDot, nDot])\n",
    "        #\n",
    "        lammbda_output = Lambda(bpr_triplet_loss, output_shape=(1,))\n",
    "        self.pred = lammbda_output([pDot, nDot])\n",
    "\n",
    "        self.model = Model(inputs=[self.queryInput, self.propPosInput, self.propNegInput], outputs=self.pred)\n",
    "\n",
    "        self.model.compile(optimizer=\"adam\", loss=identity_loss)\n",
    "        self.predictor = Model([self.queryInput, self.propPosInput], [pDot])\n",
    "model = BPR()"
   ]
  },
  {
   "cell_type": "code",
   "execution_count": 2363,
   "metadata": {},
   "outputs": [],
   "source": [
    "x_query = [entity2vec[i] for i in df[df.query_id.isin(trainIds)].query_id]\n",
    "x_prop = [propMS2vec[i] if i in propMS2vec else np.zeros(100) for i in df[df.query_id.isin(trainIds)].property]\n",
    "y = df[df.query_id.isin(trainIds)].rele_label.values"
   ]
  },
  {
   "cell_type": "code",
   "execution_count": 2367,
   "metadata": {},
   "outputs": [
    {
     "name": "stdout",
     "output_type": "stream",
     "text": [
      "0.4584756296210826\n",
      "0.44866069150007026\n",
      "111\n",
      "0.4601898985848593\n",
      "0.44866069150007026\n",
      "111\n",
      "0.4597240833255444\n",
      "0.44866069150007026\n",
      "111\n",
      "0.4584485044563727\n",
      "0.44866069150007026\n",
      "111\n",
      "0.4592697099296743\n",
      "0.44866069150007026\n",
      "111\n",
      "0.4592126712938601\n",
      "0.44866069150007026\n",
      "111\n",
      "0.45916535668859143\n",
      "0.44866069150007026\n",
      "111\n",
      "0.4579256456394781\n",
      "0.44866069150007026\n",
      "111\n",
      "0.45839349964250375\n",
      "0.44866069150007026\n",
      "111\n",
      "0.45925031941791855\n",
      "0.44866069150007026\n",
      "111\n",
      "0.4597902454216229\n",
      "0.44866069150007026\n",
      "111\n",
      "0.46077515342551656\n",
      "0.44866069150007026\n",
      "111\n",
      "0.46052600609332545\n",
      "0.44866069150007026\n",
      "111\n",
      "0.4604458214490861\n",
      "0.44866069150007026\n",
      "111\n",
      "0.46043371923957005\n",
      "0.44866069150007026\n",
      "111\n",
      "0.46049690008623656\n",
      "0.44866069150007026\n",
      "111\n",
      "0.4606618436776602\n",
      "0.44866069150007026\n",
      "111\n",
      "0.461124507647858\n",
      "0.44866069150007026\n",
      "111\n",
      "0.4624650811793885\n",
      "0.44866069150007026\n",
      "111\n",
      "0.4622547890272381\n",
      "0.44866069150007026\n",
      "111\n"
     ]
    }
   ],
   "source": [
    "for z in range(20):\n",
    "    m.model.fit([x_query, x_prop], y, verbose=0)\n",
    "    check(m)\n",
    "    "
   ]
  },
  {
   "cell_type": "code",
   "execution_count": 2416,
   "metadata": {},
   "outputs": [],
   "source": [
    "def check(m):\n",
    "    res = []\n",
    "    res2 = []\n",
    "    # goodType = set([])\n",
    "    for idx, row in df[['query_id', 'entity', 'action', 'entityType']].drop_duplicates().iterrows():\n",
    "        if row['query_id'] not in testIds:\n",
    "            continue\n",
    "\n",
    "        qrels = qrel[str(row['query_id'])]\n",
    "        cand_properties = list(runPropType[row['entityType']].keys())\n",
    "\n",
    "\n",
    "        if len(cand_properties) == 0:\n",
    "            continue\n",
    "        rank = {}\n",
    "        for p in cand_properties:\n",
    "            if p in unseen_prop:\n",
    "                continue\n",
    "\n",
    "    #         score = cosine_similarity(docMS2vec[row['query_id']], [propMS2vec[p]])[0][0]\n",
    "    #         score = [cosine_similarity([i], [propMS2vec[p]])[0][0] for i in docMS2vec[row['query_id']]]\n",
    "            rank[p] = m.model.predict([[entity2vec[row['query_id']]], [propMS2vec[p]]])[0][0]\n",
    "\n",
    "        rank = [i[0] for i in sorted(rank.items(), key=lambda x: x[1], reverse=True)][:20]\n",
    "        our = evaluate(qrels, rank)\n",
    "        base = evaluate(qrels, cand_properties)\n",
    "\n",
    "        res.append(our)\n",
    "        res2.append(base)\n",
    "    print(np.mean(res))\n",
    "    print(np.mean(res2))"
   ]
  },
  {
   "cell_type": "code",
   "execution_count": 2455,
   "metadata": {},
   "outputs": [],
   "source": [
    "from sklearn.model_selection import train_test_split\n",
    "\n",
    "popProp = collections.defaultdict(dict)\n",
    "runPropType = collections.defaultdict(dict)\n",
    "trainIds, testIds = [], []\n",
    "for name, group in df_train.groupby(\"entityType\"):\n",
    "    ids = group.query_id.unique().tolist()\n",
    "    if len(ids) < 2:\n",
    "        trainIds.extend(ids)\n",
    "        continue\n",
    "    train, test = train_test_split(np.array(ids), train_size=0.5, random_state=42)\n",
    "    trainIds.extend(train)\n",
    "    testIds.extend(test)\n",
    "#     kf = KFold(n_splits=2)\n",
    "#     kf.get_n_splits(ids)\n",
    "#     print(kf.split(ids))\n",
    "#     for train_index, test_index in kf.split(ids):\n",
    "#         print(train_index)\n",
    "#         print(test_index)\n",
    "#         print(ids)\n",
    "#         print(ids[[train_index]], ids[[test_index]])\n",
    "    for idx, row in group.iterrows():\n",
    "        if row['query_id'] in test:\n",
    "            continue\n",
    "        \n",
    "        if row['property'] not in popProp[name]:\n",
    "            popProp[name][row['property']] = 0\n",
    "        popProp[name][row['property']] += int(row['rele_label'])\n",
    "#         popProp[name][row['property']] = 1\n",
    "\n"
   ]
  },
  {
   "cell_type": "code",
   "execution_count": 2357,
   "metadata": {},
   "outputs": [],
   "source": [
    "# from sklearn.model_selection import KFold\n",
    "\n",
    "# print(kf)\n",
    "#     kf = KFold(n_splits=2)\n",
    "#     kf.get_n_splits(X)\n",
    "# for train_index, test_index in kf.split(X):\n",
    "#    print(\"TRAIN:\", train_index, \"TEST:\", test_index)\n",
    "#    X_train, X_test = X[train_index], X[test_index]\n",
    "#    y_train, y_test = y[train_index], y[test_index]"
   ]
  },
  {
   "cell_type": "code",
   "execution_count": 505,
   "metadata": {},
   "outputs": [],
   "source": [
    "topic_all_text = []\n",
    "for col in [\"property\", \"query\", \"entity\", \"entityType\", \"action\"]:\n",
    "    topic_all_text.extend(df[col].unique())"
   ]
  },
  {
   "cell_type": "code",
   "execution_count": 1197,
   "metadata": {},
   "outputs": [],
   "source": [
    "import nltk\n",
    "from nltk.corpus import stopwords\n",
    "stop_words = set(stopwords.words('english'))\n",
    "raw_text = [str(i) for i in wiki_all_text + topic_all_text + all_properties]\n",
    "# corpus = [w for w in \" \".join(corpus).split() if not w in stop_words]"
   ]
  },
  {
   "cell_type": "code",
   "execution_count": 1721,
   "metadata": {},
   "outputs": [],
   "source": [
    "import http.client, urllib.request, urllib.parse, urllib.error, base64\n",
    "import json\n",
    "\n",
    "def getVectors(queries):\n",
    "    headers = {\n",
    "        # Request headers\n",
    "        'Content-Type': 'application/json',\n",
    "        'Ocp-Apim-Subscription-Key': '924c1505854b4da4a6144a1cce92937f',\n",
    "    }\n",
    "\n",
    "    params = urllib.parse.urlencode({})\n",
    "    \n",
    "    try:\n",
    "        conn = http.client.HTTPSConnection('api.msturing.org')\n",
    "#         conn.request(\"POST\", \"/gen/encode?%s\" % params, '{\"queries\": [\"how to make gingerbread people (in grams)\", \"test AI\"]}', headers)\n",
    "        conn.request(\"POST\", \"/gen/encode?%s\" % params, str({\"queries\": queries}).replace(\"\\'\", \"\\\"\"), headers)\n",
    "        response = conn.getresponse()\n",
    "        data = response.read()\n",
    "        data = json.loads(data)\n",
    "        conn.close()\n",
    "    except Exception as e:\n",
    "#         print(data)\n",
    "        print(e)\n",
    "#         print(\"[Errno {0}] {1}\".format(e.errno, e.strerror))\n",
    "    \n",
    "    return {data[i]['query']:data[i]['vector'] for i in range(len(data))}"
   ]
  },
  {
   "cell_type": "code",
   "execution_count": 1186,
   "metadata": {},
   "outputs": [
    {
     "ename": "KeyError",
     "evalue": "'time'",
     "output_type": "error",
     "traceback": [
      "\u001b[0;31m---------------------------------------------------------------------------\u001b[0m",
      "\u001b[0;31mKeyError\u001b[0m                                  Traceback (most recent call last)",
      "\u001b[0;32m<ipython-input-1186-9c8c6a3714c6>\u001b[0m in \u001b[0;36m<module>\u001b[0;34m\u001b[0m\n\u001b[1;32m      1\u001b[0m \u001b[0;32mfrom\u001b[0m \u001b[0msklearn\u001b[0m\u001b[0;34m.\u001b[0m\u001b[0mmetrics\u001b[0m\u001b[0;34m.\u001b[0m\u001b[0mpairwise\u001b[0m \u001b[0;32mimport\u001b[0m \u001b[0mcosine_similarity\u001b[0m\u001b[0;34m\u001b[0m\u001b[0;34m\u001b[0m\u001b[0m\n\u001b[0;32m----> 2\u001b[0;31m \u001b[0mcosine_similarity\u001b[0m\u001b[0;34m(\u001b[0m\u001b[0;34m[\u001b[0m\u001b[0mdata\u001b[0m\u001b[0;34m[\u001b[0m\u001b[0;34m\"startTime\"\u001b[0m\u001b[0;34m]\u001b[0m\u001b[0;34m]\u001b[0m\u001b[0;34m,\u001b[0m \u001b[0;34m[\u001b[0m\u001b[0mdata\u001b[0m\u001b[0;34m[\u001b[0m\u001b[0;34m\"time\"\u001b[0m\u001b[0;34m]\u001b[0m\u001b[0;34m]\u001b[0m\u001b[0;34m)\u001b[0m\u001b[0;34m\u001b[0m\u001b[0;34m\u001b[0m\u001b[0m\n\u001b[0m",
      "\u001b[0;31mKeyError\u001b[0m: 'time'"
     ]
    }
   ],
   "source": [
    "from sklearn.metrics.pairwise import cosine_similarity\n",
    "cosine_similarity([data[\"startTime\"]], [data[\"time\"]])"
   ]
  },
  {
   "cell_type": "code",
   "execution_count": 2479,
   "metadata": {},
   "outputs": [
    {
     "name": "stdout",
     "output_type": "stream",
     "text": [
      "Found 218841 unique tokens.\n"
     ]
    }
   ],
   "source": [
    "def get_pretrain_embeddings(path, word_index, EMBEDDING_DIM=300):\n",
    "    MAX_NUM_WORDS = len(word_index)\n",
    "    BASE_DIR = path + 'data/'\n",
    "    GLOVE_DIR = os.path.join(BASE_DIR, 'w2v')\n",
    "    print('Indexing word vectors.')\n",
    "\n",
    "    embeddings_index = {}\n",
    "    with open(os.path.join(GLOVE_DIR, 'glove.6B.50d.txt'), encoding=\"utf-8\") as f:\n",
    "        for line in f:\n",
    "            word, coefs = line.split(maxsplit=1)\n",
    "            coefs = np.fromstring(coefs, 'f', sep=' ')\n",
    "            embeddings_index[word] = coefs\n",
    "\n",
    "    print('Found %s word vectors.' % len(embeddings_index))\n",
    "\n",
    "    print('Preparing embedding matrix.')\n",
    "\n",
    "    # prepare embedding matrix\n",
    "    num_words = min(MAX_NUM_WORDS, len(word_index)) + 1\n",
    "    embedding_matrix = np.zeros((num_words, EMBEDDING_DIM))\n",
    "    found = 0\n",
    "    for word, i in word_index.items():\n",
    "        if i > MAX_NUM_WORDS:\n",
    "            continue\n",
    "        embedding_vector = embeddings_index.get(word)\n",
    "        if embedding_vector is not None:\n",
    "            # words not found in embedding index will be all-zeros.\n",
    "            if embedding_vector.shape[0] == 0:\n",
    "                continue\n",
    "            embedding_matrix[i] = embedding_vector\n",
    "            found += 1\n",
    "\n",
    "    print(\"Token num: %d, Found Tokens: %d\" % (len(word_index), found))\n",
    "\n",
    "    # load pre-trained word embeddings into an Embedding layer\n",
    "    embedding_layer = Embedding(num_words,\n",
    "                                EMBEDDING_DIM,\n",
    "                                embeddings_initializer=Constant(embedding_matrix))\n",
    "\n",
    "    return embedding_layer"
   ]
  },
  {
   "cell_type": "code",
   "execution_count": 1349,
   "metadata": {},
   "outputs": [
    {
     "name": "stdout",
     "output_type": "stream",
     "text": [
      "Indexing word vectors.\n",
      "Found 1917494 word vectors.\n",
      "Preparing embedding matrix.\n",
      "Token num: 101910, Found Tokens: 69394\n"
     ]
    }
   ],
   "source": [
    "from Models import getDSSM, getRanker\n",
    "\n",
    "path = \"/Users/jarana/workspace/WikiHow-Task-Based/\"\n",
    "max_words = len(word_index)\n",
    "embedding_layer = get_pretrain_embeddings(path, word_index)"
   ]
  },
  {
   "cell_type": "code",
   "execution_count": 1789,
   "metadata": {},
   "outputs": [],
   "source": [
    "from keras.models import Sequential\n",
    "from keras import Input, Model\n",
    "from keras.layers import GlobalMaxPooling1D, Dot, LSTM, Dense, Concatenate\n",
    "\n",
    "\n",
    "def getDSSM(embedding_layer, MAX_SEQUENCE_LENGTH):\n",
    "\n",
    "    q_inp = Input(shape=(MAX_SEQUENCE_LENGTH,))\n",
    "    t_inp = Input(shape=(MAX_SEQUENCE_LENGTH,))\n",
    "#     lstm = LSTM(100)\n",
    "    q_emb = GlobalMaxPooling1D()(embedding_layer(q_inp))\n",
    "    t_emb = GlobalMaxPooling1D()(embedding_layer(t_inp))\n",
    "#     q_emb = lstm(embedding_layer(q_inp))\n",
    "#     t_emb = lstm(embedding_layer(t_inp))\n",
    "    pred = Dot(-1, normalize=True)([q_emb, t_emb])\n",
    "    model = Model([q_inp, t_inp], pred)\n",
    "\n",
    "    model.compile(loss='binary_crossentropy',\n",
    "                  optimizer='adam',\n",
    "                  metrics=['accuracy'])\n",
    "\n",
    "    return model\n",
    "MAX_SEQUENCE_LENGTH = int(np.mean([len(i.split()) for i in corpus]))\n",
    "model = getDSSM(embedding_layer, MAX_SEQUENCE_LENGTH)"
   ]
  },
  {
   "cell_type": "code",
   "execution_count": null,
   "metadata": {},
   "outputs": [],
   "source": [
    "x_task = pad_sequences(tokenizer.texts_to_sequences(data[\"t\"].tolist()), maxlen=MAX_SEQUENCE_LENGTH)\n",
    "x_query1 = pad_sequences(tokenizer.texts_to_sequences(data[\"q1\"].tolist()), maxlen=MAX_SEQUENCE_LENGTH)\n",
    "x_query2 = pad_sequences(tokenizer.texts_to_sequences(data[\"q2\"].tolist()), maxlen=MAX_SEQUENCE_LENGTH)\n",
    "y = np.array([[i,j] for i,j in zip(data.label1.values, data.label2.values)])"
   ]
  },
  {
   "cell_type": "code",
   "execution_count": 1912,
   "metadata": {},
   "outputs": [],
   "source": [
    "from pyNTCIREVAL import Labeler\n",
    "from pyNTCIREVAL.metrics import MSnDCG, nERR, nDCG\n",
    "\n",
    "def evaluate(qrels, ranked_list):\n",
    "    res = []\n",
    "    grades = [1,2,3,4] # a grade for relevance levels 1 and 2 (Note that level 0 is excluded)\n",
    "    labeler = Labeler(qrels)\n",
    "    labeled_ranked_list = labeler.label(ranked_list)\n",
    "    rel_level_num = 5\n",
    "    xrelnum = labeler.compute_per_level_doc_num(rel_level_num)\n",
    "    metric = MSnDCG(xrelnum, grades, cutoff=10)\n",
    "    result = metric.compute(labeled_ranked_list)\n",
    "    return result"
   ]
  },
  {
   "cell_type": "markdown",
   "metadata": {},
   "source": [
    "# Glove"
   ]
  },
  {
   "cell_type": "code",
   "execution_count": 1793,
   "metadata": {},
   "outputs": [
    {
     "name": "stdout",
     "output_type": "stream",
     "text": [
      "0.5076663049135386\n"
     ]
    }
   ],
   "source": [
    "res = []\n",
    "for idx, row in df[['query_id', 'entity', 'action']].drop_duplicates().iterrows():\n",
    "    qrels = qrel[str(row['query_id'])]\n",
    "    cand_properties = list(run['1'][str(row['query_id'])].keys())\n",
    "    \n",
    "    \n",
    "    query = row['action'] + \" \" +row['entity']\n",
    "    tokenized_query = query.split(\" \")\n",
    "    doc = bm25.get_top_n(tokenized_query, corpus, n=1)[0]\n",
    "#     print(qrels)\n",
    "#     print(cand_properties)\n",
    "#     cand_properties = list(run['1'][str(query2id[query])].keys())\n",
    "#     wikis = [str(i) for i in query2wiki[query][col].unique()]\n",
    "    x_wikis = pad_sequences(tokenizer.texts_to_sequences([doc]), maxlen=MAX_SEQUENCE_LENGTH)\n",
    "#     print(x_wikis)\n",
    "    rank = {}\n",
    "    for prop in cand_properties:\n",
    "#         x_props = pad_sequences(tokenizer.texts_to_sequences([row['entity']+ \" \" + row['action'] + \" \" + prop]), maxlen=MAX_SEQUENCE_LENGTH)\n",
    "        x_props = pad_sequences(tokenizer.texts_to_sequences([prop]), maxlen=MAX_SEQUENCE_LENGTH)\n",
    "#         x_props = pad_sequences(tokenizer.texts_to_sequences([prop]), maxlen=MAX_SEQUENCE_LENGTH)\n",
    "        rank[prop] = model.predict([x_props, x_wikis])[0][0]\n",
    "    rank = [i[0] for i in sorted(rank.items(), key=lambda x: x[1], reverse=True)]\n",
    "    \n",
    "    res.append(evaluate(qrels, rank))\n",
    "print(np.mean(res))"
   ]
  },
  {
   "cell_type": "code",
   "execution_count": 1423,
   "metadata": {},
   "outputs": [],
   "source": [
    "trainIds, testIds = [], []\n",
    "for name, group in df.groupby(\"entityType\"):\n",
    "    if group.query_id.nunique() > 1:\n",
    "        ids = list(group.query_id.unique())\n",
    "        mid = int(group.query_id.nunique() / 2)\n",
    "        trainIds.extend(ids[:mid])\n",
    "        testIds.extend(ids[mid:])\n",
    "    else:\n",
    "        ids = list(group.query_id.unique())\n",
    "        trainIds.extend(ids)"
   ]
  },
  {
   "cell_type": "code",
   "execution_count": 1497,
   "metadata": {},
   "outputs": [],
   "source": [
    "MAX_PROP_SEQUENCE_LENGTH = max([len(i.split()) for i in props])"
   ]
  },
  {
   "cell_type": "code",
   "execution_count": 1498,
   "metadata": {},
   "outputs": [],
   "source": [
    "from keras.models import Sequential\n",
    "from keras import Input, Model\n",
    "from keras.layers import GlobalMaxPooling1D, Dot, LSTM, Dense, Concatenate\n",
    "\n",
    "\n",
    "def getPropModel(embedding_layer, PROPERTY_NUN, MAX_QUERY_SEQUENCE_LENGTH, MAX_DOC_SEQUENCE_LENGTH, MAX_PROP_SEQUENCE_LENGTH):\n",
    "\n",
    "    q_inp = Input(shape=(MAX_QUERY_SEQUENCE_LENGTH,))\n",
    "    d_inp = Input(shape=(MAX_DOC_SEQUENCE_LENGTH,))\n",
    "    p_inp = Input(shape=(MAX_PROP_SEQUENCE_LENGTH,))\n",
    "    \n",
    "    \n",
    "    q_lstm = LSTM(100)\n",
    "    d_lstm = LSTM(100)\n",
    "#     q_emb = q_lstm(embedding_layer(q_inp))\n",
    "#     d_emb = d_lstm(embedding_layer(d_inp))\n",
    "    q_emb = GlobalMaxPooling1D()(embedding_layer(q_inp))\n",
    "    d_emb = GlobalMaxPooling1D()(embedding_layer(d_inp))\n",
    "    p_emb = GlobalMaxPooling1D()(embedding_layer(p_inp))\n",
    "    \n",
    "    concat = Concatenate()([q_emb, d_emb, p_emb])\n",
    "    dense = Dense(1, activation='sigmoid')\n",
    "    pred = dense(concat)\n",
    "    model = Model([q_inp, d_inp, p_inp], pred)\n",
    "\n",
    "    model.compile(loss='binary_crossentropy',\n",
    "                  optimizer='adam',\n",
    "                  metrics=['accuracy'])\n",
    "\n",
    "    return model"
   ]
  },
  {
   "cell_type": "code",
   "execution_count": 1425,
   "metadata": {},
   "outputs": [],
   "source": [
    "from keras.utils import to_categorical"
   ]
  },
  {
   "cell_type": "code",
   "execution_count": 1426,
   "metadata": {},
   "outputs": [],
   "source": [
    "prop2id = {j:i for i, j in zip(range(df.property.nunique()), df.property.unique())}\n",
    "id2prop = {i:j for i, j in zip(range(df.property.nunique()), df.property.unique())}"
   ]
  },
  {
   "cell_type": "code",
   "execution_count": 1427,
   "metadata": {},
   "outputs": [],
   "source": [
    "PROPERTY_NUN = df.property.nunique() \n"
   ]
  },
  {
   "cell_type": "code",
   "execution_count": 1428,
   "metadata": {},
   "outputs": [],
   "source": [
    "MAX_DOC_SEQUENCE_LENGTH = int(np.mean([len(i.split()) for i in corpus]))"
   ]
  },
  {
   "cell_type": "code",
   "execution_count": 1657,
   "metadata": {},
   "outputs": [],
   "source": [
    "def get_train_data():\n",
    "    train_id, train_query, train_prop, train_doc, train_y = [], [], [], [], []\n",
    "    test_id, test_query, test_prop, test_doc, test_y = [], [], [], [], []\n",
    "\n",
    "    for idx, row in tqdm(df[['query_id', 'entity', 'action']].drop_duplicates().iterrows()):\n",
    "\n",
    "    #     qrels = qrel[str(row['query_id'])]\n",
    "    #       convert prop to prop_id\n",
    "    #     label = to_categorical([prop2id[i] for i in list(qrels.keys())], num_classes=PROPERTY_NUN)\n",
    "    #     label = np.sum(label, axis=0)\n",
    "        label = 1\n",
    "\n",
    "        query = row['action'] + \" \" +row['entity']\n",
    "        tokenized_query = query.split(\" \")\n",
    "        doc = bm25.get_top_n(tokenized_query, corpus, n=1)[0]\n",
    "\n",
    "        x_query = pad_sequences(tokenizer.texts_to_sequences([query]), maxlen=MAX_QUERY_SEQUENCE_LENGTH)[0]\n",
    "        doc = pad_sequences(tokenizer.texts_to_sequences([doc]), maxlen=MAX_DOC_SEQUENCE_LENGTH)[0]\n",
    "\n",
    "        pos_props = [\" \".join(camel_case_split(i)) for i in df[df.query_id == row['query_id']].property.tolist()]\n",
    "        for pp in pos_props:\n",
    "            label = [1,0]\n",
    "            prop = pad_sequences(tokenizer.texts_to_sequences([pp]), maxlen=MAX_PROP_SEQUENCE_LENGTH)[0]\n",
    "\n",
    "            train_prop.append(prop) if row['query_id'] in trainIds else test_prop.append(prop)\n",
    "\n",
    "            neg_prop = random.sample(df.property.unique().tolist(), k=1)\n",
    "            while neg_prop in pos_props:\n",
    "                neg_prop = random.sample(df.property.unique().tolist(), k=1)\n",
    "            neg_prop = pad_sequences(tokenizer.texts_to_sequences([neg_prop]), maxlen=MAX_PROP_SEQUENCE_LENGTH)[0]\n",
    "            train_prop.append(neg_prop) if row['query_id'] in trainIds else test_prop.append(neg_prop)\n",
    "\n",
    "            for i in range(2):\n",
    "                train_query.append(x_query) if row['query_id'] in trainIds else test_query.append(x_query)\n",
    "                train_doc.append(doc) if row['query_id'] in trainIds else test_doc.append(doc)\n",
    "                train_id.append(row['query_id']) if row['query_id'] in trainIds else test_id.append(row['query_id'])\n",
    "\n",
    "            train_y.extend(label) if row['query_id'] in trainIds else test_y.extend(label)\n",
    "    #         rank = {}\n",
    "    #         for prop in cand_properties:\n",
    "    #             x_props = pad_sequences(tokenizer.texts_to_sequences([entity+ \" \" + action + \" \" + prop] * len(x_wikis)), maxlen=MAX_SEQUENCE_LENGTH)\n",
    "    #             rank[prop] = np.max(model.predict([x_props, x_wikis]))\n",
    "    #         rank = [i[0] for i in sorted(rank.items(), key=lambda x: x[1], reverse=True)]\n",
    "    #         res.append(evaluate(qrels, rank))\n",
    "    train_query = np.array(train_query)\n",
    "    train_doc = np.array(train_doc)\n",
    "    train_prop = np.array(train_prop)\n",
    "    train_y = np.array(train_y)\n",
    "    test_query = np.array(test_query)\n",
    "    test_doc = np.array(test_doc)\n",
    "    test_prop = np.array(test_prop)\n",
    "    test_y = np.array(test_y)\n",
    "    \n",
    "    return train_query, train_doc, train_prop, train_y, train_id, test_query, test_doc, test_prop, test_y, test_id\n"
   ]
  },
  {
   "cell_type": "code",
   "execution_count": 1658,
   "metadata": {},
   "outputs": [],
   "source": [
    "model = getPropModel(embedding_layer, PROPERTY_NUN, MAX_QUERY_SEQUENCE_LENGTH, MAX_DOC_SEQUENCE_LENGTH, MAX_PROP_SEQUENCE_LENGTH)\n"
   ]
  },
  {
   "cell_type": "code",
   "execution_count": 1659,
   "metadata": {},
   "outputs": [
    {
     "data": {
      "application/vnd.jupyter.widget-view+json": {
       "model_id": "61cdce8b6542432ca9c33aca244a9236",
       "version_major": 2,
       "version_minor": 0
      },
      "text/plain": [
       "HBox(children=(IntProgress(value=1, bar_style='info', max=1), HTML(value='')))"
      ]
     },
     "metadata": {},
     "output_type": "display_data"
    },
    {
     "name": "stdout",
     "output_type": "stream",
     "text": [
      "\n",
      "Train on 3878 samples, validate on 3714 samples\n",
      "Epoch 1/1\n",
      " - 47s - loss: 0.3834 - acc: 0.8118 - val_loss: 0.3175 - val_acc: 0.8253\n"
     ]
    },
    {
     "data": {
      "application/vnd.jupyter.widget-view+json": {
       "model_id": "b81fa41222b74674b43d021623af45ff",
       "version_major": 2,
       "version_minor": 0
      },
      "text/plain": [
       "HBox(children=(IntProgress(value=1, bar_style='info', max=1), HTML(value='')))"
      ]
     },
     "metadata": {},
     "output_type": "display_data"
    },
    {
     "name": "stdout",
     "output_type": "stream",
     "text": [
      "hit and run ['specialOpeningHoursSpecification', 'dateVehicleFirstRegistered', 'broadcastChannelId', 'openingHoursSpecification', 'globalLocationNumber', 'feesAndCommissionsSpecification', 'isAccessoryOrSparePartFor', 'vehicleModelDate', 'vehicleInteriorType', 'driveWheelConfiguration', 'productID', 'mainEntityOfPage', 'amenityFeature', 'vehicleIdentificationNumber', 'numberOfForwardGears', 'taxID', 'vehicleSeatingCapacity', 'previousStartDate', 'foundingDate', 'broadcastServiceTier']\n",
      "language acquisition ['specialOpeningHoursSpecification', 'dateVehicleFirstRegistered', 'broadcastChannelId', 'openingHoursSpecification', 'globalLocationNumber', 'feesAndCommissionsSpecification', 'isAccessoryOrSparePartFor', 'vehicleModelDate', 'vehicleInteriorType', 'driveWheelConfiguration', 'productID', 'mainEntityOfPage', 'amenityFeature', 'vehicleIdentificationNumber', 'numberOfForwardGears', 'taxID', 'vehicleSeatingCapacity', 'previousStartDate', 'foundingDate', 'broadcastServiceTier']\n",
      "mediation ['specialOpeningHoursSpecification', 'dateVehicleFirstRegistered', 'broadcastChannelId', 'openingHoursSpecification', 'globalLocationNumber', 'feesAndCommissionsSpecification', 'isAccessoryOrSparePartFor', 'vehicleModelDate', 'vehicleInteriorType', 'driveWheelConfiguration', 'productID', 'mainEntityOfPage', 'amenityFeature', 'vehicleIdentificationNumber', 'numberOfForwardGears', 'taxID', 'vehicleSeatingCapacity', 'previousStartDate', 'foundingDate', 'broadcastServiceTier']\n",
      "pull up ['specialOpeningHoursSpecification', 'dateVehicleFirstRegistered', 'broadcastChannelId', 'openingHoursSpecification', 'globalLocationNumber', 'feesAndCommissionsSpecification', 'isAccessoryOrSparePartFor', 'vehicleModelDate', 'vehicleInteriorType', 'driveWheelConfiguration', 'productID', 'mainEntityOfPage', 'amenityFeature', 'vehicleIdentificationNumber', 'numberOfForwardGears', 'taxID', 'vehicleSeatingCapacity', 'previousStartDate', 'foundingDate', 'broadcastServiceTier']\n",
      "spoofing attack ['specialOpeningHoursSpecification', 'dateVehicleFirstRegistered', 'broadcastChannelId', 'openingHoursSpecification', 'globalLocationNumber', 'feesAndCommissionsSpecification', 'isAccessoryOrSparePartFor', 'vehicleModelDate', 'vehicleInteriorType', 'driveWheelConfiguration', 'productID', 'mainEntityOfPage', 'amenityFeature', 'vehicleIdentificationNumber', 'numberOfForwardGears', 'taxID', 'vehicleSeatingCapacity', 'previousStartDate', 'foundingDate', 'broadcastServiceTier']\n",
      "spray painting ['specialOpeningHoursSpecification', 'dateVehicleFirstRegistered', 'broadcastChannelId', 'openingHoursSpecification', 'globalLocationNumber', 'feesAndCommissionsSpecification', 'isAccessoryOrSparePartFor', 'vehicleModelDate', 'vehicleInteriorType', 'driveWheelConfiguration', 'productID', 'mainEntityOfPage', 'amenityFeature', 'vehicleIdentificationNumber', 'numberOfForwardGears', 'taxID', 'vehicleSeatingCapacity', 'previousStartDate', 'foundingDate', 'broadcastServiceTier']\n",
      "translation ['specialOpeningHoursSpecification', 'dateVehicleFirstRegistered', 'broadcastChannelId', 'openingHoursSpecification', 'globalLocationNumber', 'feesAndCommissionsSpecification', 'isAccessoryOrSparePartFor', 'vehicleModelDate', 'vehicleInteriorType', 'driveWheelConfiguration', 'productID', 'mainEntityOfPage', 'amenityFeature', 'vehicleIdentificationNumber', 'numberOfForwardGears', 'taxID', 'vehicleSeatingCapacity', 'previousStartDate', 'foundingDate', 'broadcastServiceTier']\n",
      "run fast ['specialOpeningHoursSpecification', 'dateVehicleFirstRegistered', 'broadcastChannelId', 'openingHoursSpecification', 'globalLocationNumber', 'feesAndCommissionsSpecification', 'isAccessoryOrSparePartFor', 'vehicleModelDate', 'vehicleInteriorType', 'driveWheelConfiguration', 'productID', 'mainEntityOfPage', 'amenityFeature', 'vehicleIdentificationNumber', 'numberOfForwardGears', 'taxID', 'vehicleSeatingCapacity', 'previousStartDate', 'foundingDate', 'broadcastServiceTier']\n",
      "take on me ['specialOpeningHoursSpecification', 'dateVehicleFirstRegistered', 'broadcastChannelId', 'openingHoursSpecification', 'globalLocationNumber', 'feesAndCommissionsSpecification', 'isAccessoryOrSparePartFor', 'vehicleModelDate', 'vehicleInteriorType', 'driveWheelConfiguration', 'productID', 'mainEntityOfPage', 'amenityFeature', 'vehicleIdentificationNumber', 'numberOfForwardGears', 'taxID', 'vehicleSeatingCapacity', 'previousStartDate', 'foundingDate', 'broadcastServiceTier']\n",
      "the incredible hulk ['specialOpeningHoursSpecification', 'dateVehicleFirstRegistered', 'broadcastChannelId', 'openingHoursSpecification', 'globalLocationNumber', 'feesAndCommissionsSpecification', 'isAccessoryOrSparePartFor', 'vehicleModelDate', 'vehicleInteriorType', 'driveWheelConfiguration', 'productID', 'mainEntityOfPage', 'amenityFeature', 'vehicleIdentificationNumber', 'numberOfForwardGears', 'taxID', 'vehicleSeatingCapacity', 'previousStartDate', 'foundingDate', 'broadcastServiceTier']\n",
      "the paper ['specialOpeningHoursSpecification', 'dateVehicleFirstRegistered', 'broadcastChannelId', 'openingHoursSpecification', 'globalLocationNumber', 'feesAndCommissionsSpecification', 'isAccessoryOrSparePartFor', 'vehicleModelDate', 'vehicleInteriorType', 'driveWheelConfiguration', 'productID', 'mainEntityOfPage', 'amenityFeature', 'vehicleIdentificationNumber', 'numberOfForwardGears', 'taxID', 'vehicleSeatingCapacity', 'previousStartDate', 'foundingDate', 'broadcastServiceTier']\n",
      "the pyramid ['specialOpeningHoursSpecification', 'dateVehicleFirstRegistered', 'broadcastChannelId', 'openingHoursSpecification', 'globalLocationNumber', 'feesAndCommissionsSpecification', 'isAccessoryOrSparePartFor', 'vehicleModelDate', 'vehicleInteriorType', 'driveWheelConfiguration', 'productID', 'mainEntityOfPage', 'amenityFeature', 'vehicleIdentificationNumber', 'numberOfForwardGears', 'taxID', 'vehicleSeatingCapacity', 'previousStartDate', 'foundingDate', 'broadcastServiceTier']\n",
      "the sixth sense ['specialOpeningHoursSpecification', 'dateVehicleFirstRegistered', 'broadcastChannelId', 'openingHoursSpecification', 'globalLocationNumber', 'feesAndCommissionsSpecification', 'isAccessoryOrSparePartFor', 'vehicleModelDate', 'vehicleInteriorType', 'driveWheelConfiguration', 'productID', 'mainEntityOfPage', 'amenityFeature', 'vehicleIdentificationNumber', 'numberOfForwardGears', 'taxID', 'vehicleSeatingCapacity', 'previousStartDate', 'foundingDate', 'broadcastServiceTier']\n",
      "the tall man ['specialOpeningHoursSpecification', 'dateVehicleFirstRegistered', 'broadcastChannelId', 'openingHoursSpecification', 'globalLocationNumber', 'feesAndCommissionsSpecification', 'isAccessoryOrSparePartFor', 'vehicleModelDate', 'vehicleInteriorType', 'driveWheelConfiguration', 'productID', 'mainEntityOfPage', 'amenityFeature', 'vehicleIdentificationNumber', 'numberOfForwardGears', 'taxID', 'vehicleSeatingCapacity', 'previousStartDate', 'foundingDate', 'broadcastServiceTier']\n",
      "trust me ['specialOpeningHoursSpecification', 'dateVehicleFirstRegistered', 'broadcastChannelId', 'openingHoursSpecification', 'globalLocationNumber', 'feesAndCommissionsSpecification', 'isAccessoryOrSparePartFor', 'vehicleModelDate', 'vehicleInteriorType', 'driveWheelConfiguration', 'productID', 'mainEntityOfPage', 'amenityFeature', 'vehicleIdentificationNumber', 'numberOfForwardGears', 'taxID', 'vehicleSeatingCapacity', 'previousStartDate', 'foundingDate', 'broadcastServiceTier']\n",
      "porco rosso ['specialOpeningHoursSpecification', 'dateVehicleFirstRegistered', 'broadcastChannelId', 'openingHoursSpecification', 'globalLocationNumber', 'feesAndCommissionsSpecification', 'isAccessoryOrSparePartFor', 'vehicleModelDate', 'vehicleInteriorType', 'driveWheelConfiguration', 'productID', 'mainEntityOfPage', 'amenityFeature', 'vehicleIdentificationNumber', 'numberOfForwardGears', 'taxID', 'vehicleSeatingCapacity', 'previousStartDate', 'foundingDate', 'broadcastServiceTier']\n",
      "prom night ['specialOpeningHoursSpecification', 'dateVehicleFirstRegistered', 'broadcastChannelId', 'openingHoursSpecification', 'globalLocationNumber', 'feesAndCommissionsSpecification', 'isAccessoryOrSparePartFor', 'vehicleModelDate', 'vehicleInteriorType', 'driveWheelConfiguration', 'productID', 'mainEntityOfPage', 'amenityFeature', 'vehicleIdentificationNumber', 'numberOfForwardGears', 'taxID', 'vehicleSeatingCapacity', 'previousStartDate', 'foundingDate', 'broadcastServiceTier']\n"
     ]
    },
    {
     "name": "stdout",
     "output_type": "stream",
     "text": [
      "knowing ['specialOpeningHoursSpecification', 'dateVehicleFirstRegistered', 'broadcastChannelId', 'openingHoursSpecification', 'globalLocationNumber', 'feesAndCommissionsSpecification', 'isAccessoryOrSparePartFor', 'vehicleModelDate', 'vehicleInteriorType', 'driveWheelConfiguration', 'productID', 'mainEntityOfPage', 'amenityFeature', 'vehicleIdentificationNumber', 'numberOfForwardGears', 'taxID', 'vehicleSeatingCapacity', 'previousStartDate', 'foundingDate', 'broadcastServiceTier']\n",
      "krrish ['specialOpeningHoursSpecification', 'dateVehicleFirstRegistered', 'broadcastChannelId', 'openingHoursSpecification', 'globalLocationNumber', 'feesAndCommissionsSpecification', 'isAccessoryOrSparePartFor', 'vehicleModelDate', 'vehicleInteriorType', 'driveWheelConfiguration', 'productID', 'mainEntityOfPage', 'amenityFeature', 'vehicleIdentificationNumber', 'numberOfForwardGears', 'taxID', 'vehicleSeatingCapacity', 'previousStartDate', 'foundingDate', 'broadcastServiceTier']\n",
      "law & order: special victims unit ['specialOpeningHoursSpecification', 'dateVehicleFirstRegistered', 'broadcastChannelId', 'openingHoursSpecification', 'globalLocationNumber', 'feesAndCommissionsSpecification', 'isAccessoryOrSparePartFor', 'vehicleModelDate', 'vehicleInteriorType', 'driveWheelConfiguration', 'productID', 'mainEntityOfPage', 'amenityFeature', 'vehicleIdentificationNumber', 'numberOfForwardGears', 'taxID', 'vehicleSeatingCapacity', 'previousStartDate', 'foundingDate', 'broadcastServiceTier']\n",
      "lost season 3 ['specialOpeningHoursSpecification', 'dateVehicleFirstRegistered', 'broadcastChannelId', 'openingHoursSpecification', 'globalLocationNumber', 'feesAndCommissionsSpecification', 'isAccessoryOrSparePartFor', 'vehicleModelDate', 'vehicleInteriorType', 'driveWheelConfiguration', 'productID', 'mainEntityOfPage', 'amenityFeature', 'vehicleIdentificationNumber', 'numberOfForwardGears', 'taxID', 'vehicleSeatingCapacity', 'previousStartDate', 'foundingDate', 'broadcastServiceTier']\n",
      "mary poppins ['specialOpeningHoursSpecification', 'dateVehicleFirstRegistered', 'broadcastChannelId', 'openingHoursSpecification', 'globalLocationNumber', 'feesAndCommissionsSpecification', 'isAccessoryOrSparePartFor', 'vehicleModelDate', 'vehicleInteriorType', 'driveWheelConfiguration', 'productID', 'mainEntityOfPage', 'amenityFeature', 'vehicleIdentificationNumber', 'numberOfForwardGears', 'taxID', 'vehicleSeatingCapacity', 'previousStartDate', 'foundingDate', 'broadcastServiceTier']\n",
      "islamic terrorism ['specialOpeningHoursSpecification', 'dateVehicleFirstRegistered', 'broadcastChannelId', 'openingHoursSpecification', 'globalLocationNumber', 'feesAndCommissionsSpecification', 'isAccessoryOrSparePartFor', 'vehicleModelDate', 'vehicleInteriorType', 'driveWheelConfiguration', 'productID', 'mainEntityOfPage', 'amenityFeature', 'vehicleIdentificationNumber', 'numberOfForwardGears', 'taxID', 'vehicleSeatingCapacity', 'previousStartDate', 'foundingDate', 'broadcastServiceTier']\n",
      "live aid ['specialOpeningHoursSpecification', 'dateVehicleFirstRegistered', 'broadcastChannelId', 'openingHoursSpecification', 'globalLocationNumber', 'feesAndCommissionsSpecification', 'isAccessoryOrSparePartFor', 'vehicleModelDate', 'vehicleInteriorType', 'driveWheelConfiguration', 'productID', 'mainEntityOfPage', 'amenityFeature', 'vehicleIdentificationNumber', 'numberOfForwardGears', 'taxID', 'vehicleSeatingCapacity', 'previousStartDate', 'foundingDate', 'broadcastServiceTier']\n",
      "the exodus ['specialOpeningHoursSpecification', 'dateVehicleFirstRegistered', 'broadcastChannelId', 'openingHoursSpecification', 'globalLocationNumber', 'feesAndCommissionsSpecification', 'isAccessoryOrSparePartFor', 'vehicleModelDate', 'vehicleInteriorType', 'driveWheelConfiguration', 'productID', 'mainEntityOfPage', 'amenityFeature', 'vehicleIdentificationNumber', 'numberOfForwardGears', 'taxID', 'vehicleSeatingCapacity', 'previousStartDate', 'foundingDate', 'broadcastServiceTier']\n",
      "world war ii ['specialOpeningHoursSpecification', 'dateVehicleFirstRegistered', 'broadcastChannelId', 'openingHoursSpecification', 'globalLocationNumber', 'feesAndCommissionsSpecification', 'isAccessoryOrSparePartFor', 'vehicleModelDate', 'vehicleInteriorType', 'driveWheelConfiguration', 'productID', 'mainEntityOfPage', 'amenityFeature', 'vehicleIdentificationNumber', 'numberOfForwardGears', 'taxID', 'vehicleSeatingCapacity', 'previousStartDate', 'foundingDate', 'broadcastServiceTier']\n",
      "flood ['specialOpeningHoursSpecification', 'dateVehicleFirstRegistered', 'broadcastChannelId', 'openingHoursSpecification', 'globalLocationNumber', 'feesAndCommissionsSpecification', 'isAccessoryOrSparePartFor', 'vehicleModelDate', 'vehicleInteriorType', 'driveWheelConfiguration', 'productID', 'mainEntityOfPage', 'amenityFeature', 'vehicleIdentificationNumber', 'numberOfForwardGears', 'taxID', 'vehicleSeatingCapacity', 'previousStartDate', 'foundingDate', 'broadcastServiceTier']\n",
      "php ['specialOpeningHoursSpecification', 'dateVehicleFirstRegistered', 'broadcastChannelId', 'openingHoursSpecification', 'globalLocationNumber', 'feesAndCommissionsSpecification', 'isAccessoryOrSparePartFor', 'vehicleModelDate', 'vehicleInteriorType', 'driveWheelConfiguration', 'productID', 'mainEntityOfPage', 'amenityFeature', 'vehicleIdentificationNumber', 'numberOfForwardGears', 'taxID', 'vehicleSeatingCapacity', 'previousStartDate', 'foundingDate', 'broadcastServiceTier']\n",
      "environmentalism ['specialOpeningHoursSpecification', 'dateVehicleFirstRegistered', 'broadcastChannelId', 'openingHoursSpecification', 'globalLocationNumber', 'feesAndCommissionsSpecification', 'isAccessoryOrSparePartFor', 'vehicleModelDate', 'vehicleInteriorType', 'driveWheelConfiguration', 'productID', 'mainEntityOfPage', 'amenityFeature', 'vehicleIdentificationNumber', 'numberOfForwardGears', 'taxID', 'vehicleSeatingCapacity', 'previousStartDate', 'foundingDate', 'broadcastServiceTier']\n",
      "bibliography ['specialOpeningHoursSpecification', 'dateVehicleFirstRegistered', 'broadcastChannelId', 'openingHoursSpecification', 'globalLocationNumber', 'feesAndCommissionsSpecification', 'isAccessoryOrSparePartFor', 'vehicleModelDate', 'vehicleInteriorType', 'driveWheelConfiguration', 'productID', 'mainEntityOfPage', 'amenityFeature', 'vehicleIdentificationNumber', 'numberOfForwardGears', 'taxID', 'vehicleSeatingCapacity', 'previousStartDate', 'foundingDate', 'broadcastServiceTier']\n",
      "email box ['specialOpeningHoursSpecification', 'dateVehicleFirstRegistered', 'broadcastChannelId', 'openingHoursSpecification', 'globalLocationNumber', 'feesAndCommissionsSpecification', 'isAccessoryOrSparePartFor', 'vehicleModelDate', 'vehicleInteriorType', 'driveWheelConfiguration', 'productID', 'mainEntityOfPage', 'amenityFeature', 'vehicleIdentificationNumber', 'numberOfForwardGears', 'taxID', 'vehicleSeatingCapacity', 'previousStartDate', 'foundingDate', 'broadcastServiceTier']\n",
      "voip phone ['specialOpeningHoursSpecification', 'dateVehicleFirstRegistered', 'broadcastChannelId', 'openingHoursSpecification', 'globalLocationNumber', 'feesAndCommissionsSpecification', 'isAccessoryOrSparePartFor', 'vehicleModelDate', 'vehicleInteriorType', 'driveWheelConfiguration', 'productID', 'mainEntityOfPage', 'amenityFeature', 'vehicleIdentificationNumber', 'numberOfForwardGears', 'taxID', 'vehicleSeatingCapacity', 'previousStartDate', 'foundingDate', 'broadcastServiceTier']\n",
      "separation of church and state ['specialOpeningHoursSpecification', 'dateVehicleFirstRegistered', 'broadcastChannelId', 'openingHoursSpecification', 'globalLocationNumber', 'feesAndCommissionsSpecification', 'isAccessoryOrSparePartFor', 'vehicleModelDate', 'vehicleInteriorType', 'driveWheelConfiguration', 'productID', 'mainEntityOfPage', 'amenityFeature', 'vehicleIdentificationNumber', 'numberOfForwardGears', 'taxID', 'vehicleSeatingCapacity', 'previousStartDate', 'foundingDate', 'broadcastServiceTier']\n",
      "indian institute of technology joint entrance examination ['specialOpeningHoursSpecification', 'dateVehicleFirstRegistered', 'broadcastChannelId', 'openingHoursSpecification', 'globalLocationNumber', 'feesAndCommissionsSpecification', 'isAccessoryOrSparePartFor', 'vehicleModelDate', 'vehicleInteriorType', 'driveWheelConfiguration', 'productID', 'mainEntityOfPage', 'amenityFeature', 'vehicleIdentificationNumber', 'numberOfForwardGears', 'taxID', 'vehicleSeatingCapacity', 'previousStartDate', 'foundingDate', 'broadcastServiceTier']\n"
     ]
    },
    {
     "name": "stdout",
     "output_type": "stream",
     "text": [
      "history of television ['specialOpeningHoursSpecification', 'dateVehicleFirstRegistered', 'broadcastChannelId', 'openingHoursSpecification', 'globalLocationNumber', 'feesAndCommissionsSpecification', 'isAccessoryOrSparePartFor', 'vehicleModelDate', 'vehicleInteriorType', 'driveWheelConfiguration', 'productID', 'mainEntityOfPage', 'amenityFeature', 'vehicleIdentificationNumber', 'numberOfForwardGears', 'taxID', 'vehicleSeatingCapacity', 'previousStartDate', 'foundingDate', 'broadcastServiceTier']\n",
      "insomnia ['specialOpeningHoursSpecification', 'dateVehicleFirstRegistered', 'broadcastChannelId', 'openingHoursSpecification', 'globalLocationNumber', 'feesAndCommissionsSpecification', 'isAccessoryOrSparePartFor', 'vehicleModelDate', 'vehicleInteriorType', 'driveWheelConfiguration', 'productID', 'mainEntityOfPage', 'amenityFeature', 'vehicleIdentificationNumber', 'numberOfForwardGears', 'taxID', 'vehicleSeatingCapacity', 'previousStartDate', 'foundingDate', 'broadcastServiceTier']\n",
      "pubis ['specialOpeningHoursSpecification', 'dateVehicleFirstRegistered', 'broadcastChannelId', 'openingHoursSpecification', 'globalLocationNumber', 'feesAndCommissionsSpecification', 'isAccessoryOrSparePartFor', 'vehicleModelDate', 'vehicleInteriorType', 'driveWheelConfiguration', 'productID', 'mainEntityOfPage', 'amenityFeature', 'vehicleIdentificationNumber', 'numberOfForwardGears', 'taxID', 'vehicleSeatingCapacity', 'previousStartDate', 'foundingDate', 'broadcastServiceTier']\n",
      "respiratory system ['specialOpeningHoursSpecification', 'dateVehicleFirstRegistered', 'broadcastChannelId', 'openingHoursSpecification', 'globalLocationNumber', 'feesAndCommissionsSpecification', 'isAccessoryOrSparePartFor', 'vehicleModelDate', 'vehicleInteriorType', 'driveWheelConfiguration', 'productID', 'mainEntityOfPage', 'amenityFeature', 'vehicleIdentificationNumber', 'numberOfForwardGears', 'taxID', 'vehicleSeatingCapacity', 'previousStartDate', 'foundingDate', 'broadcastServiceTier']\n",
      "self-esteem ['specialOpeningHoursSpecification', 'dateVehicleFirstRegistered', 'broadcastChannelId', 'openingHoursSpecification', 'globalLocationNumber', 'feesAndCommissionsSpecification', 'isAccessoryOrSparePartFor', 'vehicleModelDate', 'vehicleInteriorType', 'driveWheelConfiguration', 'productID', 'mainEntityOfPage', 'amenityFeature', 'vehicleIdentificationNumber', 'numberOfForwardGears', 'taxID', 'vehicleSeatingCapacity', 'previousStartDate', 'foundingDate', 'broadcastServiceTier']\n",
      "shock ['specialOpeningHoursSpecification', 'dateVehicleFirstRegistered', 'broadcastChannelId', 'openingHoursSpecification', 'globalLocationNumber', 'feesAndCommissionsSpecification', 'isAccessoryOrSparePartFor', 'vehicleModelDate', 'vehicleInteriorType', 'driveWheelConfiguration', 'productID', 'mainEntityOfPage', 'amenityFeature', 'vehicleIdentificationNumber', 'numberOfForwardGears', 'taxID', 'vehicleSeatingCapacity', 'previousStartDate', 'foundingDate', 'broadcastServiceTier']\n",
      "skin ['specialOpeningHoursSpecification', 'dateVehicleFirstRegistered', 'broadcastChannelId', 'openingHoursSpecification', 'globalLocationNumber', 'feesAndCommissionsSpecification', 'isAccessoryOrSparePartFor', 'vehicleModelDate', 'vehicleInteriorType', 'driveWheelConfiguration', 'productID', 'mainEntityOfPage', 'amenityFeature', 'vehicleIdentificationNumber', 'numberOfForwardGears', 'taxID', 'vehicleSeatingCapacity', 'previousStartDate', 'foundingDate', 'broadcastServiceTier']\n",
      "speech disorder ['specialOpeningHoursSpecification', 'dateVehicleFirstRegistered', 'broadcastChannelId', 'openingHoursSpecification', 'globalLocationNumber', 'feesAndCommissionsSpecification', 'isAccessoryOrSparePartFor', 'vehicleModelDate', 'vehicleInteriorType', 'driveWheelConfiguration', 'productID', 'mainEntityOfPage', 'amenityFeature', 'vehicleIdentificationNumber', 'numberOfForwardGears', 'taxID', 'vehicleSeatingCapacity', 'previousStartDate', 'foundingDate', 'broadcastServiceTier']\n",
      "spinal muscular atrophy ['specialOpeningHoursSpecification', 'dateVehicleFirstRegistered', 'broadcastChannelId', 'openingHoursSpecification', 'globalLocationNumber', 'feesAndCommissionsSpecification', 'isAccessoryOrSparePartFor', 'vehicleModelDate', 'vehicleInteriorType', 'driveWheelConfiguration', 'productID', 'mainEntityOfPage', 'amenityFeature', 'vehicleIdentificationNumber', 'numberOfForwardGears', 'taxID', 'vehicleSeatingCapacity', 'previousStartDate', 'foundingDate', 'broadcastServiceTier']\n",
      "thyroid hormone ['specialOpeningHoursSpecification', 'dateVehicleFirstRegistered', 'broadcastChannelId', 'openingHoursSpecification', 'globalLocationNumber', 'feesAndCommissionsSpecification', 'isAccessoryOrSparePartFor', 'vehicleModelDate', 'vehicleInteriorType', 'driveWheelConfiguration', 'productID', 'mainEntityOfPage', 'amenityFeature', 'vehicleIdentificationNumber', 'numberOfForwardGears', 'taxID', 'vehicleSeatingCapacity', 'previousStartDate', 'foundingDate', 'broadcastServiceTier']\n",
      "urinary incontinence ['specialOpeningHoursSpecification', 'dateVehicleFirstRegistered', 'broadcastChannelId', 'openingHoursSpecification', 'globalLocationNumber', 'feesAndCommissionsSpecification', 'isAccessoryOrSparePartFor', 'vehicleModelDate', 'vehicleInteriorType', 'driveWheelConfiguration', 'productID', 'mainEntityOfPage', 'amenityFeature', 'vehicleIdentificationNumber', 'numberOfForwardGears', 'taxID', 'vehicleSeatingCapacity', 'previousStartDate', 'foundingDate', 'broadcastServiceTier']\n",
      "blood type ['specialOpeningHoursSpecification', 'dateVehicleFirstRegistered', 'broadcastChannelId', 'openingHoursSpecification', 'globalLocationNumber', 'feesAndCommissionsSpecification', 'isAccessoryOrSparePartFor', 'vehicleModelDate', 'vehicleInteriorType', 'driveWheelConfiguration', 'productID', 'mainEntityOfPage', 'amenityFeature', 'vehicleIdentificationNumber', 'numberOfForwardGears', 'taxID', 'vehicleSeatingCapacity', 'previousStartDate', 'foundingDate', 'broadcastServiceTier']\n",
      "ford motor company ['specialOpeningHoursSpecification', 'dateVehicleFirstRegistered', 'broadcastChannelId', 'openingHoursSpecification', 'globalLocationNumber', 'feesAndCommissionsSpecification', 'isAccessoryOrSparePartFor', 'vehicleModelDate', 'vehicleInteriorType', 'driveWheelConfiguration', 'productID', 'mainEntityOfPage', 'amenityFeature', 'vehicleIdentificationNumber', 'numberOfForwardGears', 'taxID', 'vehicleSeatingCapacity', 'previousStartDate', 'foundingDate', 'broadcastServiceTier']\n",
      "ibm ['specialOpeningHoursSpecification', 'dateVehicleFirstRegistered', 'broadcastChannelId', 'openingHoursSpecification', 'globalLocationNumber', 'feesAndCommissionsSpecification', 'isAccessoryOrSparePartFor', 'vehicleModelDate', 'vehicleInteriorType', 'driveWheelConfiguration', 'productID', 'mainEntityOfPage', 'amenityFeature', 'vehicleIdentificationNumber', 'numberOfForwardGears', 'taxID', 'vehicleSeatingCapacity', 'previousStartDate', 'foundingDate', 'broadcastServiceTier']\n",
      "isuzu motors ['specialOpeningHoursSpecification', 'dateVehicleFirstRegistered', 'broadcastChannelId', 'openingHoursSpecification', 'globalLocationNumber', 'feesAndCommissionsSpecification', 'isAccessoryOrSparePartFor', 'vehicleModelDate', 'vehicleInteriorType', 'driveWheelConfiguration', 'productID', 'mainEntityOfPage', 'amenityFeature', 'vehicleIdentificationNumber', 'numberOfForwardGears', 'taxID', 'vehicleSeatingCapacity', 'previousStartDate', 'foundingDate', 'broadcastServiceTier']\n",
      "los angeles lakers ['specialOpeningHoursSpecification', 'dateVehicleFirstRegistered', 'broadcastChannelId', 'openingHoursSpecification', 'globalLocationNumber', 'feesAndCommissionsSpecification', 'isAccessoryOrSparePartFor', 'vehicleModelDate', 'vehicleInteriorType', 'driveWheelConfiguration', 'productID', 'mainEntityOfPage', 'amenityFeature', 'vehicleIdentificationNumber', 'numberOfForwardGears', 'taxID', 'vehicleSeatingCapacity', 'previousStartDate', 'foundingDate', 'broadcastServiceTier']\n",
      "major league baseball ['specialOpeningHoursSpecification', 'dateVehicleFirstRegistered', 'broadcastChannelId', 'openingHoursSpecification', 'globalLocationNumber', 'feesAndCommissionsSpecification', 'isAccessoryOrSparePartFor', 'vehicleModelDate', 'vehicleInteriorType', 'driveWheelConfiguration', 'productID', 'mainEntityOfPage', 'amenityFeature', 'vehicleIdentificationNumber', 'numberOfForwardGears', 'taxID', 'vehicleSeatingCapacity', 'previousStartDate', 'foundingDate', 'broadcastServiceTier']\n"
     ]
    },
    {
     "name": "stdout",
     "output_type": "stream",
     "text": [
      "miami heat ['specialOpeningHoursSpecification', 'dateVehicleFirstRegistered', 'broadcastChannelId', 'openingHoursSpecification', 'globalLocationNumber', 'feesAndCommissionsSpecification', 'isAccessoryOrSparePartFor', 'vehicleModelDate', 'vehicleInteriorType', 'driveWheelConfiguration', 'productID', 'mainEntityOfPage', 'amenityFeature', 'vehicleIdentificationNumber', 'numberOfForwardGears', 'taxID', 'vehicleSeatingCapacity', 'previousStartDate', 'foundingDate', 'broadcastServiceTier']\n",
      "motorola ['specialOpeningHoursSpecification', 'dateVehicleFirstRegistered', 'broadcastChannelId', 'openingHoursSpecification', 'globalLocationNumber', 'feesAndCommissionsSpecification', 'isAccessoryOrSparePartFor', 'vehicleModelDate', 'vehicleInteriorType', 'driveWheelConfiguration', 'productID', 'mainEntityOfPage', 'amenityFeature', 'vehicleIdentificationNumber', 'numberOfForwardGears', 'taxID', 'vehicleSeatingCapacity', 'previousStartDate', 'foundingDate', 'broadcastServiceTier']\n",
      "nvidia ['specialOpeningHoursSpecification', 'dateVehicleFirstRegistered', 'broadcastChannelId', 'openingHoursSpecification', 'globalLocationNumber', 'feesAndCommissionsSpecification', 'isAccessoryOrSparePartFor', 'vehicleModelDate', 'vehicleInteriorType', 'driveWheelConfiguration', 'productID', 'mainEntityOfPage', 'amenityFeature', 'vehicleIdentificationNumber', 'numberOfForwardGears', 'taxID', 'vehicleSeatingCapacity', 'previousStartDate', 'foundingDate', 'broadcastServiceTier']\n",
      "pga tour ['specialOpeningHoursSpecification', 'dateVehicleFirstRegistered', 'broadcastChannelId', 'openingHoursSpecification', 'globalLocationNumber', 'feesAndCommissionsSpecification', 'isAccessoryOrSparePartFor', 'vehicleModelDate', 'vehicleInteriorType', 'driveWheelConfiguration', 'productID', 'mainEntityOfPage', 'amenityFeature', 'vehicleIdentificationNumber', 'numberOfForwardGears', 'taxID', 'vehicleSeatingCapacity', 'previousStartDate', 'foundingDate', 'broadcastServiceTier']\n",
      "tiscali ['specialOpeningHoursSpecification', 'dateVehicleFirstRegistered', 'broadcastChannelId', 'openingHoursSpecification', 'globalLocationNumber', 'feesAndCommissionsSpecification', 'isAccessoryOrSparePartFor', 'vehicleModelDate', 'vehicleInteriorType', 'driveWheelConfiguration', 'productID', 'mainEntityOfPage', 'amenityFeature', 'vehicleIdentificationNumber', 'numberOfForwardGears', 'taxID', 'vehicleSeatingCapacity', 'previousStartDate', 'foundingDate', 'broadcastServiceTier']\n",
      "visa inc. ['specialOpeningHoursSpecification', 'dateVehicleFirstRegistered', 'broadcastChannelId', 'openingHoursSpecification', 'globalLocationNumber', 'feesAndCommissionsSpecification', 'isAccessoryOrSparePartFor', 'vehicleModelDate', 'vehicleInteriorType', 'driveWheelConfiguration', 'productID', 'mainEntityOfPage', 'amenityFeature', 'vehicleIdentificationNumber', 'numberOfForwardGears', 'taxID', 'vehicleSeatingCapacity', 'previousStartDate', 'foundingDate', 'broadcastServiceTier']\n",
      "walmart ['specialOpeningHoursSpecification', 'dateVehicleFirstRegistered', 'broadcastChannelId', 'openingHoursSpecification', 'globalLocationNumber', 'feesAndCommissionsSpecification', 'isAccessoryOrSparePartFor', 'vehicleModelDate', 'vehicleInteriorType', 'driveWheelConfiguration', 'productID', 'mainEntityOfPage', 'amenityFeature', 'vehicleIdentificationNumber', 'numberOfForwardGears', 'taxID', 'vehicleSeatingCapacity', 'previousStartDate', 'foundingDate', 'broadcastServiceTier']\n",
      "johann sebastian bach ['specialOpeningHoursSpecification', 'dateVehicleFirstRegistered', 'broadcastChannelId', 'openingHoursSpecification', 'globalLocationNumber', 'feesAndCommissionsSpecification', 'isAccessoryOrSparePartFor', 'vehicleModelDate', 'vehicleInteriorType', 'driveWheelConfiguration', 'productID', 'mainEntityOfPage', 'amenityFeature', 'vehicleIdentificationNumber', 'numberOfForwardGears', 'taxID', 'vehicleSeatingCapacity', 'previousStartDate', 'foundingDate', 'broadcastServiceTier']\n",
      "kathy griffin ['specialOpeningHoursSpecification', 'dateVehicleFirstRegistered', 'broadcastChannelId', 'openingHoursSpecification', 'globalLocationNumber', 'feesAndCommissionsSpecification', 'isAccessoryOrSparePartFor', 'vehicleModelDate', 'vehicleInteriorType', 'driveWheelConfiguration', 'productID', 'mainEntityOfPage', 'amenityFeature', 'vehicleIdentificationNumber', 'numberOfForwardGears', 'taxID', 'vehicleSeatingCapacity', 'previousStartDate', 'foundingDate', 'broadcastServiceTier']\n",
      "luther vandross ['specialOpeningHoursSpecification', 'dateVehicleFirstRegistered', 'broadcastChannelId', 'openingHoursSpecification', 'globalLocationNumber', 'feesAndCommissionsSpecification', 'isAccessoryOrSparePartFor', 'vehicleModelDate', 'vehicleInteriorType', 'driveWheelConfiguration', 'productID', 'mainEntityOfPage', 'amenityFeature', 'vehicleIdentificationNumber', 'numberOfForwardGears', 'taxID', 'vehicleSeatingCapacity', 'previousStartDate', 'foundingDate', 'broadcastServiceTier']\n",
      "pope benedict xvi ['specialOpeningHoursSpecification', 'dateVehicleFirstRegistered', 'broadcastChannelId', 'openingHoursSpecification', 'globalLocationNumber', 'feesAndCommissionsSpecification', 'isAccessoryOrSparePartFor', 'vehicleModelDate', 'vehicleInteriorType', 'driveWheelConfiguration', 'productID', 'mainEntityOfPage', 'amenityFeature', 'vehicleIdentificationNumber', 'numberOfForwardGears', 'taxID', 'vehicleSeatingCapacity', 'previousStartDate', 'foundingDate', 'broadcastServiceTier']\n",
      "prince charming ['specialOpeningHoursSpecification', 'dateVehicleFirstRegistered', 'broadcastChannelId', 'openingHoursSpecification', 'globalLocationNumber', 'feesAndCommissionsSpecification', 'isAccessoryOrSparePartFor', 'vehicleModelDate', 'vehicleInteriorType', 'driveWheelConfiguration', 'productID', 'mainEntityOfPage', 'amenityFeature', 'vehicleIdentificationNumber', 'numberOfForwardGears', 'taxID', 'vehicleSeatingCapacity', 'previousStartDate', 'foundingDate', 'broadcastServiceTier']\n",
      "roger federer ['specialOpeningHoursSpecification', 'dateVehicleFirstRegistered', 'broadcastChannelId', 'openingHoursSpecification', 'globalLocationNumber', 'feesAndCommissionsSpecification', 'isAccessoryOrSparePartFor', 'vehicleModelDate', 'vehicleInteriorType', 'driveWheelConfiguration', 'productID', 'mainEntityOfPage', 'amenityFeature', 'vehicleIdentificationNumber', 'numberOfForwardGears', 'taxID', 'vehicleSeatingCapacity', 'previousStartDate', 'foundingDate', 'broadcastServiceTier']\n",
      "samuel beckett ['specialOpeningHoursSpecification', 'dateVehicleFirstRegistered', 'broadcastChannelId', 'openingHoursSpecification', 'globalLocationNumber', 'feesAndCommissionsSpecification', 'isAccessoryOrSparePartFor', 'vehicleModelDate', 'vehicleInteriorType', 'driveWheelConfiguration', 'productID', 'mainEntityOfPage', 'amenityFeature', 'vehicleIdentificationNumber', 'numberOfForwardGears', 'taxID', 'vehicleSeatingCapacity', 'previousStartDate', 'foundingDate', 'broadcastServiceTier']\n",
      "serena williams ['specialOpeningHoursSpecification', 'dateVehicleFirstRegistered', 'broadcastChannelId', 'openingHoursSpecification', 'globalLocationNumber', 'feesAndCommissionsSpecification', 'isAccessoryOrSparePartFor', 'vehicleModelDate', 'vehicleInteriorType', 'driveWheelConfiguration', 'productID', 'mainEntityOfPage', 'amenityFeature', 'vehicleIdentificationNumber', 'numberOfForwardGears', 'taxID', 'vehicleSeatingCapacity', 'previousStartDate', 'foundingDate', 'broadcastServiceTier']\n",
      "tink ['specialOpeningHoursSpecification', 'dateVehicleFirstRegistered', 'broadcastChannelId', 'openingHoursSpecification', 'globalLocationNumber', 'feesAndCommissionsSpecification', 'isAccessoryOrSparePartFor', 'vehicleModelDate', 'vehicleInteriorType', 'driveWheelConfiguration', 'productID', 'mainEntityOfPage', 'amenityFeature', 'vehicleIdentificationNumber', 'numberOfForwardGears', 'taxID', 'vehicleSeatingCapacity', 'previousStartDate', 'foundingDate', 'broadcastServiceTier']\n",
      "tony robbins ['specialOpeningHoursSpecification', 'dateVehicleFirstRegistered', 'broadcastChannelId', 'openingHoursSpecification', 'globalLocationNumber', 'feesAndCommissionsSpecification', 'isAccessoryOrSparePartFor', 'vehicleModelDate', 'vehicleInteriorType', 'driveWheelConfiguration', 'productID', 'mainEntityOfPage', 'amenityFeature', 'vehicleIdentificationNumber', 'numberOfForwardGears', 'taxID', 'vehicleSeatingCapacity', 'previousStartDate', 'foundingDate', 'broadcastServiceTier']\n"
     ]
    },
    {
     "name": "stdout",
     "output_type": "stream",
     "text": [
      "vin diesel ['specialOpeningHoursSpecification', 'dateVehicleFirstRegistered', 'broadcastChannelId', 'openingHoursSpecification', 'globalLocationNumber', 'feesAndCommissionsSpecification', 'isAccessoryOrSparePartFor', 'vehicleModelDate', 'vehicleInteriorType', 'driveWheelConfiguration', 'productID', 'mainEntityOfPage', 'amenityFeature', 'vehicleIdentificationNumber', 'numberOfForwardGears', 'taxID', 'vehicleSeatingCapacity', 'previousStartDate', 'foundingDate', 'broadcastServiceTier']\n",
      "kelowna ['specialOpeningHoursSpecification', 'dateVehicleFirstRegistered', 'broadcastChannelId', 'openingHoursSpecification', 'globalLocationNumber', 'feesAndCommissionsSpecification', 'isAccessoryOrSparePartFor', 'vehicleModelDate', 'vehicleInteriorType', 'driveWheelConfiguration', 'productID', 'mainEntityOfPage', 'amenityFeature', 'vehicleIdentificationNumber', 'numberOfForwardGears', 'taxID', 'vehicleSeatingCapacity', 'previousStartDate', 'foundingDate', 'broadcastServiceTier']\n",
      "melbourne ['specialOpeningHoursSpecification', 'dateVehicleFirstRegistered', 'broadcastChannelId', 'openingHoursSpecification', 'globalLocationNumber', 'feesAndCommissionsSpecification', 'isAccessoryOrSparePartFor', 'vehicleModelDate', 'vehicleInteriorType', 'driveWheelConfiguration', 'productID', 'mainEntityOfPage', 'amenityFeature', 'vehicleIdentificationNumber', 'numberOfForwardGears', 'taxID', 'vehicleSeatingCapacity', 'previousStartDate', 'foundingDate', 'broadcastServiceTier']\n",
      "mombasa ['specialOpeningHoursSpecification', 'dateVehicleFirstRegistered', 'broadcastChannelId', 'openingHoursSpecification', 'globalLocationNumber', 'feesAndCommissionsSpecification', 'isAccessoryOrSparePartFor', 'vehicleModelDate', 'vehicleInteriorType', 'driveWheelConfiguration', 'productID', 'mainEntityOfPage', 'amenityFeature', 'vehicleIdentificationNumber', 'numberOfForwardGears', 'taxID', 'vehicleSeatingCapacity', 'previousStartDate', 'foundingDate', 'broadcastServiceTier']\n",
      "north korea ['specialOpeningHoursSpecification', 'dateVehicleFirstRegistered', 'broadcastChannelId', 'openingHoursSpecification', 'globalLocationNumber', 'feesAndCommissionsSpecification', 'isAccessoryOrSparePartFor', 'vehicleModelDate', 'vehicleInteriorType', 'driveWheelConfiguration', 'productID', 'mainEntityOfPage', 'amenityFeature', 'vehicleIdentificationNumber', 'numberOfForwardGears', 'taxID', 'vehicleSeatingCapacity', 'previousStartDate', 'foundingDate', 'broadcastServiceTier']\n",
      "prague ['specialOpeningHoursSpecification', 'dateVehicleFirstRegistered', 'broadcastChannelId', 'openingHoursSpecification', 'globalLocationNumber', 'feesAndCommissionsSpecification', 'isAccessoryOrSparePartFor', 'vehicleModelDate', 'vehicleInteriorType', 'driveWheelConfiguration', 'productID', 'mainEntityOfPage', 'amenityFeature', 'vehicleIdentificationNumber', 'numberOfForwardGears', 'taxID', 'vehicleSeatingCapacity', 'previousStartDate', 'foundingDate', 'broadcastServiceTier']\n",
      "punta cana ['specialOpeningHoursSpecification', 'dateVehicleFirstRegistered', 'broadcastChannelId', 'openingHoursSpecification', 'globalLocationNumber', 'feesAndCommissionsSpecification', 'isAccessoryOrSparePartFor', 'vehicleModelDate', 'vehicleInteriorType', 'driveWheelConfiguration', 'productID', 'mainEntityOfPage', 'amenityFeature', 'vehicleIdentificationNumber', 'numberOfForwardGears', 'taxID', 'vehicleSeatingCapacity', 'previousStartDate', 'foundingDate', 'broadcastServiceTier']\n",
      "rocky mountains ['specialOpeningHoursSpecification', 'dateVehicleFirstRegistered', 'broadcastChannelId', 'openingHoursSpecification', 'globalLocationNumber', 'feesAndCommissionsSpecification', 'isAccessoryOrSparePartFor', 'vehicleModelDate', 'vehicleInteriorType', 'driveWheelConfiguration', 'productID', 'mainEntityOfPage', 'amenityFeature', 'vehicleIdentificationNumber', 'numberOfForwardGears', 'taxID', 'vehicleSeatingCapacity', 'previousStartDate', 'foundingDate', 'broadcastServiceTier']\n",
      "san francisco international airport ['specialOpeningHoursSpecification', 'dateVehicleFirstRegistered', 'broadcastChannelId', 'openingHoursSpecification', 'globalLocationNumber', 'feesAndCommissionsSpecification', 'isAccessoryOrSparePartFor', 'vehicleModelDate', 'vehicleInteriorType', 'driveWheelConfiguration', 'productID', 'mainEntityOfPage', 'amenityFeature', 'vehicleIdentificationNumber', 'numberOfForwardGears', 'taxID', 'vehicleSeatingCapacity', 'previousStartDate', 'foundingDate', 'broadcastServiceTier']\n",
      "saudi arabia ['specialOpeningHoursSpecification', 'dateVehicleFirstRegistered', 'broadcastChannelId', 'openingHoursSpecification', 'globalLocationNumber', 'feesAndCommissionsSpecification', 'isAccessoryOrSparePartFor', 'vehicleModelDate', 'vehicleInteriorType', 'driveWheelConfiguration', 'productID', 'mainEntityOfPage', 'amenityFeature', 'vehicleIdentificationNumber', 'numberOfForwardGears', 'taxID', 'vehicleSeatingCapacity', 'previousStartDate', 'foundingDate', 'broadcastServiceTier']\n",
      "south india ['specialOpeningHoursSpecification', 'dateVehicleFirstRegistered', 'broadcastChannelId', 'openingHoursSpecification', 'globalLocationNumber', 'feesAndCommissionsSpecification', 'isAccessoryOrSparePartFor', 'vehicleModelDate', 'vehicleInteriorType', 'driveWheelConfiguration', 'productID', 'mainEntityOfPage', 'amenityFeature', 'vehicleIdentificationNumber', 'numberOfForwardGears', 'taxID', 'vehicleSeatingCapacity', 'previousStartDate', 'foundingDate', 'broadcastServiceTier']\n",
      "sudan ['specialOpeningHoursSpecification', 'dateVehicleFirstRegistered', 'broadcastChannelId', 'openingHoursSpecification', 'globalLocationNumber', 'feesAndCommissionsSpecification', 'isAccessoryOrSparePartFor', 'vehicleModelDate', 'vehicleInteriorType', 'driveWheelConfiguration', 'productID', 'mainEntityOfPage', 'amenityFeature', 'vehicleIdentificationNumber', 'numberOfForwardGears', 'taxID', 'vehicleSeatingCapacity', 'previousStartDate', 'foundingDate', 'broadcastServiceTier']\n",
      "tehran ['specialOpeningHoursSpecification', 'dateVehicleFirstRegistered', 'broadcastChannelId', 'openingHoursSpecification', 'globalLocationNumber', 'feesAndCommissionsSpecification', 'isAccessoryOrSparePartFor', 'vehicleModelDate', 'vehicleInteriorType', 'driveWheelConfiguration', 'productID', 'mainEntityOfPage', 'amenityFeature', 'vehicleIdentificationNumber', 'numberOfForwardGears', 'taxID', 'vehicleSeatingCapacity', 'previousStartDate', 'foundingDate', 'broadcastServiceTier']\n",
      "times square ['specialOpeningHoursSpecification', 'dateVehicleFirstRegistered', 'broadcastChannelId', 'openingHoursSpecification', 'globalLocationNumber', 'feesAndCommissionsSpecification', 'isAccessoryOrSparePartFor', 'vehicleModelDate', 'vehicleInteriorType', 'driveWheelConfiguration', 'productID', 'mainEntityOfPage', 'amenityFeature', 'vehicleIdentificationNumber', 'numberOfForwardGears', 'taxID', 'vehicleSeatingCapacity', 'previousStartDate', 'foundingDate', 'broadcastServiceTier']\n",
      "trinidad and tobago ['specialOpeningHoursSpecification', 'dateVehicleFirstRegistered', 'broadcastChannelId', 'openingHoursSpecification', 'globalLocationNumber', 'feesAndCommissionsSpecification', 'isAccessoryOrSparePartFor', 'vehicleModelDate', 'vehicleInteriorType', 'driveWheelConfiguration', 'productID', 'mainEntityOfPage', 'amenityFeature', 'vehicleIdentificationNumber', 'numberOfForwardGears', 'taxID', 'vehicleSeatingCapacity', 'previousStartDate', 'foundingDate', 'broadcastServiceTier']\n",
      "west indies ['specialOpeningHoursSpecification', 'dateVehicleFirstRegistered', 'broadcastChannelId', 'openingHoursSpecification', 'globalLocationNumber', 'feesAndCommissionsSpecification', 'isAccessoryOrSparePartFor', 'vehicleModelDate', 'vehicleInteriorType', 'driveWheelConfiguration', 'productID', 'mainEntityOfPage', 'amenityFeature', 'vehicleIdentificationNumber', 'numberOfForwardGears', 'taxID', 'vehicleSeatingCapacity', 'previousStartDate', 'foundingDate', 'broadcastServiceTier']\n",
      "jet ski ['specialOpeningHoursSpecification', 'dateVehicleFirstRegistered', 'broadcastChannelId', 'openingHoursSpecification', 'globalLocationNumber', 'feesAndCommissionsSpecification', 'isAccessoryOrSparePartFor', 'vehicleModelDate', 'vehicleInteriorType', 'driveWheelConfiguration', 'productID', 'mainEntityOfPage', 'amenityFeature', 'vehicleIdentificationNumber', 'numberOfForwardGears', 'taxID', 'vehicleSeatingCapacity', 'previousStartDate', 'foundingDate', 'broadcastServiceTier']\n"
     ]
    },
    {
     "name": "stdout",
     "output_type": "stream",
     "text": [
      "laundry detergent ['specialOpeningHoursSpecification', 'dateVehicleFirstRegistered', 'broadcastChannelId', 'openingHoursSpecification', 'globalLocationNumber', 'feesAndCommissionsSpecification', 'isAccessoryOrSparePartFor', 'vehicleModelDate', 'vehicleInteriorType', 'driveWheelConfiguration', 'productID', 'mainEntityOfPage', 'amenityFeature', 'vehicleIdentificationNumber', 'numberOfForwardGears', 'taxID', 'vehicleSeatingCapacity', 'previousStartDate', 'foundingDate', 'broadcastServiceTier']\n",
      "lincoln town car ['specialOpeningHoursSpecification', 'dateVehicleFirstRegistered', 'broadcastChannelId', 'openingHoursSpecification', 'globalLocationNumber', 'feesAndCommissionsSpecification', 'isAccessoryOrSparePartFor', 'vehicleModelDate', 'vehicleInteriorType', 'driveWheelConfiguration', 'productID', 'mainEntityOfPage', 'amenityFeature', 'vehicleIdentificationNumber', 'numberOfForwardGears', 'taxID', 'vehicleSeatingCapacity', 'previousStartDate', 'foundingDate', 'broadcastServiceTier']\n",
      "macbook pro ['specialOpeningHoursSpecification', 'dateVehicleFirstRegistered', 'broadcastChannelId', 'openingHoursSpecification', 'globalLocationNumber', 'feesAndCommissionsSpecification', 'isAccessoryOrSparePartFor', 'vehicleModelDate', 'vehicleInteriorType', 'driveWheelConfiguration', 'productID', 'mainEntityOfPage', 'amenityFeature', 'vehicleIdentificationNumber', 'numberOfForwardGears', 'taxID', 'vehicleSeatingCapacity', 'previousStartDate', 'foundingDate', 'broadcastServiceTier']\n",
      "marmite ['specialOpeningHoursSpecification', 'dateVehicleFirstRegistered', 'broadcastChannelId', 'openingHoursSpecification', 'globalLocationNumber', 'feesAndCommissionsSpecification', 'isAccessoryOrSparePartFor', 'vehicleModelDate', 'vehicleInteriorType', 'driveWheelConfiguration', 'productID', 'mainEntityOfPage', 'amenityFeature', 'vehicleIdentificationNumber', 'numberOfForwardGears', 'taxID', 'vehicleSeatingCapacity', 'previousStartDate', 'foundingDate', 'broadcastServiceTier']\n",
      "mentos ['specialOpeningHoursSpecification', 'dateVehicleFirstRegistered', 'broadcastChannelId', 'openingHoursSpecification', 'globalLocationNumber', 'feesAndCommissionsSpecification', 'isAccessoryOrSparePartFor', 'vehicleModelDate', 'vehicleInteriorType', 'driveWheelConfiguration', 'productID', 'mainEntityOfPage', 'amenityFeature', 'vehicleIdentificationNumber', 'numberOfForwardGears', 'taxID', 'vehicleSeatingCapacity', 'previousStartDate', 'foundingDate', 'broadcastServiceTier']\n",
      "metal gear solid ['specialOpeningHoursSpecification', 'dateVehicleFirstRegistered', 'broadcastChannelId', 'openingHoursSpecification', 'globalLocationNumber', 'feesAndCommissionsSpecification', 'isAccessoryOrSparePartFor', 'vehicleModelDate', 'vehicleInteriorType', 'driveWheelConfiguration', 'productID', 'mainEntityOfPage', 'amenityFeature', 'vehicleIdentificationNumber', 'numberOfForwardGears', 'taxID', 'vehicleSeatingCapacity', 'previousStartDate', 'foundingDate', 'broadcastServiceTier']\n",
      "nutella ['specialOpeningHoursSpecification', 'dateVehicleFirstRegistered', 'broadcastChannelId', 'openingHoursSpecification', 'globalLocationNumber', 'feesAndCommissionsSpecification', 'isAccessoryOrSparePartFor', 'vehicleModelDate', 'vehicleInteriorType', 'driveWheelConfiguration', 'productID', 'mainEntityOfPage', 'amenityFeature', 'vehicleIdentificationNumber', 'numberOfForwardGears', 'taxID', 'vehicleSeatingCapacity', 'previousStartDate', 'foundingDate', 'broadcastServiceTier']\n",
      "pocket watch ['specialOpeningHoursSpecification', 'dateVehicleFirstRegistered', 'broadcastChannelId', 'openingHoursSpecification', 'globalLocationNumber', 'feesAndCommissionsSpecification', 'isAccessoryOrSparePartFor', 'vehicleModelDate', 'vehicleInteriorType', 'driveWheelConfiguration', 'productID', 'mainEntityOfPage', 'amenityFeature', 'vehicleIdentificationNumber', 'numberOfForwardGears', 'taxID', 'vehicleSeatingCapacity', 'previousStartDate', 'foundingDate', 'broadcastServiceTier']\n",
      "porsche 911 ['specialOpeningHoursSpecification', 'dateVehicleFirstRegistered', 'broadcastChannelId', 'openingHoursSpecification', 'globalLocationNumber', 'feesAndCommissionsSpecification', 'isAccessoryOrSparePartFor', 'vehicleModelDate', 'vehicleInteriorType', 'driveWheelConfiguration', 'productID', 'mainEntityOfPage', 'amenityFeature', 'vehicleIdentificationNumber', 'numberOfForwardGears', 'taxID', 'vehicleSeatingCapacity', 'previousStartDate', 'foundingDate', 'broadcastServiceTier']\n",
      "replacement window ['specialOpeningHoursSpecification', 'dateVehicleFirstRegistered', 'broadcastChannelId', 'openingHoursSpecification', 'globalLocationNumber', 'feesAndCommissionsSpecification', 'isAccessoryOrSparePartFor', 'vehicleModelDate', 'vehicleInteriorType', 'driveWheelConfiguration', 'productID', 'mainEntityOfPage', 'amenityFeature', 'vehicleIdentificationNumber', 'numberOfForwardGears', 'taxID', 'vehicleSeatingCapacity', 'previousStartDate', 'foundingDate', 'broadcastServiceTier']\n",
      "stained glass ['specialOpeningHoursSpecification', 'dateVehicleFirstRegistered', 'broadcastChannelId', 'openingHoursSpecification', 'globalLocationNumber', 'feesAndCommissionsSpecification', 'isAccessoryOrSparePartFor', 'vehicleModelDate', 'vehicleInteriorType', 'driveWheelConfiguration', 'productID', 'mainEntityOfPage', 'amenityFeature', 'vehicleIdentificationNumber', 'numberOfForwardGears', 'taxID', 'vehicleSeatingCapacity', 'previousStartDate', 'foundingDate', 'broadcastServiceTier']\n",
      "automotive battery ['specialOpeningHoursSpecification', 'dateVehicleFirstRegistered', 'broadcastChannelId', 'openingHoursSpecification', 'globalLocationNumber', 'feesAndCommissionsSpecification', 'isAccessoryOrSparePartFor', 'vehicleModelDate', 'vehicleInteriorType', 'driveWheelConfiguration', 'productID', 'mainEntityOfPage', 'amenityFeature', 'vehicleIdentificationNumber', 'numberOfForwardGears', 'taxID', 'vehicleSeatingCapacity', 'previousStartDate', 'foundingDate', 'broadcastServiceTier']\n",
      "banana bread ['specialOpeningHoursSpecification', 'dateVehicleFirstRegistered', 'broadcastChannelId', 'openingHoursSpecification', 'globalLocationNumber', 'feesAndCommissionsSpecification', 'isAccessoryOrSparePartFor', 'vehicleModelDate', 'vehicleInteriorType', 'driveWheelConfiguration', 'productID', 'mainEntityOfPage', 'amenityFeature', 'vehicleIdentificationNumber', 'numberOfForwardGears', 'taxID', 'vehicleSeatingCapacity', 'previousStartDate', 'foundingDate', 'broadcastServiceTier']\n",
      "barbecue sauce ['specialOpeningHoursSpecification', 'dateVehicleFirstRegistered', 'broadcastChannelId', 'openingHoursSpecification', 'globalLocationNumber', 'feesAndCommissionsSpecification', 'isAccessoryOrSparePartFor', 'vehicleModelDate', 'vehicleInteriorType', 'driveWheelConfiguration', 'productID', 'mainEntityOfPage', 'amenityFeature', 'vehicleIdentificationNumber', 'numberOfForwardGears', 'taxID', 'vehicleSeatingCapacity', 'previousStartDate', 'foundingDate', 'broadcastServiceTier']\n",
      "camcorder ['specialOpeningHoursSpecification', 'dateVehicleFirstRegistered', 'broadcastChannelId', 'openingHoursSpecification', 'globalLocationNumber', 'feesAndCommissionsSpecification', 'isAccessoryOrSparePartFor', 'vehicleModelDate', 'vehicleInteriorType', 'driveWheelConfiguration', 'productID', 'mainEntityOfPage', 'amenityFeature', 'vehicleIdentificationNumber', 'numberOfForwardGears', 'taxID', 'vehicleSeatingCapacity', 'previousStartDate', 'foundingDate', 'broadcastServiceTier']\n",
      "central heating ['specialOpeningHoursSpecification', 'dateVehicleFirstRegistered', 'broadcastChannelId', 'openingHoursSpecification', 'globalLocationNumber', 'feesAndCommissionsSpecification', 'isAccessoryOrSparePartFor', 'vehicleModelDate', 'vehicleInteriorType', 'driveWheelConfiguration', 'productID', 'mainEntityOfPage', 'amenityFeature', 'vehicleIdentificationNumber', 'numberOfForwardGears', 'taxID', 'vehicleSeatingCapacity', 'previousStartDate', 'foundingDate', 'broadcastServiceTier']\n",
      "chardonnay ['specialOpeningHoursSpecification', 'dateVehicleFirstRegistered', 'broadcastChannelId', 'openingHoursSpecification', 'globalLocationNumber', 'feesAndCommissionsSpecification', 'isAccessoryOrSparePartFor', 'vehicleModelDate', 'vehicleInteriorType', 'driveWheelConfiguration', 'productID', 'mainEntityOfPage', 'amenityFeature', 'vehicleIdentificationNumber', 'numberOfForwardGears', 'taxID', 'vehicleSeatingCapacity', 'previousStartDate', 'foundingDate', 'broadcastServiceTier']\n"
     ]
    },
    {
     "name": "stdout",
     "output_type": "stream",
     "text": [
      "eye shadow ['specialOpeningHoursSpecification', 'dateVehicleFirstRegistered', 'broadcastChannelId', 'openingHoursSpecification', 'globalLocationNumber', 'feesAndCommissionsSpecification', 'isAccessoryOrSparePartFor', 'vehicleModelDate', 'vehicleInteriorType', 'driveWheelConfiguration', 'productID', 'mainEntityOfPage', 'amenityFeature', 'vehicleIdentificationNumber', 'numberOfForwardGears', 'taxID', 'vehicleSeatingCapacity', 'previousStartDate', 'foundingDate', 'broadcastServiceTier']\n",
      "eyelash extensions ['specialOpeningHoursSpecification', 'dateVehicleFirstRegistered', 'broadcastChannelId', 'openingHoursSpecification', 'globalLocationNumber', 'feesAndCommissionsSpecification', 'isAccessoryOrSparePartFor', 'vehicleModelDate', 'vehicleInteriorType', 'driveWheelConfiguration', 'productID', 'mainEntityOfPage', 'amenityFeature', 'vehicleIdentificationNumber', 'numberOfForwardGears', 'taxID', 'vehicleSeatingCapacity', 'previousStartDate', 'foundingDate', 'broadcastServiceTier']\n",
      "lacquer ['specialOpeningHoursSpecification', 'dateVehicleFirstRegistered', 'broadcastChannelId', 'openingHoursSpecification', 'globalLocationNumber', 'feesAndCommissionsSpecification', 'isAccessoryOrSparePartFor', 'vehicleModelDate', 'vehicleInteriorType', 'driveWheelConfiguration', 'productID', 'mainEntityOfPage', 'amenityFeature', 'vehicleIdentificationNumber', 'numberOfForwardGears', 'taxID', 'vehicleSeatingCapacity', 'previousStartDate', 'foundingDate', 'broadcastServiceTier']\n",
      "lockheed c-5 galaxy ['specialOpeningHoursSpecification', 'dateVehicleFirstRegistered', 'broadcastChannelId', 'openingHoursSpecification', 'globalLocationNumber', 'feesAndCommissionsSpecification', 'isAccessoryOrSparePartFor', 'vehicleModelDate', 'vehicleInteriorType', 'driveWheelConfiguration', 'productID', 'mainEntityOfPage', 'amenityFeature', 'vehicleIdentificationNumber', 'numberOfForwardGears', 'taxID', 'vehicleSeatingCapacity', 'previousStartDate', 'foundingDate', 'broadcastServiceTier']\n",
      "mason jar ['specialOpeningHoursSpecification', 'dateVehicleFirstRegistered', 'broadcastChannelId', 'openingHoursSpecification', 'globalLocationNumber', 'feesAndCommissionsSpecification', 'isAccessoryOrSparePartFor', 'vehicleModelDate', 'vehicleInteriorType', 'driveWheelConfiguration', 'productID', 'mainEntityOfPage', 'amenityFeature', 'vehicleIdentificationNumber', 'numberOfForwardGears', 'taxID', 'vehicleSeatingCapacity', 'previousStartDate', 'foundingDate', 'broadcastServiceTier']\n",
      "refrigerator ['specialOpeningHoursSpecification', 'dateVehicleFirstRegistered', 'broadcastChannelId', 'openingHoursSpecification', 'globalLocationNumber', 'feesAndCommissionsSpecification', 'isAccessoryOrSparePartFor', 'vehicleModelDate', 'vehicleInteriorType', 'driveWheelConfiguration', 'productID', 'mainEntityOfPage', 'amenityFeature', 'vehicleIdentificationNumber', 'numberOfForwardGears', 'taxID', 'vehicleSeatingCapacity', 'previousStartDate', 'foundingDate', 'broadcastServiceTier']\n",
      "submarine sandwich ['specialOpeningHoursSpecification', 'dateVehicleFirstRegistered', 'broadcastChannelId', 'openingHoursSpecification', 'globalLocationNumber', 'feesAndCommissionsSpecification', 'isAccessoryOrSparePartFor', 'vehicleModelDate', 'vehicleInteriorType', 'driveWheelConfiguration', 'productID', 'mainEntityOfPage', 'amenityFeature', 'vehicleIdentificationNumber', 'numberOfForwardGears', 'taxID', 'vehicleSeatingCapacity', 'previousStartDate', 'foundingDate', 'broadcastServiceTier']\n",
      "volkswagen passat ['specialOpeningHoursSpecification', 'dateVehicleFirstRegistered', 'broadcastChannelId', 'openingHoursSpecification', 'globalLocationNumber', 'feesAndCommissionsSpecification', 'isAccessoryOrSparePartFor', 'vehicleModelDate', 'vehicleInteriorType', 'driveWheelConfiguration', 'productID', 'mainEntityOfPage', 'amenityFeature', 'vehicleIdentificationNumber', 'numberOfForwardGears', 'taxID', 'vehicleSeatingCapacity', 'previousStartDate', 'foundingDate', 'broadcastServiceTier']\n",
      "apple cider ['specialOpeningHoursSpecification', 'dateVehicleFirstRegistered', 'broadcastChannelId', 'openingHoursSpecification', 'globalLocationNumber', 'feesAndCommissionsSpecification', 'isAccessoryOrSparePartFor', 'vehicleModelDate', 'vehicleInteriorType', 'driveWheelConfiguration', 'productID', 'mainEntityOfPage', 'amenityFeature', 'vehicleIdentificationNumber', 'numberOfForwardGears', 'taxID', 'vehicleSeatingCapacity', 'previousStartDate', 'foundingDate', 'broadcastServiceTier']\n",
      "\n",
      "0.03620315773130998\n"
     ]
    },
    {
     "data": {
      "application/vnd.jupyter.widget-view+json": {
       "model_id": "55ad80aa271e4117a0691ccc398465f5",
       "version_major": 2,
       "version_minor": 0
      },
      "text/plain": [
       "HBox(children=(IntProgress(value=1, bar_style='info', max=1), HTML(value='')))"
      ]
     },
     "metadata": {},
     "output_type": "display_data"
    },
    {
     "name": "stdout",
     "output_type": "stream",
     "text": [
      "\n",
      "Train on 3878 samples, validate on 3714 samples\n",
      "Epoch 1/1\n",
      " - 43s - loss: 0.3028 - acc: 0.8515 - val_loss: 0.2823 - val_acc: 0.8479\n"
     ]
    },
    {
     "data": {
      "application/vnd.jupyter.widget-view+json": {
       "model_id": "3ffd0edd370e4d95a7030cfd9c9a68a7",
       "version_major": 2,
       "version_minor": 0
      },
      "text/plain": [
       "HBox(children=(IntProgress(value=1, bar_style='info', max=1), HTML(value='')))"
      ]
     },
     "metadata": {},
     "output_type": "display_data"
    },
    {
     "name": "stdout",
     "output_type": "stream",
     "text": [
      "hit and run ['specialOpeningHoursSpecification', 'dateVehicleFirstRegistered', 'broadcastChannelId', 'openingHoursSpecification', 'vehicleModelDate', 'isAccessoryOrSparePartFor', 'globalLocationNumber', 'feesAndCommissionsSpecification', 'vehicleInteriorType', 'driveWheelConfiguration', 'vehicleSeatingCapacity', 'productID', 'amenityFeature', 'vehicleIdentificationNumber', 'relatedCondition', 'mainEntityOfPage', 'vehicleInteriorColor', 'taxID', 'numberOfForwardGears', 'additionalType']\n",
      "language acquisition ['specialOpeningHoursSpecification', 'dateVehicleFirstRegistered', 'broadcastChannelId', 'openingHoursSpecification', 'vehicleModelDate', 'isAccessoryOrSparePartFor', 'globalLocationNumber', 'feesAndCommissionsSpecification', 'vehicleInteriorType', 'driveWheelConfiguration', 'vehicleSeatingCapacity', 'productID', 'amenityFeature', 'vehicleIdentificationNumber', 'relatedCondition', 'mainEntityOfPage', 'vehicleInteriorColor', 'taxID', 'numberOfForwardGears', 'additionalType']\n",
      "mediation ['specialOpeningHoursSpecification', 'dateVehicleFirstRegistered', 'broadcastChannelId', 'openingHoursSpecification', 'vehicleModelDate', 'isAccessoryOrSparePartFor', 'globalLocationNumber', 'feesAndCommissionsSpecification', 'vehicleInteriorType', 'driveWheelConfiguration', 'vehicleSeatingCapacity', 'productID', 'amenityFeature', 'vehicleIdentificationNumber', 'relatedCondition', 'mainEntityOfPage', 'vehicleInteriorColor', 'taxID', 'numberOfForwardGears', 'additionalType']\n",
      "pull up ['specialOpeningHoursSpecification', 'dateVehicleFirstRegistered', 'broadcastChannelId', 'openingHoursSpecification', 'vehicleModelDate', 'isAccessoryOrSparePartFor', 'globalLocationNumber', 'feesAndCommissionsSpecification', 'vehicleInteriorType', 'driveWheelConfiguration', 'vehicleSeatingCapacity', 'productID', 'amenityFeature', 'vehicleIdentificationNumber', 'relatedCondition', 'mainEntityOfPage', 'vehicleInteriorColor', 'taxID', 'numberOfForwardGears', 'additionalType']\n",
      "spoofing attack ['specialOpeningHoursSpecification', 'dateVehicleFirstRegistered', 'broadcastChannelId', 'openingHoursSpecification', 'vehicleModelDate', 'isAccessoryOrSparePartFor', 'globalLocationNumber', 'feesAndCommissionsSpecification', 'vehicleInteriorType', 'driveWheelConfiguration', 'vehicleSeatingCapacity', 'productID', 'amenityFeature', 'vehicleIdentificationNumber', 'relatedCondition', 'mainEntityOfPage', 'vehicleInteriorColor', 'taxID', 'numberOfForwardGears', 'additionalType']\n",
      "spray painting ['specialOpeningHoursSpecification', 'dateVehicleFirstRegistered', 'broadcastChannelId', 'openingHoursSpecification', 'vehicleModelDate', 'isAccessoryOrSparePartFor', 'globalLocationNumber', 'feesAndCommissionsSpecification', 'vehicleInteriorType', 'driveWheelConfiguration', 'vehicleSeatingCapacity', 'productID', 'amenityFeature', 'vehicleIdentificationNumber', 'relatedCondition', 'mainEntityOfPage', 'vehicleInteriorColor', 'taxID', 'numberOfForwardGears', 'additionalType']\n",
      "translation ['specialOpeningHoursSpecification', 'dateVehicleFirstRegistered', 'broadcastChannelId', 'openingHoursSpecification', 'vehicleModelDate', 'isAccessoryOrSparePartFor', 'globalLocationNumber', 'feesAndCommissionsSpecification', 'vehicleInteriorType', 'driveWheelConfiguration', 'vehicleSeatingCapacity', 'productID', 'amenityFeature', 'vehicleIdentificationNumber', 'relatedCondition', 'mainEntityOfPage', 'vehicleInteriorColor', 'taxID', 'numberOfForwardGears', 'additionalType']\n",
      "run fast ['specialOpeningHoursSpecification', 'dateVehicleFirstRegistered', 'broadcastChannelId', 'openingHoursSpecification', 'vehicleModelDate', 'isAccessoryOrSparePartFor', 'globalLocationNumber', 'feesAndCommissionsSpecification', 'vehicleInteriorType', 'driveWheelConfiguration', 'vehicleSeatingCapacity', 'productID', 'amenityFeature', 'vehicleIdentificationNumber', 'relatedCondition', 'mainEntityOfPage', 'vehicleInteriorColor', 'taxID', 'numberOfForwardGears', 'additionalType']\n",
      "take on me ['specialOpeningHoursSpecification', 'dateVehicleFirstRegistered', 'broadcastChannelId', 'openingHoursSpecification', 'vehicleModelDate', 'isAccessoryOrSparePartFor', 'globalLocationNumber', 'feesAndCommissionsSpecification', 'vehicleInteriorType', 'driveWheelConfiguration', 'vehicleSeatingCapacity', 'productID', 'amenityFeature', 'vehicleIdentificationNumber', 'relatedCondition', 'mainEntityOfPage', 'vehicleInteriorColor', 'taxID', 'numberOfForwardGears', 'additionalType']\n",
      "the incredible hulk ['specialOpeningHoursSpecification', 'dateVehicleFirstRegistered', 'broadcastChannelId', 'openingHoursSpecification', 'vehicleModelDate', 'isAccessoryOrSparePartFor', 'globalLocationNumber', 'feesAndCommissionsSpecification', 'vehicleInteriorType', 'driveWheelConfiguration', 'vehicleSeatingCapacity', 'productID', 'amenityFeature', 'vehicleIdentificationNumber', 'relatedCondition', 'mainEntityOfPage', 'vehicleInteriorColor', 'taxID', 'numberOfForwardGears', 'additionalType']\n",
      "the paper ['specialOpeningHoursSpecification', 'dateVehicleFirstRegistered', 'broadcastChannelId', 'openingHoursSpecification', 'vehicleModelDate', 'isAccessoryOrSparePartFor', 'globalLocationNumber', 'feesAndCommissionsSpecification', 'vehicleInteriorType', 'driveWheelConfiguration', 'vehicleSeatingCapacity', 'productID', 'amenityFeature', 'vehicleIdentificationNumber', 'relatedCondition', 'mainEntityOfPage', 'vehicleInteriorColor', 'taxID', 'numberOfForwardGears', 'additionalType']\n",
      "the pyramid ['specialOpeningHoursSpecification', 'dateVehicleFirstRegistered', 'broadcastChannelId', 'openingHoursSpecification', 'vehicleModelDate', 'isAccessoryOrSparePartFor', 'globalLocationNumber', 'feesAndCommissionsSpecification', 'vehicleInteriorType', 'driveWheelConfiguration', 'vehicleSeatingCapacity', 'productID', 'amenityFeature', 'vehicleIdentificationNumber', 'relatedCondition', 'mainEntityOfPage', 'vehicleInteriorColor', 'taxID', 'numberOfForwardGears', 'additionalType']\n",
      "the sixth sense ['specialOpeningHoursSpecification', 'dateVehicleFirstRegistered', 'broadcastChannelId', 'openingHoursSpecification', 'vehicleModelDate', 'isAccessoryOrSparePartFor', 'globalLocationNumber', 'feesAndCommissionsSpecification', 'vehicleInteriorType', 'driveWheelConfiguration', 'vehicleSeatingCapacity', 'productID', 'amenityFeature', 'vehicleIdentificationNumber', 'relatedCondition', 'mainEntityOfPage', 'vehicleInteriorColor', 'taxID', 'numberOfForwardGears', 'additionalType']\n",
      "the tall man ['specialOpeningHoursSpecification', 'dateVehicleFirstRegistered', 'broadcastChannelId', 'openingHoursSpecification', 'vehicleModelDate', 'isAccessoryOrSparePartFor', 'globalLocationNumber', 'feesAndCommissionsSpecification', 'vehicleInteriorType', 'driveWheelConfiguration', 'vehicleSeatingCapacity', 'productID', 'amenityFeature', 'vehicleIdentificationNumber', 'relatedCondition', 'mainEntityOfPage', 'vehicleInteriorColor', 'taxID', 'numberOfForwardGears', 'additionalType']\n",
      "trust me ['specialOpeningHoursSpecification', 'dateVehicleFirstRegistered', 'broadcastChannelId', 'openingHoursSpecification', 'vehicleModelDate', 'isAccessoryOrSparePartFor', 'globalLocationNumber', 'feesAndCommissionsSpecification', 'vehicleInteriorType', 'driveWheelConfiguration', 'vehicleSeatingCapacity', 'productID', 'amenityFeature', 'vehicleIdentificationNumber', 'relatedCondition', 'mainEntityOfPage', 'vehicleInteriorColor', 'taxID', 'numberOfForwardGears', 'additionalType']\n",
      "porco rosso ['specialOpeningHoursSpecification', 'dateVehicleFirstRegistered', 'broadcastChannelId', 'openingHoursSpecification', 'vehicleModelDate', 'isAccessoryOrSparePartFor', 'globalLocationNumber', 'feesAndCommissionsSpecification', 'vehicleInteriorType', 'driveWheelConfiguration', 'vehicleSeatingCapacity', 'productID', 'amenityFeature', 'vehicleIdentificationNumber', 'relatedCondition', 'mainEntityOfPage', 'vehicleInteriorColor', 'taxID', 'numberOfForwardGears', 'additionalType']\n",
      "prom night ['specialOpeningHoursSpecification', 'dateVehicleFirstRegistered', 'broadcastChannelId', 'openingHoursSpecification', 'vehicleModelDate', 'isAccessoryOrSparePartFor', 'globalLocationNumber', 'feesAndCommissionsSpecification', 'vehicleInteriorType', 'driveWheelConfiguration', 'vehicleSeatingCapacity', 'productID', 'amenityFeature', 'vehicleIdentificationNumber', 'relatedCondition', 'mainEntityOfPage', 'vehicleInteriorColor', 'taxID', 'numberOfForwardGears', 'additionalType']\n"
     ]
    },
    {
     "name": "stdout",
     "output_type": "stream",
     "text": [
      "knowing ['specialOpeningHoursSpecification', 'dateVehicleFirstRegistered', 'broadcastChannelId', 'openingHoursSpecification', 'vehicleModelDate', 'isAccessoryOrSparePartFor', 'globalLocationNumber', 'feesAndCommissionsSpecification', 'vehicleInteriorType', 'driveWheelConfiguration', 'vehicleSeatingCapacity', 'productID', 'amenityFeature', 'vehicleIdentificationNumber', 'relatedCondition', 'mainEntityOfPage', 'vehicleInteriorColor', 'taxID', 'numberOfForwardGears', 'additionalType']\n",
      "krrish ['specialOpeningHoursSpecification', 'dateVehicleFirstRegistered', 'broadcastChannelId', 'openingHoursSpecification', 'vehicleModelDate', 'isAccessoryOrSparePartFor', 'globalLocationNumber', 'feesAndCommissionsSpecification', 'vehicleInteriorType', 'driveWheelConfiguration', 'vehicleSeatingCapacity', 'productID', 'amenityFeature', 'vehicleIdentificationNumber', 'relatedCondition', 'mainEntityOfPage', 'vehicleInteriorColor', 'taxID', 'numberOfForwardGears', 'additionalType']\n",
      "law & order: special victims unit ['specialOpeningHoursSpecification', 'dateVehicleFirstRegistered', 'broadcastChannelId', 'openingHoursSpecification', 'vehicleModelDate', 'isAccessoryOrSparePartFor', 'globalLocationNumber', 'feesAndCommissionsSpecification', 'vehicleInteriorType', 'driveWheelConfiguration', 'vehicleSeatingCapacity', 'productID', 'amenityFeature', 'vehicleIdentificationNumber', 'relatedCondition', 'mainEntityOfPage', 'vehicleInteriorColor', 'taxID', 'numberOfForwardGears', 'additionalType']\n",
      "lost season 3 ['specialOpeningHoursSpecification', 'dateVehicleFirstRegistered', 'broadcastChannelId', 'openingHoursSpecification', 'vehicleModelDate', 'isAccessoryOrSparePartFor', 'globalLocationNumber', 'feesAndCommissionsSpecification', 'vehicleInteriorType', 'driveWheelConfiguration', 'vehicleSeatingCapacity', 'productID', 'amenityFeature', 'vehicleIdentificationNumber', 'relatedCondition', 'mainEntityOfPage', 'vehicleInteriorColor', 'taxID', 'numberOfForwardGears', 'additionalType']\n",
      "mary poppins ['specialOpeningHoursSpecification', 'dateVehicleFirstRegistered', 'broadcastChannelId', 'openingHoursSpecification', 'vehicleModelDate', 'isAccessoryOrSparePartFor', 'globalLocationNumber', 'feesAndCommissionsSpecification', 'vehicleInteriorType', 'driveWheelConfiguration', 'vehicleSeatingCapacity', 'productID', 'amenityFeature', 'vehicleIdentificationNumber', 'relatedCondition', 'mainEntityOfPage', 'vehicleInteriorColor', 'taxID', 'numberOfForwardGears', 'additionalType']\n",
      "islamic terrorism ['specialOpeningHoursSpecification', 'dateVehicleFirstRegistered', 'broadcastChannelId', 'openingHoursSpecification', 'vehicleModelDate', 'isAccessoryOrSparePartFor', 'globalLocationNumber', 'feesAndCommissionsSpecification', 'vehicleInteriorType', 'driveWheelConfiguration', 'vehicleSeatingCapacity', 'productID', 'amenityFeature', 'vehicleIdentificationNumber', 'relatedCondition', 'mainEntityOfPage', 'vehicleInteriorColor', 'taxID', 'numberOfForwardGears', 'additionalType']\n",
      "live aid ['specialOpeningHoursSpecification', 'dateVehicleFirstRegistered', 'broadcastChannelId', 'openingHoursSpecification', 'vehicleModelDate', 'isAccessoryOrSparePartFor', 'globalLocationNumber', 'feesAndCommissionsSpecification', 'vehicleInteriorType', 'driveWheelConfiguration', 'vehicleSeatingCapacity', 'productID', 'amenityFeature', 'vehicleIdentificationNumber', 'relatedCondition', 'mainEntityOfPage', 'vehicleInteriorColor', 'taxID', 'numberOfForwardGears', 'additionalType']\n",
      "the exodus ['specialOpeningHoursSpecification', 'dateVehicleFirstRegistered', 'broadcastChannelId', 'openingHoursSpecification', 'vehicleModelDate', 'isAccessoryOrSparePartFor', 'globalLocationNumber', 'feesAndCommissionsSpecification', 'vehicleInteriorType', 'driveWheelConfiguration', 'vehicleSeatingCapacity', 'productID', 'amenityFeature', 'vehicleIdentificationNumber', 'relatedCondition', 'mainEntityOfPage', 'vehicleInteriorColor', 'taxID', 'numberOfForwardGears', 'additionalType']\n",
      "world war ii ['specialOpeningHoursSpecification', 'dateVehicleFirstRegistered', 'broadcastChannelId', 'openingHoursSpecification', 'vehicleModelDate', 'isAccessoryOrSparePartFor', 'globalLocationNumber', 'feesAndCommissionsSpecification', 'vehicleInteriorType', 'driveWheelConfiguration', 'vehicleSeatingCapacity', 'productID', 'amenityFeature', 'vehicleIdentificationNumber', 'relatedCondition', 'mainEntityOfPage', 'vehicleInteriorColor', 'taxID', 'numberOfForwardGears', 'additionalType']\n",
      "flood ['specialOpeningHoursSpecification', 'dateVehicleFirstRegistered', 'broadcastChannelId', 'openingHoursSpecification', 'vehicleModelDate', 'isAccessoryOrSparePartFor', 'globalLocationNumber', 'feesAndCommissionsSpecification', 'vehicleInteriorType', 'driveWheelConfiguration', 'vehicleSeatingCapacity', 'productID', 'amenityFeature', 'vehicleIdentificationNumber', 'relatedCondition', 'mainEntityOfPage', 'vehicleInteriorColor', 'taxID', 'numberOfForwardGears', 'additionalType']\n",
      "php ['specialOpeningHoursSpecification', 'dateVehicleFirstRegistered', 'broadcastChannelId', 'openingHoursSpecification', 'vehicleModelDate', 'isAccessoryOrSparePartFor', 'globalLocationNumber', 'feesAndCommissionsSpecification', 'vehicleInteriorType', 'driveWheelConfiguration', 'vehicleSeatingCapacity', 'productID', 'amenityFeature', 'vehicleIdentificationNumber', 'relatedCondition', 'mainEntityOfPage', 'vehicleInteriorColor', 'taxID', 'numberOfForwardGears', 'additionalType']\n",
      "environmentalism ['specialOpeningHoursSpecification', 'dateVehicleFirstRegistered', 'broadcastChannelId', 'openingHoursSpecification', 'vehicleModelDate', 'isAccessoryOrSparePartFor', 'globalLocationNumber', 'feesAndCommissionsSpecification', 'vehicleInteriorType', 'driveWheelConfiguration', 'vehicleSeatingCapacity', 'productID', 'amenityFeature', 'vehicleIdentificationNumber', 'relatedCondition', 'mainEntityOfPage', 'vehicleInteriorColor', 'taxID', 'numberOfForwardGears', 'additionalType']\n",
      "bibliography ['specialOpeningHoursSpecification', 'dateVehicleFirstRegistered', 'broadcastChannelId', 'openingHoursSpecification', 'vehicleModelDate', 'isAccessoryOrSparePartFor', 'globalLocationNumber', 'feesAndCommissionsSpecification', 'vehicleInteriorType', 'driveWheelConfiguration', 'vehicleSeatingCapacity', 'productID', 'amenityFeature', 'vehicleIdentificationNumber', 'relatedCondition', 'mainEntityOfPage', 'vehicleInteriorColor', 'taxID', 'numberOfForwardGears', 'additionalType']\n",
      "email box ['specialOpeningHoursSpecification', 'dateVehicleFirstRegistered', 'broadcastChannelId', 'openingHoursSpecification', 'vehicleModelDate', 'isAccessoryOrSparePartFor', 'globalLocationNumber', 'feesAndCommissionsSpecification', 'vehicleInteriorType', 'driveWheelConfiguration', 'vehicleSeatingCapacity', 'productID', 'amenityFeature', 'vehicleIdentificationNumber', 'relatedCondition', 'mainEntityOfPage', 'vehicleInteriorColor', 'taxID', 'numberOfForwardGears', 'additionalType']\n",
      "voip phone ['specialOpeningHoursSpecification', 'dateVehicleFirstRegistered', 'broadcastChannelId', 'openingHoursSpecification', 'vehicleModelDate', 'isAccessoryOrSparePartFor', 'globalLocationNumber', 'feesAndCommissionsSpecification', 'vehicleInteriorType', 'driveWheelConfiguration', 'vehicleSeatingCapacity', 'productID', 'amenityFeature', 'vehicleIdentificationNumber', 'relatedCondition', 'mainEntityOfPage', 'vehicleInteriorColor', 'taxID', 'numberOfForwardGears', 'additionalType']\n",
      "separation of church and state ['specialOpeningHoursSpecification', 'dateVehicleFirstRegistered', 'broadcastChannelId', 'openingHoursSpecification', 'vehicleModelDate', 'isAccessoryOrSparePartFor', 'globalLocationNumber', 'feesAndCommissionsSpecification', 'vehicleInteriorType', 'driveWheelConfiguration', 'vehicleSeatingCapacity', 'productID', 'amenityFeature', 'vehicleIdentificationNumber', 'relatedCondition', 'mainEntityOfPage', 'vehicleInteriorColor', 'taxID', 'numberOfForwardGears', 'additionalType']\n",
      "indian institute of technology joint entrance examination ['specialOpeningHoursSpecification', 'dateVehicleFirstRegistered', 'broadcastChannelId', 'openingHoursSpecification', 'vehicleModelDate', 'isAccessoryOrSparePartFor', 'globalLocationNumber', 'feesAndCommissionsSpecification', 'vehicleInteriorType', 'driveWheelConfiguration', 'vehicleSeatingCapacity', 'productID', 'amenityFeature', 'vehicleIdentificationNumber', 'relatedCondition', 'mainEntityOfPage', 'vehicleInteriorColor', 'taxID', 'numberOfForwardGears', 'additionalType']\n"
     ]
    },
    {
     "name": "stdout",
     "output_type": "stream",
     "text": [
      "history of television ['specialOpeningHoursSpecification', 'dateVehicleFirstRegistered', 'broadcastChannelId', 'openingHoursSpecification', 'vehicleModelDate', 'isAccessoryOrSparePartFor', 'globalLocationNumber', 'feesAndCommissionsSpecification', 'vehicleInteriorType', 'driveWheelConfiguration', 'vehicleSeatingCapacity', 'productID', 'amenityFeature', 'vehicleIdentificationNumber', 'relatedCondition', 'mainEntityOfPage', 'vehicleInteriorColor', 'taxID', 'numberOfForwardGears', 'additionalType']\n",
      "insomnia ['specialOpeningHoursSpecification', 'dateVehicleFirstRegistered', 'broadcastChannelId', 'openingHoursSpecification', 'vehicleModelDate', 'isAccessoryOrSparePartFor', 'globalLocationNumber', 'feesAndCommissionsSpecification', 'vehicleInteriorType', 'driveWheelConfiguration', 'vehicleSeatingCapacity', 'productID', 'amenityFeature', 'vehicleIdentificationNumber', 'relatedCondition', 'mainEntityOfPage', 'vehicleInteriorColor', 'taxID', 'numberOfForwardGears', 'additionalType']\n",
      "pubis ['specialOpeningHoursSpecification', 'dateVehicleFirstRegistered', 'broadcastChannelId', 'openingHoursSpecification', 'vehicleModelDate', 'isAccessoryOrSparePartFor', 'globalLocationNumber', 'feesAndCommissionsSpecification', 'vehicleInteriorType', 'driveWheelConfiguration', 'vehicleSeatingCapacity', 'productID', 'amenityFeature', 'vehicleIdentificationNumber', 'relatedCondition', 'mainEntityOfPage', 'vehicleInteriorColor', 'taxID', 'numberOfForwardGears', 'additionalType']\n",
      "respiratory system ['specialOpeningHoursSpecification', 'dateVehicleFirstRegistered', 'broadcastChannelId', 'openingHoursSpecification', 'vehicleModelDate', 'isAccessoryOrSparePartFor', 'globalLocationNumber', 'feesAndCommissionsSpecification', 'vehicleInteriorType', 'driveWheelConfiguration', 'vehicleSeatingCapacity', 'productID', 'amenityFeature', 'vehicleIdentificationNumber', 'relatedCondition', 'mainEntityOfPage', 'vehicleInteriorColor', 'taxID', 'numberOfForwardGears', 'additionalType']\n",
      "self-esteem ['specialOpeningHoursSpecification', 'dateVehicleFirstRegistered', 'broadcastChannelId', 'openingHoursSpecification', 'vehicleModelDate', 'isAccessoryOrSparePartFor', 'globalLocationNumber', 'feesAndCommissionsSpecification', 'vehicleInteriorType', 'driveWheelConfiguration', 'vehicleSeatingCapacity', 'productID', 'amenityFeature', 'vehicleIdentificationNumber', 'relatedCondition', 'mainEntityOfPage', 'vehicleInteriorColor', 'taxID', 'numberOfForwardGears', 'additionalType']\n",
      "shock ['specialOpeningHoursSpecification', 'dateVehicleFirstRegistered', 'broadcastChannelId', 'openingHoursSpecification', 'vehicleModelDate', 'isAccessoryOrSparePartFor', 'globalLocationNumber', 'feesAndCommissionsSpecification', 'vehicleInteriorType', 'driveWheelConfiguration', 'vehicleSeatingCapacity', 'productID', 'amenityFeature', 'vehicleIdentificationNumber', 'relatedCondition', 'mainEntityOfPage', 'vehicleInteriorColor', 'taxID', 'numberOfForwardGears', 'additionalType']\n",
      "skin ['specialOpeningHoursSpecification', 'dateVehicleFirstRegistered', 'broadcastChannelId', 'openingHoursSpecification', 'vehicleModelDate', 'isAccessoryOrSparePartFor', 'globalLocationNumber', 'feesAndCommissionsSpecification', 'vehicleInteriorType', 'driveWheelConfiguration', 'vehicleSeatingCapacity', 'productID', 'amenityFeature', 'vehicleIdentificationNumber', 'relatedCondition', 'mainEntityOfPage', 'vehicleInteriorColor', 'taxID', 'numberOfForwardGears', 'additionalType']\n",
      "speech disorder ['specialOpeningHoursSpecification', 'dateVehicleFirstRegistered', 'broadcastChannelId', 'openingHoursSpecification', 'vehicleModelDate', 'isAccessoryOrSparePartFor', 'globalLocationNumber', 'feesAndCommissionsSpecification', 'vehicleInteriorType', 'driveWheelConfiguration', 'vehicleSeatingCapacity', 'productID', 'amenityFeature', 'vehicleIdentificationNumber', 'relatedCondition', 'mainEntityOfPage', 'vehicleInteriorColor', 'taxID', 'numberOfForwardGears', 'additionalType']\n",
      "spinal muscular atrophy ['specialOpeningHoursSpecification', 'dateVehicleFirstRegistered', 'broadcastChannelId', 'openingHoursSpecification', 'vehicleModelDate', 'isAccessoryOrSparePartFor', 'globalLocationNumber', 'feesAndCommissionsSpecification', 'vehicleInteriorType', 'driveWheelConfiguration', 'vehicleSeatingCapacity', 'productID', 'amenityFeature', 'vehicleIdentificationNumber', 'relatedCondition', 'mainEntityOfPage', 'vehicleInteriorColor', 'taxID', 'numberOfForwardGears', 'additionalType']\n",
      "thyroid hormone ['specialOpeningHoursSpecification', 'dateVehicleFirstRegistered', 'broadcastChannelId', 'openingHoursSpecification', 'vehicleModelDate', 'isAccessoryOrSparePartFor', 'globalLocationNumber', 'feesAndCommissionsSpecification', 'vehicleInteriorType', 'driveWheelConfiguration', 'vehicleSeatingCapacity', 'productID', 'amenityFeature', 'vehicleIdentificationNumber', 'relatedCondition', 'mainEntityOfPage', 'vehicleInteriorColor', 'taxID', 'numberOfForwardGears', 'additionalType']\n",
      "urinary incontinence ['specialOpeningHoursSpecification', 'dateVehicleFirstRegistered', 'broadcastChannelId', 'openingHoursSpecification', 'vehicleModelDate', 'isAccessoryOrSparePartFor', 'globalLocationNumber', 'feesAndCommissionsSpecification', 'vehicleInteriorType', 'driveWheelConfiguration', 'vehicleSeatingCapacity', 'productID', 'amenityFeature', 'vehicleIdentificationNumber', 'relatedCondition', 'mainEntityOfPage', 'vehicleInteriorColor', 'taxID', 'numberOfForwardGears', 'additionalType']\n",
      "blood type ['specialOpeningHoursSpecification', 'dateVehicleFirstRegistered', 'broadcastChannelId', 'openingHoursSpecification', 'vehicleModelDate', 'isAccessoryOrSparePartFor', 'globalLocationNumber', 'feesAndCommissionsSpecification', 'vehicleInteriorType', 'driveWheelConfiguration', 'vehicleSeatingCapacity', 'productID', 'amenityFeature', 'vehicleIdentificationNumber', 'relatedCondition', 'mainEntityOfPage', 'vehicleInteriorColor', 'taxID', 'numberOfForwardGears', 'additionalType']\n",
      "ford motor company ['specialOpeningHoursSpecification', 'dateVehicleFirstRegistered', 'broadcastChannelId', 'openingHoursSpecification', 'vehicleModelDate', 'isAccessoryOrSparePartFor', 'globalLocationNumber', 'feesAndCommissionsSpecification', 'vehicleInteriorType', 'driveWheelConfiguration', 'vehicleSeatingCapacity', 'productID', 'amenityFeature', 'vehicleIdentificationNumber', 'relatedCondition', 'mainEntityOfPage', 'vehicleInteriorColor', 'taxID', 'numberOfForwardGears', 'additionalType']\n",
      "ibm ['specialOpeningHoursSpecification', 'dateVehicleFirstRegistered', 'broadcastChannelId', 'openingHoursSpecification', 'vehicleModelDate', 'isAccessoryOrSparePartFor', 'globalLocationNumber', 'feesAndCommissionsSpecification', 'vehicleInteriorType', 'driveWheelConfiguration', 'vehicleSeatingCapacity', 'productID', 'amenityFeature', 'vehicleIdentificationNumber', 'relatedCondition', 'mainEntityOfPage', 'vehicleInteriorColor', 'taxID', 'numberOfForwardGears', 'additionalType']\n",
      "isuzu motors ['specialOpeningHoursSpecification', 'dateVehicleFirstRegistered', 'broadcastChannelId', 'openingHoursSpecification', 'vehicleModelDate', 'isAccessoryOrSparePartFor', 'globalLocationNumber', 'feesAndCommissionsSpecification', 'vehicleInteriorType', 'driveWheelConfiguration', 'vehicleSeatingCapacity', 'productID', 'amenityFeature', 'vehicleIdentificationNumber', 'relatedCondition', 'mainEntityOfPage', 'vehicleInteriorColor', 'taxID', 'numberOfForwardGears', 'additionalType']\n",
      "los angeles lakers ['specialOpeningHoursSpecification', 'dateVehicleFirstRegistered', 'broadcastChannelId', 'openingHoursSpecification', 'vehicleModelDate', 'isAccessoryOrSparePartFor', 'globalLocationNumber', 'feesAndCommissionsSpecification', 'vehicleInteriorType', 'driveWheelConfiguration', 'vehicleSeatingCapacity', 'productID', 'amenityFeature', 'vehicleIdentificationNumber', 'relatedCondition', 'mainEntityOfPage', 'vehicleInteriorColor', 'taxID', 'numberOfForwardGears', 'additionalType']\n"
     ]
    },
    {
     "ename": "KeyboardInterrupt",
     "evalue": "",
     "output_type": "error",
     "traceback": [
      "\u001b[0;31m---------------------------------------------------------------------------\u001b[0m",
      "\u001b[0;31mKeyboardInterrupt\u001b[0m                         Traceback (most recent call last)",
      "\u001b[0;32m<ipython-input-1659-09cfba436f88>\u001b[0m in \u001b[0;36m<module>\u001b[0;34m\u001b[0m\n\u001b[1;32m     18\u001b[0m     \u001b[0mtrain_query\u001b[0m\u001b[0;34m,\u001b[0m \u001b[0mtrain_doc\u001b[0m\u001b[0;34m,\u001b[0m \u001b[0mtrain_prop\u001b[0m\u001b[0;34m,\u001b[0m \u001b[0mtrain_y\u001b[0m\u001b[0;34m,\u001b[0m \u001b[0mtrain_id\u001b[0m\u001b[0;34m,\u001b[0m \u001b[0mtest_query\u001b[0m\u001b[0;34m,\u001b[0m \u001b[0mtest_doc\u001b[0m\u001b[0;34m,\u001b[0m \u001b[0mtest_prop\u001b[0m\u001b[0;34m,\u001b[0m \u001b[0mtest_y\u001b[0m\u001b[0;34m,\u001b[0m \u001b[0mtest_id\u001b[0m \u001b[0;34m=\u001b[0m \u001b[0mget_train_data\u001b[0m\u001b[0;34m(\u001b[0m\u001b[0;34m)\u001b[0m\u001b[0;34m\u001b[0m\u001b[0;34m\u001b[0m\u001b[0m\n\u001b[1;32m     19\u001b[0m     \u001b[0mmodel\u001b[0m\u001b[0;34m.\u001b[0m\u001b[0mfit\u001b[0m\u001b[0;34m(\u001b[0m\u001b[0;34m[\u001b[0m\u001b[0mtrain_query\u001b[0m\u001b[0;34m,\u001b[0m \u001b[0mtrain_doc\u001b[0m\u001b[0;34m,\u001b[0m \u001b[0mtrain_prop\u001b[0m\u001b[0;34m]\u001b[0m\u001b[0;34m,\u001b[0m \u001b[0mtrain_y\u001b[0m\u001b[0;34m,\u001b[0m \u001b[0mvalidation_data\u001b[0m\u001b[0;34m=\u001b[0m\u001b[0;34m(\u001b[0m\u001b[0;34m[\u001b[0m\u001b[0mtest_query\u001b[0m\u001b[0;34m,\u001b[0m \u001b[0mtest_doc\u001b[0m\u001b[0;34m,\u001b[0m \u001b[0mtest_prop\u001b[0m\u001b[0;34m]\u001b[0m\u001b[0;34m,\u001b[0m \u001b[0mtest_y\u001b[0m\u001b[0;34m)\u001b[0m\u001b[0;34m,\u001b[0m \u001b[0mverbose\u001b[0m\u001b[0;34m=\u001b[0m\u001b[0;36m2\u001b[0m\u001b[0;34m)\u001b[0m\u001b[0;34m\u001b[0m\u001b[0;34m\u001b[0m\u001b[0m\n\u001b[0;32m---> 20\u001b[0;31m     \u001b[0meval_pair_model\u001b[0m\u001b[0;34m(\u001b[0m\u001b[0mmodel\u001b[0m\u001b[0;34m)\u001b[0m\u001b[0;34m\u001b[0m\u001b[0;34m\u001b[0m\u001b[0m\n\u001b[0m",
      "\u001b[0;32m<ipython-input-1656-9ff3edfcacdb>\u001b[0m in \u001b[0;36meval_pair_model\u001b[0;34m(model)\u001b[0m\n\u001b[1;32m      8\u001b[0m         \u001b[0mquery\u001b[0m \u001b[0;34m=\u001b[0m \u001b[0mrow\u001b[0m\u001b[0;34m[\u001b[0m\u001b[0;34m'action'\u001b[0m\u001b[0;34m]\u001b[0m \u001b[0;34m+\u001b[0m \u001b[0;34m\" \"\u001b[0m \u001b[0;34m+\u001b[0m\u001b[0mrow\u001b[0m\u001b[0;34m[\u001b[0m\u001b[0;34m'entity'\u001b[0m\u001b[0;34m]\u001b[0m\u001b[0;34m\u001b[0m\u001b[0;34m\u001b[0m\u001b[0m\n\u001b[1;32m      9\u001b[0m         \u001b[0mtokenized_query\u001b[0m \u001b[0;34m=\u001b[0m \u001b[0mquery\u001b[0m\u001b[0;34m.\u001b[0m\u001b[0msplit\u001b[0m\u001b[0;34m(\u001b[0m\u001b[0;34m\" \"\u001b[0m\u001b[0;34m)\u001b[0m\u001b[0;34m\u001b[0m\u001b[0;34m\u001b[0m\u001b[0m\n\u001b[0;32m---> 10\u001b[0;31m         \u001b[0mdoc\u001b[0m \u001b[0;34m=\u001b[0m \u001b[0mbm25\u001b[0m\u001b[0;34m.\u001b[0m\u001b[0mget_top_n\u001b[0m\u001b[0;34m(\u001b[0m\u001b[0mtokenized_query\u001b[0m\u001b[0;34m,\u001b[0m \u001b[0mcorpus\u001b[0m\u001b[0;34m,\u001b[0m \u001b[0mn\u001b[0m\u001b[0;34m=\u001b[0m\u001b[0;36m1\u001b[0m\u001b[0;34m)\u001b[0m\u001b[0;34m[\u001b[0m\u001b[0;36m0\u001b[0m\u001b[0;34m]\u001b[0m\u001b[0;34m\u001b[0m\u001b[0;34m\u001b[0m\u001b[0m\n\u001b[0m\u001b[1;32m     11\u001b[0m \u001b[0;34m\u001b[0m\u001b[0m\n\u001b[1;32m     12\u001b[0m         \u001b[0mx_query\u001b[0m \u001b[0;34m=\u001b[0m \u001b[0mpad_sequences\u001b[0m\u001b[0;34m(\u001b[0m\u001b[0mtokenizer\u001b[0m\u001b[0;34m.\u001b[0m\u001b[0mtexts_to_sequences\u001b[0m\u001b[0;34m(\u001b[0m\u001b[0;34m[\u001b[0m\u001b[0mquery\u001b[0m\u001b[0;34m]\u001b[0m \u001b[0;34m*\u001b[0m \u001b[0mlen\u001b[0m\u001b[0;34m(\u001b[0m\u001b[0mlist\u001b[0m\u001b[0;34m(\u001b[0m\u001b[0mset\u001b[0m\u001b[0;34m(\u001b[0m\u001b[0mprops\u001b[0m\u001b[0;34m)\u001b[0m\u001b[0;34m)\u001b[0m\u001b[0;34m)\u001b[0m\u001b[0;34m)\u001b[0m\u001b[0;34m,\u001b[0m \u001b[0mmaxlen\u001b[0m\u001b[0;34m=\u001b[0m\u001b[0mMAX_QUERY_SEQUENCE_LENGTH\u001b[0m\u001b[0;34m)\u001b[0m\u001b[0;34m\u001b[0m\u001b[0;34m\u001b[0m\u001b[0m\n",
      "\u001b[0;32m~/anaconda3/envs/keras/lib/python3.7/site-packages/rank_bm25.py\u001b[0m in \u001b[0;36mget_top_n\u001b[0;34m(self, query, documents, n)\u001b[0m\n\u001b[1;32m     65\u001b[0m         \u001b[0;32massert\u001b[0m \u001b[0mself\u001b[0m\u001b[0;34m.\u001b[0m\u001b[0mcorpus_size\u001b[0m \u001b[0;34m==\u001b[0m \u001b[0mlen\u001b[0m\u001b[0;34m(\u001b[0m\u001b[0mdocuments\u001b[0m\u001b[0;34m)\u001b[0m\u001b[0;34m,\u001b[0m \u001b[0;34m\"The documents given don't match the index corpus!\"\u001b[0m\u001b[0;34m\u001b[0m\u001b[0;34m\u001b[0m\u001b[0m\n\u001b[1;32m     66\u001b[0m \u001b[0;34m\u001b[0m\u001b[0m\n\u001b[0;32m---> 67\u001b[0;31m         \u001b[0mscores\u001b[0m \u001b[0;34m=\u001b[0m \u001b[0mself\u001b[0m\u001b[0;34m.\u001b[0m\u001b[0mget_scores\u001b[0m\u001b[0;34m(\u001b[0m\u001b[0mquery\u001b[0m\u001b[0;34m)\u001b[0m\u001b[0;34m\u001b[0m\u001b[0;34m\u001b[0m\u001b[0m\n\u001b[0m\u001b[1;32m     68\u001b[0m         \u001b[0mtop_n\u001b[0m \u001b[0;34m=\u001b[0m \u001b[0mnp\u001b[0m\u001b[0;34m.\u001b[0m\u001b[0margsort\u001b[0m\u001b[0;34m(\u001b[0m\u001b[0mscores\u001b[0m\u001b[0;34m)\u001b[0m\u001b[0;34m[\u001b[0m\u001b[0;34m:\u001b[0m\u001b[0;34m:\u001b[0m\u001b[0;34m-\u001b[0m\u001b[0;36m1\u001b[0m\u001b[0;34m]\u001b[0m\u001b[0;34m[\u001b[0m\u001b[0;34m:\u001b[0m\u001b[0mn\u001b[0m\u001b[0;34m]\u001b[0m\u001b[0;34m\u001b[0m\u001b[0;34m\u001b[0m\u001b[0m\n\u001b[1;32m     69\u001b[0m         \u001b[0;32mreturn\u001b[0m \u001b[0;34m[\u001b[0m\u001b[0mdocuments\u001b[0m\u001b[0;34m[\u001b[0m\u001b[0mi\u001b[0m\u001b[0;34m]\u001b[0m \u001b[0;32mfor\u001b[0m \u001b[0mi\u001b[0m \u001b[0;32min\u001b[0m \u001b[0mtop_n\u001b[0m\u001b[0;34m]\u001b[0m\u001b[0;34m\u001b[0m\u001b[0;34m\u001b[0m\u001b[0m\n",
      "\u001b[0;32m~/anaconda3/envs/keras/lib/python3.7/site-packages/rank_bm25.py\u001b[0m in \u001b[0;36mget_scores\u001b[0;34m(self, query)\u001b[0m\n\u001b[1;32m    110\u001b[0m         \u001b[0mdoc_len\u001b[0m \u001b[0;34m=\u001b[0m \u001b[0mnp\u001b[0m\u001b[0;34m.\u001b[0m\u001b[0marray\u001b[0m\u001b[0;34m(\u001b[0m\u001b[0mself\u001b[0m\u001b[0;34m.\u001b[0m\u001b[0mdoc_len\u001b[0m\u001b[0;34m)\u001b[0m\u001b[0;34m\u001b[0m\u001b[0;34m\u001b[0m\u001b[0m\n\u001b[1;32m    111\u001b[0m         \u001b[0;32mfor\u001b[0m \u001b[0mq\u001b[0m \u001b[0;32min\u001b[0m \u001b[0mquery\u001b[0m\u001b[0;34m:\u001b[0m\u001b[0;34m\u001b[0m\u001b[0;34m\u001b[0m\u001b[0m\n\u001b[0;32m--> 112\u001b[0;31m             \u001b[0mq_freq\u001b[0m \u001b[0;34m=\u001b[0m \u001b[0mnp\u001b[0m\u001b[0;34m.\u001b[0m\u001b[0marray\u001b[0m\u001b[0;34m(\u001b[0m\u001b[0;34m[\u001b[0m\u001b[0;34m(\u001b[0m\u001b[0mdoc\u001b[0m\u001b[0;34m.\u001b[0m\u001b[0mget\u001b[0m\u001b[0;34m(\u001b[0m\u001b[0mq\u001b[0m\u001b[0;34m)\u001b[0m \u001b[0;32mor\u001b[0m \u001b[0;36m0\u001b[0m\u001b[0;34m)\u001b[0m \u001b[0;32mfor\u001b[0m \u001b[0mdoc\u001b[0m \u001b[0;32min\u001b[0m \u001b[0mself\u001b[0m\u001b[0;34m.\u001b[0m\u001b[0mdoc_freqs\u001b[0m\u001b[0;34m]\u001b[0m\u001b[0;34m)\u001b[0m\u001b[0;34m\u001b[0m\u001b[0;34m\u001b[0m\u001b[0m\n\u001b[0m\u001b[1;32m    113\u001b[0m             score += (self.idf.get(q) or 0) * (q_freq * (self.k1 + 1) /\n\u001b[1;32m    114\u001b[0m                                                (q_freq + self.k1 * (1 - self.b + self.b * doc_len / self.avgdl)))\n",
      "\u001b[0;32m~/anaconda3/envs/keras/lib/python3.7/site-packages/rank_bm25.py\u001b[0m in \u001b[0;36m<listcomp>\u001b[0;34m(.0)\u001b[0m\n\u001b[1;32m    110\u001b[0m         \u001b[0mdoc_len\u001b[0m \u001b[0;34m=\u001b[0m \u001b[0mnp\u001b[0m\u001b[0;34m.\u001b[0m\u001b[0marray\u001b[0m\u001b[0;34m(\u001b[0m\u001b[0mself\u001b[0m\u001b[0;34m.\u001b[0m\u001b[0mdoc_len\u001b[0m\u001b[0;34m)\u001b[0m\u001b[0;34m\u001b[0m\u001b[0;34m\u001b[0m\u001b[0m\n\u001b[1;32m    111\u001b[0m         \u001b[0;32mfor\u001b[0m \u001b[0mq\u001b[0m \u001b[0;32min\u001b[0m \u001b[0mquery\u001b[0m\u001b[0;34m:\u001b[0m\u001b[0;34m\u001b[0m\u001b[0;34m\u001b[0m\u001b[0m\n\u001b[0;32m--> 112\u001b[0;31m             \u001b[0mq_freq\u001b[0m \u001b[0;34m=\u001b[0m \u001b[0mnp\u001b[0m\u001b[0;34m.\u001b[0m\u001b[0marray\u001b[0m\u001b[0;34m(\u001b[0m\u001b[0;34m[\u001b[0m\u001b[0;34m(\u001b[0m\u001b[0mdoc\u001b[0m\u001b[0;34m.\u001b[0m\u001b[0mget\u001b[0m\u001b[0;34m(\u001b[0m\u001b[0mq\u001b[0m\u001b[0;34m)\u001b[0m \u001b[0;32mor\u001b[0m \u001b[0;36m0\u001b[0m\u001b[0;34m)\u001b[0m \u001b[0;32mfor\u001b[0m \u001b[0mdoc\u001b[0m \u001b[0;32min\u001b[0m \u001b[0mself\u001b[0m\u001b[0;34m.\u001b[0m\u001b[0mdoc_freqs\u001b[0m\u001b[0;34m]\u001b[0m\u001b[0;34m)\u001b[0m\u001b[0;34m\u001b[0m\u001b[0;34m\u001b[0m\u001b[0m\n\u001b[0m\u001b[1;32m    113\u001b[0m             score += (self.idf.get(q) or 0) * (q_freq * (self.k1 + 1) /\n\u001b[1;32m    114\u001b[0m                                                (q_freq + self.k1 * (1 - self.b + self.b * doc_len / self.avgdl)))\n",
      "\u001b[0;31mKeyboardInterrupt\u001b[0m: "
     ]
    }
   ],
   "source": [
    "def eval_model(model):\n",
    "    pred = model.predict([test_query, test_doc])  \n",
    "    sort_pred = np.argsort(pred)[:,::-1][:,:20]\n",
    "    runLSTM = {}\n",
    "    for i, j in zip(test_id, sort_pred):\n",
    "        runLSTM[i] = [id2prop[k] for k in j]\n",
    "    for col in df_wiki.columns:\n",
    "        res = []\n",
    "        for qid in testIds:\n",
    "            qrels = qrel[str(qid)]\n",
    "            cand_properties = runLSTM[qid]\n",
    "            res.append(evaluate(qrels, cand_properties))\n",
    "        print(col, np.mean(res))    \n",
    "        break\n",
    "    \n",
    "\n",
    "for i in range(5):\n",
    "    train_query, train_doc, train_prop, train_y, train_id, test_query, test_doc, test_prop, test_y, test_id = get_train_data()\n",
    "    model.fit([train_query, train_doc, train_prop], train_y, validation_data=([test_query, test_doc, test_prop], test_y), verbose=2)\n",
    "    eval_pair_model(model)\n"
   ]
  },
  {
   "cell_type": "code",
   "execution_count": 1831,
   "metadata": {},
   "outputs": [
    {
     "name": "stdout",
     "output_type": "stream",
     "text": [
      "0.5149226462923876\n"
     ]
    }
   ],
   "source": [
    "# res = []\n",
    "for qid in testIds:\n",
    "    qrels = qrel[str(qid)]\n",
    "    cand_properties = list(run['1'][str(qid)].keys())\n",
    "    res.append(evaluate(qrels, cand_properties))\n",
    "print(np.mean(res))    \n",
    "    \n",
    "\n"
   ]
  },
  {
   "cell_type": "code",
   "execution_count": 1612,
   "metadata": {},
   "outputs": [],
   "source": [
    "    pred = model.predict([test_query, test_doc, test_prop])  \n"
   ]
  },
  {
   "cell_type": "code",
   "execution_count": 1621,
   "metadata": {},
   "outputs": [
    {
     "data": {
      "text/plain": [
       "array([[    0,     0,     0,     0,   635,   695],\n",
       "       [    0,     0,     0,     0,  5510,  1180],\n",
       "       [    0,     0,     0,     0,     0,  9792],\n",
       "       ...,\n",
       "       [    0,     0,     0,     0,     0,   208],\n",
       "       [    0,     0,     0,     0,     0, 14356],\n",
       "       [    0,     0,     0,     0, 88884,   688]], dtype=int32)"
      ]
     },
     "execution_count": 1621,
     "metadata": {},
     "output_type": "execute_result"
    }
   ],
   "source": [
    "        query = row['action'] + \" \" +row['entity']\n",
    "        tokenized_query = query.split(\" \")\n",
    "        doc = bm25.get_top_n(tokenized_query, corpus, n=1)[0]\n",
    "\n",
    "        x_query = pad_sequences(tokenizer.texts_to_sequences([query]), maxlen=MAX_QUERY_SEQUENCE_LENGTH)[0]\n",
    "        x+doc = pad_sequences(tokenizer.texts_to_sequences([doc]), maxlen=MAX_DOC_SEQUENCE_LENGTH)[0]\n"
   ]
  },
  {
   "cell_type": "code",
   "execution_count": 1645,
   "metadata": {},
   "outputs": [],
   "source": [
    "prop2realprop = {\" \".join(camel_case_split(i)):i for i in df.property.unique().tolist()}"
   ]
  },
  {
   "cell_type": "code",
   "execution_count": 1666,
   "metadata": {},
   "outputs": [
    {
     "data": {
      "application/vnd.jupyter.widget-view+json": {
       "model_id": "ba146be274054da3baa0b9012ea0210f",
       "version_major": 2,
       "version_minor": 0
      },
      "text/plain": [
       "HBox(children=(IntProgress(value=1, bar_style='info', max=1), HTML(value='')))"
      ]
     },
     "metadata": {},
     "output_type": "display_data"
    },
    {
     "name": "stdout",
     "output_type": "stream",
     "text": [
      "\n",
      "0.03585620819659419\n"
     ]
    }
   ],
   "source": [
    "def eval_pair_model(model):\n",
    "    all_props = df.property.unique().tolist()\n",
    "    res = []\n",
    "    for idx, row in tqdm(df[['query_id', 'entity', 'action']].drop_duplicates().iterrows()):\n",
    "        if row['query_id'] not in testIds:\n",
    "            continue\n",
    "            \n",
    "        query = row['action'] + \" \" +row['entity']\n",
    "        tokenized_query = query.split(\" \")\n",
    "        doc = bm25.get_top_n(tokenized_query, corpus, n=1)[0]\n",
    "        \n",
    "#         _props = list(run['1'][str(row['query_id'])].keys())\n",
    "        _props = props\n",
    "\n",
    "\n",
    "        x_query = pad_sequences(tokenizer.texts_to_sequences([query] * len(list(set(_props)))), maxlen=MAX_QUERY_SEQUENCE_LENGTH)\n",
    "        x_doc = pad_sequences(tokenizer.texts_to_sequences([doc] * len(list(set(_props)))), maxlen=MAX_DOC_SEQUENCE_LENGTH)\n",
    "        \n",
    "        cand_properties = list(run['1'][str(row['query_id'])].keys())\n",
    "\n",
    "        x_prop = pad_sequences(tokenizer.texts_to_sequences(list(set(_props))), maxlen=MAX_PROP_SEQUENCE_LENGTH)\n",
    "        \n",
    "        pred = model.predict([x_query, x_doc, x_prop])  \n",
    "        rank = {}\n",
    "        for i, j in zip(list(set(props)), pred.flatten()):\n",
    "            rank[prop2realprop[i]] = j\n",
    "            \n",
    "        rank = [i[0] for i in sorted(rank.items(), key=lambda x: x[1], reverse=True)][:20]\n",
    "        qrels = qrel[str(row['query_id'])]\n",
    "#                 cand_properties = runLSTM[qid]\n",
    "#         print(row['entity'], rank)\n",
    "        res.append(evaluate(qrels, rank))\n",
    "    print(np.mean(res))\n",
    "eval_pair_model(model)"
   ]
  },
  {
   "cell_type": "code",
   "execution_count": 1794,
   "metadata": {},
   "outputs": [
    {
     "data": {
      "text/plain": [
       "3796"
      ]
     },
     "execution_count": 1794,
     "metadata": {},
     "output_type": "execute_result"
    }
   ],
   "source": [
    "len(df)"
   ]
  },
  {
   "cell_type": "code",
   "execution_count": 1796,
   "metadata": {
    "scrolled": true
   },
   "outputs": [
    {
     "data": {
      "text/plain": [
       "array(['have', 'take', 'brainstorm', 'start', 'get funding',\n",
       "       'bleach hair back to brown', 'stop at the scene of an accident',\n",
       "       'suggest a foreign language thats easy to learn',\n",
       "       'help you come up with possible solutions',\n",
       "       'do any aerobic physical activity', 'know who do the spoof ',\n",
       "       'use on fabric', 'know japanese recipe ingredient translation',\n",
       "       'forget', 'remember', 'love that movie', 'give fives', 'follow',\n",
       "       'leave', 'happen', 'prepare for a shakespeare play', 'choose',\n",
       "       'abandon', 'obsess', 'come', 'watch the devil wears prada',\n",
       "       'watch full episode of robot chicken',\n",
       "       'watch movie with english subtitle', 'make love with a girl',\n",
       "       'reclaim', 'see the spirits of people who have died',\n",
       "       'meet a good woman', 'lose', 'make trust',\n",
       "       'watch porco rosso ( 1992 )', 'love the colors of prom',\n",
       "       'find the name of a song ', 'see', 'win emmy', 'release on dvd',\n",
       "       'watch this video', 'give', 'become a f1 driver',\n",
       "       'attend ceremony', 'recommend', 'apply for citizenship',\n",
       "       'issue indictment', 'raise dollars', 'believe', 'win', 'pevent',\n",
       "       'create an anti gravity propulsion system',\n",
       "       'embed a sound in a html page', 'debug', 'teach', 'apply', 'get',\n",
       "       'say', 'support environmentalism and climate change awareness',\n",
       "       'write the bibliography', 'send', 'prepare', 'receive', 'use',\n",
       "       'allow', 'pass', 'watch', 'work', 'improve', 'relieve', 'treat',\n",
       "       'develop', 'suffer', 'identify', 'diagnose', 'cause', 'donate',\n",
       "       'increase', 'break', 'evaluate', 'boost', 'care', 'overcome',\n",
       "       'reduce', 'produce', 'stop', 'prevent', 'wear', 'drink', 'sell',\n",
       "       'own', 'play', 'call', 'join', 'build', 'support',\n",
       "       'announce retirement', 'perform ballad', 'buy makeup',\n",
       "       'win the championship', 'unlock motorola c975', 'take complaint',\n",
       "       'treat animals', 'win tournament', 'operate route',\n",
       "       'get insurance', 'extend visa', 'apply for a job',\n",
       "       'apply for a job ', 'work lawyer', 'pass a turing test',\n",
       "       'discover secrets', 'study relationship', 'play villain',\n",
       "       'idolise family', 'sings jazz', 'provide scoring', 'splits ',\n",
       "       'died on a tree', 'listen ', 'watch premiere', 'left money',\n",
       "       'visit pope', 'become man', 'win season', 'find hidden talent',\n",
       "       'beat niculescu', 'sing music', 'live with passion',\n",
       "       'become warming', 'hold mesino', 'take crudes',\n",
       "       'establish welfare', 'fire naphtha', 'buy a beginner drum set',\n",
       "       'provide meals', 'visit', 'go', 'look for a job ',\n",
       "       'live in greece', 'use wireless', 'go on a trek',\n",
       "       'discuss iran threat', 'locate', 'get into a bar in kelowna', ' ',\n",
       "       'reach lake', 'migrate', 'compare to other african city', 'climb',\n",
       "       'see local laws and customs', 'stay at the carlton hotel prague',\n",
       "       'book vacation', 'find', 'drive a car', 'get a greencard',\n",
       "       'get some scenic views over tehran',\n",
       "       'performs live in times square',\n",
       "       'visit trinidad tobago from nigeria', 'take deliveries', 'make',\n",
       "       'cook', 'make pancake', 'play chess on internet ', 'fix',\n",
       "       'clean copper pan', 'buy raw milk product',\n",
       "       'drink diet soda if have diabetes', 'switch off', 'buy',\n",
       "       'drive a manual transmission', 'refrigerate',\n",
       "       'connect to the computer', \"hear baby 's heartbeat\", 'download',\n",
       "       'recognize by xp computer', 'rent a jet ski', 'wash', 'drive',\n",
       "       'upgrade', 'get a large jar', 'make mentos react with coke',\n",
       "       'know', 'make dessert', 'have a golden pocket watch',\n",
       "       'make faster', 'install', 'cut', 'recharge', 'bake', 'serve',\n",
       "       'buy a dvd camcorder', 'replace', 'indicate popularity',\n",
       "       'remove mascara', 'put on fake eyelash', 'use acrylic paint',\n",
       "       'hold tea', 'freeze', 'look for the recipe ',\n",
       "       'remove the door panel ', 'keep'], dtype=object)"
      ]
     },
     "execution_count": 1796,
     "metadata": {},
     "output_type": "execute_result"
    }
   ],
   "source": [
    "df.action.unique()"
   ]
  },
  {
   "cell_type": "code",
   "execution_count": null,
   "metadata": {},
   "outputs": [],
   "source": []
  }
 ],
 "metadata": {
  "kernelspec": {
   "display_name": "Python 3",
   "language": "python",
   "name": "python3"
  },
  "language_info": {
   "codemirror_mode": {
    "name": "ipython",
    "version": 3
   },
   "file_extension": ".py",
   "mimetype": "text/x-python",
   "name": "python",
   "nbconvert_exporter": "python",
   "pygments_lexer": "ipython3",
   "version": "3.6.10"
  }
 },
 "nbformat": 4,
 "nbformat_minor": 2
}
