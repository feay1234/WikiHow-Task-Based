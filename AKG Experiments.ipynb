{
 "cells": [
  {
   "cell_type": "code",
   "execution_count": 1,
   "metadata": {},
   "outputs": [],
   "source": [
    "import pandas as pd"
   ]
  },
  {
   "cell_type": "code",
   "execution_count": 3,
   "metadata": {},
   "outputs": [],
   "source": [
    "df = pd.read_csv(\"data/AKG/Test Collection/AKGG/akg_standard_akgg_property_rele.csv\")"
   ]
  },
  {
   "cell_type": "code",
   "execution_count": 11,
   "metadata": {},
   "outputs": [
    {
     "data": {
      "text/plain": [
       "array(['startTime', 'result', 'target', 'name', 'actionStatus', 'object',\n",
       "       'instrument', 'disambiguatingDescription', 'description',\n",
       "       'participant', 'agent', 'potentialAction', 'endTime',\n",
       "       'additionalType', 'image', 'location', 'alternateName', 'url',\n",
       "       'identifier', 'error', 'recordedAt', 'musicBy', 'character',\n",
       "       'workExample', 'educationalUse', 'releasedEvent', 'actor',\n",
       "       'author', 'version', 'isFamilyFriendly', 'material', 'publisher',\n",
       "       'producer', 'accountablePerson', 'commentCount',\n",
       "       'alternativeHeadline', 'headline', 'timeRequired', 'isPartOf',\n",
       "       'exampleOfWork', 'hasPart', 'isBasedOn', 'position', 'video',\n",
       "       'accessibilityHazard', 'mentions', 'provider', 'audio',\n",
       "       'copyrightYear', 'contentRating', 'creator', 'award', 'director',\n",
       "       'productionCompany', 'genre', 'schemaVersion', 'trailer',\n",
       "       'publication', 'audience', 'inAlbum', 'byArtist', 'offers',\n",
       "       'locationCreated', 'review', 'dateModified', 'countryOfOrigin',\n",
       "       'comment', 'recordingOf', 'license', 'inLanguage',\n",
       "       'accessibilityFeature', 'publishingPrinciples', 'text',\n",
       "       'contentLocation', 'keywords', 'subtitleLanguage',\n",
       "       'accessibilityControl', 'temporalCoverage', 'accessModeSufficient',\n",
       "       'thumbnailUrl', 'numberOfSeasons', 'numberOfEpisodes',\n",
       "       'sourceOrganization', 'episode', 'containsSeason', 'translator',\n",
       "       'performer', 'previousStartDate', 'endDate', 'attendee',\n",
       "       'duration', 'recordedIn', 'startDate', 'eventStatus',\n",
       "       'workFeatured', 'organizer', 'funder', 'contributor', 'subEvent',\n",
       "       'sponsor', 'remainingAttendeeCapacity', 'competitor', 'awayTeam',\n",
       "       'typicalAgeRange', 'homeTeam', 'doorTime', 'workPerformed',\n",
       "       'composer', 'isAccessibleForFree', 'aggregateRating',\n",
       "       'maximumAttendeeCapacity', 'mainEntityOfPage', 'category', 'logo',\n",
       "       'serviceType', 'isRelatedTo', 'brand', 'serviceOutput',\n",
       "       'availableChannel', 'isSimilarTo', 'annualPercentageRate',\n",
       "       'interestRate', 'hasOfferCatalog', 'providerMobility',\n",
       "       'feesAndCommissionsSpecification', 'hoursAvailable', 'areaServed',\n",
       "       'broker', 'relevantSpeciality', 'anatomicalSystem',\n",
       "       'medicalSpecimen', 'preparation', 'medicineSystem', 'newborn',\n",
       "       'medical Report', 'anatomicalStructure', 'medicalUnit', 'study',\n",
       "       'medicalRoom', 'howPerformed', 'careReason', 'physicalExamination',\n",
       "       'medicalDepartment', 'medicalClinic', 'careProvider', 'code',\n",
       "       'legalStatus', 'recognizingAuthority', 'associatedAnatomy',\n",
       "       'primaryPrevention', 'pathophysiology', 'expectedPrognosis',\n",
       "       'differentialDiagnosis', 'riskFactor', 'epidemiology', 'stage',\n",
       "       'naturalProgression', 'cause', 'drug', 'possibleComplication',\n",
       "       'guideline', 'signOrSymptom', 'subtype', 'possibleTreatment',\n",
       "       'comprisedOf', 'associatedPathophysiology', 'relatedCondition',\n",
       "       'relatedTherapy', 'status', 'secondaryPrevention', 'typicalTest',\n",
       "       'relatedStructure', 'alcoholWarning', 'dosageForm',\n",
       "       'maximumIntake', 'isAvailableGenerically', 'warning', 'drugUnit',\n",
       "       'prescriptionStatus', 'overdosage', 'cost', 'activeIngredient',\n",
       "       'relatedDrug', 'manufacturer', 'isProprietary', 'doseSchedule',\n",
       "       'interactingDrug', 'globalLocationNumber', 'makesOffer',\n",
       "       'numberOfEmployees', 'owns', 'isicV4', 'founder', 'department',\n",
       "       'employee', 'parentOrganization', 'memberOf', 'taxID', 'email',\n",
       "       'telephone', 'event', 'address', 'foundingDate',\n",
       "       'foundingLocation', 'legalName', 'vatID', 'member', 'seeks',\n",
       "       'faxNumber', 'subOrganization', 'hasPOS', 'sport', 'alumni',\n",
       "       'inBroadcastLineup', 'broadcastChannelId',\n",
       "       'providesBroadcastService', 'broadcastServiceTier', 'contactPoint',\n",
       "       'album', 'iataCode', 'boardingPolicy', 'children', 'gender',\n",
       "       'homeLocation', 'knows', 'jobTitle', 'spouse', 'colleague',\n",
       "       'worksFor', 'nationality', 'deathPlace', 'height', 'follows',\n",
       "       'relatedTo', 'duns', 'workLocation', 'sibling', 'givenName',\n",
       "       'performerIn', 'affiliation', 'parent', 'familyName', 'deathDate',\n",
       "       'birthPlace', 'weight', 'birthDate', 'alumniOf', 'additionalName',\n",
       "       'containedInPlace', 'openingHoursSpecification',\n",
       "       'specialOpeningHoursSpecification', 'geo', 'containsPlace',\n",
       "       'hasMap', 'smokingAllowed', 'additionalProperty', 'branchCode',\n",
       "       'amenityFeature', 'photo', 'floorSize', 'petsAllowed',\n",
       "       'permittedUsage', 'openingHours', 'productID', 'color',\n",
       "       'itemCondition', 'isAccessoryOrSparePartFor', 'model',\n",
       "       'releaseDate', 'productionDate', 'isConsumableFor', 'purchaseDate',\n",
       "       'depth', 'vehicleInteriorColor', 'vehicleTransmission',\n",
       "       'vehicleEngine', 'vehicleModelDate', 'mpn', 'width',\n",
       "       'driveWheelConfiguration', 'sku', 'dateVehicleFirstRegistered',\n",
       "       'vehicleSeatingCapacity', 'vehicleInteriorType',\n",
       "       'knownVehicleDamages', 'fuelType', 'mileageFromOdometer',\n",
       "       'fuelEfficiency', 'fuelConsumption', 'vehicleIdentificationNumber',\n",
       "       'vehicleSpecialUsage', 'vehicleConfiguration', 'numberOfAxles',\n",
       "       'numberOfForwardGears', 'numberOfAirbags', 'numberOfDoors'],\n",
       "      dtype=object)"
      ]
     },
     "execution_count": 11,
     "metadata": {},
     "output_type": "execute_result"
    }
   ],
   "source": [
    "df.property.unique()"
   ]
  },
  {
   "cell_type": "code",
   "execution_count": null,
   "metadata": {},
   "outputs": [],
   "source": []
  }
 ],
 "metadata": {
  "kernelspec": {
   "display_name": "Python 3",
   "language": "python",
   "name": "python3"
  },
  "language_info": {
   "codemirror_mode": {
    "name": "ipython",
    "version": 3
   },
   "file_extension": ".py",
   "mimetype": "text/x-python",
   "name": "python",
   "nbconvert_exporter": "python",
   "pygments_lexer": "ipython3",
   "version": "3.7.4"
  }
 },
 "nbformat": 4,
 "nbformat_minor": 2
}
