{
 "cells": [
  {
   "cell_type": "code",
   "execution_count": 5,
   "metadata": {},
   "outputs": [],
   "source": [
    "import pandas as pd\n",
    "import numpy as np\n",
    "import os"
   ]
  },
  {
   "cell_type": "code",
   "execution_count": 2,
   "metadata": {},
   "outputs": [
    {
     "name": "stdout",
     "output_type": "stream",
     "text": [
      "youth\n"
     ]
    }
   ],
   "source": [
    "all_categories = \"Arts and Entertainment·Cars & Other Vehicles·Computers and Electronics·Education and Communications·Family Life·Finance and Business·Food and Entertaining·Health·Hobbies and Crafts·Holidays and Traditions·Home and Garden·Personal Care and Style·Pets and Animals·Philosophy and Religion·Relationships·Sports and Fitness·Travel·Work World·Youth\"\n",
    "all_categories = all_categories.lower()\n",
    "all_categories = all_categories.split(\"·\")\n",
    "\n",
    "df = pd.read_csv(\"data/wikihowSep.csv\")\n",
    "df = df[df.sectionLabel != \"Steps\"]\n",
    "df[\"title\"] = df[\"title\"].str.lower()\n",
    "df[\"sectionLabel\"] = df[\"sectionLabel\"].str.lower()\n",
    "\n",
    "wikiCat = pd.read_csv(\"data/cate.csv\", sep=\",\", error_bad_lines=False, names=[\"title\", \"category\"])\n",
    "wikiCat['title'] = wikiCat['title'].str.replace(\"https://www.wikihow.com/\", \"\").str.replace(\"%22\", \"\").str.replace(\n",
    "    \"-\", \" \").str.lower()\n",
    "wikiCat['title'] = [\"how to \" + i for i in wikiCat['title'].tolist()]\n",
    "wikiCat['category'] = wikiCat['category'].str.lower()"
   ]
  },
  {
   "cell_type": "code",
   "execution_count": 19,
   "metadata": {},
   "outputs": [
    {
     "name": "stdout",
     "output_type": "stream",
     "text": [
      "sports_and_fitness\n"
     ]
    }
   ],
   "source": [
    "for cat in all_categories[::-1]:\n",
    "    tasks = wikiCat[wikiCat.category.str.contains(cat)].title.tolist()\n",
    "    cat = cat.replace(\" \", \"_\")\n",
    "    folder = \"csv/%s/\" % (cat)\n",
    "    if not os.path.exists(folder):\n",
    "        print(cat)\n",
    "        continue"
   ]
  },
  {
   "cell_type": "code",
   "execution_count": 83,
   "metadata": {},
   "outputs": [],
   "source": [
    "tasks = wikiCat[wikiCat.category.str.contains(cat)].title.tolist()"
   ]
  },
  {
   "cell_type": "code",
   "execution_count": null,
   "metadata": {},
   "outputs": [
    {
     "name": "stdout",
     "output_type": "stream",
     "text": [
      "youth\n",
      "work_world\n",
      "travel\n",
      "sports_and_fitness\n",
      "relationships\n",
      "philosophy_and_religion\n",
      "pets_and_animals\n",
      "personal_care_and_style\n",
      "home_and_garden\n",
      "holidays_and_traditions\n",
      "hobbies_and_crafts\n",
      "health\n",
      "food_and_entertaining\n",
      "finance_and_business\n",
      "family_life\n",
      "education_and_communications\n"
     ]
    }
   ],
   "source": [
    "for cat in all_categories[::-1]:\n",
    "    tasks, queries = [], []\n",
    "    cat = cat.replace(\" \", \"_\")\n",
    "    print(cat)\n",
    "    folder = \"csv/%s/\" % cat\n",
    "    files = []\n",
    "    for file in os.listdir(folder):\n",
    "        if os.stat(folder + file).st_size > 0:\n",
    "            if \".csv\" in file:\n",
    "                task_name = file.split(\".csv\")[0].replace(\"_\", \" \")\n",
    "                tmp = pd.read_csv(\"csv/%s/%s\" %(cat,file), names=[\"q\", \"qq\"], sep=\";\", header=0)\n",
    "                try:\n",
    "                    query = tmp.q.str.lower().str.replace(\"?\", \"\").unique().tolist() + tmp.qq.str.lower().str.replace(\"?\", \"\").unique().tolist()\n",
    "                except:\n",
    "#                   no sub queries\n",
    "                    query = tmp.q.str.lower().str.replace(\"?\", \"\").unique().tolist()\n",
    "                queries.extend(query)\n",
    "                tasks.extend([task_name]*len(query))\n",
    "            \n",
    "    #   generate query-task pair dataset\n",
    "    x_task, x_query, label = [], [], []\n",
    "    for t, pq, nq in zip(tasks, queries, queries[::-1]):\n",
    "        x_query.append(pq)\n",
    "        x_query.append(nq)\n",
    "        x_task.extend([t, t])\n",
    "        label.extend([1,0])\n",
    "    _df = pd.DataFrame.from_dict({'task': x_task, \"query\": x_query, \"label\": label})\n",
    "    _df.to_csv(\"data/query_task_prediction/%s.csv\" % cat, index=False, header=False)"
   ]
  },
  {
   "cell_type": "code",
   "execution_count": 109,
   "metadata": {},
   "outputs": [],
   "source": []
  },
  {
   "cell_type": "code",
   "execution_count": 112,
   "metadata": {},
   "outputs": [],
   "source": []
  },
  {
   "cell_type": "code",
   "execution_count": 110,
   "metadata": {},
   "outputs": [
    {
     "data": {
      "text/plain": [
       "'youth'"
      ]
     },
     "execution_count": 110,
     "metadata": {},
     "output_type": "execute_result"
    }
   ],
   "source": [
    "cat"
   ]
  },
  {
   "cell_type": "code",
   "execution_count": null,
   "metadata": {},
   "outputs": [],
   "source": []
  }
 ],
 "metadata": {
  "kernelspec": {
   "display_name": "Python 3",
   "language": "python",
   "name": "python3"
  },
  "language_info": {
   "codemirror_mode": {
    "name": "ipython",
    "version": 3
   },
   "file_extension": ".py",
   "mimetype": "text/x-python",
   "name": "python",
   "nbconvert_exporter": "python",
   "pygments_lexer": "ipython3",
   "version": "3.7.3"
  }
 },
 "nbformat": 4,
 "nbformat_minor": 2
}
