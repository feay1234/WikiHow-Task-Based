{
 "cells": [
  {
   "cell_type": "code",
   "execution_count": 5,
   "metadata": {},
   "outputs": [],
   "source": [
    "import pandas as pd\n",
    "import numpy as np\n",
    "import os"
   ]
  },
  {
   "cell_type": "code",
   "execution_count": 2,
   "metadata": {},
   "outputs": [
    {
     "name": "stdout",
     "output_type": "stream",
     "text": [
      "youth\n"
     ]
    }
   ],
   "source": [
    "all_categories = \"Arts and Entertainment·Cars & Other Vehicles·Computers and Electronics·Education and Communications·Family Life·Finance and Business·Food and Entertaining·Health·Hobbies and Crafts·Holidays and Traditions·Home and Garden·Personal Care and Style·Pets and Animals·Philosophy and Religion·Relationships·Sports and Fitness·Travel·Work World·Youth\"\n",
    "all_categories = all_categories.lower()\n",
    "all_categories = all_categories.split(\"·\")\n",
    "\n",
    "df = pd.read_csv(\"data/wikihowSep.csv\")\n",
    "df = df[df.sectionLabel != \"Steps\"]\n",
    "df[\"title\"] = df[\"title\"].str.lower()\n",
    "df[\"sectionLabel\"] = df[\"sectionLabel\"].str.lower()\n",
    "\n",
    "wikiCat = pd.read_csv(\"data/cate.csv\", sep=\",\", error_bad_lines=False, names=[\"title\", \"category\"])\n",
    "wikiCat['title'] = wikiCat['title'].str.replace(\"https://www.wikihow.com/\", \"\").str.replace(\"%22\", \"\").str.replace(\n",
    "    \"-\", \" \").str.lower()\n",
    "wikiCat['title'] = [\"how to \" + i for i in wikiCat['title'].tolist()]\n",
    "wikiCat['category'] = wikiCat['category'].str.lower()"
   ]
  },
  {
   "cell_type": "code",
   "execution_count": 19,
   "metadata": {},
   "outputs": [
    {
     "name": "stdout",
     "output_type": "stream",
     "text": [
      "sports_and_fitness\n"
     ]
    }
   ],
   "source": [
    "for cat in all_categories[::-1]:\n",
    "    tasks = wikiCat[wikiCat.category.str.contains(cat)].title.tolist()\n",
    "    cat = cat.replace(\" \", \"_\")\n",
    "    folder = \"csv/%s/\" % (cat)\n",
    "    if not os.path.exists(folder):\n",
    "        print(cat)\n",
    "        continue"
   ]
  },
  {
   "cell_type": "code",
   "execution_count": 16,
   "metadata": {},
   "outputs": [
    {
     "name": "stdout",
     "output_type": "stream",
     "text": [
      "youth\n",
      "['What are the 4 types of body language?', 'What does body language tell you?', 'How do you use body language?', 'How important is body language?', 'How can you tell if someone is lying by their body language?', 'What is negative body language?', 'What is positive body language?', 'What does a clenched fist mean in body language?', 'What does it mean when someone looks down?', 'What are the 4 types of nonverbal communication?', 'How do you flirt with body language?', 'How much does body language contribute to communication?', 'How important is body language in a relationship?', 'How can you tell someone by their body language?', 'Is body language a skill?']\n"
     ]
    }
   ],
   "source": [
    "for cat in all_categories[::-1]:\n",
    "    print(cat)\n",
    "    tasks = wikiCat[wikiCat.category.str.contains(cat)].title.tolist()\n",
    "    folder = \"csv/%s/\" % (cat)\n",
    "    files = []\n",
    "    for file in os.listdir(folder):\n",
    "        if os.stat(folder + file).st_size > 0:\n",
    "            if \".csv\" in file:\n",
    "                files.append(file.split(\".csv\")[0].replace(\"_\", \" \"))\n",
    "                tmp = pd.read_csv(\"csv/%s/%s\" %(cat,file), names=[\"q\", \"qq\"], sep=\";\", header=0)\n",
    "                print(tmp.q.unique().tolist() + tmp.qq.unique().tolist())\n",
    "            break\n",
    "    break"
   ]
  },
  {
   "cell_type": "code",
   "execution_count": 18,
   "metadata": {},
   "outputs": [
    {
     "data": {
      "text/plain": [
       "4401"
      ]
     },
     "execution_count": 18,
     "metadata": {},
     "output_type": "execute_result"
    }
   ],
   "source": [
    "len(tasks)"
   ]
  }
 ],
 "metadata": {
  "kernelspec": {
   "display_name": "Python 3",
   "language": "python",
   "name": "python3"
  },
  "language_info": {
   "codemirror_mode": {
    "name": "ipython",
    "version": 3
   },
   "file_extension": ".py",
   "mimetype": "text/x-python",
   "name": "python",
   "nbconvert_exporter": "python",
   "pygments_lexer": "ipython3",
   "version": "3.7.3"
  }
 },
 "nbformat": 4,
 "nbformat_minor": 2
}
