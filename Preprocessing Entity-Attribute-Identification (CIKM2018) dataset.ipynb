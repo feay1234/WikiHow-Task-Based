{
 "cells": [
  {
   "cell_type": "code",
   "execution_count": 1,
   "metadata": {},
   "outputs": [],
   "source": [
    "import pandas as pd"
   ]
  },
  {
   "cell_type": "code",
   "execution_count": 14,
   "metadata": {},
   "outputs": [],
   "source": [
    "import pandas as pd\n",
    "import json\n",
    "\n",
    "with open('/Users/jarana/workspace/projects/Entity-Attribute-Identification/data/queries.json') as f:\n",
    "    jsonstr = json.load(f)\n",
    "\n",
    "df = pd.DataFrame(jsonstr.items(), columns=['qid', 'text'])\n",
    "df['type'] = [\"query\"] * len(df)\n",
    "df[['type', 'qid', 'text']].to_csv(\"/Users/jarana/workspace/WikiHow-Task-Based/data/cedr/eai-query.tsv\", header=False, index=False, sep=\"\\t\")"
   ]
  },
  {
   "cell_type": "code",
   "execution_count": 51,
   "metadata": {},
   "outputs": [],
   "source": [
    "df = pd.read_csv('/Users/jarana/workspace/projects/Entity-Attribute-Identification/data/qrel.txt',names=[\"qid\", \"none\", \"pid\", \"rele_label\"], sep=\"\\t\")\n",
    "df[\"pid\"] = [i.split(\":\")[1].replace(\">\",\"\") for i in df.pid.tolist()]"
   ]
  },
  {
   "cell_type": "code",
   "execution_count": 55,
   "metadata": {},
   "outputs": [],
   "source": [
    "df.to_csv(\"/Users/jarana/workspace/WikiHow-Task-Based/data/cedr/eai-qrel.tsv\", header=False, index=False, sep=\"\\t\")"
   ]
  },
  {
   "cell_type": "code",
   "execution_count": 66,
   "metadata": {},
   "outputs": [],
   "source": [
    "doc = pd.DataFrame(zip([\"doc\"] * len(df.pid.unique()),df.pid.unique(),df.pid.unique()), columns=[\"type\", \"did\", \"text\"])\n",
    "doc.to_csv(\"/Users/jarana/workspace/WikiHow-Task-Based/data/cedr/eai-doc.tsv\", header=False, index=False, sep=\"\\t\")"
   ]
  },
  {
   "cell_type": "code",
   "execution_count": 76,
   "metadata": {},
   "outputs": [
    {
     "data": {
      "text/html": [
       "<div>\n",
       "<style scoped>\n",
       "    .dataframe tbody tr th:only-of-type {\n",
       "        vertical-align: middle;\n",
       "    }\n",
       "\n",
       "    .dataframe tbody tr th {\n",
       "        vertical-align: top;\n",
       "    }\n",
       "\n",
       "    .dataframe thead th {\n",
       "        text-align: right;\n",
       "    }\n",
       "</style>\n",
       "<table border=\"1\" class=\"dataframe\">\n",
       "  <thead>\n",
       "    <tr style=\"text-align: right;\">\n",
       "      <th></th>\n",
       "      <th>qid</th>\n",
       "      <th>none</th>\n",
       "      <th>pid</th>\n",
       "      <th>rele_label</th>\n",
       "    </tr>\n",
       "  </thead>\n",
       "  <tbody>\n",
       "    <tr>\n",
       "      <th>0</th>\n",
       "      <td>INEX_LD-2009039</td>\n",
       "      <td>Q0</td>\n",
       "      <td>capital</td>\n",
       "      <td>1</td>\n",
       "    </tr>\n",
       "    <tr>\n",
       "      <th>1</th>\n",
       "      <td>INEX_LD-2009039</td>\n",
       "      <td>Q0</td>\n",
       "      <td>governmentType</td>\n",
       "      <td>1</td>\n",
       "    </tr>\n",
       "    <tr>\n",
       "      <th>2</th>\n",
       "      <td>INEX_LD-2009039</td>\n",
       "      <td>Q0</td>\n",
       "      <td>governmentType</td>\n",
       "      <td>1</td>\n",
       "    </tr>\n",
       "    <tr>\n",
       "      <th>3</th>\n",
       "      <td>INEX_LD-2009061</td>\n",
       "      <td>Q0</td>\n",
       "      <td>place</td>\n",
       "      <td>1</td>\n",
       "    </tr>\n",
       "    <tr>\n",
       "      <th>4</th>\n",
       "      <td>INEX_LD-2009063</td>\n",
       "      <td>Q0</td>\n",
       "      <td>commander</td>\n",
       "      <td>1</td>\n",
       "    </tr>\n",
       "  </tbody>\n",
       "</table>\n",
       "</div>"
      ],
      "text/plain": [
       "               qid none             pid  rele_label\n",
       "0  INEX_LD-2009039   Q0         capital           1\n",
       "1  INEX_LD-2009039   Q0  governmentType           1\n",
       "2  INEX_LD-2009039   Q0  governmentType           1\n",
       "3  INEX_LD-2009061   Q0           place           1\n",
       "4  INEX_LD-2009063   Q0       commander           1"
      ]
     },
     "execution_count": 76,
     "metadata": {},
     "output_type": "execute_result"
    }
   ],
   "source": [
    "df.head()"
   ]
  },
  {
   "cell_type": "code",
   "execution_count": 98,
   "metadata": {},
   "outputs": [],
   "source": [
    "#5fold data generation\n",
    "from sklearn.model_selection import train_test_split\n",
    "import numpy as np\n",
    "from sklearn.model_selection import KFold\n",
    "import random\n",
    "\n",
    "foldNum = 5\n",
    "trainId5fold = {i:[] for i in range(foldNum)}\n",
    "validateId5fold = {i:[] for i in range(foldNum)}\n",
    "testId5fold = {i:[] for i in range(foldNum)}\n",
    "\n",
    "ids = df.qid.unique().tolist()\n",
    "kf = KFold(n_splits=foldNum)\n",
    "kf.get_n_splits(ids)\n",
    "for idx, ele in enumerate(kf.split(ids)):\n",
    "    train, test = [ids[i] for i in ele[0]], [ids[i] for i in ele[1]]\n",
    "    train, val, _, _ = train_test_split(train, train, test_size=0.2)\n",
    "    trainId5fold[idx].extend(train)\n",
    "    validateId5fold[idx].extend(val)\n",
    "    testId5fold[idx].extend(test)\n",
    "\n",
    "def writeRunFile(filename, _df):\n",
    "    for name, group in _df.groupby(\"qid\"):\n",
    "        for idx, row in enumerate(group.iterrows()):\n",
    "            with open(filename, 'a') as fd:\n",
    "                fd.write(str(row[1]['qid']) +\"\\tQ0\\t\" + str(row[1]['pid']) + \"\\t\" + str(idx+1) + \"\\t\" + str(row[1]['rele_label']) + \"\\trun\\n\")\n",
    "                \n",
    "cand_props = df.pid.unique()            \n",
    "negNum = 2\n",
    "for fold in range(foldNum):\n",
    "    for idx, group in df[df.qid.isin(trainId5fold[fold])].groupby(\"qid\"):\n",
    "        pos = group['pid'].tolist()\n",
    "        neg = list(set.difference(set(cand_props), set(pos)))\n",
    "        neg = random.sample(neg, len(pos) * negNum)\n",
    "        for idx, row in group.iterrows():\n",
    "            with open(\"data/cedr/eai-train%d.tsv\" % fold, 'a') as fd:\n",
    "                fd.write(str(row[\"qid\"]) + \"\\t\"+str(row[\"pid\"])+\"\\n\")\n",
    "        for n in neg:\n",
    "            with open(\"data/cedr/eai-train%d.tsv\" % fold, 'a') as fd:\n",
    "                fd.write(str(row[\"qid\"]) + \"\\t\"+str(n)+\"\\n\")\n",
    "    \n",
    "    for idx, group in df[df.qid.isin(validateId5fold[fold])].groupby(\"qid\"):\n",
    "        pos = group['pid'].tolist()\n",
    "        neg = list(set.difference(set(cand_props), set(pos)))\n",
    "        \n",
    "        lines = {}\n",
    "        for idx, row in group.iterrows():\n",
    "            lines[str(row[\"qid\"]) + \"\\tQ0\\t\"+str(row['pid'])+\"\\t0\\t\" +str(row['rele_label'])+\"\\trun\\n\"] = row['rele_label']\n",
    "\n",
    "        for n in neg:\n",
    "            lines[str(row[\"qid\"]) + \"\\tQ0\\t\"+str(n)+\"\\t0\\t0\\trun\\n\"] = 0\n",
    "        lines = [i[0] for i in sorted(lines.items(), key=lambda x: x[1], reverse=True)]\n",
    "        for l in lines:\n",
    "            with open(\"data/cedr/eai-valid%d.tsv\" % fold, 'a') as fd:\n",
    "                fd.write(l)\n",
    "                \n",
    "    for idx, group in df[df.qid.isin(testId5fold[fold])].groupby(\"qid\"):\n",
    "        pos = group['pid'].tolist()\n",
    "        neg = list(set.difference(set(cand_props), set(pos)))\n",
    "\n",
    "\n",
    "        lines = {}\n",
    "        for idx, row in group.iterrows():\n",
    "            lines[str(row[\"qid\"]) + \"\\tQ0\\t\"+str(row['pid'])+\"\\t0\\t\" +str(row['rele_label'])+\"\\trun\\n\"] = row['rele_label']\n",
    "\n",
    "        for n in neg:\n",
    "            lines[str(row[\"qid\"]) + \"\\tQ0\\t\"+str(n)+\"\\t0\\t0\\trun\\n\"] = 0\n",
    "        lines = [i[0] for i in sorted(lines.items(), key=lambda x: x[1], reverse=True)]\n",
    "        for l in lines:\n",
    "            with open(\"data/cedr/eai-test%d.tsv\" % fold, 'a') as fd:\n",
    "                fd.write(l)\n",
    "    "
   ]
  },
  {
   "cell_type": "code",
   "execution_count": null,
   "metadata": {},
   "outputs": [],
   "source": []
  }
 ],
 "metadata": {
  "kernelspec": {
   "display_name": "Python 3",
   "language": "python",
   "name": "python3"
  },
  "language_info": {
   "codemirror_mode": {
    "name": "ipython",
    "version": 3
   },
   "file_extension": ".py",
   "mimetype": "text/x-python",
   "name": "python",
   "nbconvert_exporter": "python",
   "pygments_lexer": "ipython3",
   "version": "3.7.5"
  }
 },
 "nbformat": 4,
 "nbformat_minor": 2
}
